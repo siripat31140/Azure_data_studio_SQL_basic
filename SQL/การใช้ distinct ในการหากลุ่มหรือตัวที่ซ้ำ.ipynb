{
    "metadata": {
        "kernelspec": {
            "name": "SQL",
            "display_name": "SQL",
            "language": "sql"
        },
        "language_info": {
            "name": "sql",
            "version": ""
        }
    },
    "nbformat_minor": 2,
    "nbformat": 4,
    "cells": [
        {
            "cell_type": "code",
            "source": [
                "SELECT * from movie_gross"
            ],
            "metadata": {
                "azdata_cell_guid": "51152bf5-6225-4865-b4e2-880c5a03ecc1"
            },
            "outputs": [],
            "execution_count": null
        },
        {
            "cell_type": "code",
            "source": [
                "SELECT distinct  genre from movie_gross  ##เเสดงข้อมูลเปนกลุ่ม"
            ],
            "metadata": {
                "azdata_cell_guid": "0441e122-2d1c-4a33-ab3f-508fd9fa4d12"
            },
            "outputs": [],
            "execution_count": null
        },
        {
            "cell_type": "code",
            "source": [
                "SELECT distinct movie_title from movie_gross"
            ],
            "metadata": {
                "azdata_cell_guid": "d626316b-b449-4b0f-a21a-5a568cadbfcc"
            },
            "outputs": [],
            "execution_count": null
        },
        {
            "cell_type": "code",
            "source": [
                "SELECT movie_title , COUNT(*) Cnt from movie_gross GROUP BY movie_title  HAVING COUNT(*) > 1\r\n",
                "ORDER by Cnt DESC    \r\n",
                ""
            ],
            "metadata": {
                "azdata_cell_guid": "bf62ac07-1eef-4c1b-ba07-60c01b5b8cc7",
                "tags": []
            },
            "outputs": [],
            "execution_count": null
        },
        {
            "cell_type": "code",
            "source": [
                "SELECT release_date , DATEPART(YEAR , release_date) date from movie_gross"
            ],
            "metadata": {
                "azdata_cell_guid": "63185ab1-af34-4e9f-ae56-7c9c824b5c4c"
            },
            "outputs": [],
            "execution_count": null
        },
        {
            "cell_type": "code",
            "source": [
                "SELECT distinct DATEPART(YEAR , release_date) date from movie_gross"
            ],
            "metadata": {
                "azdata_cell_guid": "52527f18-9c09-461a-b4b4-9acd900e2cf4"
            },
            "outputs": [],
            "execution_count": null
        },
        {
            "cell_type": "code",
            "source": [
                "SELECT distinct * FROM movie_gross"
            ],
            "metadata": {
                "azdata_cell_guid": "bad1af64-dbcd-4c3d-97d7-6f87bc9c4088"
            },
            "outputs": [],
            "execution_count": null
        }
    ]
}