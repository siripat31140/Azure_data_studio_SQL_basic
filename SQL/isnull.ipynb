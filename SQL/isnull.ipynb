{
    "metadata": {
        "kernelspec": {
            "name": "SQL",
            "display_name": "SQL",
            "language": "sql"
        },
        "language_info": {
            "name": "sql",
            "version": ""
        }
    },
    "nbformat_minor": 2,
    "nbformat": 4,
    "cells": [
        {
            "cell_type": "code",
            "source": [
                "SELECT top 10  * from revenue"
            ],
            "metadata": {
                "azdata_cell_guid": "14a49103-3ada-4b79-bc5a-88c5148cdd59"
            },
            "outputs": [
                {
                    "output_type": "display_data",
                    "data": {
                        "text/html": "(10 rows affected)"
                    },
                    "metadata": {}
                },
                {
                    "output_type": "display_data",
                    "data": {
                        "text/html": "Total execution time: 00:00:00.964"
                    },
                    "metadata": {}
                },
                {
                    "output_type": "execute_result",
                    "metadata": {},
                    "execution_count": 1,
                    "data": {
                        "application/vnd.dataresource+json": {
                            "schema": {
                                "fields": [
                                    {
                                        "name": "year"
                                    },
                                    {
                                        "name": "studio_entertainment"
                                    },
                                    {
                                        "name": "disney_consumer_products"
                                    },
                                    {
                                        "name": "disney_interactive"
                                    },
                                    {
                                        "name": "walt_disney_parks_and_resorts"
                                    },
                                    {
                                        "name": "disney_media_networks"
                                    },
                                    {
                                        "name": "total"
                                    }
                                ]
                            },
                            "data": [
                                {
                                    "0": "1991",
                                    "1": "2593",
                                    "2": "724",
                                    "3": "NULL",
                                    "4": "2794",
                                    "5": "NULL",
                                    "6": "6111"
                                },
                                {
                                    "0": "1992",
                                    "1": "3115",
                                    "2": "1081",
                                    "3": "NULL",
                                    "4": "3306",
                                    "5": "NULL",
                                    "6": "7502"
                                },
                                {
                                    "0": "1993",
                                    "1": "3673.4",
                                    "2": "1415.1",
                                    "3": "NULL",
                                    "4": "3440.7",
                                    "5": "NULL",
                                    "6": "8529"
                                },
                                {
                                    "0": "1994",
                                    "1": "4793",
                                    "2": "1798.2",
                                    "3": "NULL",
                                    "4": "3463.6",
                                    "5": "359",
                                    "6": "10414"
                                },
                                {
                                    "0": "1995",
                                    "1": "6001.5",
                                    "2": "2150",
                                    "3": "NULL",
                                    "4": "3959.8",
                                    "5": "414",
                                    "6": "12525"
                                },
                                {
                                    "0": "1996",
                                    "1": "NULL",
                                    "2": "NULL",
                                    "3": "NULL",
                                    "4": "4502",
                                    "5": "4142",
                                    "6": "18739"
                                },
                                {
                                    "0": "1997",
                                    "1": "6981",
                                    "2": "3782",
                                    "3": "174",
                                    "4": "5014",
                                    "5": "6522",
                                    "6": "22473"
                                },
                                {
                                    "0": "1998",
                                    "1": "6849",
                                    "2": "3193",
                                    "3": "260",
                                    "4": "5532",
                                    "5": "7142",
                                    "6": "22976"
                                },
                                {
                                    "0": "1999",
                                    "1": "6548",
                                    "2": "3030",
                                    "3": "206",
                                    "4": "6106",
                                    "5": "7512",
                                    "6": "23402"
                                },
                                {
                                    "0": "2000",
                                    "1": "5994",
                                    "2": "2602",
                                    "3": "368",
                                    "4": "6803",
                                    "5": "9615",
                                    "6": "25402"
                                }
                            ]
                        },
                        "text/html": [
                            "<table>",
                            "<tr><th>year</th><th>studio_entertainment</th><th>disney_consumer_products</th><th>disney_interactive</th><th>walt_disney_parks_and_resorts</th><th>disney_media_networks</th><th>total</th></tr>",
                            "<tr><td>1991</td><td>2593</td><td>724</td><td>NULL</td><td>2794</td><td>NULL</td><td>6111</td></tr>",
                            "<tr><td>1992</td><td>3115</td><td>1081</td><td>NULL</td><td>3306</td><td>NULL</td><td>7502</td></tr>",
                            "<tr><td>1993</td><td>3673.4</td><td>1415.1</td><td>NULL</td><td>3440.7</td><td>NULL</td><td>8529</td></tr>",
                            "<tr><td>1994</td><td>4793</td><td>1798.2</td><td>NULL</td><td>3463.6</td><td>359</td><td>10414</td></tr>",
                            "<tr><td>1995</td><td>6001.5</td><td>2150</td><td>NULL</td><td>3959.8</td><td>414</td><td>12525</td></tr>",
                            "<tr><td>1996</td><td>NULL</td><td>NULL</td><td>NULL</td><td>4502</td><td>4142</td><td>18739</td></tr>",
                            "<tr><td>1997</td><td>6981</td><td>3782</td><td>174</td><td>5014</td><td>6522</td><td>22473</td></tr>",
                            "<tr><td>1998</td><td>6849</td><td>3193</td><td>260</td><td>5532</td><td>7142</td><td>22976</td></tr>",
                            "<tr><td>1999</td><td>6548</td><td>3030</td><td>206</td><td>6106</td><td>7512</td><td>23402</td></tr>",
                            "<tr><td>2000</td><td>5994</td><td>2602</td><td>368</td><td>6803</td><td>9615</td><td>25402</td></tr>",
                            "</table>"
                        ]
                    }
                }
            ],
            "execution_count": 1
        },
        {
            "cell_type": "code",
            "source": [
                "SELECT * FROM movie_gross"
            ],
            "metadata": {
                "azdata_cell_guid": "b3917e92-27d8-4906-9da4-8ff2506dfd00"
            },
            "outputs": [
                {
                    "output_type": "display_data",
                    "data": {
                        "text/html": "(579 rows affected)"
                    },
                    "metadata": {}
                },
                {
                    "output_type": "display_data",
                    "data": {
                        "text/html": "Total execution time: 00:00:00.229"
                    },
                    "metadata": {}
                },
                {
                    "output_type": "execute_result",
                    "metadata": {},
                    "execution_count": 2,
                    "data": {
                        "application/vnd.dataresource+json": {
                            "schema": {
                                "fields": [
                                    {
                                        "name": "movie_title"
                                    },
                                    {
                                        "name": "release_date"
                                    },
                                    {
                                        "name": "genre"
                                    },
                                    {
                                        "name": "mpaa_rating"
                                    },
                                    {
                                        "name": "total_gross"
                                    },
                                    {
                                        "name": "inflation_adjusted_gross"
                                    }
                                ]
                            },
                            "data": [
                                {
                                    "0": "Snow White and the Seven Dwarfs",
                                    "1": "2480-12-21",
                                    "2": "Musical",
                                    "3": "G",
                                    "4": "184925485",
                                    "5": "5228953251"
                                },
                                {
                                    "0": "Pinocchio",
                                    "1": "2483-02-09",
                                    "2": "Adventure",
                                    "3": "G",
                                    "4": "84300000",
                                    "5": "2188229052"
                                },
                                {
                                    "0": "Fantasia",
                                    "1": "2483-11-13",
                                    "2": "Musical",
                                    "3": "G",
                                    "4": "83320000",
                                    "5": "2187090808"
                                },
                                {
                                    "0": "Song of the South",
                                    "1": "2489-11-12",
                                    "2": "Adventure",
                                    "3": "G",
                                    "4": "65000000",
                                    "5": "1078510579"
                                },
                                {
                                    "0": "Cinderella",
                                    "1": "2493-02-15",
                                    "2": "Drama",
                                    "3": "G",
                                    "4": "85000000",
                                    "5": "920608730"
                                },
                                {
                                    "0": "20,000 Leagues Under the Sea",
                                    "1": "2497-12-23",
                                    "2": "Adventure",
                                    "3": "NULL",
                                    "4": "28200000",
                                    "5": "528279994"
                                },
                                {
                                    "0": "Lady and the Tramp",
                                    "1": "2498-06-22",
                                    "2": "Drama",
                                    "3": "G",
                                    "4": "93600000",
                                    "5": "1236035515"
                                },
                                {
                                    "0": "Sleeping Beauty",
                                    "1": "2502-01-29",
                                    "2": "Drama",
                                    "3": "NULL",
                                    "4": "9464608",
                                    "5": "21505832"
                                },
                                {
                                    "0": "101 Dalmatians",
                                    "1": "2504-01-25",
                                    "2": "Comedy",
                                    "3": "G",
                                    "4": "153000000",
                                    "5": "1362870985"
                                },
                                {
                                    "0": "The Absent Minded Professor",
                                    "1": "2504-03-16",
                                    "2": "Comedy",
                                    "3": "NULL",
                                    "4": "25381407",
                                    "5": "310094574"
                                },
                                {
                                    "0": "Babes in Toyland",
                                    "1": "2504-12-14",
                                    "2": "Musical",
                                    "3": "G",
                                    "4": "10218316",
                                    "5": "124841160"
                                },
                                {
                                    "0": "Bon Voyage!",
                                    "1": "2505-05-17",
                                    "2": "Comedy",
                                    "3": "Not Rated",
                                    "4": "9230769",
                                    "5": "109581646"
                                },
                                {
                                    "0": "The Sword in the Stone",
                                    "1": "2506-12-25",
                                    "2": "Adventure",
                                    "3": "NULL",
                                    "4": "22182353",
                                    "5": "153870834"
                                },
                                {
                                    "0": "The Jungle Book",
                                    "1": "2510-10-18",
                                    "2": "Musical",
                                    "3": "Not Rated",
                                    "4": "141843000",
                                    "5": "789612346"
                                },
                                {
                                    "0": "Blackbeard's Ghost",
                                    "1": "2511-02-08",
                                    "2": "Comedy",
                                    "3": "NULL",
                                    "4": "21540050",
                                    "5": "138612686"
                                },
                                {
                                    "0": "The Aristocats",
                                    "1": "2513-04-24",
                                    "2": "Musical",
                                    "3": "G",
                                    "4": "55675257",
                                    "5": "255161499"
                                },
                                {
                                    "0": "The Boatniks",
                                    "1": "2513-07-01",
                                    "2": "Comedy",
                                    "3": "NULL",
                                    "4": "18607492",
                                    "5": "101200742"
                                },
                                {
                                    "0": "Bedknobs and Broomsticks",
                                    "1": "2514-10-07",
                                    "2": "Musical",
                                    "3": "NULL",
                                    "4": "17871174",
                                    "5": "91305448"
                                },
                                {
                                    "0": "The Apple Dumpling Gang",
                                    "1": "2518-07-01",
                                    "2": "Comedy",
                                    "3": "NULL",
                                    "4": "31916500",
                                    "5": "131246872"
                                },
                                {
                                    "0": "Freaky Friday",
                                    "1": "2520-01-21",
                                    "2": "Comedy",
                                    "3": "NULL",
                                    "4": "25942000",
                                    "5": "98067733"
                                },
                                {
                                    "0": "The Many Adventures of Winnie the Pooh",
                                    "1": "2520-03-11",
                                    "2": "NULL",
                                    "3": "NULL",
                                    "4": "0",
                                    "5": "0"
                                },
                                {
                                    "0": "The Rescuers",
                                    "1": "2520-06-22",
                                    "2": "Adventure",
                                    "3": "NULL",
                                    "4": "48775599",
                                    "5": "159743914"
                                },
                                {
                                    "0": "Herbie Goes to Monte Carlo",
                                    "1": "2520-06-24",
                                    "2": "NULL",
                                    "3": "NULL",
                                    "4": "28000000",
                                    "5": "105847527"
                                },
                                {
                                    "0": "The Black Hole",
                                    "1": "2522-12-21",
                                    "2": "NULL",
                                    "3": "NULL",
                                    "4": "35841901",
                                    "5": "120377374"
                                },
                                {
                                    "0": "Midnight Madness",
                                    "1": "2523-02-08",
                                    "2": "NULL",
                                    "3": "NULL",
                                    "4": "2900000",
                                    "5": "9088096"
                                },
                                {
                                    "0": "The Last Flight of Noah’s Ark",
                                    "1": "2523-06-25",
                                    "2": "NULL",
                                    "3": "NULL",
                                    "4": "11000000",
                                    "5": "34472116"
                                },
                                {
                                    "0": "The Devil and Max Devlin",
                                    "1": "2524-01-01",
                                    "2": "NULL",
                                    "3": "NULL",
                                    "4": "16000000",
                                    "5": "48517980"
                                },
                                {
                                    "0": "Amy",
                                    "1": "2524-03-20",
                                    "2": "Drama",
                                    "3": "NULL",
                                    "4": "0",
                                    "5": "0"
                                },
                                {
                                    "0": "The Fox and the Hound",
                                    "1": "2524-07-10",
                                    "2": "Comedy",
                                    "3": "NULL",
                                    "4": "43899231",
                                    "5": "133118889"
                                },
                                {
                                    "0": "Condorman",
                                    "1": "2524-08-07",
                                    "2": "Action",
                                    "3": "NULL",
                                    "4": "0",
                                    "5": "0"
                                },
                                {
                                    "0": "Night Crossing",
                                    "1": "2525-02-05",
                                    "2": "Drama",
                                    "3": "NULL",
                                    "4": "4500000",
                                    "5": "12903059"
                                },
                                {
                                    "0": "Tron",
                                    "1": "2525-07-09",
                                    "2": "Action",
                                    "3": "NULL",
                                    "4": "26918576",
                                    "5": "77184895"
                                },
                                {
                                    "0": "Tex",
                                    "1": "2525-11-19",
                                    "2": "Drama",
                                    "3": "NULL",
                                    "4": "7199408",
                                    "5": "20643199"
                                },
                                {
                                    "0": "Trenchcoat",
                                    "1": "2526-03-11",
                                    "2": "Comedy",
                                    "3": "NULL",
                                    "4": "4304286",
                                    "5": "11519089"
                                },
                                {
                                    "0": "Something Wicked This Way Comes",
                                    "1": "2526-04-29",
                                    "2": "Horror",
                                    "3": "NULL",
                                    "4": "5656087",
                                    "5": "15136765"
                                },
                                {
                                    "0": "Never Cry Wolf",
                                    "1": "2526-10-07",
                                    "2": "Drama",
                                    "3": "NULL",
                                    "4": "27668764",
                                    "5": "70669955"
                                },
                                {
                                    "0": "Running Brave",
                                    "1": "2526-11-04",
                                    "2": "Drama",
                                    "3": "NULL",
                                    "4": "1204595",
                                    "5": "3223725"
                                },
                                {
                                    "0": "Splash",
                                    "1": "2527-03-09",
                                    "2": "Comedy",
                                    "3": "PG",
                                    "4": "62599495",
                                    "5": "157057661"
                                },
                                {
                                    "0": "Country",
                                    "1": "2527-09-29",
                                    "2": "Drama",
                                    "3": "NULL",
                                    "4": "8400000",
                                    "5": "21075000"
                                },
                                {
                                    "0": "Baby: Secret of the Lost Legend",
                                    "1": "2528-03-22",
                                    "2": "Adventure",
                                    "3": "NULL",
                                    "4": "14276095",
                                    "5": "33900697"
                                },
                                {
                                    "0": "Return to Oz",
                                    "1": "2528-06-21",
                                    "2": "Adventure",
                                    "3": "NULL",
                                    "4": "10618813",
                                    "5": "25215934"
                                },
                                {
                                    "0": "The Black Cauldron",
                                    "1": "2528-07-24",
                                    "2": "Adventure",
                                    "3": "NULL",
                                    "4": "21288692",
                                    "5": "50553142"
                                },
                                {
                                    "0": "My Science Project",
                                    "1": "2528-08-09",
                                    "2": "Comedy",
                                    "3": "NULL",
                                    "4": "4100000",
                                    "5": "9736051"
                                },
                                {
                                    "0": "The Journey of Natty Gann",
                                    "1": "2528-09-27",
                                    "2": "Drama",
                                    "3": "NULL",
                                    "4": "9468512",
                                    "5": "22302956"
                                },
                                {
                                    "0": "One Magic Christmas",
                                    "1": "2528-11-22",
                                    "2": "Drama",
                                    "3": "NULL",
                                    "4": "13229514",
                                    "5": "31415432"
                                },
                                {
                                    "0": "Down and Out in Beverly Hills",
                                    "1": "2529-01-31",
                                    "2": "Comedy",
                                    "3": "R",
                                    "4": "62134225",
                                    "5": "141183693"
                                },
                                {
                                    "0": "Off Beat",
                                    "1": "2529-04-11",
                                    "2": "Comedy",
                                    "3": "NULL",
                                    "4": "4842778",
                                    "5": "11003932"
                                },
                                {
                                    "0": "Ruthless People",
                                    "1": "2529-06-27",
                                    "2": "Comedy",
                                    "3": "R",
                                    "4": "71624879",
                                    "5": "162748712"
                                },
                                {
                                    "0": "The Great Mouse Detective",
                                    "1": "2529-07-02",
                                    "2": "Adventure",
                                    "3": "NULL",
                                    "4": "23605534",
                                    "5": "53637367"
                                },
                                {
                                    "0": "Flight of the Navigator",
                                    "1": "2529-07-30",
                                    "2": "Adventure",
                                    "3": "NULL",
                                    "4": "18564613",
                                    "5": "42183197"
                                },
                                {
                                    "0": "Tough Guys",
                                    "1": "2529-10-03",
                                    "2": "Comedy",
                                    "3": "NULL",
                                    "4": "21458229",
                                    "5": "48758184"
                                },
                                {
                                    "0": "The Color of Money",
                                    "1": "2529-10-17",
                                    "2": "Drama",
                                    "3": "R",
                                    "4": "52293000",
                                    "5": "117957323"
                                },
                                {
                                    "0": "Outrageous Fortune",
                                    "1": "2530-01-30",
                                    "2": "Comedy",
                                    "3": "R",
                                    "4": "52864741",
                                    "5": "113976921"
                                },
                                {
                                    "0": "Tin Men",
                                    "1": "2530-03-06",
                                    "2": "Comedy",
                                    "3": "NULL",
                                    "4": "25411386",
                                    "5": "54787202"
                                },
                                {
                                    "0": "Ernest Goes to Camp",
                                    "1": "2530-05-22",
                                    "2": "Comedy",
                                    "3": "NULL",
                                    "4": "23509382",
                                    "5": "50686462"
                                },
                                {
                                    "0": "Benji the Hunted",
                                    "1": "2530-06-05",
                                    "2": "Adventure",
                                    "3": "NULL",
                                    "4": "15212539",
                                    "5": "32798382"
                                },
                                {
                                    "0": "Adventures in Babysitting",
                                    "1": "2530-07-03",
                                    "2": "Comedy",
                                    "3": "NULL",
                                    "4": "33790923",
                                    "5": "72853569"
                                },
                                {
                                    "0": "Stakeout",
                                    "1": "2530-08-05",
                                    "2": "Comedy",
                                    "3": "R",
                                    "4": "65673233",
                                    "5": "141592160"
                                },
                                {
                                    "0": "Can't Buy Me Love",
                                    "1": "2530-08-14",
                                    "2": "Romantic Comedy",
                                    "3": "NULL",
                                    "4": "31623833",
                                    "5": "68181300"
                                },
                                {
                                    "0": "Hello Again",
                                    "1": "2530-11-06",
                                    "2": "Comedy",
                                    "3": "NULL",
                                    "4": "20419446",
                                    "5": "44024529"
                                },
                                {
                                    "0": "3 Men and a Baby",
                                    "1": "2530-11-25",
                                    "2": "Comedy",
                                    "3": "PG",
                                    "4": "167780960",
                                    "5": "353334607"
                                },
                                {
                                    "0": "Good Morning Vietnam",
                                    "1": "2530-12-23",
                                    "2": "Comedy",
                                    "3": "R",
                                    "4": "123922370",
                                    "5": "254414837"
                                },
                                {
                                    "0": "Shoot to Kill",
                                    "1": "2531-02-12",
                                    "2": "Action",
                                    "3": "NULL",
                                    "4": "29300000",
                                    "5": "60097074"
                                },
                                {
                                    "0": "D.O.A.",
                                    "1": "2531-03-18",
                                    "2": "Thriller/Suspense",
                                    "3": "NULL",
                                    "4": "12706478",
                                    "5": "26062188"
                                },
                                {
                                    "0": "Return to Snowy River",
                                    "1": "2531-04-15",
                                    "2": "Adventure",
                                    "3": "PG",
                                    "4": "13687027",
                                    "5": "28073384"
                                },
                                {
                                    "0": "Big Business",
                                    "1": "2531-06-10",
                                    "2": "Comedy",
                                    "3": "PG",
                                    "4": "40150487",
                                    "5": "82352451"
                                },
                                {
                                    "0": "Who Framed Roger Rabbit?",
                                    "1": "2531-06-22",
                                    "2": "Comedy",
                                    "3": "PG",
                                    "4": "154112492",
                                    "5": "316250084"
                                },
                                {
                                    "0": "Cocktail",
                                    "1": "2531-07-29",
                                    "2": "Drama",
                                    "3": "R",
                                    "4": "78222753",
                                    "5": "160442289"
                                },
                                {
                                    "0": "The Rescue",
                                    "1": "2531-08-05",
                                    "2": "Action",
                                    "3": "NULL",
                                    "4": "5855392",
                                    "5": "12009960"
                                },
                                {
                                    "0": "Heartbreak Hotel",
                                    "1": "2531-09-30",
                                    "2": "Comedy",
                                    "3": "NULL",
                                    "4": "5509417",
                                    "5": "11300331"
                                },
                                {
                                    "0": "The Good Mother",
                                    "1": "2531-11-04",
                                    "2": "Drama",
                                    "3": "NULL",
                                    "4": "4764606",
                                    "5": "9772655"
                                },
                                {
                                    "0": "Ernest Saves Christmas",
                                    "1": "2531-11-11",
                                    "2": "Comedy",
                                    "3": "PG",
                                    "4": "28202109",
                                    "5": "57845202"
                                },
                                {
                                    "0": "Oliver & Company",
                                    "1": "2531-11-18",
                                    "2": "Adventure",
                                    "3": "G",
                                    "4": "49576671",
                                    "5": "102254492"
                                },
                                {
                                    "0": "Beaches",
                                    "1": "2531-12-21",
                                    "2": "Drama",
                                    "3": "PG-13",
                                    "4": "57041866",
                                    "5": "120381757"
                                },
                                {
                                    "0": "Three Fugitives",
                                    "1": "2532-01-27",
                                    "2": "Comedy",
                                    "3": "PG-13",
                                    "4": "40590000",
                                    "5": "85757817"
                                },
                                {
                                    "0": "New York Stories",
                                    "1": "2532-03-01",
                                    "2": "Drama",
                                    "3": "PG",
                                    "4": "10763469",
                                    "5": "22740861"
                                },
                                {
                                    "0": "Disorganized Crime",
                                    "1": "2532-04-14",
                                    "2": "Comedy",
                                    "3": "NULL",
                                    "4": "7210149",
                                    "5": "15233465"
                                },
                                {
                                    "0": "Dead Poets Society",
                                    "1": "2532-06-02",
                                    "2": "Drama",
                                    "3": "PG",
                                    "4": "95860116",
                                    "5": "202531517"
                                },
                                {
                                    "0": "Honey, I Shrunk the Kids",
                                    "1": "2532-06-23",
                                    "2": "Adventure",
                                    "3": "PG",
                                    "4": "130724172",
                                    "5": "276191669"
                                },
                                {
                                    "0": "Turner & Hooch",
                                    "1": "2532-07-28",
                                    "2": "Comedy",
                                    "3": "PG",
                                    "4": "71079915",
                                    "5": "150176361"
                                },
                                {
                                    "0": "Cheetah",
                                    "1": "2532-08-18",
                                    "2": "Adventure",
                                    "3": "NULL",
                                    "4": "7882250",
                                    "5": "16653473"
                                },
                                {
                                    "0": "An Innocent Man",
                                    "1": "2532-10-06",
                                    "2": "Drama",
                                    "3": "R",
                                    "4": "19397847",
                                    "5": "40983414"
                                },
                                {
                                    "0": "Gross Anatomy",
                                    "1": "2532-10-20",
                                    "2": "Drama",
                                    "3": "PG-13",
                                    "4": "11346186",
                                    "5": "23972012"
                                },
                                {
                                    "0": "The Little Mermaid",
                                    "1": "2532-11-15",
                                    "2": "Adventure",
                                    "3": "G",
                                    "4": "111543479",
                                    "5": "223726012"
                                },
                                {
                                    "0": "Blaze",
                                    "1": "2532-12-13",
                                    "2": "Drama",
                                    "3": "R",
                                    "4": "19049727",
                                    "5": "39884640"
                                },
                                {
                                    "0": "Stella",
                                    "1": "2533-02-02",
                                    "2": "Drama",
                                    "3": "PG-13",
                                    "4": "20062347",
                                    "5": "40077147"
                                },
                                {
                                    "0": "Where the Heart Is",
                                    "1": "2533-02-23",
                                    "2": "Comedy",
                                    "3": "NULL",
                                    "4": "1106475",
                                    "5": "2210321"
                                },
                                {
                                    "0": "Pretty Woman",
                                    "1": "2533-03-23",
                                    "2": "Romantic Comedy",
                                    "3": "R",
                                    "4": "178406268",
                                    "5": "356389765"
                                },
                                {
                                    "0": "Ernest Goes to Jail",
                                    "1": "2533-04-06",
                                    "2": "Comedy",
                                    "3": "PG",
                                    "4": "25029569",
                                    "5": "49999822"
                                },
                                {
                                    "0": "Spaced Invaders",
                                    "1": "2533-04-27",
                                    "2": "Comedy",
                                    "3": "PG",
                                    "4": "15000000",
                                    "5": "29964452"
                                },
                                {
                                    "0": "Fire Birds",
                                    "1": "2533-05-24",
                                    "2": "Action",
                                    "3": "PG-13",
                                    "4": "14760451",
                                    "5": "29485923"
                                },
                                {
                                    "0": "Dick Tracy",
                                    "1": "2533-06-15",
                                    "2": "Action",
                                    "3": "PG",
                                    "4": "103738726",
                                    "5": "207231621"
                                },
                                {
                                    "0": "Betsy's Wedding",
                                    "1": "2533-06-22",
                                    "2": "Comedy",
                                    "3": "R",
                                    "4": "19740070",
                                    "5": "39433357"
                                },
                                {
                                    "0": "Arachnophobia",
                                    "1": "2533-07-18",
                                    "2": "Thriller/Suspense",
                                    "3": "PG-13",
                                    "4": "53208180",
                                    "5": "106290270"
                                },
                                {
                                    "0": "DuckTales: The Movie - Treasure of th…",
                                    "1": "2533-08-03",
                                    "2": "Adventure",
                                    "3": "G",
                                    "4": "18075331",
                                    "5": "36107823"
                                },
                                {
                                    "0": "Taking Care of Business",
                                    "1": "2533-08-17",
                                    "2": "Comedy",
                                    "3": "R",
                                    "4": "20005435",
                                    "5": "39963460"
                                },
                                {
                                    "0": "Mr. Destiny",
                                    "1": "2533-10-12",
                                    "2": "Comedy",
                                    "3": "PG-13",
                                    "4": "15379253",
                                    "5": "30722056"
                                },
                                {
                                    "0": "The Rescuers Down Under",
                                    "1": "2533-11-16",
                                    "2": "Adventure",
                                    "3": "G",
                                    "4": "27931461",
                                    "5": "55796728"
                                },
                                {
                                    "0": "3 Men and a Little Lady",
                                    "1": "2533-11-21",
                                    "2": "Comedy",
                                    "3": "PG",
                                    "4": "71609321",
                                    "5": "143108869"
                                },
                                {
                                    "0": "Green Card",
                                    "1": "2533-12-25",
                                    "2": "Romantic Comedy",
                                    "3": "PG-13",
                                    "4": "29804169",
                                    "5": "59679131"
                                },
                                {
                                    "0": "White Fang",
                                    "1": "2534-01-18",
                                    "2": "Adventure",
                                    "3": "PG",
                                    "4": "34729091",
                                    "5": "69540672"
                                },
                                {
                                    "0": "Scenes from a Mall",
                                    "1": "2534-02-22",
                                    "2": "Comedy",
                                    "3": "NULL",
                                    "4": "9563393",
                                    "5": "19149495"
                                },
                                {
                                    "0": "Haakon Haakonsen",
                                    "1": "2534-03-01",
                                    "2": "Adventure",
                                    "3": "PG",
                                    "4": "15024232",
                                    "5": "30084149"
                                },
                                {
                                    "0": "The Marrying Man",
                                    "1": "2534-04-05",
                                    "2": "Romantic Comedy",
                                    "3": "R",
                                    "4": "12454768",
                                    "5": "24939118"
                                },
                                {
                                    "0": "Oscar",
                                    "1": "2534-04-26",
                                    "2": "Comedy",
                                    "3": "PG",
                                    "4": "23562716",
                                    "5": "47181395"
                                },
                                {
                                    "0": "One Good Cop",
                                    "1": "2534-05-03",
                                    "2": "Action",
                                    "3": "R",
                                    "4": "11276846",
                                    "5": "22580472"
                                },
                                {
                                    "0": "What About Bob?",
                                    "1": "2534-05-17",
                                    "2": "Comedy",
                                    "3": "PG",
                                    "4": "63710000",
                                    "5": "127571325"
                                },
                                {
                                    "0": "Wild Hearts Can't Be Broken",
                                    "1": "2534-05-24",
                                    "2": "Drama",
                                    "3": "NULL",
                                    "4": "7300000",
                                    "5": "14617333"
                                },
                                {
                                    "0": "The Rocketeer",
                                    "1": "2534-06-21",
                                    "2": "Action",
                                    "3": "PG",
                                    "4": "46573027",
                                    "5": "93256673"
                                },
                                {
                                    "0": "The Doctor",
                                    "1": "2534-07-24",
                                    "2": "Drama",
                                    "3": "PG-13",
                                    "4": "37497480",
                                    "5": "75084021"
                                },
                                {
                                    "0": "Paradise",
                                    "1": "2534-09-18",
                                    "2": "Drama",
                                    "3": "PG-13",
                                    "4": "18634643",
                                    "5": "37313540"
                                },
                                {
                                    "0": "Deceived",
                                    "1": "2534-09-27",
                                    "2": "Thriller/Suspense",
                                    "3": "PG-13",
                                    "4": "28738096",
                                    "5": "57544453"
                                },
                                {
                                    "0": "Ernest Scared Stupid",
                                    "1": "2534-10-11",
                                    "2": "Comedy",
                                    "3": "PG",
                                    "4": "14143280",
                                    "5": "28320147"
                                },
                                {
                                    "0": "Billy Bathgate",
                                    "1": "2534-11-01",
                                    "2": "Drama",
                                    "3": "R",
                                    "4": "15565363",
                                    "5": "31167691"
                                },
                                {
                                    "0": "Beauty and the Beast",
                                    "1": "2534-11-13",
                                    "2": "Musical",
                                    "3": "G",
                                    "4": "218951625",
                                    "5": "363017667"
                                },
                                {
                                    "0": "Father of the Bride",
                                    "1": "2534-12-20",
                                    "2": "Comedy",
                                    "3": "PG",
                                    "4": "89325780",
                                    "5": "179821881"
                                },
                                {
                                    "0": "The Hand That Rocks the Cradle",
                                    "1": "2535-01-10",
                                    "2": "Thriller/Suspense",
                                    "3": "R",
                                    "4": "88036683",
                                    "5": "178831137"
                                },
                                {
                                    "0": "Medicine Man",
                                    "1": "2535-02-07",
                                    "2": "Drama",
                                    "3": "PG-13",
                                    "4": "44948240",
                                    "5": "91304495"
                                },
                                {
                                    "0": "Blame it on the Bellboy",
                                    "1": "2535-03-06",
                                    "2": "Comedy",
                                    "3": "PG-13",
                                    "4": "2891055",
                                    "5": "5872667"
                                },
                                {
                                    "0": "Noises Off...",
                                    "1": "2535-03-20",
                                    "2": "Comedy",
                                    "3": "PG-13",
                                    "4": "2280148",
                                    "5": "4631720"
                                },
                                {
                                    "0": "Straight Talk",
                                    "1": "2535-04-03",
                                    "2": "Comedy",
                                    "3": "PG",
                                    "4": "21202099",
                                    "5": "43068356"
                                },
                                {
                                    "0": "Newsies",
                                    "1": "2535-04-08",
                                    "2": "NULL",
                                    "3": "PG",
                                    "4": "2706352",
                                    "5": "5497481"
                                },
                                {
                                    "0": "Passed Away",
                                    "1": "2535-04-24",
                                    "2": "NULL",
                                    "3": "PG-13",
                                    "4": "4030793",
                                    "5": "8187848"
                                },
                                {
                                    "0": "Encino Man",
                                    "1": "2535-05-22",
                                    "2": "Comedy",
                                    "3": "PG",
                                    "4": "40057130",
                                    "5": "81369058"
                                },
                                {
                                    "0": "Sister Act",
                                    "1": "2535-05-29",
                                    "2": "Comedy",
                                    "3": "PG",
                                    "4": "139605150",
                                    "5": "283583472"
                                },
                                {
                                    "0": "Honey I Blew Up the Kid",
                                    "1": "2535-07-17",
                                    "2": "Comedy",
                                    "3": "PG",
                                    "4": "58662452",
                                    "5": "119162518"
                                },
                                {
                                    "0": "A Stranger Among Us",
                                    "1": "2535-07-17",
                                    "2": "Drama",
                                    "3": "PG-13",
                                    "4": "12282994",
                                    "5": "24950752"
                                },
                                {
                                    "0": "3 Ninjas",
                                    "1": "2535-08-07",
                                    "2": "Action",
                                    "3": "PG",
                                    "4": "29028000",
                                    "5": "58965304"
                                },
                                {
                                    "0": "A Gun in Betty Lou's Handbag",
                                    "1": "2535-08-21",
                                    "2": "NULL",
                                    "3": "PG-13",
                                    "4": "3591460",
                                    "5": "7295423"
                                },
                                {
                                    "0": "Captain Ron",
                                    "1": "2535-09-18",
                                    "2": "Comedy",
                                    "3": "PG-13",
                                    "4": "22518097",
                                    "5": "45741576"
                                },
                                {
                                    "0": "Sarafina!",
                                    "1": "2535-09-18",
                                    "2": "Drama",
                                    "3": "PG-13",
                                    "4": "7306242",
                                    "5": "14841352"
                                },
                                {
                                    "0": "Innocent Blood",
                                    "1": "2535-09-25",
                                    "2": "Horror",
                                    "3": "R",
                                    "4": "4877567",
                                    "5": "9907922"
                                },
                                {
                                    "0": "The Mighty Ducks",
                                    "1": "2535-10-02",
                                    "2": "Comedy",
                                    "3": "PG",
                                    "4": "50752337",
                                    "5": "103120810"
                                },
                                {
                                    "0": "1492: Conquest of Paradise",
                                    "1": "2535-10-09",
                                    "2": "Adventure",
                                    "3": "PG-13",
                                    "4": "7099531",
                                    "5": "14421454"
                                },
                                {
                                    "0": "Consenting Adults",
                                    "1": "2535-10-16",
                                    "2": "Drama",
                                    "3": "R",
                                    "4": "21591728",
                                    "5": "43859823"
                                },
                                {
                                    "0": "Aladdin",
                                    "1": "2535-11-11",
                                    "2": "Comedy",
                                    "3": "G",
                                    "4": "217350219",
                                    "5": "441969178"
                                },
                                {
                                    "0": "The Distinguished Gentleman",
                                    "1": "2535-12-04",
                                    "2": "Comedy",
                                    "3": "R",
                                    "4": "46434570",
                                    "5": "94349900"
                                },
                                {
                                    "0": "The Muppet Christmas Carol",
                                    "1": "2535-12-11",
                                    "2": "Comedy",
                                    "3": "G",
                                    "4": "27281507",
                                    "5": "55417615"
                                },
                                {
                                    "0": "Alive",
                                    "1": "2536-01-15",
                                    "2": "Adventure",
                                    "3": "R",
                                    "4": "36299670",
                                    "5": "73914543"
                                },
                                {
                                    "0": "Aspen Extreme",
                                    "1": "2536-01-22",
                                    "2": "Romantic Comedy",
                                    "3": "PG-13",
                                    "4": "7843388",
                                    "5": "15970955"
                                },
                                {
                                    "0": "Homeward Bound: The Incredible Journey",
                                    "1": "2536-02-03",
                                    "2": "Adventure",
                                    "3": "G",
                                    "4": "41833324",
                                    "5": "85182343"
                                },
                                {
                                    "0": "The Cemetery Club",
                                    "1": "2536-02-03",
                                    "2": "Comedy",
                                    "3": "PG-13",
                                    "4": "5583621",
                                    "5": "11369541"
                                },
                                {
                                    "0": "Swing Kids",
                                    "1": "2536-03-05",
                                    "2": "Musical",
                                    "3": "PG-13",
                                    "4": "5632086",
                                    "5": "11468231"
                                },
                                {
                                    "0": "A Far Off Place",
                                    "1": "2536-03-12",
                                    "2": "Adventure",
                                    "3": "PG",
                                    "4": "12890752",
                                    "5": "26248558"
                                },
                                {
                                    "0": "Born Yesterday",
                                    "1": "2536-03-26",
                                    "2": "Romantic Comedy",
                                    "3": "PG",
                                    "4": "17760754",
                                    "5": "36165012"
                                },
                                {
                                    "0": "The Adventures of Huck Finn",
                                    "1": "2536-04-02",
                                    "2": "Adventure",
                                    "3": "PG",
                                    "4": "24103594",
                                    "5": "49080505"
                                },
                                {
                                    "0": "Bound by Honor",
                                    "1": "2536-04-16",
                                    "2": "NULL",
                                    "3": "R",
                                    "4": "4496583",
                                    "5": "9156084"
                                },
                                {
                                    "0": "Indian Summer",
                                    "1": "2536-04-23",
                                    "2": "Comedy",
                                    "3": "R",
                                    "4": "14717851",
                                    "5": "29968953"
                                },
                                {
                                    "0": "Super Mario Bros.",
                                    "1": "2536-05-28",
                                    "2": "Action",
                                    "3": "PG",
                                    "4": "20844907",
                                    "5": "42445058"
                                },
                                {
                                    "0": "Guilty as Sin",
                                    "1": "2536-06-04",
                                    "2": "Thriller/Suspense",
                                    "3": "R",
                                    "4": "22622537",
                                    "5": "46064723"
                                },
                                {
                                    "0": "Life With Mikey",
                                    "1": "2536-06-04",
                                    "2": "Comedy",
                                    "3": "PG",
                                    "4": "12349549",
                                    "5": "25146538"
                                },
                                {
                                    "0": "What's Love Got to Do With It",
                                    "1": "2536-06-09",
                                    "2": "Drama",
                                    "3": "R",
                                    "4": "39100956",
                                    "5": "79618610"
                                },
                                {
                                    "0": "Son in Law",
                                    "1": "2536-07-02",
                                    "2": "Comedy",
                                    "3": "PG-13",
                                    "4": "25989889",
                                    "5": "52921433"
                                },
                                {
                                    "0": "Hocus Pocus",
                                    "1": "2536-07-16",
                                    "2": "Comedy",
                                    "3": "PG",
                                    "4": "39360491",
                                    "5": "80147079"
                                },
                                {
                                    "0": "Another Stakeout",
                                    "1": "2536-07-23",
                                    "2": "Comedy",
                                    "3": "PG-13",
                                    "4": "20107504",
                                    "5": "40943541"
                                },
                                {
                                    "0": "My Boyfriend's Back",
                                    "1": "2536-08-06",
                                    "2": "NULL",
                                    "3": "PG-13",
                                    "4": "3218882",
                                    "5": "6554384"
                                },
                                {
                                    "0": "Father Hood",
                                    "1": "2536-08-27",
                                    "2": "NULL",
                                    "3": "PG-13",
                                    "4": "3268203",
                                    "5": "6654819"
                                },
                                {
                                    "0": "The Joy Luck Club",
                                    "1": "2536-09-08",
                                    "2": "Drama",
                                    "3": "R",
                                    "4": "32790064",
                                    "5": "66768171"
                                },
                                {
                                    "0": "Money for Nothing",
                                    "1": "2536-09-10",
                                    "2": "Comedy",
                                    "3": "R",
                                    "4": "1044824",
                                    "5": "2127496"
                                },
                                {
                                    "0": "The Program",
                                    "1": "2536-09-24",
                                    "2": "Action",
                                    "3": "R",
                                    "4": "23042200",
                                    "5": "46919256"
                                },
                                {
                                    "0": "Cool Runnings",
                                    "1": "2536-10-01",
                                    "2": "Comedy",
                                    "3": "PG",
                                    "4": "68856263",
                                    "5": "140392731"
                                },
                                {
                                    "0": "The Nightmare Before Christmas",
                                    "1": "2536-10-13",
                                    "2": "Musical",
                                    "3": "PG",
                                    "4": "50408318",
                                    "5": "100026637"
                                },
                                {
                                    "0": "The Three Musketeers",
                                    "1": "2536-11-12",
                                    "2": "Adventure",
                                    "3": "PG",
                                    "4": "53661805",
                                    "5": "109310377"
                                },
                                {
                                    "0": "Sister Act 2 Back in the Habit",
                                    "1": "2536-12-10",
                                    "2": "Comedy",
                                    "3": "PG",
                                    "4": "57319029",
                                    "5": "116965668"
                                },
                                {
                                    "0": "Tombstone",
                                    "1": "2536-12-25",
                                    "2": "Western",
                                    "3": "R",
                                    "4": "56505065",
                                    "5": "115781734"
                                },
                                {
                                    "0": "The Air Up There",
                                    "1": "2537-01-07",
                                    "2": "Comedy",
                                    "3": "PG",
                                    "4": "20782439",
                                    "5": "42940186"
                                },
                                {
                                    "0": "Cabin Boy",
                                    "1": "2537-01-07",
                                    "2": "Comedy",
                                    "3": "PG-13",
                                    "4": "3469493",
                                    "5": "7168577"
                                },
                                {
                                    "0": "Iron Will",
                                    "1": "2537-01-14",
                                    "2": "Drama",
                                    "3": "PG",
                                    "4": "20623071",
                                    "5": "42610902"
                                },
                                {
                                    "0": "Red Rock West",
                                    "1": "2537-01-28",
                                    "2": "NULL",
                                    "3": "R",
                                    "4": "2502551",
                                    "5": "5170709"
                                },
                                {
                                    "0": "Blank Check",
                                    "1": "2537-02-11",
                                    "2": "Comedy",
                                    "3": "PG",
                                    "4": "30573770",
                                    "5": "63170804"
                                },
                                {
                                    "0": "Angie",
                                    "1": "2537-03-04",
                                    "2": "Comedy",
                                    "3": "R",
                                    "4": "9252349",
                                    "5": "19116981"
                                },
                                {
                                    "0": "The Ref",
                                    "1": "2537-03-09",
                                    "2": "Comedy",
                                    "3": "R",
                                    "4": "11325885",
                                    "5": "23401275"
                                },
                                {
                                    "0": "D2: The Mighty Ducks",
                                    "1": "2537-03-25",
                                    "2": "Comedy",
                                    "3": "PG",
                                    "4": "45604206",
                                    "5": "94226333"
                                },
                                {
                                    "0": "Holy Matrimony",
                                    "1": "2537-04-08",
                                    "2": "Comedy",
                                    "3": "NULL",
                                    "4": "713234",
                                    "5": "1473665"
                                },
                                {
                                    "0": "White Fang 2: Myth of the White Wolf",
                                    "1": "2537-04-15",
                                    "2": "Adventure",
                                    "3": "PG",
                                    "4": "8752399",
                                    "5": "18083994"
                                },
                                {
                                    "0": "The Inkwell",
                                    "1": "2537-04-22",
                                    "2": "Comedy",
                                    "3": "R",
                                    "4": "8864699",
                                    "5": "18316030"
                                },
                                {
                                    "0": "When a Man Loves a Woman",
                                    "1": "2537-04-29",
                                    "2": "Drama",
                                    "3": "R",
                                    "4": "50021959",
                                    "5": "103354194"
                                },
                                {
                                    "0": "3 Ninjas Kick Back",
                                    "1": "2537-05-06",
                                    "2": "Action",
                                    "3": "PG",
                                    "4": "11744960",
                                    "5": "24267154"
                                },
                                {
                                    "0": "Renaissance Man",
                                    "1": "2537-06-03",
                                    "2": "Comedy",
                                    "3": "PG-13",
                                    "4": "24172899",
                                    "5": "49945474"
                                },
                                {
                                    "0": "The Lion King",
                                    "1": "2537-06-15",
                                    "2": "Adventure",
                                    "3": "G",
                                    "4": "422780140",
                                    "5": "761640898"
                                },
                                {
                                    "0": "I Love Trouble",
                                    "1": "2537-06-29",
                                    "2": "Romantic Comedy",
                                    "3": "PG",
                                    "4": "30806194",
                                    "5": "63651027"
                                },
                                {
                                    "0": "Angels in the Outfield",
                                    "1": "2537-07-15",
                                    "2": "Comedy",
                                    "3": "PG",
                                    "4": "50236831",
                                    "5": "103798152"
                                },
                                {
                                    "0": "In the Army Now",
                                    "1": "2537-08-12",
                                    "2": "Comedy",
                                    "3": "PG",
                                    "4": "28881266",
                                    "5": "59673787"
                                },
                                {
                                    "0": "Color of Night",
                                    "1": "2537-08-19",
                                    "2": "Thriller/Suspense",
                                    "3": "R",
                                    "4": "19750470",
                                    "5": "40804816"
                                },
                                {
                                    "0": "Camp Nowhere",
                                    "1": "2537-08-26",
                                    "2": "Comedy",
                                    "3": "PG",
                                    "4": "10442641",
                                    "5": "21576332"
                                },
                                {
                                    "0": "It's Pat",
                                    "1": "2537-08-26",
                                    "2": "Comedy",
                                    "3": "NULL",
                                    "4": "60822",
                                    "5": "125666"
                                },
                                {
                                    "0": "A Simple Twist of Fate",
                                    "1": "2537-09-02",
                                    "2": "Drama",
                                    "3": "PG-13",
                                    "4": "3404935",
                                    "5": "7035189"
                                },
                                {
                                    "0": "Quiz Show",
                                    "1": "2537-09-14",
                                    "2": "Drama",
                                    "3": "PG-13",
                                    "4": "24787282",
                                    "5": "50840394"
                                },
                                {
                                    "0": "Terminal Velocity",
                                    "1": "2537-09-23",
                                    "2": "Action",
                                    "3": "PG-13",
                                    "4": "16478900",
                                    "5": "34048315"
                                },
                                {
                                    "0": "Ed Wood",
                                    "1": "2537-09-30",
                                    "2": "Comedy",
                                    "3": "R",
                                    "4": "5828466",
                                    "5": "12042634"
                                },
                                {
                                    "0": "The Puppet Masters",
                                    "1": "2537-10-21",
                                    "2": "Horror",
                                    "3": "R",
                                    "4": "8579626",
                                    "5": "17727017"
                                },
                                {
                                    "0": "Squanto: A Warrior's Tale",
                                    "1": "2537-10-28",
                                    "2": "Drama",
                                    "3": "PG",
                                    "4": "3319344",
                                    "5": "6858345"
                                },
                                {
                                    "0": "The Santa Clause",
                                    "1": "2537-11-11",
                                    "2": "Comedy",
                                    "3": "PG",
                                    "4": "144833357",
                                    "5": "298369717"
                                },
                                {
                                    "0": "A Low Down Dirty Shame",
                                    "1": "2537-11-23",
                                    "2": "Action",
                                    "3": "R",
                                    "4": "29317886",
                                    "5": "60321919"
                                },
                                {
                                    "0": "The Jungle Book",
                                    "1": "2537-12-25",
                                    "2": "Adventure",
                                    "3": "PG",
                                    "4": "44342956",
                                    "5": "88930321"
                                },
                                {
                                    "0": "Houseguest",
                                    "1": "2538-01-06",
                                    "2": "Comedy",
                                    "3": "PG",
                                    "4": "26325256",
                                    "5": "51016522"
                                },
                                {
                                    "0": "Bad Company",
                                    "1": "2538-01-20",
                                    "2": "Thriller/Suspense",
                                    "3": "R",
                                    "4": "3523909",
                                    "5": "6829092"
                                },
                                {
                                    "0": "Miami Rhapsody",
                                    "1": "2538-01-27",
                                    "2": "Romantic Comedy",
                                    "3": "PG-13",
                                    "4": "5086578",
                                    "5": "9857435"
                                },
                                {
                                    "0": "The Jerky Boys",
                                    "1": "2538-02-03",
                                    "2": "Comedy",
                                    "3": "R",
                                    "4": "7555256",
                                    "5": "14641561"
                                },
                                {
                                    "0": "Heavy Weights",
                                    "1": "2538-02-17",
                                    "2": "Comedy",
                                    "3": "PG",
                                    "4": "17671310",
                                    "5": "34245779"
                                },
                                {
                                    "0": "Man of the House",
                                    "1": "2538-03-03",
                                    "2": "Comedy",
                                    "3": "PG",
                                    "4": "40029009",
                                    "5": "77573459"
                                },
                                {
                                    "0": "Roommates",
                                    "1": "2538-03-03",
                                    "2": "Comedy",
                                    "3": "PG",
                                    "4": "12076989",
                                    "5": "23404369"
                                },
                                {
                                    "0": "Tall Tale",
                                    "1": "2538-03-24",
                                    "2": "Western",
                                    "3": "PG",
                                    "4": "8247627",
                                    "5": "15983331"
                                },
                                {
                                    "0": "A Pyromaniac's Love Story",
                                    "1": "2538-03-28",
                                    "2": "Romantic Comedy",
                                    "3": "PG",
                                    "4": "468240",
                                    "5": "907414"
                                },
                                {
                                    "0": "Jefferson in Paris",
                                    "1": "2538-03-31",
                                    "2": "Drama",
                                    "3": "PG-13",
                                    "4": "2461628",
                                    "5": "4770461"
                                },
                                {
                                    "0": "Funny Bones",
                                    "1": "2538-03-31",
                                    "2": "Comedy",
                                    "3": "R",
                                    "4": "529135",
                                    "5": "1025425"
                                },
                                {
                                    "0": "A Goofy Movie",
                                    "1": "2538-04-07",
                                    "2": "Comedy",
                                    "3": "G",
                                    "4": "35336439",
                                    "5": "68479579"
                                },
                                {
                                    "0": "While You Were Sleeping",
                                    "1": "2538-04-21",
                                    "2": "Romantic Comedy",
                                    "3": "PG",
                                    "4": "81057016",
                                    "5": "157082900"
                                },
                                {
                                    "0": "Crimson Tide",
                                    "1": "2538-05-12",
                                    "2": "Action",
                                    "3": "R",
                                    "4": "91387195",
                                    "5": "177102077"
                                },
                                {
                                    "0": "Mad Love",
                                    "1": "2538-05-26",
                                    "2": "Drama",
                                    "3": "PG-13",
                                    "4": "15446532",
                                    "5": "29934306"
                                },
                                {
                                    "0": "Pocahontas",
                                    "1": "2538-06-10",
                                    "2": "Adventure",
                                    "3": "G",
                                    "4": "141579773",
                                    "5": "274370957"
                                },
                                {
                                    "0": "Judge Dredd",
                                    "1": "2538-06-30",
                                    "2": "Action",
                                    "3": "R",
                                    "4": "34687912",
                                    "5": "67222776"
                                },
                                {
                                    "0": "Operation Dumbo Drop",
                                    "1": "2538-07-28",
                                    "2": "Adventure",
                                    "3": "PG",
                                    "4": "24670346",
                                    "5": "47809421"
                                },
                                {
                                    "0": "Dangerous Minds",
                                    "1": "2538-08-11",
                                    "2": "Drama",
                                    "3": "R",
                                    "4": "84919401",
                                    "5": "164552293"
                                },
                                {
                                    "0": "A Kid in King Arthur's Court",
                                    "1": "2538-08-11",
                                    "2": "Adventure",
                                    "3": "PG",
                                    "4": "13406717",
                                    "5": "25981285"
                                },
                                {
                                    "0": "The Tie That Binds",
                                    "1": "2538-09-08",
                                    "2": "Thriller/Suspense",
                                    "3": "R",
                                    "4": "5762795",
                                    "5": "11167895"
                                },
                                {
                                    "0": "Unstrung Heroes",
                                    "1": "2538-09-15",
                                    "2": "Drama",
                                    "3": "PG",
                                    "4": "7929000",
                                    "5": "15365850"
                                },
                                {
                                    "0": "The Big Green",
                                    "1": "2538-09-29",
                                    "2": "Comedy",
                                    "3": "PG",
                                    "4": "17736619",
                                    "5": "34372339"
                                },
                                {
                                    "0": "Dead Presidents",
                                    "1": "2538-10-04",
                                    "2": "Drama",
                                    "3": "R",
                                    "4": "24120194",
                                    "5": "46741467"
                                },
                                {
                                    "0": "The Scarlet Letter",
                                    "1": "2538-10-13",
                                    "2": "Drama",
                                    "3": "R",
                                    "4": "10359006",
                                    "5": "20075033"
                                },
                                {
                                    "0": "Feast of July",
                                    "1": "2538-10-13",
                                    "2": "Drama",
                                    "3": "R",
                                    "4": "293274",
                                    "5": "568342"
                                },
                                {
                                    "0": "Powder",
                                    "1": "2538-10-27",
                                    "2": "Drama",
                                    "3": "PG-13",
                                    "4": "30833914",
                                    "5": "59727216"
                                },
                                {
                                    "0": "Toy Story",
                                    "1": "2538-11-22",
                                    "2": "Adventure",
                                    "3": "G",
                                    "4": "191796233",
                                    "5": "370409631"
                                },
                                {
                                    "0": "Father of the Bride Part II",
                                    "1": "2538-12-08",
                                    "2": "Comedy",
                                    "3": "PG",
                                    "4": "76578911",
                                    "5": "147658438"
                                },
                                {
                                    "0": "Nixon",
                                    "1": "2538-12-20",
                                    "2": "Drama",
                                    "3": "R",
                                    "4": "13668249",
                                    "5": "26302005"
                                },
                                {
                                    "0": "Tom and Huck",
                                    "1": "2538-12-22",
                                    "2": "Adventure",
                                    "3": "PG",
                                    "4": "23837227",
                                    "5": "45911517"
                                },
                                {
                                    "0": "Mr. Holland's Opus",
                                    "1": "2538-12-29",
                                    "2": "Drama",
                                    "3": "PG",
                                    "4": "82582604",
                                    "5": "157508868"
                                },
                                {
                                    "0": "White Squall",
                                    "1": "2539-02-02",
                                    "2": "Adventure",
                                    "3": "PG-13",
                                    "4": "10229300",
                                    "5": "19509726"
                                },
                                {
                                    "0": "Muppet Treasure Island",
                                    "1": "2539-02-16",
                                    "2": "Adventure",
                                    "3": "G",
                                    "4": "34327391",
                                    "5": "65470567"
                                },
                                {
                                    "0": "Mr. Wrong",
                                    "1": "2539-02-16",
                                    "2": "Romantic Comedy",
                                    "3": "PG-13",
                                    "4": "12805071",
                                    "5": "24422334"
                                },
                                {
                                    "0": "Before and After",
                                    "1": "2539-02-23",
                                    "2": "Drama",
                                    "3": "PG-13",
                                    "4": "8642118",
                                    "5": "16482589"
                                },
                                {
                                    "0": "Up Close & Personal",
                                    "1": "2539-03-01",
                                    "2": "Drama",
                                    "3": "PG-13",
                                    "4": "51045801",
                                    "5": "97356578"
                                },
                                {
                                    "0": "Homeward Bound II: Lost in San Franc…",
                                    "1": "2539-03-08",
                                    "2": "Adventure",
                                    "3": "G",
                                    "4": "32709423",
                                    "5": "62384706"
                                },
                                {
                                    "0": "Two Much",
                                    "1": "2539-03-15",
                                    "2": "Romantic Comedy",
                                    "3": "PG-13",
                                    "4": "1078555",
                                    "5": "2057055"
                                },
                                {
                                    "0": "Un indien dans la ville",
                                    "1": "2539-03-22",
                                    "2": "Comedy",
                                    "3": "PG",
                                    "4": "1029731",
                                    "5": "1963937"
                                },
                                {
                                    "0": "James and the Giant Peach",
                                    "1": "2539-04-12",
                                    "2": "Adventure",
                                    "3": "PG",
                                    "4": "28921264",
                                    "5": "55159783"
                                },
                                {
                                    "0": "Celtic Pride",
                                    "1": "2539-04-19",
                                    "2": "Comedy",
                                    "3": "PG-13",
                                    "4": "9240378",
                                    "5": "17623615"
                                },
                                {
                                    "0": "Last Dance",
                                    "1": "2539-05-03",
                                    "2": "Drama",
                                    "3": "R",
                                    "4": "5857534",
                                    "5": "11171714"
                                },
                                {
                                    "0": "Boys",
                                    "1": "2539-05-10",
                                    "2": "Drama",
                                    "3": "PG-13",
                                    "4": "21930418",
                                    "5": "41826566"
                                },
                                {
                                    "0": "Spy Hard",
                                    "1": "2539-05-24",
                                    "2": "Comedy",
                                    "3": "PG-13",
                                    "4": "26936265",
                                    "5": "51373912"
                                },
                                {
                                    "0": "Eddie",
                                    "1": "2539-05-31",
                                    "2": "Comedy",
                                    "3": "PG-13",
                                    "4": "31369401",
                                    "5": "59828966"
                                },
                                {
                                    "0": "The Rock",
                                    "1": "2539-06-07",
                                    "2": "Action",
                                    "3": "R",
                                    "4": "134069511",
                                    "5": "255702705"
                                },
                                {
                                    "0": "The Hunchback of Notre Dame",
                                    "1": "2539-06-21",
                                    "2": "Adventure",
                                    "3": "G",
                                    "4": "100138851",
                                    "5": "190988799"
                                },
                                {
                                    "0": "Phenomenon",
                                    "1": "2539-07-05",
                                    "2": "Drama",
                                    "3": "PG",
                                    "4": "104636382",
                                    "5": "199559799"
                                },
                                {
                                    "0": "Kazaam",
                                    "1": "2539-07-17",
                                    "2": "Comedy",
                                    "3": "PG",
                                    "4": "18880508",
                                    "5": "36009655"
                                },
                                {
                                    "0": "Jack",
                                    "1": "2539-08-09",
                                    "2": "Drama",
                                    "3": "PG-13",
                                    "4": "58617334",
                                    "5": "111792852"
                                },
                                {
                                    "0": "First Kid",
                                    "1": "2539-08-30",
                                    "2": "Comedy",
                                    "3": "PG",
                                    "4": "26465920",
                                    "5": "50465108"
                                },
                                {
                                    "0": "The Rich Man's Wife",
                                    "1": "2539-09-13",
                                    "2": "Thriller/Suspense",
                                    "3": "R",
                                    "4": "8538318",
                                    "5": "16284619"
                                },
                                {
                                    "0": "D3: The Mighty Ducks",
                                    "1": "2539-10-04",
                                    "2": "Comedy",
                                    "3": "PG",
                                    "4": "22936273",
                                    "5": "43713554"
                                },
                                {
                                    "0": "The Associate",
                                    "1": "2539-10-25",
                                    "2": "Comedy",
                                    "3": "PG-13",
                                    "4": "12772657",
                                    "5": "24333094"
                                },
                                {
                                    "0": "Ransom",
                                    "1": "2539-11-08",
                                    "2": "Action",
                                    "3": "R",
                                    "4": "136492681",
                                    "5": "259807820"
                                },
                                {
                                    "0": "The War at Home",
                                    "1": "2539-11-20",
                                    "2": "NULL",
                                    "3": "R",
                                    "4": "34368",
                                    "5": "65543"
                                },
                                {
                                    "0": "101 Dalmatians",
                                    "1": "2539-11-27",
                                    "2": "Comedy",
                                    "3": "G",
                                    "4": "136189294",
                                    "5": "258728898"
                                },
                                {
                                    "0": "The Preacher's Wife",
                                    "1": "2539-12-13",
                                    "2": "Drama",
                                    "3": "PG",
                                    "4": "48102795",
                                    "5": "91076877"
                                },
                                {
                                    "0": "Evita",
                                    "1": "2539-12-25",
                                    "2": "Musical",
                                    "3": "PG",
                                    "4": "50047179",
                                    "5": "92077628"
                                },
                                {
                                    "0": "Metro",
                                    "1": "2540-01-17",
                                    "2": "Action",
                                    "3": "R",
                                    "4": "32017895",
                                    "5": "58804106"
                                },
                                {
                                    "0": "Prefontaine",
                                    "1": "2540-01-24",
                                    "2": "Drama",
                                    "3": "PG-13",
                                    "4": "590817",
                                    "5": "1085093"
                                },
                                {
                                    "0": "Shadow Conspiracy",
                                    "1": "2540-01-31",
                                    "2": "Thriller/Suspense",
                                    "3": "R",
                                    "4": "2154540",
                                    "5": "3957025"
                                },
                                {
                                    "0": "That Darn Cat",
                                    "1": "2540-02-14",
                                    "2": "Comedy",
                                    "3": "PG",
                                    "4": "18301828",
                                    "5": "33613158"
                                },
                                {
                                    "0": "Jungle 2 Jungle",
                                    "1": "2540-03-07",
                                    "2": "Comedy",
                                    "3": "PG",
                                    "4": "59925026",
                                    "5": "110058379"
                                },
                                {
                                    "0": "The Sixth Man",
                                    "1": "2540-03-28",
                                    "2": "Comedy",
                                    "3": "PG-13",
                                    "4": "14765099",
                                    "5": "27117599"
                                },
                                {
                                    "0": "Grosse Pointe Blank",
                                    "1": "2540-04-11",
                                    "2": "Black Comedy",
                                    "3": "R",
                                    "4": "28084357",
                                    "5": "51579764"
                                },
                                {
                                    "0": "Romy and Michele's High School Reunion",
                                    "1": "2540-04-25",
                                    "2": "Comedy",
                                    "3": "R",
                                    "4": "29235353",
                                    "5": "53693680"
                                },
                                {
                                    "0": "Gone Fishin'",
                                    "1": "2540-05-30",
                                    "2": "Comedy",
                                    "3": "PG",
                                    "4": "19745922",
                                    "5": "36265379"
                                },
                                {
                                    "0": "Con Air",
                                    "1": "2540-06-06",
                                    "2": "Action",
                                    "3": "R",
                                    "4": "101117573",
                                    "5": "185712664"
                                },
                                {
                                    "0": "Hercules",
                                    "1": "2540-06-13",
                                    "2": "Adventure",
                                    "3": "G",
                                    "4": "99112101",
                                    "5": "182029412"
                                },
                                {
                                    "0": "George Of The Jungle",
                                    "1": "2540-07-16",
                                    "2": "Comedy",
                                    "3": "PG",
                                    "4": "105263257",
                                    "5": "193326632"
                                },
                                {
                                    "0": "Nothing To Lose",
                                    "1": "2540-07-18",
                                    "2": "Comedy",
                                    "3": "R",
                                    "4": "44480039",
                                    "5": "81692095"
                                },
                                {
                                    "0": "Air Bud",
                                    "1": "2540-08-01",
                                    "2": "Comedy",
                                    "3": "PG",
                                    "4": "24646936",
                                    "5": "45266588"
                                },
                                {
                                    "0": "G.I. Jane",
                                    "1": "2540-08-22",
                                    "2": "Drama",
                                    "3": "R",
                                    "4": "48169156",
                                    "5": "88467531"
                                },
                                {
                                    "0": "A Thousand Acres",
                                    "1": "2540-09-19",
                                    "2": "Drama",
                                    "3": "R",
                                    "4": "7928412",
                                    "5": "14561324"
                                },
                                {
                                    "0": "Washington Square",
                                    "1": "2540-10-05",
                                    "2": "Drama",
                                    "3": "PG",
                                    "4": "1775644",
                                    "5": "3257546"
                                },
                                {
                                    "0": "Rocket Man",
                                    "1": "2540-10-10",
                                    "2": "Comedy",
                                    "3": "PG",
                                    "4": "15448043",
                                    "5": "28371890"
                                },
                                {
                                    "0": "Playing God",
                                    "1": "2540-10-17",
                                    "2": "Thriller/Suspense",
                                    "3": "R",
                                    "4": "4166918",
                                    "5": "7652965"
                                },
                                {
                                    "0": "Flubber",
                                    "1": "2540-11-26",
                                    "2": "Comedy",
                                    "3": "PG",
                                    "4": "92993801",
                                    "5": "170406423"
                                },
                                {
                                    "0": "An American Werewolf in Paris",
                                    "1": "2540-12-25",
                                    "2": "Horror",
                                    "3": "R",
                                    "4": "26570463",
                                    "5": "48546161"
                                },
                                {
                                    "0": "Mr. Magoo",
                                    "1": "2540-12-25",
                                    "2": "Comedy",
                                    "3": "PG",
                                    "4": "21437192",
                                    "5": "39145784"
                                },
                                {
                                    "0": "Kundun",
                                    "1": "2540-12-25",
                                    "2": "Drama",
                                    "3": "PG-13",
                                    "4": "5686694",
                                    "5": "10236836"
                                },
                                {
                                    "0": "Deep Rising",
                                    "1": "2541-01-30",
                                    "2": "Action",
                                    "3": "R",
                                    "4": "11203026",
                                    "5": "20136775"
                                },
                                {
                                    "0": "Krippendorf's Tribe",
                                    "1": "2541-02-27",
                                    "2": "Comedy",
                                    "3": "PG-13",
                                    "4": "7571115",
                                    "5": "13608633"
                                },
                                {
                                    "0": "An Alan Smithee Film: Burn Hollywood …",
                                    "1": "2541-02-27",
                                    "2": "Comedy",
                                    "3": "R",
                                    "4": "45779",
                                    "5": "82277"
                                },
                                {
                                    "0": "Meet the Deedles",
                                    "1": "2541-03-27",
                                    "2": "Comedy",
                                    "3": "PG",
                                    "4": "4356126",
                                    "5": "7829877"
                                },
                                {
                                    "0": "He Got Game",
                                    "1": "2541-05-01",
                                    "2": "Drama",
                                    "3": "R",
                                    "4": "21567853",
                                    "5": "38766948"
                                },
                                {
                                    "0": "The Horse Whisperer",
                                    "1": "2541-05-15",
                                    "2": "Drama",
                                    "3": "PG-13",
                                    "4": "75383563",
                                    "5": "135497531"
                                },
                                {
                                    "0": "Six Days, Seven Nights",
                                    "1": "2541-06-12",
                                    "2": "Romantic Comedy",
                                    "3": "PG-13",
                                    "4": "74339294",
                                    "5": "133620516"
                                },
                                {
                                    "0": "Mulan",
                                    "1": "2541-06-19",
                                    "2": "Adventure",
                                    "3": "G",
                                    "4": "120620254",
                                    "5": "216807832"
                                },
                                {
                                    "0": "Armageddon",
                                    "1": "2541-07-01",
                                    "2": "Adventure",
                                    "3": "PG-13",
                                    "4": "201578182",
                                    "5": "362324957"
                                },
                                {
                                    "0": "Jane Austen's Mafia",
                                    "1": "2541-07-24",
                                    "2": "Comedy",
                                    "3": "PG-13",
                                    "4": "19843795",
                                    "5": "35668055"
                                },
                                {
                                    "0": "The Parent Trap",
                                    "1": "2541-07-29",
                                    "2": "Comedy",
                                    "3": "PG",
                                    "4": "66308518",
                                    "5": "119185667"
                                },
                                {
                                    "0": "Firelight",
                                    "1": "2541-09-04",
                                    "2": "Drama",
                                    "3": "R",
                                    "4": "784419",
                                    "5": "1409943"
                                },
                                {
                                    "0": "Simon Birch",
                                    "1": "2541-09-11",
                                    "2": "Drama",
                                    "3": "PG",
                                    "4": "18253415",
                                    "5": "32809442"
                                },
                                {
                                    "0": "Holy Man",
                                    "1": "2541-10-09",
                                    "2": "Comedy",
                                    "3": "PG",
                                    "4": "12069719",
                                    "5": "21694605"
                                },
                                {
                                    "0": "Beloved",
                                    "1": "2541-10-16",
                                    "2": "Drama",
                                    "3": "R",
                                    "4": "22852487",
                                    "5": "41062682"
                                },
                                {
                                    "0": "The Waterboy",
                                    "1": "2541-11-06",
                                    "2": "Comedy",
                                    "3": "PG-13",
                                    "4": "161491646",
                                    "5": "288691833"
                                },
                                {
                                    "0": "I'll Be Home For Christmas",
                                    "1": "2541-11-13",
                                    "2": "Comedy",
                                    "3": "PG",
                                    "4": "12214338",
                                    "5": "21941840"
                                },
                                {
                                    "0": "A Bug's Life",
                                    "1": "2541-11-20",
                                    "2": "Adventure",
                                    "3": "G",
                                    "4": "162798565",
                                    "5": "288981698"
                                },
                                {
                                    "0": "Enemy of the State",
                                    "1": "2541-11-20",
                                    "2": "Action",
                                    "3": "R",
                                    "4": "111549836",
                                    "5": "198472008"
                                },
                                {
                                    "0": "Rushmore",
                                    "1": "2541-12-11",
                                    "2": "Black Comedy",
                                    "3": "R",
                                    "4": "17105219",
                                    "5": "28392518"
                                },
                                {
                                    "0": "A Civil Action",
                                    "1": "2541-12-25",
                                    "2": "Drama",
                                    "3": "PG-13",
                                    "4": "56709981",
                                    "5": "94139530"
                                },
                                {
                                    "0": "Mighty Joe Young",
                                    "1": "2541-12-25",
                                    "2": "Adventure",
                                    "3": "PG",
                                    "4": "50632037",
                                    "5": "87906042"
                                },
                                {
                                    "0": "My Favorite Martian",
                                    "1": "2542-02-12",
                                    "2": "Comedy",
                                    "3": "PG",
                                    "4": "36850101",
                                    "5": "61150849"
                                },
                                {
                                    "0": "The Other Sister",
                                    "1": "2542-02-26",
                                    "2": "Romantic Comedy",
                                    "3": "PG-13",
                                    "4": "27807627",
                                    "5": "46145331"
                                },
                                {
                                    "0": "Doug's 1st Movie",
                                    "1": "2542-03-26",
                                    "2": "Adventure",
                                    "3": "G",
                                    "4": "19421271",
                                    "5": "32228598"
                                },
                                {
                                    "0": "Ten Things I Hate About You",
                                    "1": "2542-03-31",
                                    "2": "Romantic Comedy",
                                    "3": "PG-13",
                                    "4": "38177966",
                                    "5": "63354375"
                                },
                                {
                                    "0": "Endurance",
                                    "1": "2542-05-14",
                                    "2": "NULL",
                                    "3": "PG",
                                    "4": "229128",
                                    "5": "380218"
                                },
                                {
                                    "0": "Instinct",
                                    "1": "2542-06-04",
                                    "2": "Drama",
                                    "3": "R",
                                    "4": "34105207",
                                    "5": "56595842"
                                },
                                {
                                    "0": "Tarzan",
                                    "1": "2542-06-16",
                                    "2": "Adventure",
                                    "3": "G",
                                    "4": "171091819",
                                    "5": "283900254"
                                },
                                {
                                    "0": "Summer of Sam",
                                    "1": "2542-07-02",
                                    "2": "Drama",
                                    "3": "R",
                                    "4": "19288130",
                                    "5": "32007656"
                                },
                                {
                                    "0": "Inspector Gadget",
                                    "1": "2542-07-23",
                                    "2": "Comedy",
                                    "3": "PG",
                                    "4": "97387965",
                                    "5": "161610341"
                                },
                                {
                                    "0": "The Sixth Sense",
                                    "1": "2542-08-06",
                                    "2": "Thriller/Suspense",
                                    "3": "PG-13",
                                    "4": "293506292",
                                    "5": "485424724"
                                },
                                {
                                    "0": "The 13th Warrior",
                                    "1": "2542-08-27",
                                    "2": "Action",
                                    "3": "R",
                                    "4": "32698899",
                                    "5": "54262148"
                                },
                                {
                                    "0": "Breakfast of Champions",
                                    "1": "2542-09-17",
                                    "2": "Comedy",
                                    "3": "R",
                                    "4": "178287",
                                    "5": "295851"
                                },
                                {
                                    "0": "Mumford",
                                    "1": "2542-09-24",
                                    "2": "Comedy",
                                    "3": "R",
                                    "4": "4559569",
                                    "5": "7566363"
                                },
                                {
                                    "0": "Mystery, Alaska",
                                    "1": "2542-10-01",
                                    "2": "Comedy",
                                    "3": "R",
                                    "4": "8891623",
                                    "5": "14755189"
                                },
                                {
                                    "0": "The Straight Story",
                                    "1": "2542-10-15",
                                    "2": "Drama",
                                    "3": "G",
                                    "4": "6197866",
                                    "5": "10111144"
                                },
                                {
                                    "0": "The Insider",
                                    "1": "2542-11-05",
                                    "2": "Drama",
                                    "3": "R",
                                    "4": "28965197",
                                    "5": "47794214"
                                },
                                {
                                    "0": "Toy Story 2",
                                    "1": "2542-11-19",
                                    "2": "Adventure",
                                    "3": "G",
                                    "4": "245852179",
                                    "5": "404450426"
                                },
                                {
                                    "0": "Cradle Will Rock",
                                    "1": "2542-12-08",
                                    "2": "Drama",
                                    "3": "R",
                                    "4": "2899970",
                                    "5": "4609153"
                                },
                                {
                                    "0": "Deuce Bigalow: Male Gigolo",
                                    "1": "2542-12-10",
                                    "2": "Comedy",
                                    "3": "R",
                                    "4": "65535067",
                                    "5": "106921374"
                                },
                                {
                                    "0": "Bicentennial Man",
                                    "1": "2542-12-17",
                                    "2": "Drama",
                                    "3": "PG",
                                    "4": "58220776",
                                    "5": "94838225"
                                },
                                {
                                    "0": "Play it to the Bone",
                                    "1": "2542-12-24",
                                    "2": "Comedy",
                                    "3": "R",
                                    "4": "8427204",
                                    "5": "13180524"
                                },
                                {
                                    "0": "Fantasia 2000 (IMAX)",
                                    "1": "2543-01-01",
                                    "2": "Musical",
                                    "3": "G",
                                    "4": "60507228",
                                    "5": "94852354"
                                },
                                {
                                    "0": "Gun Shy",
                                    "1": "2543-02-04",
                                    "2": "Comedy",
                                    "3": "R",
                                    "4": "1638202",
                                    "5": "2562155"
                                },
                                {
                                    "0": "The Tigger Movie",
                                    "1": "2543-02-11",
                                    "2": "Adventure",
                                    "3": "G",
                                    "4": "45542421",
                                    "5": "71228678"
                                },
                                {
                                    "0": "Mission to Mars",
                                    "1": "2543-03-10",
                                    "2": "Adventure",
                                    "3": "PG",
                                    "4": "60874615",
                                    "5": "95208344"
                                },
                                {
                                    "0": "High Fidelity",
                                    "1": "2543-03-31",
                                    "2": "Comedy",
                                    "3": "R",
                                    "4": "27277055",
                                    "5": "42661516"
                                },
                                {
                                    "0": "Keeping the Faith",
                                    "1": "2543-04-14",
                                    "2": "Romantic Comedy",
                                    "3": "PG-13",
                                    "4": "37036404",
                                    "5": "57925202"
                                },
                                {
                                    "0": "Dinosaur",
                                    "1": "2543-05-19",
                                    "2": "Adventure",
                                    "3": "PG",
                                    "4": "137748063",
                                    "5": "215438985"
                                },
                                {
                                    "0": "Shanghai Noon",
                                    "1": "2543-05-26",
                                    "2": "Western",
                                    "3": "PG-13",
                                    "4": "56932305",
                                    "5": "89042541"
                                },
                                {
                                    "0": "Gone in 60 Seconds",
                                    "1": "2543-06-09",
                                    "2": "Action",
                                    "3": "PG-13",
                                    "4": "101643008",
                                    "5": "158970411"
                                },
                                {
                                    "0": "Fantasia 2000 (Theatrical Release)",
                                    "1": "2543-06-16",
                                    "2": "Musical",
                                    "3": "G",
                                    "4": "9103630",
                                    "5": "14238144"
                                },
                                {
                                    "0": "The Kid",
                                    "1": "2543-07-07",
                                    "2": "Comedy",
                                    "3": "PG",
                                    "4": "69688384",
                                    "5": "108993148"
                                },
                                {
                                    "0": "Coyote Ugly",
                                    "1": "2543-08-04",
                                    "2": "Drama",
                                    "3": "PG-13",
                                    "4": "60786269",
                                    "5": "95070168"
                                },
                                {
                                    "0": "The Crew",
                                    "1": "2543-08-25",
                                    "2": "Comedy",
                                    "3": "PG-13",
                                    "4": "13019253",
                                    "5": "20362201"
                                },
                                {
                                    "0": "Duets",
                                    "1": "2543-09-15",
                                    "2": "Drama",
                                    "3": "R",
                                    "4": "4734235",
                                    "5": "7404372"
                                },
                                {
                                    "0": "Remember the Titans",
                                    "1": "2543-09-29",
                                    "2": "Drama",
                                    "3": "PG",
                                    "4": "115654751",
                                    "5": "180742479"
                                },
                                {
                                    "0": "Unbreakable",
                                    "1": "2543-11-22",
                                    "2": "Thriller/Suspense",
                                    "3": "PG-13",
                                    "4": "94999143",
                                    "5": "148208901"
                                },
                                {
                                    "0": "102 Dalmatians",
                                    "1": "2543-11-22",
                                    "2": "Comedy",
                                    "3": "G",
                                    "4": "66941559",
                                    "5": "104055039"
                                },
                                {
                                    "0": "The Emperor's New Groove",
                                    "1": "2543-12-15",
                                    "2": "Adventure",
                                    "3": "G",
                                    "4": "89296573",
                                    "5": "136789252"
                                },
                                {
                                    "0": "O Brother, Where Art Thou?",
                                    "1": "2543-12-22",
                                    "2": "Comedy",
                                    "3": "PG-13",
                                    "4": "45506619",
                                    "5": "67922002"
                                },
                                {
                                    "0": "Double Take",
                                    "1": "2544-01-12",
                                    "2": "Action",
                                    "3": "PG-13",
                                    "4": "29823162",
                                    "5": "44418589"
                                },
                                {
                                    "0": "Recess: School's Out",
                                    "1": "2544-02-16",
                                    "2": "Comedy",
                                    "3": "G",
                                    "4": "36696761",
                                    "5": "54656124"
                                },
                                {
                                    "0": "Just Visiting",
                                    "1": "2544-04-06",
                                    "2": "Comedy",
                                    "3": "PG-13",
                                    "4": "4777007",
                                    "5": "7114869"
                                },
                                {
                                    "0": "Pearl Harbor",
                                    "1": "2544-05-25",
                                    "2": "Action",
                                    "3": "PG-13",
                                    "4": "198539855",
                                    "5": "295705112"
                                },
                                {
                                    "0": "Atlantis: The Lost Empire",
                                    "1": "2544-06-08",
                                    "2": "Adventure",
                                    "3": "PG",
                                    "4": "84052762",
                                    "5": "125188122"
                                },
                                {
                                    "0": "crazy/beautiful",
                                    "1": "2544-06-29",
                                    "2": "Drama",
                                    "3": "PG-13",
                                    "4": "16929123",
                                    "5": "25214223"
                                },
                                {
                                    "0": "The Princess Diaries",
                                    "1": "2544-08-03",
                                    "2": "Comedy",
                                    "3": "G",
                                    "4": "108244774",
                                    "5": "161218928"
                                },
                                {
                                    "0": "Bubble Boy",
                                    "1": "2544-08-24",
                                    "2": "Comedy",
                                    "3": "PG-13",
                                    "4": "5002310",
                                    "5": "7450434"
                                },
                                {
                                    "0": "Max Keeble's Big Move",
                                    "1": "2544-10-05",
                                    "2": "Comedy",
                                    "3": "PG",
                                    "4": "17292381",
                                    "5": "25749730"
                                },
                                {
                                    "0": "Corky Romano",
                                    "1": "2544-10-12",
                                    "2": "Comedy",
                                    "3": "PG-13",
                                    "4": "23978402",
                                    "5": "35705805"
                                },
                                {
                                    "0": "High Heels and Low Lifes",
                                    "1": "2544-10-26",
                                    "2": "NULL",
                                    "3": "R",
                                    "4": "226792",
                                    "5": "337782"
                                },
                                {
                                    "0": "Monsters, Inc.",
                                    "1": "2544-11-02",
                                    "2": "Adventure",
                                    "3": "G",
                                    "4": "289423425",
                                    "5": "416073179"
                                },
                                {
                                    "0": "Out Cold",
                                    "1": "2544-11-21",
                                    "2": "Comedy",
                                    "3": "PG-13",
                                    "4": "13906394",
                                    "5": "20700691"
                                },
                                {
                                    "0": "The Royal Tenenbaums",
                                    "1": "2544-12-14",
                                    "2": "Black Comedy",
                                    "3": "R",
                                    "4": "52353636",
                                    "5": "76758193"
                                },
                                {
                                    "0": "Beauty and the Beast (IMAX)",
                                    "1": "2545-01-01",
                                    "2": "Musical",
                                    "3": "G",
                                    "4": "25487028",
                                    "5": "36980311"
                                },
                                {
                                    "0": "Frank McKlusky C.I.",
                                    "1": "2545-01-01",
                                    "2": "NULL",
                                    "3": "NULL",
                                    "4": "0",
                                    "5": "0"
                                },
                                {
                                    "0": "Snow Dogs",
                                    "1": "2545-01-18",
                                    "2": "Comedy",
                                    "3": "PG",
                                    "4": "81150692",
                                    "5": "117745317"
                                },
                                {
                                    "0": "The Count of Monte Cristo",
                                    "1": "2545-01-25",
                                    "2": "Drama",
                                    "3": "PG-13",
                                    "4": "54228104",
                                    "5": "78682079"
                                },
                                {
                                    "0": "Peter Pan: Return to Neverland",
                                    "1": "2545-02-15",
                                    "2": "Adventure",
                                    "3": "G",
                                    "4": "48430258",
                                    "5": "70269715"
                                },
                                {
                                    "0": "Reign of Fire",
                                    "1": "2545-02-19",
                                    "2": "Action",
                                    "3": "PG-13",
                                    "4": "43061982",
                                    "5": "62480631"
                                },
                                {
                                    "0": "Sorority Boys",
                                    "1": "2545-03-22",
                                    "2": "Comedy",
                                    "3": "R",
                                    "4": "10198766",
                                    "5": "14797862"
                                },
                                {
                                    "0": "The Rookie",
                                    "1": "2545-03-29",
                                    "2": "Drama",
                                    "3": "G",
                                    "4": "75600072",
                                    "5": "109691666"
                                },
                                {
                                    "0": "Big Trouble",
                                    "1": "2545-04-05",
                                    "2": "Comedy",
                                    "3": "PG-13",
                                    "4": "7262288",
                                    "5": "10537188"
                                },
                                {
                                    "0": "ESPN's Ultimate X - The Movie",
                                    "1": "2545-05-10",
                                    "2": "Documentary",
                                    "3": "PG",
                                    "4": "4197175",
                                    "5": "6089874"
                                },
                                {
                                    "0": "Bad Company",
                                    "1": "2545-06-07",
                                    "2": "Action",
                                    "3": "PG-13",
                                    "4": "30157016",
                                    "5": "43756218"
                                },
                                {
                                    "0": "Lilo & Stitch",
                                    "1": "2545-06-21",
                                    "2": "Adventure",
                                    "3": "PG",
                                    "4": "145771527",
                                    "5": "211506702"
                                },
                                {
                                    "0": "The Country Bears",
                                    "1": "2545-07-26",
                                    "2": "Adventure",
                                    "3": "G",
                                    "4": "16988996",
                                    "5": "24650121"
                                },
                                {
                                    "0": "Signs",
                                    "1": "2545-08-02",
                                    "2": "Thriller/Suspense",
                                    "3": "PG-13",
                                    "4": "227965690",
                                    "5": "330754439"
                                },
                                {
                                    "0": "Sen to Chihiro no Kamikakushi",
                                    "1": "2545-09-20",
                                    "2": "Adventure",
                                    "3": "PG",
                                    "4": "10049886",
                                    "5": "14338992"
                                },
                                {
                                    "0": "Sweet Home Alabama",
                                    "1": "2545-09-27",
                                    "2": "Comedy",
                                    "3": "PG-13",
                                    "4": "127214072",
                                    "5": "184521151"
                                },
                                {
                                    "0": "Moonlight Mile",
                                    "1": "2545-09-27",
                                    "2": "Drama",
                                    "3": "PG-13",
                                    "4": "6830957",
                                    "5": "9909094"
                                },
                                {
                                    "0": "Tuck Everlasting",
                                    "1": "2545-10-11",
                                    "2": "Drama",
                                    "3": "PG",
                                    "4": "19161999",
                                    "5": "27789959"
                                },
                                {
                                    "0": "The Santa Clause 2",
                                    "1": "2545-11-01",
                                    "2": "Comedy",
                                    "3": "G",
                                    "4": "139225854",
                                    "5": "201959095"
                                },
                                {
                                    "0": "Treasure Planet",
                                    "1": "2545-11-27",
                                    "2": "Adventure",
                                    "3": "PG",
                                    "4": "38120554",
                                    "5": "55189145"
                                },
                                {
                                    "0": "The Hot Chick",
                                    "1": "2545-12-13",
                                    "2": "Comedy",
                                    "3": "PG-13",
                                    "4": "35081550",
                                    "5": "50624654"
                                },
                                {
                                    "0": "25th Hour",
                                    "1": "2545-12-19",
                                    "2": "Drama",
                                    "3": "R",
                                    "4": "13084595",
                                    "5": "18325463"
                                },
                                {
                                    "0": "The Recruit",
                                    "1": "2546-01-31",
                                    "2": "Thriller/Suspense",
                                    "3": "PG-13",
                                    "4": "52784696",
                                    "5": "73793522"
                                },
                                {
                                    "0": "Shanghai Knights",
                                    "1": "2546-02-07",
                                    "2": "Adventure",
                                    "3": "PG-13",
                                    "4": "60470220",
                                    "5": "84537962"
                                },
                                {
                                    "0": "The Jungle Book 2",
                                    "1": "2546-02-14",
                                    "2": "Adventure",
                                    "3": "G",
                                    "4": "47901582",
                                    "5": "66966883"
                                },
                                {
                                    "0": "Bringing Down the House",
                                    "1": "2546-03-07",
                                    "2": "Comedy",
                                    "3": "PG-13",
                                    "4": "132675402",
                                    "5": "185481530"
                                },
                                {
                                    "0": "Piglet's Big Movie",
                                    "1": "2546-03-21",
                                    "2": "Comedy",
                                    "3": "G",
                                    "4": "23103423",
                                    "5": "32298812"
                                },
                                {
                                    "0": "Ghosts of the Abyss",
                                    "1": "2546-04-11",
                                    "2": "Documentary",
                                    "3": "G",
                                    "4": "17093668",
                                    "5": "23803108"
                                },
                                {
                                    "0": "Holes",
                                    "1": "2546-04-18",
                                    "2": "Drama",
                                    "3": "PG",
                                    "4": "67383924",
                                    "5": "94203395"
                                },
                                {
                                    "0": "The Lizzie McGuire Movie",
                                    "1": "2546-05-02",
                                    "2": "Comedy",
                                    "3": "PG",
                                    "4": "42734455",
                                    "5": "59743191"
                                },
                                {
                                    "0": "Finding Nemo",
                                    "1": "2546-05-30",
                                    "2": "Adventure",
                                    "3": "G",
                                    "4": "380529370",
                                    "5": "518148559"
                                },
                                {
                                    "0": "Pirates of the Caribbean: The Curse o…",
                                    "1": "2546-07-09",
                                    "2": "Adventure",
                                    "3": "PG-13",
                                    "4": "305411224",
                                    "5": "426967926"
                                },
                                {
                                    "0": "Freaky Friday",
                                    "1": "2546-08-06",
                                    "2": "Comedy",
                                    "3": "PG",
                                    "4": "110222438",
                                    "5": "154090360"
                                },
                                {
                                    "0": "Open Range",
                                    "1": "2546-08-15",
                                    "2": "Western",
                                    "3": "R",
                                    "4": "58331254",
                                    "5": "81547672"
                                },
                                {
                                    "0": "Cold Creek Manor",
                                    "1": "2546-09-19",
                                    "2": "Thriller/Suspense",
                                    "3": "R",
                                    "4": "21384035",
                                    "5": "29895090"
                                },
                                {
                                    "0": "Under the Tuscan Sun",
                                    "1": "2546-09-26",
                                    "2": "Comedy",
                                    "3": "PG-13",
                                    "4": "43601508",
                                    "5": "60944053"
                                },
                                {
                                    "0": "Veronica Guerin",
                                    "1": "2546-10-17",
                                    "2": "Drama",
                                    "3": "R",
                                    "4": "1569918",
                                    "5": "2194759"
                                },
                                {
                                    "0": "Brother Bear",
                                    "1": "2546-10-24",
                                    "2": "Adventure",
                                    "3": "G",
                                    "4": "85336277",
                                    "5": "119218333"
                                },
                                {
                                    "0": "The Haunted Mansion",
                                    "1": "2546-11-26",
                                    "2": "Comedy",
                                    "3": "PG",
                                    "4": "75817994",
                                    "5": "105775678"
                                },
                                {
                                    "0": "Calendar Girls",
                                    "1": "2546-12-19",
                                    "2": "Comedy",
                                    "3": "PG-13",
                                    "4": "31011616",
                                    "5": "42379650"
                                },
                                {
                                    "0": "Young Black Stallion",
                                    "1": "2546-12-25",
                                    "2": "Adventure",
                                    "3": "G",
                                    "4": "6751389",
                                    "5": "9254344"
                                },
                                {
                                    "0": "Teacher's Pet: The Movie",
                                    "1": "2547-01-16",
                                    "2": "Comedy",
                                    "3": "PG",
                                    "4": "6491969",
                                    "5": "8812764"
                                },
                                {
                                    "0": "Miracle",
                                    "1": "2547-02-06",
                                    "2": "Drama",
                                    "3": "PG",
                                    "4": "64378093",
                                    "5": "87392478"
                                },
                                {
                                    "0": "Confessions of a Teenage Drama Queen",
                                    "1": "2547-02-20",
                                    "2": "Comedy",
                                    "3": "PG",
                                    "4": "29331068",
                                    "5": "39816568"
                                },
                                {
                                    "0": "Hidalgo",
                                    "1": "2547-03-05",
                                    "2": "Western",
                                    "3": "PG-13",
                                    "4": "67286731",
                                    "5": "91340921"
                                },
                                {
                                    "0": "The Ladykillers",
                                    "1": "2547-03-26",
                                    "2": "Comedy",
                                    "3": "R",
                                    "4": "39692139",
                                    "5": "53881593"
                                },
                                {
                                    "0": "Home on the Range",
                                    "1": "2547-04-02",
                                    "2": "Comedy",
                                    "3": "PG",
                                    "4": "50026353",
                                    "5": "67910166"
                                },
                                {
                                    "0": "The Alamo",
                                    "1": "2547-04-09",
                                    "2": "Western",
                                    "3": "PG-13",
                                    "4": "22406362",
                                    "5": "30416359"
                                },
                                {
                                    "0": "Raising Helen",
                                    "1": "2547-05-28",
                                    "2": "Comedy",
                                    "3": "PG-13",
                                    "4": "37485528",
                                    "5": "50886144"
                                },
                                {
                                    "0": "Around the World in 80 Days",
                                    "1": "2547-06-16",
                                    "2": "Adventure",
                                    "3": "PG",
                                    "4": "24004159",
                                    "5": "32585356"
                                },
                                {
                                    "0": "America's Heart and Soul",
                                    "1": "2547-07-02",
                                    "2": "Documentary",
                                    "3": "Not Rated",
                                    "4": "314000",
                                    "5": "426246"
                                },
                                {
                                    "0": "King Arthur",
                                    "1": "2547-07-07",
                                    "2": "Adventure",
                                    "3": "PG-13",
                                    "4": "51877963",
                                    "5": "70423706"
                                },
                                {
                                    "0": "The Village",
                                    "1": "2547-07-30",
                                    "2": "Thriller/Suspense",
                                    "3": "PG-13",
                                    "4": "114197520",
                                    "5": "155021748"
                                },
                                {
                                    "0": "The Princess Diaries 2: Royal Engagement",
                                    "1": "2547-08-11",
                                    "2": "Romantic Comedy",
                                    "3": "G",
                                    "4": "95149435",
                                    "5": "129164207"
                                },
                                {
                                    "0": "Mr. 3000",
                                    "1": "2547-09-17",
                                    "2": "Comedy",
                                    "3": "PG-13",
                                    "4": "21800302",
                                    "5": "29593641"
                                },
                                {
                                    "0": "The Last Shot",
                                    "1": "2547-09-24",
                                    "2": "Comedy",
                                    "3": "R",
                                    "4": "463730",
                                    "5": "629502"
                                },
                                {
                                    "0": "Ladder 49",
                                    "1": "2547-10-01",
                                    "2": "Action",
                                    "3": "PG-13",
                                    "4": "74541707",
                                    "5": "101161045"
                                },
                                {
                                    "0": "The Incredibles",
                                    "1": "2547-11-05",
                                    "2": "Adventure",
                                    "3": "PG",
                                    "4": "261441092",
                                    "5": "354488708"
                                },
                                {
                                    "0": "National Treasure",
                                    "1": "2547-11-19",
                                    "2": "Adventure",
                                    "3": "PG",
                                    "4": "173005002",
                                    "5": "234069353"
                                },
                                {
                                    "0": "The Life Aquatic with Steve Zissou",
                                    "1": "2547-12-10",
                                    "2": "Comedy",
                                    "3": "R",
                                    "4": "24006726",
                                    "5": "32198655"
                                },
                                {
                                    "0": "Aliens of the Deep",
                                    "1": "2548-01-28",
                                    "2": "Documentary",
                                    "3": "G",
                                    "4": "8968684",
                                    "5": "11740942"
                                },
                                {
                                    "0": "Pooh's Heffalump Movie",
                                    "1": "2548-02-11",
                                    "2": "Adventure",
                                    "3": "G",
                                    "4": "18098433",
                                    "5": "23801835"
                                },
                                {
                                    "0": "The Pacifier",
                                    "1": "2548-03-04",
                                    "2": "Comedy",
                                    "3": "PG",
                                    "4": "113006880",
                                    "5": "148619029"
                                },
                                {
                                    "0": "Ice Princess",
                                    "1": "2548-03-18",
                                    "2": "Comedy",
                                    "3": "G",
                                    "4": "24381334",
                                    "5": "32064685"
                                },
                                {
                                    "0": "A Lot Like Love",
                                    "1": "2548-04-22",
                                    "2": "Comedy",
                                    "3": "PG-13",
                                    "4": "21835784",
                                    "5": "28716947"
                                },
                                {
                                    "0": "The Hitchhiker's Guide to the Galaxy",
                                    "1": "2548-04-29",
                                    "2": "Comedy",
                                    "3": "PG",
                                    "4": "51019112",
                                    "5": "67096891"
                                },
                                {
                                    "0": "Hauru no ugoku shiro",
                                    "1": "2548-06-10",
                                    "2": "Adventure",
                                    "3": "PG",
                                    "4": "4710455",
                                    "5": "6194870"
                                },
                                {
                                    "0": "Herbie: Fully Loaded",
                                    "1": "2548-06-22",
                                    "2": "Comedy",
                                    "3": "G",
                                    "4": "66010682",
                                    "5": "86812798"
                                },
                                {
                                    "0": "Dark Water",
                                    "1": "2548-07-08",
                                    "2": "Thriller/Suspense",
                                    "3": "PG-13",
                                    "4": "25473093",
                                    "5": "33500491"
                                },
                                {
                                    "0": "Sky High",
                                    "1": "2548-07-29",
                                    "2": "Adventure",
                                    "3": "PG",
                                    "4": "63939454",
                                    "5": "84088854"
                                },
                                {
                                    "0": "Valiant",
                                    "1": "2548-08-19",
                                    "2": "Adventure",
                                    "3": "G",
                                    "4": "19478106",
                                    "5": "25616292"
                                },
                                {
                                    "0": "Flightplan",
                                    "1": "2548-09-23",
                                    "2": "Thriller/Suspense",
                                    "3": "PG-13",
                                    "4": "89706988",
                                    "5": "117960425"
                                },
                                {
                                    "0": "The Greatest Game Ever Played",
                                    "1": "2548-09-30",
                                    "2": "Drama",
                                    "3": "PG",
                                    "4": "15331289",
                                    "5": "20162672"
                                },
                                {
                                    "0": "Shopgirl",
                                    "1": "2548-10-21",
                                    "2": "Drama",
                                    "3": "R",
                                    "4": "10284523",
                                    "5": "13519621"
                                },
                                {
                                    "0": "Chicken Little",
                                    "1": "2548-11-04",
                                    "2": "Adventure",
                                    "3": "G",
                                    "4": "135386665",
                                    "5": "177954661"
                                },
                                {
                                    "0": "The Chronicles of Narnia: The Lion, t…",
                                    "1": "2548-12-09",
                                    "2": "Adventure",
                                    "3": "PG",
                                    "4": "291710957",
                                    "5": "381557539"
                                },
                                {
                                    "0": "Casanova",
                                    "1": "2548-12-25",
                                    "2": "Drama",
                                    "3": "R",
                                    "4": "11304403",
                                    "5": "14574087"
                                },
                                {
                                    "0": "Glory Road",
                                    "1": "2549-01-13",
                                    "2": "Drama",
                                    "3": "PG",
                                    "4": "42647449",
                                    "5": "54888236"
                                },
                                {
                                    "0": "Annapolis",
                                    "1": "2549-01-27",
                                    "2": "Drama",
                                    "3": "PG-13",
                                    "4": "17127992",
                                    "5": "22044113"
                                },
                                {
                                    "0": "Roving Mars",
                                    "1": "2549-01-27",
                                    "2": "Documentary",
                                    "3": "G",
                                    "4": "10407978",
                                    "5": "12948025"
                                },
                                {
                                    "0": "Eight Below",
                                    "1": "2549-02-17",
                                    "2": "Adventure",
                                    "3": "PG",
                                    "4": "81612565",
                                    "5": "105037235"
                                },
                                {
                                    "0": "The Shaggy Dog",
                                    "1": "2549-03-10",
                                    "2": "Comedy",
                                    "3": "PG",
                                    "4": "61123569",
                                    "5": "78667428"
                                },
                                {
                                    "0": "Stay Alive",
                                    "1": "2549-03-24",
                                    "2": "Horror",
                                    "3": "PG-13",
                                    "4": "23086480",
                                    "5": "29712825"
                                },
                                {
                                    "0": "The Wild",
                                    "1": "2549-04-14",
                                    "2": "Adventure",
                                    "3": "G",
                                    "4": "37384046",
                                    "5": "48114115"
                                },
                                {
                                    "0": "Stick It",
                                    "1": "2549-04-28",
                                    "2": "Comedy",
                                    "3": "PG-13",
                                    "4": "26910736",
                                    "5": "34634731"
                                },
                                {
                                    "0": "Goal! The Dream Begins",
                                    "1": "2549-05-12",
                                    "2": "Drama",
                                    "3": "PG",
                                    "4": "4283255",
                                    "5": "5512647"
                                },
                                {
                                    "0": "Cars",
                                    "1": "2549-06-09",
                                    "2": "Comedy",
                                    "3": "G",
                                    "4": "244082982",
                                    "5": "314140384"
                                },
                                {
                                    "0": "Pirates of the Caribbean: Dead Man’…",
                                    "1": "2549-07-07",
                                    "2": "Adventure",
                                    "3": "PG-13",
                                    "4": "423315812",
                                    "5": "544817142"
                                },
                                {
                                    "0": "Step Up",
                                    "1": "2549-08-11",
                                    "2": "Drama",
                                    "3": "PG-13",
                                    "4": "65328121",
                                    "5": "84078780"
                                },
                                {
                                    "0": "Invincible",
                                    "1": "2549-08-25",
                                    "2": "Drama",
                                    "3": "PG",
                                    "4": "57806952",
                                    "5": "74398864"
                                },
                                {
                                    "0": "The Guardian",
                                    "1": "2549-09-29",
                                    "2": "Action",
                                    "3": "PG-13",
                                    "4": "55011732",
                                    "5": "70801353"
                                },
                                {
                                    "0": "The Prestige",
                                    "1": "2549-10-20",
                                    "2": "Thriller/Suspense",
                                    "3": "PG-13",
                                    "4": "53089891",
                                    "5": "68289913"
                                },
                                {
                                    "0": "Tim Burton's The Nightmare Before Chr…",
                                    "1": "2549-10-20",
                                    "2": "Musical",
                                    "3": "PG",
                                    "4": "24732041",
                                    "5": "30737517"
                                },
                                {
                                    "0": "The Santa Clause 3: The Escape Clause",
                                    "1": "2549-11-03",
                                    "2": "Comedy",
                                    "3": "G",
                                    "4": "84500122",
                                    "5": "108694869"
                                },
                                {
                                    "0": "Déjà Vu",
                                    "1": "2549-11-22",
                                    "2": "Thriller/Suspense",
                                    "3": "PG-13",
                                    "4": "64038616",
                                    "5": "82267038"
                                },
                                {
                                    "0": "Apocalypto",
                                    "1": "2549-12-08",
                                    "2": "Adventure",
                                    "3": "R",
                                    "4": "50866635",
                                    "5": "64959548"
                                },
                                {
                                    "0": "Primeval",
                                    "1": "2550-01-12",
                                    "2": "Adventure",
                                    "3": "R",
                                    "4": "10597734",
                                    "5": "12985302"
                                },
                                {
                                    "0": "Bridge to Terabithia",
                                    "1": "2550-02-16",
                                    "2": "Drama",
                                    "3": "PG",
                                    "4": "82234139",
                                    "5": "100760721"
                                },
                                {
                                    "0": "Wild Hogs",
                                    "1": "2550-03-02",
                                    "2": "Comedy",
                                    "3": "PG-13",
                                    "4": "168213584",
                                    "5": "206110533"
                                },
                                {
                                    "0": "Meet the Robinsons",
                                    "1": "2550-03-30",
                                    "2": "Adventure",
                                    "3": "G",
                                    "4": "97822171",
                                    "5": "119860589"
                                },
                                {
                                    "0": "The Lookout",
                                    "1": "2550-03-30",
                                    "2": "Drama",
                                    "3": "R",
                                    "4": "4600585",
                                    "5": "5637048"
                                },
                                {
                                    "0": "The Hoax",
                                    "1": "2550-04-06",
                                    "2": "Drama",
                                    "3": "R",
                                    "4": "7164995",
                                    "5": "8779196"
                                },
                                {
                                    "0": "The Invisible",
                                    "1": "2550-04-27",
                                    "2": "Thriller/Suspense",
                                    "3": "PG-13",
                                    "4": "20568319",
                                    "5": "25202168"
                                },
                                {
                                    "0": "Pirates of the Caribbean: At World’…",
                                    "1": "2550-05-24",
                                    "2": "Adventure",
                                    "3": "PG-13",
                                    "4": "309420425",
                                    "5": "379129960"
                                },
                                {
                                    "0": "Ratatouille",
                                    "1": "2550-06-29",
                                    "2": "Comedy",
                                    "3": "G",
                                    "4": "206445654",
                                    "5": "252955933"
                                },
                                {
                                    "0": "Underdog",
                                    "1": "2550-08-03",
                                    "2": "Adventure",
                                    "3": "PG",
                                    "4": "43760605",
                                    "5": "53619462"
                                },
                                {
                                    "0": "The Game Plan",
                                    "1": "2550-09-22",
                                    "2": "Comedy",
                                    "3": "PG",
                                    "4": "90648202",
                                    "5": "111010758"
                                },
                                {
                                    "0": "Dan in Real Life",
                                    "1": "2550-10-20",
                                    "2": "Romantic Comedy",
                                    "3": "PG-13",
                                    "4": "47642963",
                                    "5": "58350234"
                                },
                                {
                                    "0": "Enchanted",
                                    "1": "2550-11-21",
                                    "2": "Romantic Comedy",
                                    "3": "PG",
                                    "4": "127706877",
                                    "5": "156074310"
                                },
                                {
                                    "0": "National Treasure 2: Book of Secrets",
                                    "1": "2550-12-21",
                                    "2": "Adventure",
                                    "3": "PG",
                                    "4": "219961501",
                                    "5": "267003525"
                                },
                                {
                                    "0": "Hannah Montana/Miley Cyrus: Best of B…",
                                    "1": "2551-02-01",
                                    "2": "Concert/Performance",
                                    "3": "G",
                                    "4": "65281781",
                                    "5": "76646993"
                                },
                                {
                                    "0": "Step Up 2 the Streets",
                                    "1": "2551-02-14",
                                    "2": "Drama",
                                    "3": "PG-13",
                                    "4": "58017783",
                                    "5": "68118371"
                                },
                                {
                                    "0": "College Road Trip",
                                    "1": "2551-03-07",
                                    "2": "Comedy",
                                    "3": "G",
                                    "4": "45610425",
                                    "5": "53550960"
                                },
                                {
                                    "0": "The Chronicles of Narnia: Prince Caspian",
                                    "1": "2551-05-16",
                                    "2": "Adventure",
                                    "3": "PG",
                                    "4": "141621490",
                                    "5": "166277038"
                                },
                                {
                                    "0": "WALL-E",
                                    "1": "2551-06-27",
                                    "2": "Adventure",
                                    "3": "G",
                                    "4": "223808164",
                                    "5": "262771918"
                                },
                                {
                                    "0": "Swing Vote",
                                    "1": "2551-08-01",
                                    "2": "Comedy",
                                    "3": "PG-13",
                                    "4": "16289867",
                                    "5": "19125841"
                                },
                                {
                                    "0": "Goal! 2: Living the Dream...",
                                    "1": "2551-08-29",
                                    "2": "Drama",
                                    "3": "PG-13",
                                    "4": "225067",
                                    "5": "264247"
                                },
                                {
                                    "0": "Miracle at St. Anna",
                                    "1": "2551-09-26",
                                    "2": "Drama",
                                    "3": "R",
                                    "4": "7916887",
                                    "5": "9295171"
                                },
                                {
                                    "0": "Beverly Hills Chihuahua",
                                    "1": "2551-10-03",
                                    "2": "Comedy",
                                    "3": "PG",
                                    "4": "94514402",
                                    "5": "110932022"
                                },
                                {
                                    "0": "Morning Light",
                                    "1": "2551-10-17",
                                    "2": "Documentary",
                                    "3": "PG",
                                    "4": "275093",
                                    "5": "322979"
                                },
                                {
                                    "0": "High School Musical 3: Senior Year",
                                    "1": "2551-10-24",
                                    "2": "Musical",
                                    "3": "G",
                                    "4": "90559416",
                                    "5": "106308538"
                                },
                                {
                                    "0": "Bolt",
                                    "1": "2551-11-21",
                                    "2": "Comedy",
                                    "3": "PG",
                                    "4": "114053759",
                                    "5": "133702498"
                                },
                                {
                                    "0": "Bedtime Stories",
                                    "1": "2551-12-25",
                                    "2": "Comedy",
                                    "3": "PG",
                                    "4": "110101975",
                                    "5": "128039679"
                                },
                                {
                                    "0": "Confessions of a Shopaholic",
                                    "1": "2552-02-13",
                                    "2": "Romantic Comedy",
                                    "3": "PG",
                                    "4": "44277350",
                                    "5": "49767744"
                                },
                                {
                                    "0": "Jonas Brothers: The 3D Concert Experi…",
                                    "1": "2552-02-27",
                                    "2": "Concert/Performance",
                                    "3": "G",
                                    "4": "38174685",
                                    "5": "38174685"
                                },
                                {
                                    "0": "Race to Witch Mountain",
                                    "1": "2552-03-13",
                                    "2": "Adventure",
                                    "3": "PG",
                                    "4": "67172594",
                                    "5": "75501997"
                                },
                                {
                                    "0": "Hannah Montana the Movie",
                                    "1": "2552-04-10",
                                    "2": "Drama",
                                    "3": "G",
                                    "4": "79576189",
                                    "5": "89443640"
                                },
                                {
                                    "0": "Earth",
                                    "1": "2552-04-22",
                                    "2": "Documentary",
                                    "3": "G",
                                    "4": "32011576",
                                    "5": "35981010"
                                },
                                {
                                    "0": "Up",
                                    "1": "2552-05-29",
                                    "2": "Adventure",
                                    "3": "PG",
                                    "4": "293004164",
                                    "5": "329336681"
                                },
                                {
                                    "0": "The Proposal",
                                    "1": "2552-06-19",
                                    "2": "Romantic Comedy",
                                    "3": "PG-13",
                                    "4": "163958031",
                                    "5": "184288829"
                                },
                                {
                                    "0": "G-Force",
                                    "1": "2552-07-24",
                                    "2": "Adventure",
                                    "3": "PG",
                                    "4": "119436770",
                                    "5": "134246932"
                                },
                                {
                                    "0": "Gake no ue no Ponyo",
                                    "1": "2552-08-14",
                                    "2": "Adventure",
                                    "3": "G",
                                    "4": "15090399",
                                    "5": "16961607"
                                },
                                {
                                    "0": "X Games 3D: The Movie",
                                    "1": "2552-08-21",
                                    "2": "Documentary",
                                    "3": "PG",
                                    "4": "1391434",
                                    "5": "1563976"
                                },
                                {
                                    "0": "Walt and El Grupo",
                                    "1": "2552-09-10",
                                    "2": "Documentary",
                                    "3": "PG",
                                    "4": "20521",
                                    "5": "23064"
                                },
                                {
                                    "0": "Surrogates",
                                    "1": "2552-09-25",
                                    "2": "Action",
                                    "3": "PG-13",
                                    "4": "38577772",
                                    "5": "43361416"
                                },
                                {
                                    "0": "Toy Story 3D Double Feature",
                                    "1": "2552-10-02",
                                    "2": "Adventure",
                                    "3": "G",
                                    "4": "30702446",
                                    "5": "34509545"
                                },
                                {
                                    "0": "Disney's A Christmas Carol",
                                    "1": "2552-11-06",
                                    "2": "Drama",
                                    "3": "PG",
                                    "4": "137855863",
                                    "5": "154927105"
                                },
                                {
                                    "0": "The Princess and the Frog",
                                    "1": "2552-11-25",
                                    "2": "Adventure",
                                    "3": "G",
                                    "4": "104400899",
                                    "5": "116316457"
                                },
                                {
                                    "0": "Old Dogs",
                                    "1": "2552-11-25",
                                    "2": "Comedy",
                                    "3": "PG",
                                    "4": "49492060",
                                    "5": "55503929"
                                },
                                {
                                    "0": "When in Rome",
                                    "1": "2553-01-29",
                                    "2": "Romantic Comedy",
                                    "3": "PG-13",
                                    "4": "32680633",
                                    "5": "34917330"
                                },
                                {
                                    "0": "Alice in Wonderland",
                                    "1": "2553-03-05",
                                    "2": "Adventure",
                                    "3": "PG",
                                    "4": "334191110",
                                    "5": "357063499"
                                },
                                {
                                    "0": "Waking Sleeping Beauty",
                                    "1": "2553-03-26",
                                    "2": "Documentary",
                                    "3": "PG",
                                    "4": "80741",
                                    "5": "86264"
                                },
                                {
                                    "0": "The Last Song",
                                    "1": "2553-03-31",
                                    "2": "Drama",
                                    "3": "PG",
                                    "4": "62950384",
                                    "5": "67258772"
                                },
                                {
                                    "0": "Oceans",
                                    "1": "2553-04-22",
                                    "2": "Documentary",
                                    "3": "G",
                                    "4": "19422319",
                                    "5": "20751600"
                                },
                                {
                                    "0": "Prince of Persia: Sands of Time",
                                    "1": "2553-05-28",
                                    "2": "Action",
                                    "3": "PG-13",
                                    "4": "90759676",
                                    "5": "96971361"
                                },
                                {
                                    "0": "Toy Story 3",
                                    "1": "2553-06-18",
                                    "2": "Adventure",
                                    "3": "G",
                                    "4": "415004880",
                                    "5": "443408255"
                                },
                                {
                                    "0": "The Sorcerer's Apprentice",
                                    "1": "2553-07-14",
                                    "2": "Adventure",
                                    "3": "PG",
                                    "4": "63150991",
                                    "5": "67473105"
                                },
                                {
                                    "0": "Step Up 3D",
                                    "1": "2553-08-06",
                                    "2": "Drama",
                                    "3": "PG-13",
                                    "4": "42400223",
                                    "5": "45302137"
                                },
                                {
                                    "0": "Gedo Senki (Tales from Earthsea)",
                                    "1": "2553-08-13",
                                    "2": "Adventure",
                                    "3": "PG-13",
                                    "4": "48658",
                                    "5": "51988"
                                },
                                {
                                    "0": "You Again",
                                    "1": "2553-09-24",
                                    "2": "Comedy",
                                    "3": "PG",
                                    "4": "25702053",
                                    "5": "27461121"
                                },
                                {
                                    "0": "Secretariat",
                                    "1": "2553-10-08",
                                    "2": "Drama",
                                    "3": "PG",
                                    "4": "59699513",
                                    "5": "63781920"
                                },
                                {
                                    "0": "Tangled",
                                    "1": "2553-11-24",
                                    "2": "Adventure",
                                    "3": "PG",
                                    "4": "200821936",
                                    "5": "214388548"
                                },
                                {
                                    "0": "Tron: Legacy",
                                    "1": "2553-12-17",
                                    "2": "Adventure",
                                    "3": "PG",
                                    "4": "172062763",
                                    "5": "183619259"
                                },
                                {
                                    "0": "Gnomeo and Juliet",
                                    "1": "2554-02-11",
                                    "2": "Comedy",
                                    "3": "G",
                                    "4": "99967670",
                                    "5": "106270797"
                                },
                                {
                                    "0": "I am Number Four",
                                    "1": "2554-02-18",
                                    "2": "Adventure",
                                    "3": "PG-13",
                                    "4": "55100437",
                                    "5": "58574607"
                                },
                                {
                                    "0": "Mars Needs Moms",
                                    "1": "2554-03-11",
                                    "2": "Adventure",
                                    "3": "PG",
                                    "4": "21392758",
                                    "5": "22741603"
                                },
                                {
                                    "0": "African Cats",
                                    "1": "2554-04-22",
                                    "2": "Documentary",
                                    "3": "G",
                                    "4": "15428747",
                                    "5": "16401551"
                                },
                                {
                                    "0": "Zokkomon",
                                    "1": "2554-04-22",
                                    "2": "Adventure",
                                    "3": "PG",
                                    "4": "2815",
                                    "5": "2984"
                                },
                                {
                                    "0": "Prom",
                                    "1": "2554-04-29",
                                    "2": "Comedy",
                                    "3": "PG",
                                    "4": "10130219",
                                    "5": "10768946"
                                },
                                {
                                    "0": "Pirates of the Caribbean: On Stranger…",
                                    "1": "2554-05-20",
                                    "2": "Adventure",
                                    "3": "PG-13",
                                    "4": "241063875",
                                    "5": "256263359"
                                },
                                {
                                    "0": "Cars 2",
                                    "1": "2554-06-24",
                                    "2": "Adventure",
                                    "3": "G",
                                    "4": "191450875",
                                    "5": "203522177"
                                },
                                {
                                    "0": "Winnie the Pooh",
                                    "1": "2554-07-15",
                                    "2": "Adventure",
                                    "3": "G",
                                    "4": "26692846",
                                    "5": "28375869"
                                },
                                {
                                    "0": "The Help",
                                    "1": "2554-08-10",
                                    "2": "Drama",
                                    "3": "PG-13",
                                    "4": "169705587",
                                    "5": "180404976"
                                },
                                {
                                    "0": "Fright Night",
                                    "1": "2554-08-19",
                                    "2": "Horror",
                                    "3": "R",
                                    "4": "18298649",
                                    "5": "19452402"
                                },
                                {
                                    "0": "Real Steel",
                                    "1": "2554-10-07",
                                    "2": "Action",
                                    "3": "PG-13",
                                    "4": "85463309",
                                    "5": "90848019"
                                },
                                {
                                    "0": "The Muppets",
                                    "1": "2554-11-23",
                                    "2": "Comedy",
                                    "3": "PG",
                                    "4": "88625922",
                                    "5": "94189503"
                                },
                                {
                                    "0": "War Horse",
                                    "1": "2554-12-25",
                                    "2": "Drama",
                                    "3": "PG-13",
                                    "4": "79883359",
                                    "5": "84762149"
                                },
                                {
                                    "0": "The Secret World of Arietty",
                                    "1": "2555-02-17",
                                    "2": "Adventure",
                                    "3": "G",
                                    "4": "19192510",
                                    "5": "20325733"
                                },
                                {
                                    "0": "John Carter",
                                    "1": "2555-03-09",
                                    "2": "Adventure",
                                    "3": "PG-13",
                                    "4": "73058679",
                                    "5": "77372445"
                                },
                                {
                                    "0": "Chimpanzee",
                                    "1": "2555-04-20",
                                    "2": "Documentary",
                                    "3": "G",
                                    "4": "28965459",
                                    "5": "30675725"
                                },
                                {
                                    "0": "The Avengers",
                                    "1": "2555-05-04",
                                    "2": "Action",
                                    "3": "PG-13",
                                    "4": "623279547",
                                    "5": "660081224"
                                },
                                {
                                    "0": "Brave",
                                    "1": "2555-06-22",
                                    "2": "Adventure",
                                    "3": "PG",
                                    "4": "237282182",
                                    "5": "251292441"
                                },
                                {
                                    "0": "People Like Us",
                                    "1": "2555-06-29",
                                    "2": "Drama",
                                    "3": "PG-13",
                                    "4": "12431792",
                                    "5": "13165822"
                                },
                                {
                                    "0": "The Odd Life of Timothy Green",
                                    "1": "2555-08-15",
                                    "2": "Drama",
                                    "3": "PG",
                                    "4": "51853450",
                                    "5": "54914942"
                                },
                                {
                                    "0": "Frankenweenie",
                                    "1": "2555-10-05",
                                    "2": "Comedy",
                                    "3": "PG",
                                    "4": "35287788",
                                    "5": "37363513"
                                },
                                {
                                    "0": "Wreck-It Ralph",
                                    "1": "2555-11-02",
                                    "2": "Adventure",
                                    "3": "PG",
                                    "4": "189412677",
                                    "5": "200354959"
                                },
                                {
                                    "0": "Lincoln",
                                    "1": "2555-11-09",
                                    "2": "Drama",
                                    "3": "PG-13",
                                    "4": "182207973",
                                    "5": "192122330"
                                },
                                {
                                    "0": "Oz the Great and Powerful",
                                    "1": "2556-03-08",
                                    "2": "Adventure",
                                    "3": "PG",
                                    "4": "234770996",
                                    "5": "243434130"
                                },
                                {
                                    "0": "Iron Man 3",
                                    "1": "2556-05-03",
                                    "2": "Action",
                                    "3": "PG-13",
                                    "4": "408992272",
                                    "5": "424084233"
                                },
                                {
                                    "0": "Monsters University",
                                    "1": "2556-06-21",
                                    "2": "Adventure",
                                    "3": "G",
                                    "4": "268488329",
                                    "5": "278395641"
                                },
                                {
                                    "0": "The Lone Ranger",
                                    "1": "2556-07-02",
                                    "2": "Western",
                                    "3": "PG-13",
                                    "4": "89302115",
                                    "5": "92597388"
                                },
                                {
                                    "0": "Disney Planes",
                                    "1": "2556-08-09",
                                    "2": "Comedy",
                                    "3": "PG",
                                    "4": "90282580",
                                    "5": "93614037"
                                },
                                {
                                    "0": "The Fifth Estate",
                                    "1": "2556-10-18",
                                    "2": "Drama",
                                    "3": "R",
                                    "4": "3254172",
                                    "5": "3374251"
                                },
                                {
                                    "0": "Thor: The Dark World",
                                    "1": "2556-11-08",
                                    "2": "Adventure",
                                    "3": "PG-13",
                                    "4": "206362140",
                                    "5": "213962184"
                                },
                                {
                                    "0": "Kaze Tachinu",
                                    "1": "2556-11-08",
                                    "2": "Drama",
                                    "3": "PG-13",
                                    "4": "5201879",
                                    "5": "5367415"
                                },
                                {
                                    "0": "Frozen",
                                    "1": "2556-11-22",
                                    "2": "Adventure",
                                    "3": "PG",
                                    "4": "400738009",
                                    "5": "414997174"
                                },
                                {
                                    "0": "Delivery Man",
                                    "1": "2556-11-22",
                                    "2": "Comedy",
                                    "3": "PG-13",
                                    "4": "30659817",
                                    "5": "31787136"
                                },
                                {
                                    "0": "Saving Mr. Banks",
                                    "1": "2556-12-13",
                                    "2": "Drama",
                                    "3": "PG-13",
                                    "4": "83299761",
                                    "5": "86249969"
                                },
                                {
                                    "0": "Need for Speed",
                                    "1": "2557-03-14",
                                    "2": "Action",
                                    "3": "PG-13",
                                    "4": "43568507",
                                    "5": "44955015"
                                },
                                {
                                    "0": "Muppets Most Wanted",
                                    "1": "2557-03-21",
                                    "2": "Comedy",
                                    "3": "PG",
                                    "4": "51178893",
                                    "5": "52807594"
                                },
                                {
                                    "0": "Captain America: The Winter Soldier",
                                    "1": "2557-04-04",
                                    "2": "Action",
                                    "3": "PG-13",
                                    "4": "259746958",
                                    "5": "268013076"
                                },
                                {
                                    "0": "Bears",
                                    "1": "2557-04-18",
                                    "2": "Documentary",
                                    "3": "G",
                                    "4": "17780194",
                                    "5": "18346024"
                                },
                                {
                                    "0": "Million Dollar Arm",
                                    "1": "2557-05-10",
                                    "2": "Drama",
                                    "3": "PG",
                                    "4": "36447959",
                                    "5": "37607865"
                                },
                                {
                                    "0": "Maleficent",
                                    "1": "2557-05-30",
                                    "2": "Adventure",
                                    "3": "PG",
                                    "4": "241407328",
                                    "5": "249089809"
                                },
                                {
                                    "0": "Planes: Fire and Rescue",
                                    "1": "2557-07-18",
                                    "2": "Adventure",
                                    "3": "PG",
                                    "4": "59157732",
                                    "5": "61040349"
                                },
                                {
                                    "0": "Guardians of the Galaxy",
                                    "1": "2557-08-01",
                                    "2": "Adventure",
                                    "3": "PG-13",
                                    "4": "333172112",
                                    "5": "343771168"
                                },
                                {
                                    "0": "The Hundred-Foot Journey",
                                    "1": "2557-08-08",
                                    "2": "Romantic Comedy",
                                    "3": "PG",
                                    "4": "54235441",
                                    "5": "55961409"
                                },
                                {
                                    "0": "Alexander and the Terrible, Horrible,…",
                                    "1": "2557-10-10",
                                    "2": "Comedy",
                                    "3": "PG",
                                    "4": "66954149",
                                    "5": "69055550"
                                },
                                {
                                    "0": "Big Hero 6",
                                    "1": "2557-11-07",
                                    "2": "Adventure",
                                    "3": "PG",
                                    "4": "222527828",
                                    "5": "229249222"
                                },
                                {
                                    "0": "Into the Woods",
                                    "1": "2557-12-25",
                                    "2": "Musical",
                                    "3": "PG",
                                    "4": "128002372",
                                    "5": "130894237"
                                },
                                {
                                    "0": "Strange Magic",
                                    "1": "2558-01-23",
                                    "2": "Adventure",
                                    "3": "PG",
                                    "4": "12429583",
                                    "5": "12429583"
                                },
                                {
                                    "0": "McFarland, USA",
                                    "1": "2558-02-20",
                                    "2": "Drama",
                                    "3": "PG",
                                    "4": "44480275",
                                    "5": "44480275"
                                },
                                {
                                    "0": "Cinderella",
                                    "1": "2558-03-13",
                                    "2": "Drama",
                                    "3": "PG",
                                    "4": "201151353",
                                    "5": "201151353"
                                },
                                {
                                    "0": "Monkey Kingdom",
                                    "1": "2558-04-17",
                                    "2": "Documentary",
                                    "3": "G",
                                    "4": "16432322",
                                    "5": "16432322"
                                },
                                {
                                    "0": "Avengers: Age of Ultron",
                                    "1": "2558-05-01",
                                    "2": "Action",
                                    "3": "PG-13",
                                    "4": "459005868",
                                    "5": "459005868"
                                },
                                {
                                    "0": "Tomorrowland",
                                    "1": "2558-05-22",
                                    "2": "Adventure",
                                    "3": "PG",
                                    "4": "93436322",
                                    "5": "93436322"
                                },
                                {
                                    "0": "Inside Out",
                                    "1": "2558-06-19",
                                    "2": "Adventure",
                                    "3": "PG",
                                    "4": "356461711",
                                    "5": "356461711"
                                },
                                {
                                    "0": "Ant-Man",
                                    "1": "2558-07-17",
                                    "2": "Action",
                                    "3": "PG-13",
                                    "4": "180202163",
                                    "5": "180202163"
                                },
                                {
                                    "0": "Bridge of Spies",
                                    "1": "2558-10-16",
                                    "2": "Thriller/Suspense",
                                    "3": "PG-13",
                                    "4": "72313754",
                                    "5": "72313754"
                                },
                                {
                                    "0": "The Good Dinosaur",
                                    "1": "2558-11-25",
                                    "2": "Adventure",
                                    "3": "PG",
                                    "4": "123087120",
                                    "5": "123087120"
                                },
                                {
                                    "0": "Star Wars Ep. VII: The Force Awakens",
                                    "1": "2558-12-18",
                                    "2": "Adventure",
                                    "3": "PG-13",
                                    "4": "936662225",
                                    "5": "936662225"
                                },
                                {
                                    "0": "The Finest Hours",
                                    "1": "2559-01-29",
                                    "2": "Thriller/Suspense",
                                    "3": "PG",
                                    "4": "27569558",
                                    "5": "27569558"
                                },
                                {
                                    "0": "Zootopia",
                                    "1": "2559-03-04",
                                    "2": "Adventure",
                                    "3": "PG",
                                    "4": "341268248",
                                    "5": "341268248"
                                },
                                {
                                    "0": "The Jungle Book",
                                    "1": "2559-04-15",
                                    "2": "Adventure",
                                    "3": "PG",
                                    "4": "364001123",
                                    "5": "364001123"
                                },
                                {
                                    "0": "A Beautiful Planet",
                                    "1": "2559-04-29",
                                    "2": "Documentary",
                                    "3": "G",
                                    "4": "7895708",
                                    "5": "7895708"
                                },
                                {
                                    "0": "Captain America: Civil War",
                                    "1": "2559-05-06",
                                    "2": "Action",
                                    "3": "PG-13",
                                    "4": "408084349",
                                    "5": "408084349"
                                },
                                {
                                    "0": "Alice Through the Looking Glass",
                                    "1": "2559-05-27",
                                    "2": "Adventure",
                                    "3": "PG",
                                    "4": "77042381",
                                    "5": "77042381"
                                },
                                {
                                    "0": "Finding Dory",
                                    "1": "2559-06-17",
                                    "2": "Adventure",
                                    "3": "PG",
                                    "4": "486295561",
                                    "5": "486295561"
                                },
                                {
                                    "0": "The BFG",
                                    "1": "2559-07-01",
                                    "2": "Adventure",
                                    "3": "PG",
                                    "4": "55483770",
                                    "5": "55483770"
                                },
                                {
                                    "0": "Pete’s Dragon",
                                    "1": "2559-08-12",
                                    "2": "Adventure",
                                    "3": "PG",
                                    "4": "76233151",
                                    "5": "76233151"
                                },
                                {
                                    "0": "The Light Between Oceans",
                                    "1": "2559-09-02",
                                    "2": "Drama",
                                    "3": "PG-13",
                                    "4": "12545979",
                                    "5": "12545979"
                                },
                                {
                                    "0": "Queen of Katwe",
                                    "1": "2559-09-23",
                                    "2": "Drama",
                                    "3": "PG",
                                    "4": "8874389",
                                    "5": "8874389"
                                },
                                {
                                    "0": "Doctor Strange",
                                    "1": "2559-11-04",
                                    "2": "Adventure",
                                    "3": "PG-13",
                                    "4": "232532923",
                                    "5": "232532923"
                                },
                                {
                                    "0": "Moana",
                                    "1": "2559-11-23",
                                    "2": "Adventure",
                                    "3": "PG",
                                    "4": "246082029",
                                    "5": "246082029"
                                },
                                {
                                    "0": "Rogue One: A Star Wars Story",
                                    "1": "2559-12-16",
                                    "2": "Adventure",
                                    "3": "PG-13",
                                    "4": "529483936",
                                    "5": "529483936"
                                }
                            ]
                        },
                        "text/html": [
                            "<table>",
                            "<tr><th>movie_title</th><th>release_date</th><th>genre</th><th>mpaa_rating</th><th>total_gross</th><th>inflation_adjusted_gross</th></tr>",
                            "<tr><td>Snow White and the Seven Dwarfs</td><td>2480-12-21</td><td>Musical</td><td>G</td><td>184925485</td><td>5228953251</td></tr>",
                            "<tr><td>Pinocchio</td><td>2483-02-09</td><td>Adventure</td><td>G</td><td>84300000</td><td>2188229052</td></tr>",
                            "<tr><td>Fantasia</td><td>2483-11-13</td><td>Musical</td><td>G</td><td>83320000</td><td>2187090808</td></tr>",
                            "<tr><td>Song of the South</td><td>2489-11-12</td><td>Adventure</td><td>G</td><td>65000000</td><td>1078510579</td></tr>",
                            "<tr><td>Cinderella</td><td>2493-02-15</td><td>Drama</td><td>G</td><td>85000000</td><td>920608730</td></tr>",
                            "<tr><td>20,000 Leagues Under the Sea</td><td>2497-12-23</td><td>Adventure</td><td>NULL</td><td>28200000</td><td>528279994</td></tr>",
                            "<tr><td>Lady and the Tramp</td><td>2498-06-22</td><td>Drama</td><td>G</td><td>93600000</td><td>1236035515</td></tr>",
                            "<tr><td>Sleeping Beauty</td><td>2502-01-29</td><td>Drama</td><td>NULL</td><td>9464608</td><td>21505832</td></tr>",
                            "<tr><td>101 Dalmatians</td><td>2504-01-25</td><td>Comedy</td><td>G</td><td>153000000</td><td>1362870985</td></tr>",
                            "<tr><td>The Absent Minded Professor</td><td>2504-03-16</td><td>Comedy</td><td>NULL</td><td>25381407</td><td>310094574</td></tr>",
                            "<tr><td>Babes in Toyland</td><td>2504-12-14</td><td>Musical</td><td>G</td><td>10218316</td><td>124841160</td></tr>",
                            "<tr><td>Bon Voyage!</td><td>2505-05-17</td><td>Comedy</td><td>Not Rated</td><td>9230769</td><td>109581646</td></tr>",
                            "<tr><td>The Sword in the Stone</td><td>2506-12-25</td><td>Adventure</td><td>NULL</td><td>22182353</td><td>153870834</td></tr>",
                            "<tr><td>The Jungle Book</td><td>2510-10-18</td><td>Musical</td><td>Not Rated</td><td>141843000</td><td>789612346</td></tr>",
                            "<tr><td>Blackbeard's Ghost</td><td>2511-02-08</td><td>Comedy</td><td>NULL</td><td>21540050</td><td>138612686</td></tr>",
                            "<tr><td>The Aristocats</td><td>2513-04-24</td><td>Musical</td><td>G</td><td>55675257</td><td>255161499</td></tr>",
                            "<tr><td>The Boatniks</td><td>2513-07-01</td><td>Comedy</td><td>NULL</td><td>18607492</td><td>101200742</td></tr>",
                            "<tr><td>Bedknobs and Broomsticks</td><td>2514-10-07</td><td>Musical</td><td>NULL</td><td>17871174</td><td>91305448</td></tr>",
                            "<tr><td>The Apple Dumpling Gang</td><td>2518-07-01</td><td>Comedy</td><td>NULL</td><td>31916500</td><td>131246872</td></tr>",
                            "<tr><td>Freaky Friday</td><td>2520-01-21</td><td>Comedy</td><td>NULL</td><td>25942000</td><td>98067733</td></tr>",
                            "<tr><td>The Many Adventures of Winnie the Pooh</td><td>2520-03-11</td><td>NULL</td><td>NULL</td><td>0</td><td>0</td></tr>",
                            "<tr><td>The Rescuers</td><td>2520-06-22</td><td>Adventure</td><td>NULL</td><td>48775599</td><td>159743914</td></tr>",
                            "<tr><td>Herbie Goes to Monte Carlo</td><td>2520-06-24</td><td>NULL</td><td>NULL</td><td>28000000</td><td>105847527</td></tr>",
                            "<tr><td>The Black Hole</td><td>2522-12-21</td><td>NULL</td><td>NULL</td><td>35841901</td><td>120377374</td></tr>",
                            "<tr><td>Midnight Madness</td><td>2523-02-08</td><td>NULL</td><td>NULL</td><td>2900000</td><td>9088096</td></tr>",
                            "<tr><td>The Last Flight of Noah’s Ark</td><td>2523-06-25</td><td>NULL</td><td>NULL</td><td>11000000</td><td>34472116</td></tr>",
                            "<tr><td>The Devil and Max Devlin</td><td>2524-01-01</td><td>NULL</td><td>NULL</td><td>16000000</td><td>48517980</td></tr>",
                            "<tr><td>Amy</td><td>2524-03-20</td><td>Drama</td><td>NULL</td><td>0</td><td>0</td></tr>",
                            "<tr><td>The Fox and the Hound</td><td>2524-07-10</td><td>Comedy</td><td>NULL</td><td>43899231</td><td>133118889</td></tr>",
                            "<tr><td>Condorman</td><td>2524-08-07</td><td>Action</td><td>NULL</td><td>0</td><td>0</td></tr>",
                            "<tr><td>Night Crossing</td><td>2525-02-05</td><td>Drama</td><td>NULL</td><td>4500000</td><td>12903059</td></tr>",
                            "<tr><td>Tron</td><td>2525-07-09</td><td>Action</td><td>NULL</td><td>26918576</td><td>77184895</td></tr>",
                            "<tr><td>Tex</td><td>2525-11-19</td><td>Drama</td><td>NULL</td><td>7199408</td><td>20643199</td></tr>",
                            "<tr><td>Trenchcoat</td><td>2526-03-11</td><td>Comedy</td><td>NULL</td><td>4304286</td><td>11519089</td></tr>",
                            "<tr><td>Something Wicked This Way Comes</td><td>2526-04-29</td><td>Horror</td><td>NULL</td><td>5656087</td><td>15136765</td></tr>",
                            "<tr><td>Never Cry Wolf</td><td>2526-10-07</td><td>Drama</td><td>NULL</td><td>27668764</td><td>70669955</td></tr>",
                            "<tr><td>Running Brave</td><td>2526-11-04</td><td>Drama</td><td>NULL</td><td>1204595</td><td>3223725</td></tr>",
                            "<tr><td>Splash</td><td>2527-03-09</td><td>Comedy</td><td>PG</td><td>62599495</td><td>157057661</td></tr>",
                            "<tr><td>Country</td><td>2527-09-29</td><td>Drama</td><td>NULL</td><td>8400000</td><td>21075000</td></tr>",
                            "<tr><td>Baby: Secret of the Lost Legend</td><td>2528-03-22</td><td>Adventure</td><td>NULL</td><td>14276095</td><td>33900697</td></tr>",
                            "<tr><td>Return to Oz</td><td>2528-06-21</td><td>Adventure</td><td>NULL</td><td>10618813</td><td>25215934</td></tr>",
                            "<tr><td>The Black Cauldron</td><td>2528-07-24</td><td>Adventure</td><td>NULL</td><td>21288692</td><td>50553142</td></tr>",
                            "<tr><td>My Science Project</td><td>2528-08-09</td><td>Comedy</td><td>NULL</td><td>4100000</td><td>9736051</td></tr>",
                            "<tr><td>The Journey of Natty Gann</td><td>2528-09-27</td><td>Drama</td><td>NULL</td><td>9468512</td><td>22302956</td></tr>",
                            "<tr><td>One Magic Christmas</td><td>2528-11-22</td><td>Drama</td><td>NULL</td><td>13229514</td><td>31415432</td></tr>",
                            "<tr><td>Down and Out in Beverly Hills</td><td>2529-01-31</td><td>Comedy</td><td>R</td><td>62134225</td><td>141183693</td></tr>",
                            "<tr><td>Off Beat</td><td>2529-04-11</td><td>Comedy</td><td>NULL</td><td>4842778</td><td>11003932</td></tr>",
                            "<tr><td>Ruthless People</td><td>2529-06-27</td><td>Comedy</td><td>R</td><td>71624879</td><td>162748712</td></tr>",
                            "<tr><td>The Great Mouse Detective</td><td>2529-07-02</td><td>Adventure</td><td>NULL</td><td>23605534</td><td>53637367</td></tr>",
                            "<tr><td>Flight of the Navigator</td><td>2529-07-30</td><td>Adventure</td><td>NULL</td><td>18564613</td><td>42183197</td></tr>",
                            "<tr><td>Tough Guys</td><td>2529-10-03</td><td>Comedy</td><td>NULL</td><td>21458229</td><td>48758184</td></tr>",
                            "<tr><td>The Color of Money</td><td>2529-10-17</td><td>Drama</td><td>R</td><td>52293000</td><td>117957323</td></tr>",
                            "<tr><td>Outrageous Fortune</td><td>2530-01-30</td><td>Comedy</td><td>R</td><td>52864741</td><td>113976921</td></tr>",
                            "<tr><td>Tin Men</td><td>2530-03-06</td><td>Comedy</td><td>NULL</td><td>25411386</td><td>54787202</td></tr>",
                            "<tr><td>Ernest Goes to Camp</td><td>2530-05-22</td><td>Comedy</td><td>NULL</td><td>23509382</td><td>50686462</td></tr>",
                            "<tr><td>Benji the Hunted</td><td>2530-06-05</td><td>Adventure</td><td>NULL</td><td>15212539</td><td>32798382</td></tr>",
                            "<tr><td>Adventures in Babysitting</td><td>2530-07-03</td><td>Comedy</td><td>NULL</td><td>33790923</td><td>72853569</td></tr>",
                            "<tr><td>Stakeout</td><td>2530-08-05</td><td>Comedy</td><td>R</td><td>65673233</td><td>141592160</td></tr>",
                            "<tr><td>Can't Buy Me Love</td><td>2530-08-14</td><td>Romantic Comedy</td><td>NULL</td><td>31623833</td><td>68181300</td></tr>",
                            "<tr><td>Hello Again</td><td>2530-11-06</td><td>Comedy</td><td>NULL</td><td>20419446</td><td>44024529</td></tr>",
                            "<tr><td>3 Men and a Baby</td><td>2530-11-25</td><td>Comedy</td><td>PG</td><td>167780960</td><td>353334607</td></tr>",
                            "<tr><td>Good Morning Vietnam</td><td>2530-12-23</td><td>Comedy</td><td>R</td><td>123922370</td><td>254414837</td></tr>",
                            "<tr><td>Shoot to Kill</td><td>2531-02-12</td><td>Action</td><td>NULL</td><td>29300000</td><td>60097074</td></tr>",
                            "<tr><td>D.O.A.</td><td>2531-03-18</td><td>Thriller/Suspense</td><td>NULL</td><td>12706478</td><td>26062188</td></tr>",
                            "<tr><td>Return to Snowy River</td><td>2531-04-15</td><td>Adventure</td><td>PG</td><td>13687027</td><td>28073384</td></tr>",
                            "<tr><td>Big Business</td><td>2531-06-10</td><td>Comedy</td><td>PG</td><td>40150487</td><td>82352451</td></tr>",
                            "<tr><td>Who Framed Roger Rabbit?</td><td>2531-06-22</td><td>Comedy</td><td>PG</td><td>154112492</td><td>316250084</td></tr>",
                            "<tr><td>Cocktail</td><td>2531-07-29</td><td>Drama</td><td>R</td><td>78222753</td><td>160442289</td></tr>",
                            "<tr><td>The Rescue</td><td>2531-08-05</td><td>Action</td><td>NULL</td><td>5855392</td><td>12009960</td></tr>",
                            "<tr><td>Heartbreak Hotel</td><td>2531-09-30</td><td>Comedy</td><td>NULL</td><td>5509417</td><td>11300331</td></tr>",
                            "<tr><td>The Good Mother</td><td>2531-11-04</td><td>Drama</td><td>NULL</td><td>4764606</td><td>9772655</td></tr>",
                            "<tr><td>Ernest Saves Christmas</td><td>2531-11-11</td><td>Comedy</td><td>PG</td><td>28202109</td><td>57845202</td></tr>",
                            "<tr><td>Oliver &amp; Company</td><td>2531-11-18</td><td>Adventure</td><td>G</td><td>49576671</td><td>102254492</td></tr>",
                            "<tr><td>Beaches</td><td>2531-12-21</td><td>Drama</td><td>PG-13</td><td>57041866</td><td>120381757</td></tr>",
                            "<tr><td>Three Fugitives</td><td>2532-01-27</td><td>Comedy</td><td>PG-13</td><td>40590000</td><td>85757817</td></tr>",
                            "<tr><td>New York Stories</td><td>2532-03-01</td><td>Drama</td><td>PG</td><td>10763469</td><td>22740861</td></tr>",
                            "<tr><td>Disorganized Crime</td><td>2532-04-14</td><td>Comedy</td><td>NULL</td><td>7210149</td><td>15233465</td></tr>",
                            "<tr><td>Dead Poets Society</td><td>2532-06-02</td><td>Drama</td><td>PG</td><td>95860116</td><td>202531517</td></tr>",
                            "<tr><td>Honey, I Shrunk the Kids</td><td>2532-06-23</td><td>Adventure</td><td>PG</td><td>130724172</td><td>276191669</td></tr>",
                            "<tr><td>Turner &amp; Hooch</td><td>2532-07-28</td><td>Comedy</td><td>PG</td><td>71079915</td><td>150176361</td></tr>",
                            "<tr><td>Cheetah</td><td>2532-08-18</td><td>Adventure</td><td>NULL</td><td>7882250</td><td>16653473</td></tr>",
                            "<tr><td>An Innocent Man</td><td>2532-10-06</td><td>Drama</td><td>R</td><td>19397847</td><td>40983414</td></tr>",
                            "<tr><td>Gross Anatomy</td><td>2532-10-20</td><td>Drama</td><td>PG-13</td><td>11346186</td><td>23972012</td></tr>",
                            "<tr><td>The Little Mermaid</td><td>2532-11-15</td><td>Adventure</td><td>G</td><td>111543479</td><td>223726012</td></tr>",
                            "<tr><td>Blaze</td><td>2532-12-13</td><td>Drama</td><td>R</td><td>19049727</td><td>39884640</td></tr>",
                            "<tr><td>Stella</td><td>2533-02-02</td><td>Drama</td><td>PG-13</td><td>20062347</td><td>40077147</td></tr>",
                            "<tr><td>Where the Heart Is</td><td>2533-02-23</td><td>Comedy</td><td>NULL</td><td>1106475</td><td>2210321</td></tr>",
                            "<tr><td>Pretty Woman</td><td>2533-03-23</td><td>Romantic Comedy</td><td>R</td><td>178406268</td><td>356389765</td></tr>",
                            "<tr><td>Ernest Goes to Jail</td><td>2533-04-06</td><td>Comedy</td><td>PG</td><td>25029569</td><td>49999822</td></tr>",
                            "<tr><td>Spaced Invaders</td><td>2533-04-27</td><td>Comedy</td><td>PG</td><td>15000000</td><td>29964452</td></tr>",
                            "<tr><td>Fire Birds</td><td>2533-05-24</td><td>Action</td><td>PG-13</td><td>14760451</td><td>29485923</td></tr>",
                            "<tr><td>Dick Tracy</td><td>2533-06-15</td><td>Action</td><td>PG</td><td>103738726</td><td>207231621</td></tr>",
                            "<tr><td>Betsy's Wedding</td><td>2533-06-22</td><td>Comedy</td><td>R</td><td>19740070</td><td>39433357</td></tr>",
                            "<tr><td>Arachnophobia</td><td>2533-07-18</td><td>Thriller/Suspense</td><td>PG-13</td><td>53208180</td><td>106290270</td></tr>",
                            "<tr><td>DuckTales: The Movie - Treasure of th…</td><td>2533-08-03</td><td>Adventure</td><td>G</td><td>18075331</td><td>36107823</td></tr>",
                            "<tr><td>Taking Care of Business</td><td>2533-08-17</td><td>Comedy</td><td>R</td><td>20005435</td><td>39963460</td></tr>",
                            "<tr><td>Mr. Destiny</td><td>2533-10-12</td><td>Comedy</td><td>PG-13</td><td>15379253</td><td>30722056</td></tr>",
                            "<tr><td>The Rescuers Down Under</td><td>2533-11-16</td><td>Adventure</td><td>G</td><td>27931461</td><td>55796728</td></tr>",
                            "<tr><td>3 Men and a Little Lady</td><td>2533-11-21</td><td>Comedy</td><td>PG</td><td>71609321</td><td>143108869</td></tr>",
                            "<tr><td>Green Card</td><td>2533-12-25</td><td>Romantic Comedy</td><td>PG-13</td><td>29804169</td><td>59679131</td></tr>",
                            "<tr><td>White Fang</td><td>2534-01-18</td><td>Adventure</td><td>PG</td><td>34729091</td><td>69540672</td></tr>",
                            "<tr><td>Scenes from a Mall</td><td>2534-02-22</td><td>Comedy</td><td>NULL</td><td>9563393</td><td>19149495</td></tr>",
                            "<tr><td>Haakon Haakonsen</td><td>2534-03-01</td><td>Adventure</td><td>PG</td><td>15024232</td><td>30084149</td></tr>",
                            "<tr><td>The Marrying Man</td><td>2534-04-05</td><td>Romantic Comedy</td><td>R</td><td>12454768</td><td>24939118</td></tr>",
                            "<tr><td>Oscar</td><td>2534-04-26</td><td>Comedy</td><td>PG</td><td>23562716</td><td>47181395</td></tr>",
                            "<tr><td>One Good Cop</td><td>2534-05-03</td><td>Action</td><td>R</td><td>11276846</td><td>22580472</td></tr>",
                            "<tr><td>What About Bob?</td><td>2534-05-17</td><td>Comedy</td><td>PG</td><td>63710000</td><td>127571325</td></tr>",
                            "<tr><td>Wild Hearts Can't Be Broken</td><td>2534-05-24</td><td>Drama</td><td>NULL</td><td>7300000</td><td>14617333</td></tr>",
                            "<tr><td>The Rocketeer</td><td>2534-06-21</td><td>Action</td><td>PG</td><td>46573027</td><td>93256673</td></tr>",
                            "<tr><td>The Doctor</td><td>2534-07-24</td><td>Drama</td><td>PG-13</td><td>37497480</td><td>75084021</td></tr>",
                            "<tr><td>Paradise</td><td>2534-09-18</td><td>Drama</td><td>PG-13</td><td>18634643</td><td>37313540</td></tr>",
                            "<tr><td>Deceived</td><td>2534-09-27</td><td>Thriller/Suspense</td><td>PG-13</td><td>28738096</td><td>57544453</td></tr>",
                            "<tr><td>Ernest Scared Stupid</td><td>2534-10-11</td><td>Comedy</td><td>PG</td><td>14143280</td><td>28320147</td></tr>",
                            "<tr><td>Billy Bathgate</td><td>2534-11-01</td><td>Drama</td><td>R</td><td>15565363</td><td>31167691</td></tr>",
                            "<tr><td>Beauty and the Beast</td><td>2534-11-13</td><td>Musical</td><td>G</td><td>218951625</td><td>363017667</td></tr>",
                            "<tr><td>Father of the Bride</td><td>2534-12-20</td><td>Comedy</td><td>PG</td><td>89325780</td><td>179821881</td></tr>",
                            "<tr><td>The Hand That Rocks the Cradle</td><td>2535-01-10</td><td>Thriller/Suspense</td><td>R</td><td>88036683</td><td>178831137</td></tr>",
                            "<tr><td>Medicine Man</td><td>2535-02-07</td><td>Drama</td><td>PG-13</td><td>44948240</td><td>91304495</td></tr>",
                            "<tr><td>Blame it on the Bellboy</td><td>2535-03-06</td><td>Comedy</td><td>PG-13</td><td>2891055</td><td>5872667</td></tr>",
                            "<tr><td>Noises Off...</td><td>2535-03-20</td><td>Comedy</td><td>PG-13</td><td>2280148</td><td>4631720</td></tr>",
                            "<tr><td>Straight Talk</td><td>2535-04-03</td><td>Comedy</td><td>PG</td><td>21202099</td><td>43068356</td></tr>",
                            "<tr><td>Newsies</td><td>2535-04-08</td><td>NULL</td><td>PG</td><td>2706352</td><td>5497481</td></tr>",
                            "<tr><td>Passed Away</td><td>2535-04-24</td><td>NULL</td><td>PG-13</td><td>4030793</td><td>8187848</td></tr>",
                            "<tr><td>Encino Man</td><td>2535-05-22</td><td>Comedy</td><td>PG</td><td>40057130</td><td>81369058</td></tr>",
                            "<tr><td>Sister Act</td><td>2535-05-29</td><td>Comedy</td><td>PG</td><td>139605150</td><td>283583472</td></tr>",
                            "<tr><td>Honey I Blew Up the Kid</td><td>2535-07-17</td><td>Comedy</td><td>PG</td><td>58662452</td><td>119162518</td></tr>",
                            "<tr><td>A Stranger Among Us</td><td>2535-07-17</td><td>Drama</td><td>PG-13</td><td>12282994</td><td>24950752</td></tr>",
                            "<tr><td>3 Ninjas</td><td>2535-08-07</td><td>Action</td><td>PG</td><td>29028000</td><td>58965304</td></tr>",
                            "<tr><td>A Gun in Betty Lou's Handbag</td><td>2535-08-21</td><td>NULL</td><td>PG-13</td><td>3591460</td><td>7295423</td></tr>",
                            "<tr><td>Captain Ron</td><td>2535-09-18</td><td>Comedy</td><td>PG-13</td><td>22518097</td><td>45741576</td></tr>",
                            "<tr><td>Sarafina!</td><td>2535-09-18</td><td>Drama</td><td>PG-13</td><td>7306242</td><td>14841352</td></tr>",
                            "<tr><td>Innocent Blood</td><td>2535-09-25</td><td>Horror</td><td>R</td><td>4877567</td><td>9907922</td></tr>",
                            "<tr><td>The Mighty Ducks</td><td>2535-10-02</td><td>Comedy</td><td>PG</td><td>50752337</td><td>103120810</td></tr>",
                            "<tr><td>1492: Conquest of Paradise</td><td>2535-10-09</td><td>Adventure</td><td>PG-13</td><td>7099531</td><td>14421454</td></tr>",
                            "<tr><td>Consenting Adults</td><td>2535-10-16</td><td>Drama</td><td>R</td><td>21591728</td><td>43859823</td></tr>",
                            "<tr><td>Aladdin</td><td>2535-11-11</td><td>Comedy</td><td>G</td><td>217350219</td><td>441969178</td></tr>",
                            "<tr><td>The Distinguished Gentleman</td><td>2535-12-04</td><td>Comedy</td><td>R</td><td>46434570</td><td>94349900</td></tr>",
                            "<tr><td>The Muppet Christmas Carol</td><td>2535-12-11</td><td>Comedy</td><td>G</td><td>27281507</td><td>55417615</td></tr>",
                            "<tr><td>Alive</td><td>2536-01-15</td><td>Adventure</td><td>R</td><td>36299670</td><td>73914543</td></tr>",
                            "<tr><td>Aspen Extreme</td><td>2536-01-22</td><td>Romantic Comedy</td><td>PG-13</td><td>7843388</td><td>15970955</td></tr>",
                            "<tr><td>Homeward Bound: The Incredible Journey</td><td>2536-02-03</td><td>Adventure</td><td>G</td><td>41833324</td><td>85182343</td></tr>",
                            "<tr><td>The Cemetery Club</td><td>2536-02-03</td><td>Comedy</td><td>PG-13</td><td>5583621</td><td>11369541</td></tr>",
                            "<tr><td>Swing Kids</td><td>2536-03-05</td><td>Musical</td><td>PG-13</td><td>5632086</td><td>11468231</td></tr>",
                            "<tr><td>A Far Off Place</td><td>2536-03-12</td><td>Adventure</td><td>PG</td><td>12890752</td><td>26248558</td></tr>",
                            "<tr><td>Born Yesterday</td><td>2536-03-26</td><td>Romantic Comedy</td><td>PG</td><td>17760754</td><td>36165012</td></tr>",
                            "<tr><td>The Adventures of Huck Finn</td><td>2536-04-02</td><td>Adventure</td><td>PG</td><td>24103594</td><td>49080505</td></tr>",
                            "<tr><td>Bound by Honor</td><td>2536-04-16</td><td>NULL</td><td>R</td><td>4496583</td><td>9156084</td></tr>",
                            "<tr><td>Indian Summer</td><td>2536-04-23</td><td>Comedy</td><td>R</td><td>14717851</td><td>29968953</td></tr>",
                            "<tr><td>Super Mario Bros.</td><td>2536-05-28</td><td>Action</td><td>PG</td><td>20844907</td><td>42445058</td></tr>",
                            "<tr><td>Guilty as Sin</td><td>2536-06-04</td><td>Thriller/Suspense</td><td>R</td><td>22622537</td><td>46064723</td></tr>",
                            "<tr><td>Life With Mikey</td><td>2536-06-04</td><td>Comedy</td><td>PG</td><td>12349549</td><td>25146538</td></tr>",
                            "<tr><td>What's Love Got to Do With It</td><td>2536-06-09</td><td>Drama</td><td>R</td><td>39100956</td><td>79618610</td></tr>",
                            "<tr><td>Son in Law</td><td>2536-07-02</td><td>Comedy</td><td>PG-13</td><td>25989889</td><td>52921433</td></tr>",
                            "<tr><td>Hocus Pocus</td><td>2536-07-16</td><td>Comedy</td><td>PG</td><td>39360491</td><td>80147079</td></tr>",
                            "<tr><td>Another Stakeout</td><td>2536-07-23</td><td>Comedy</td><td>PG-13</td><td>20107504</td><td>40943541</td></tr>",
                            "<tr><td>My Boyfriend's Back</td><td>2536-08-06</td><td>NULL</td><td>PG-13</td><td>3218882</td><td>6554384</td></tr>",
                            "<tr><td>Father Hood</td><td>2536-08-27</td><td>NULL</td><td>PG-13</td><td>3268203</td><td>6654819</td></tr>",
                            "<tr><td>The Joy Luck Club</td><td>2536-09-08</td><td>Drama</td><td>R</td><td>32790064</td><td>66768171</td></tr>",
                            "<tr><td>Money for Nothing</td><td>2536-09-10</td><td>Comedy</td><td>R</td><td>1044824</td><td>2127496</td></tr>",
                            "<tr><td>The Program</td><td>2536-09-24</td><td>Action</td><td>R</td><td>23042200</td><td>46919256</td></tr>",
                            "<tr><td>Cool Runnings</td><td>2536-10-01</td><td>Comedy</td><td>PG</td><td>68856263</td><td>140392731</td></tr>",
                            "<tr><td>The Nightmare Before Christmas</td><td>2536-10-13</td><td>Musical</td><td>PG</td><td>50408318</td><td>100026637</td></tr>",
                            "<tr><td>The Three Musketeers</td><td>2536-11-12</td><td>Adventure</td><td>PG</td><td>53661805</td><td>109310377</td></tr>",
                            "<tr><td>Sister Act 2 Back in the Habit</td><td>2536-12-10</td><td>Comedy</td><td>PG</td><td>57319029</td><td>116965668</td></tr>",
                            "<tr><td>Tombstone</td><td>2536-12-25</td><td>Western</td><td>R</td><td>56505065</td><td>115781734</td></tr>",
                            "<tr><td>The Air Up There</td><td>2537-01-07</td><td>Comedy</td><td>PG</td><td>20782439</td><td>42940186</td></tr>",
                            "<tr><td>Cabin Boy</td><td>2537-01-07</td><td>Comedy</td><td>PG-13</td><td>3469493</td><td>7168577</td></tr>",
                            "<tr><td>Iron Will</td><td>2537-01-14</td><td>Drama</td><td>PG</td><td>20623071</td><td>42610902</td></tr>",
                            "<tr><td>Red Rock West</td><td>2537-01-28</td><td>NULL</td><td>R</td><td>2502551</td><td>5170709</td></tr>",
                            "<tr><td>Blank Check</td><td>2537-02-11</td><td>Comedy</td><td>PG</td><td>30573770</td><td>63170804</td></tr>",
                            "<tr><td>Angie</td><td>2537-03-04</td><td>Comedy</td><td>R</td><td>9252349</td><td>19116981</td></tr>",
                            "<tr><td>The Ref</td><td>2537-03-09</td><td>Comedy</td><td>R</td><td>11325885</td><td>23401275</td></tr>",
                            "<tr><td>D2: The Mighty Ducks</td><td>2537-03-25</td><td>Comedy</td><td>PG</td><td>45604206</td><td>94226333</td></tr>",
                            "<tr><td>Holy Matrimony</td><td>2537-04-08</td><td>Comedy</td><td>NULL</td><td>713234</td><td>1473665</td></tr>",
                            "<tr><td>White Fang 2: Myth of the White Wolf</td><td>2537-04-15</td><td>Adventure</td><td>PG</td><td>8752399</td><td>18083994</td></tr>",
                            "<tr><td>The Inkwell</td><td>2537-04-22</td><td>Comedy</td><td>R</td><td>8864699</td><td>18316030</td></tr>",
                            "<tr><td>When a Man Loves a Woman</td><td>2537-04-29</td><td>Drama</td><td>R</td><td>50021959</td><td>103354194</td></tr>",
                            "<tr><td>3 Ninjas Kick Back</td><td>2537-05-06</td><td>Action</td><td>PG</td><td>11744960</td><td>24267154</td></tr>",
                            "<tr><td>Renaissance Man</td><td>2537-06-03</td><td>Comedy</td><td>PG-13</td><td>24172899</td><td>49945474</td></tr>",
                            "<tr><td>The Lion King</td><td>2537-06-15</td><td>Adventure</td><td>G</td><td>422780140</td><td>761640898</td></tr>",
                            "<tr><td>I Love Trouble</td><td>2537-06-29</td><td>Romantic Comedy</td><td>PG</td><td>30806194</td><td>63651027</td></tr>",
                            "<tr><td>Angels in the Outfield</td><td>2537-07-15</td><td>Comedy</td><td>PG</td><td>50236831</td><td>103798152</td></tr>",
                            "<tr><td>In the Army Now</td><td>2537-08-12</td><td>Comedy</td><td>PG</td><td>28881266</td><td>59673787</td></tr>",
                            "<tr><td>Color of Night</td><td>2537-08-19</td><td>Thriller/Suspense</td><td>R</td><td>19750470</td><td>40804816</td></tr>",
                            "<tr><td>Camp Nowhere</td><td>2537-08-26</td><td>Comedy</td><td>PG</td><td>10442641</td><td>21576332</td></tr>",
                            "<tr><td>It's Pat</td><td>2537-08-26</td><td>Comedy</td><td>NULL</td><td>60822</td><td>125666</td></tr>",
                            "<tr><td>A Simple Twist of Fate</td><td>2537-09-02</td><td>Drama</td><td>PG-13</td><td>3404935</td><td>7035189</td></tr>",
                            "<tr><td>Quiz Show</td><td>2537-09-14</td><td>Drama</td><td>PG-13</td><td>24787282</td><td>50840394</td></tr>",
                            "<tr><td>Terminal Velocity</td><td>2537-09-23</td><td>Action</td><td>PG-13</td><td>16478900</td><td>34048315</td></tr>",
                            "<tr><td>Ed Wood</td><td>2537-09-30</td><td>Comedy</td><td>R</td><td>5828466</td><td>12042634</td></tr>",
                            "<tr><td>The Puppet Masters</td><td>2537-10-21</td><td>Horror</td><td>R</td><td>8579626</td><td>17727017</td></tr>",
                            "<tr><td>Squanto: A Warrior's Tale</td><td>2537-10-28</td><td>Drama</td><td>PG</td><td>3319344</td><td>6858345</td></tr>",
                            "<tr><td>The Santa Clause</td><td>2537-11-11</td><td>Comedy</td><td>PG</td><td>144833357</td><td>298369717</td></tr>",
                            "<tr><td>A Low Down Dirty Shame</td><td>2537-11-23</td><td>Action</td><td>R</td><td>29317886</td><td>60321919</td></tr>",
                            "<tr><td>The Jungle Book</td><td>2537-12-25</td><td>Adventure</td><td>PG</td><td>44342956</td><td>88930321</td></tr>",
                            "<tr><td>Houseguest</td><td>2538-01-06</td><td>Comedy</td><td>PG</td><td>26325256</td><td>51016522</td></tr>",
                            "<tr><td>Bad Company</td><td>2538-01-20</td><td>Thriller/Suspense</td><td>R</td><td>3523909</td><td>6829092</td></tr>",
                            "<tr><td>Miami Rhapsody</td><td>2538-01-27</td><td>Romantic Comedy</td><td>PG-13</td><td>5086578</td><td>9857435</td></tr>",
                            "<tr><td>The Jerky Boys</td><td>2538-02-03</td><td>Comedy</td><td>R</td><td>7555256</td><td>14641561</td></tr>",
                            "<tr><td>Heavy Weights</td><td>2538-02-17</td><td>Comedy</td><td>PG</td><td>17671310</td><td>34245779</td></tr>",
                            "<tr><td>Man of the House</td><td>2538-03-03</td><td>Comedy</td><td>PG</td><td>40029009</td><td>77573459</td></tr>",
                            "<tr><td>Roommates</td><td>2538-03-03</td><td>Comedy</td><td>PG</td><td>12076989</td><td>23404369</td></tr>",
                            "<tr><td>Tall Tale</td><td>2538-03-24</td><td>Western</td><td>PG</td><td>8247627</td><td>15983331</td></tr>",
                            "<tr><td>A Pyromaniac's Love Story</td><td>2538-03-28</td><td>Romantic Comedy</td><td>PG</td><td>468240</td><td>907414</td></tr>",
                            "<tr><td>Jefferson in Paris</td><td>2538-03-31</td><td>Drama</td><td>PG-13</td><td>2461628</td><td>4770461</td></tr>",
                            "<tr><td>Funny Bones</td><td>2538-03-31</td><td>Comedy</td><td>R</td><td>529135</td><td>1025425</td></tr>",
                            "<tr><td>A Goofy Movie</td><td>2538-04-07</td><td>Comedy</td><td>G</td><td>35336439</td><td>68479579</td></tr>",
                            "<tr><td>While You Were Sleeping</td><td>2538-04-21</td><td>Romantic Comedy</td><td>PG</td><td>81057016</td><td>157082900</td></tr>",
                            "<tr><td>Crimson Tide</td><td>2538-05-12</td><td>Action</td><td>R</td><td>91387195</td><td>177102077</td></tr>",
                            "<tr><td>Mad Love</td><td>2538-05-26</td><td>Drama</td><td>PG-13</td><td>15446532</td><td>29934306</td></tr>",
                            "<tr><td>Pocahontas</td><td>2538-06-10</td><td>Adventure</td><td>G</td><td>141579773</td><td>274370957</td></tr>",
                            "<tr><td>Judge Dredd</td><td>2538-06-30</td><td>Action</td><td>R</td><td>34687912</td><td>67222776</td></tr>",
                            "<tr><td>Operation Dumbo Drop</td><td>2538-07-28</td><td>Adventure</td><td>PG</td><td>24670346</td><td>47809421</td></tr>",
                            "<tr><td>Dangerous Minds</td><td>2538-08-11</td><td>Drama</td><td>R</td><td>84919401</td><td>164552293</td></tr>",
                            "<tr><td>A Kid in King Arthur's Court</td><td>2538-08-11</td><td>Adventure</td><td>PG</td><td>13406717</td><td>25981285</td></tr>",
                            "<tr><td>The Tie That Binds</td><td>2538-09-08</td><td>Thriller/Suspense</td><td>R</td><td>5762795</td><td>11167895</td></tr>",
                            "<tr><td>Unstrung Heroes</td><td>2538-09-15</td><td>Drama</td><td>PG</td><td>7929000</td><td>15365850</td></tr>",
                            "<tr><td>The Big Green</td><td>2538-09-29</td><td>Comedy</td><td>PG</td><td>17736619</td><td>34372339</td></tr>",
                            "<tr><td>Dead Presidents</td><td>2538-10-04</td><td>Drama</td><td>R</td><td>24120194</td><td>46741467</td></tr>",
                            "<tr><td>The Scarlet Letter</td><td>2538-10-13</td><td>Drama</td><td>R</td><td>10359006</td><td>20075033</td></tr>",
                            "<tr><td>Feast of July</td><td>2538-10-13</td><td>Drama</td><td>R</td><td>293274</td><td>568342</td></tr>",
                            "<tr><td>Powder</td><td>2538-10-27</td><td>Drama</td><td>PG-13</td><td>30833914</td><td>59727216</td></tr>",
                            "<tr><td>Toy Story</td><td>2538-11-22</td><td>Adventure</td><td>G</td><td>191796233</td><td>370409631</td></tr>",
                            "<tr><td>Father of the Bride Part II</td><td>2538-12-08</td><td>Comedy</td><td>PG</td><td>76578911</td><td>147658438</td></tr>",
                            "<tr><td>Nixon</td><td>2538-12-20</td><td>Drama</td><td>R</td><td>13668249</td><td>26302005</td></tr>",
                            "<tr><td>Tom and Huck</td><td>2538-12-22</td><td>Adventure</td><td>PG</td><td>23837227</td><td>45911517</td></tr>",
                            "<tr><td>Mr. Holland's Opus</td><td>2538-12-29</td><td>Drama</td><td>PG</td><td>82582604</td><td>157508868</td></tr>",
                            "<tr><td>White Squall</td><td>2539-02-02</td><td>Adventure</td><td>PG-13</td><td>10229300</td><td>19509726</td></tr>",
                            "<tr><td>Muppet Treasure Island</td><td>2539-02-16</td><td>Adventure</td><td>G</td><td>34327391</td><td>65470567</td></tr>",
                            "<tr><td>Mr. Wrong</td><td>2539-02-16</td><td>Romantic Comedy</td><td>PG-13</td><td>12805071</td><td>24422334</td></tr>",
                            "<tr><td>Before and After</td><td>2539-02-23</td><td>Drama</td><td>PG-13</td><td>8642118</td><td>16482589</td></tr>",
                            "<tr><td>Up Close &amp; Personal</td><td>2539-03-01</td><td>Drama</td><td>PG-13</td><td>51045801</td><td>97356578</td></tr>",
                            "<tr><td>Homeward Bound II: Lost in San Franc…</td><td>2539-03-08</td><td>Adventure</td><td>G</td><td>32709423</td><td>62384706</td></tr>",
                            "<tr><td>Two Much</td><td>2539-03-15</td><td>Romantic Comedy</td><td>PG-13</td><td>1078555</td><td>2057055</td></tr>",
                            "<tr><td>Un indien dans la ville</td><td>2539-03-22</td><td>Comedy</td><td>PG</td><td>1029731</td><td>1963937</td></tr>",
                            "<tr><td>James and the Giant Peach</td><td>2539-04-12</td><td>Adventure</td><td>PG</td><td>28921264</td><td>55159783</td></tr>",
                            "<tr><td>Celtic Pride</td><td>2539-04-19</td><td>Comedy</td><td>PG-13</td><td>9240378</td><td>17623615</td></tr>",
                            "<tr><td>Last Dance</td><td>2539-05-03</td><td>Drama</td><td>R</td><td>5857534</td><td>11171714</td></tr>",
                            "<tr><td>Boys</td><td>2539-05-10</td><td>Drama</td><td>PG-13</td><td>21930418</td><td>41826566</td></tr>",
                            "<tr><td>Spy Hard</td><td>2539-05-24</td><td>Comedy</td><td>PG-13</td><td>26936265</td><td>51373912</td></tr>",
                            "<tr><td>Eddie</td><td>2539-05-31</td><td>Comedy</td><td>PG-13</td><td>31369401</td><td>59828966</td></tr>",
                            "<tr><td>The Rock</td><td>2539-06-07</td><td>Action</td><td>R</td><td>134069511</td><td>255702705</td></tr>",
                            "<tr><td>The Hunchback of Notre Dame</td><td>2539-06-21</td><td>Adventure</td><td>G</td><td>100138851</td><td>190988799</td></tr>",
                            "<tr><td>Phenomenon</td><td>2539-07-05</td><td>Drama</td><td>PG</td><td>104636382</td><td>199559799</td></tr>",
                            "<tr><td>Kazaam</td><td>2539-07-17</td><td>Comedy</td><td>PG</td><td>18880508</td><td>36009655</td></tr>",
                            "<tr><td>Jack</td><td>2539-08-09</td><td>Drama</td><td>PG-13</td><td>58617334</td><td>111792852</td></tr>",
                            "<tr><td>First Kid</td><td>2539-08-30</td><td>Comedy</td><td>PG</td><td>26465920</td><td>50465108</td></tr>",
                            "<tr><td>The Rich Man's Wife</td><td>2539-09-13</td><td>Thriller/Suspense</td><td>R</td><td>8538318</td><td>16284619</td></tr>",
                            "<tr><td>D3: The Mighty Ducks</td><td>2539-10-04</td><td>Comedy</td><td>PG</td><td>22936273</td><td>43713554</td></tr>",
                            "<tr><td>The Associate</td><td>2539-10-25</td><td>Comedy</td><td>PG-13</td><td>12772657</td><td>24333094</td></tr>",
                            "<tr><td>Ransom</td><td>2539-11-08</td><td>Action</td><td>R</td><td>136492681</td><td>259807820</td></tr>",
                            "<tr><td>The War at Home</td><td>2539-11-20</td><td>NULL</td><td>R</td><td>34368</td><td>65543</td></tr>",
                            "<tr><td>101 Dalmatians</td><td>2539-11-27</td><td>Comedy</td><td>G</td><td>136189294</td><td>258728898</td></tr>",
                            "<tr><td>The Preacher's Wife</td><td>2539-12-13</td><td>Drama</td><td>PG</td><td>48102795</td><td>91076877</td></tr>",
                            "<tr><td>Evita</td><td>2539-12-25</td><td>Musical</td><td>PG</td><td>50047179</td><td>92077628</td></tr>",
                            "<tr><td>Metro</td><td>2540-01-17</td><td>Action</td><td>R</td><td>32017895</td><td>58804106</td></tr>",
                            "<tr><td>Prefontaine</td><td>2540-01-24</td><td>Drama</td><td>PG-13</td><td>590817</td><td>1085093</td></tr>",
                            "<tr><td>Shadow Conspiracy</td><td>2540-01-31</td><td>Thriller/Suspense</td><td>R</td><td>2154540</td><td>3957025</td></tr>",
                            "<tr><td>That Darn Cat</td><td>2540-02-14</td><td>Comedy</td><td>PG</td><td>18301828</td><td>33613158</td></tr>",
                            "<tr><td>Jungle 2 Jungle</td><td>2540-03-07</td><td>Comedy</td><td>PG</td><td>59925026</td><td>110058379</td></tr>",
                            "<tr><td>The Sixth Man</td><td>2540-03-28</td><td>Comedy</td><td>PG-13</td><td>14765099</td><td>27117599</td></tr>",
                            "<tr><td>Grosse Pointe Blank</td><td>2540-04-11</td><td>Black Comedy</td><td>R</td><td>28084357</td><td>51579764</td></tr>",
                            "<tr><td>Romy and Michele's High School Reunion</td><td>2540-04-25</td><td>Comedy</td><td>R</td><td>29235353</td><td>53693680</td></tr>",
                            "<tr><td>Gone Fishin'</td><td>2540-05-30</td><td>Comedy</td><td>PG</td><td>19745922</td><td>36265379</td></tr>",
                            "<tr><td>Con Air</td><td>2540-06-06</td><td>Action</td><td>R</td><td>101117573</td><td>185712664</td></tr>",
                            "<tr><td>Hercules</td><td>2540-06-13</td><td>Adventure</td><td>G</td><td>99112101</td><td>182029412</td></tr>",
                            "<tr><td>George Of The Jungle</td><td>2540-07-16</td><td>Comedy</td><td>PG</td><td>105263257</td><td>193326632</td></tr>",
                            "<tr><td>Nothing To Lose</td><td>2540-07-18</td><td>Comedy</td><td>R</td><td>44480039</td><td>81692095</td></tr>",
                            "<tr><td>Air Bud</td><td>2540-08-01</td><td>Comedy</td><td>PG</td><td>24646936</td><td>45266588</td></tr>",
                            "<tr><td>G.I. Jane</td><td>2540-08-22</td><td>Drama</td><td>R</td><td>48169156</td><td>88467531</td></tr>",
                            "<tr><td>A Thousand Acres</td><td>2540-09-19</td><td>Drama</td><td>R</td><td>7928412</td><td>14561324</td></tr>",
                            "<tr><td>Washington Square</td><td>2540-10-05</td><td>Drama</td><td>PG</td><td>1775644</td><td>3257546</td></tr>",
                            "<tr><td>Rocket Man</td><td>2540-10-10</td><td>Comedy</td><td>PG</td><td>15448043</td><td>28371890</td></tr>",
                            "<tr><td>Playing God</td><td>2540-10-17</td><td>Thriller/Suspense</td><td>R</td><td>4166918</td><td>7652965</td></tr>",
                            "<tr><td>Flubber</td><td>2540-11-26</td><td>Comedy</td><td>PG</td><td>92993801</td><td>170406423</td></tr>",
                            "<tr><td>An American Werewolf in Paris</td><td>2540-12-25</td><td>Horror</td><td>R</td><td>26570463</td><td>48546161</td></tr>",
                            "<tr><td>Mr. Magoo</td><td>2540-12-25</td><td>Comedy</td><td>PG</td><td>21437192</td><td>39145784</td></tr>",
                            "<tr><td>Kundun</td><td>2540-12-25</td><td>Drama</td><td>PG-13</td><td>5686694</td><td>10236836</td></tr>",
                            "<tr><td>Deep Rising</td><td>2541-01-30</td><td>Action</td><td>R</td><td>11203026</td><td>20136775</td></tr>",
                            "<tr><td>Krippendorf's Tribe</td><td>2541-02-27</td><td>Comedy</td><td>PG-13</td><td>7571115</td><td>13608633</td></tr>",
                            "<tr><td>An Alan Smithee Film: Burn Hollywood …</td><td>2541-02-27</td><td>Comedy</td><td>R</td><td>45779</td><td>82277</td></tr>",
                            "<tr><td>Meet the Deedles</td><td>2541-03-27</td><td>Comedy</td><td>PG</td><td>4356126</td><td>7829877</td></tr>",
                            "<tr><td>He Got Game</td><td>2541-05-01</td><td>Drama</td><td>R</td><td>21567853</td><td>38766948</td></tr>",
                            "<tr><td>The Horse Whisperer</td><td>2541-05-15</td><td>Drama</td><td>PG-13</td><td>75383563</td><td>135497531</td></tr>",
                            "<tr><td>Six Days, Seven Nights</td><td>2541-06-12</td><td>Romantic Comedy</td><td>PG-13</td><td>74339294</td><td>133620516</td></tr>",
                            "<tr><td>Mulan</td><td>2541-06-19</td><td>Adventure</td><td>G</td><td>120620254</td><td>216807832</td></tr>",
                            "<tr><td>Armageddon</td><td>2541-07-01</td><td>Adventure</td><td>PG-13</td><td>201578182</td><td>362324957</td></tr>",
                            "<tr><td>Jane Austen's Mafia</td><td>2541-07-24</td><td>Comedy</td><td>PG-13</td><td>19843795</td><td>35668055</td></tr>",
                            "<tr><td>The Parent Trap</td><td>2541-07-29</td><td>Comedy</td><td>PG</td><td>66308518</td><td>119185667</td></tr>",
                            "<tr><td>Firelight</td><td>2541-09-04</td><td>Drama</td><td>R</td><td>784419</td><td>1409943</td></tr>",
                            "<tr><td>Simon Birch</td><td>2541-09-11</td><td>Drama</td><td>PG</td><td>18253415</td><td>32809442</td></tr>",
                            "<tr><td>Holy Man</td><td>2541-10-09</td><td>Comedy</td><td>PG</td><td>12069719</td><td>21694605</td></tr>",
                            "<tr><td>Beloved</td><td>2541-10-16</td><td>Drama</td><td>R</td><td>22852487</td><td>41062682</td></tr>",
                            "<tr><td>The Waterboy</td><td>2541-11-06</td><td>Comedy</td><td>PG-13</td><td>161491646</td><td>288691833</td></tr>",
                            "<tr><td>I'll Be Home For Christmas</td><td>2541-11-13</td><td>Comedy</td><td>PG</td><td>12214338</td><td>21941840</td></tr>",
                            "<tr><td>A Bug's Life</td><td>2541-11-20</td><td>Adventure</td><td>G</td><td>162798565</td><td>288981698</td></tr>",
                            "<tr><td>Enemy of the State</td><td>2541-11-20</td><td>Action</td><td>R</td><td>111549836</td><td>198472008</td></tr>",
                            "<tr><td>Rushmore</td><td>2541-12-11</td><td>Black Comedy</td><td>R</td><td>17105219</td><td>28392518</td></tr>",
                            "<tr><td>A Civil Action</td><td>2541-12-25</td><td>Drama</td><td>PG-13</td><td>56709981</td><td>94139530</td></tr>",
                            "<tr><td>Mighty Joe Young</td><td>2541-12-25</td><td>Adventure</td><td>PG</td><td>50632037</td><td>87906042</td></tr>",
                            "<tr><td>My Favorite Martian</td><td>2542-02-12</td><td>Comedy</td><td>PG</td><td>36850101</td><td>61150849</td></tr>",
                            "<tr><td>The Other Sister</td><td>2542-02-26</td><td>Romantic Comedy</td><td>PG-13</td><td>27807627</td><td>46145331</td></tr>",
                            "<tr><td>Doug's 1st Movie</td><td>2542-03-26</td><td>Adventure</td><td>G</td><td>19421271</td><td>32228598</td></tr>",
                            "<tr><td>Ten Things I Hate About You</td><td>2542-03-31</td><td>Romantic Comedy</td><td>PG-13</td><td>38177966</td><td>63354375</td></tr>",
                            "<tr><td>Endurance</td><td>2542-05-14</td><td>NULL</td><td>PG</td><td>229128</td><td>380218</td></tr>",
                            "<tr><td>Instinct</td><td>2542-06-04</td><td>Drama</td><td>R</td><td>34105207</td><td>56595842</td></tr>",
                            "<tr><td>Tarzan</td><td>2542-06-16</td><td>Adventure</td><td>G</td><td>171091819</td><td>283900254</td></tr>",
                            "<tr><td>Summer of Sam</td><td>2542-07-02</td><td>Drama</td><td>R</td><td>19288130</td><td>32007656</td></tr>",
                            "<tr><td>Inspector Gadget</td><td>2542-07-23</td><td>Comedy</td><td>PG</td><td>97387965</td><td>161610341</td></tr>",
                            "<tr><td>The Sixth Sense</td><td>2542-08-06</td><td>Thriller/Suspense</td><td>PG-13</td><td>293506292</td><td>485424724</td></tr>",
                            "<tr><td>The 13th Warrior</td><td>2542-08-27</td><td>Action</td><td>R</td><td>32698899</td><td>54262148</td></tr>",
                            "<tr><td>Breakfast of Champions</td><td>2542-09-17</td><td>Comedy</td><td>R</td><td>178287</td><td>295851</td></tr>",
                            "<tr><td>Mumford</td><td>2542-09-24</td><td>Comedy</td><td>R</td><td>4559569</td><td>7566363</td></tr>",
                            "<tr><td>Mystery, Alaska</td><td>2542-10-01</td><td>Comedy</td><td>R</td><td>8891623</td><td>14755189</td></tr>",
                            "<tr><td>The Straight Story</td><td>2542-10-15</td><td>Drama</td><td>G</td><td>6197866</td><td>10111144</td></tr>",
                            "<tr><td>The Insider</td><td>2542-11-05</td><td>Drama</td><td>R</td><td>28965197</td><td>47794214</td></tr>",
                            "<tr><td>Toy Story 2</td><td>2542-11-19</td><td>Adventure</td><td>G</td><td>245852179</td><td>404450426</td></tr>",
                            "<tr><td>Cradle Will Rock</td><td>2542-12-08</td><td>Drama</td><td>R</td><td>2899970</td><td>4609153</td></tr>",
                            "<tr><td>Deuce Bigalow: Male Gigolo</td><td>2542-12-10</td><td>Comedy</td><td>R</td><td>65535067</td><td>106921374</td></tr>",
                            "<tr><td>Bicentennial Man</td><td>2542-12-17</td><td>Drama</td><td>PG</td><td>58220776</td><td>94838225</td></tr>",
                            "<tr><td>Play it to the Bone</td><td>2542-12-24</td><td>Comedy</td><td>R</td><td>8427204</td><td>13180524</td></tr>",
                            "<tr><td>Fantasia 2000 (IMAX)</td><td>2543-01-01</td><td>Musical</td><td>G</td><td>60507228</td><td>94852354</td></tr>",
                            "<tr><td>Gun Shy</td><td>2543-02-04</td><td>Comedy</td><td>R</td><td>1638202</td><td>2562155</td></tr>",
                            "<tr><td>The Tigger Movie</td><td>2543-02-11</td><td>Adventure</td><td>G</td><td>45542421</td><td>71228678</td></tr>",
                            "<tr><td>Mission to Mars</td><td>2543-03-10</td><td>Adventure</td><td>PG</td><td>60874615</td><td>95208344</td></tr>",
                            "<tr><td>High Fidelity</td><td>2543-03-31</td><td>Comedy</td><td>R</td><td>27277055</td><td>42661516</td></tr>",
                            "<tr><td>Keeping the Faith</td><td>2543-04-14</td><td>Romantic Comedy</td><td>PG-13</td><td>37036404</td><td>57925202</td></tr>",
                            "<tr><td>Dinosaur</td><td>2543-05-19</td><td>Adventure</td><td>PG</td><td>137748063</td><td>215438985</td></tr>",
                            "<tr><td>Shanghai Noon</td><td>2543-05-26</td><td>Western</td><td>PG-13</td><td>56932305</td><td>89042541</td></tr>",
                            "<tr><td>Gone in 60 Seconds</td><td>2543-06-09</td><td>Action</td><td>PG-13</td><td>101643008</td><td>158970411</td></tr>",
                            "<tr><td>Fantasia 2000 (Theatrical Release)</td><td>2543-06-16</td><td>Musical</td><td>G</td><td>9103630</td><td>14238144</td></tr>",
                            "<tr><td>The Kid</td><td>2543-07-07</td><td>Comedy</td><td>PG</td><td>69688384</td><td>108993148</td></tr>",
                            "<tr><td>Coyote Ugly</td><td>2543-08-04</td><td>Drama</td><td>PG-13</td><td>60786269</td><td>95070168</td></tr>",
                            "<tr><td>The Crew</td><td>2543-08-25</td><td>Comedy</td><td>PG-13</td><td>13019253</td><td>20362201</td></tr>",
                            "<tr><td>Duets</td><td>2543-09-15</td><td>Drama</td><td>R</td><td>4734235</td><td>7404372</td></tr>",
                            "<tr><td>Remember the Titans</td><td>2543-09-29</td><td>Drama</td><td>PG</td><td>115654751</td><td>180742479</td></tr>",
                            "<tr><td>Unbreakable</td><td>2543-11-22</td><td>Thriller/Suspense</td><td>PG-13</td><td>94999143</td><td>148208901</td></tr>",
                            "<tr><td>102 Dalmatians</td><td>2543-11-22</td><td>Comedy</td><td>G</td><td>66941559</td><td>104055039</td></tr>",
                            "<tr><td>The Emperor's New Groove</td><td>2543-12-15</td><td>Adventure</td><td>G</td><td>89296573</td><td>136789252</td></tr>",
                            "<tr><td>O Brother, Where Art Thou?</td><td>2543-12-22</td><td>Comedy</td><td>PG-13</td><td>45506619</td><td>67922002</td></tr>",
                            "<tr><td>Double Take</td><td>2544-01-12</td><td>Action</td><td>PG-13</td><td>29823162</td><td>44418589</td></tr>",
                            "<tr><td>Recess: School's Out</td><td>2544-02-16</td><td>Comedy</td><td>G</td><td>36696761</td><td>54656124</td></tr>",
                            "<tr><td>Just Visiting</td><td>2544-04-06</td><td>Comedy</td><td>PG-13</td><td>4777007</td><td>7114869</td></tr>",
                            "<tr><td>Pearl Harbor</td><td>2544-05-25</td><td>Action</td><td>PG-13</td><td>198539855</td><td>295705112</td></tr>",
                            "<tr><td>Atlantis: The Lost Empire</td><td>2544-06-08</td><td>Adventure</td><td>PG</td><td>84052762</td><td>125188122</td></tr>",
                            "<tr><td>crazy/beautiful</td><td>2544-06-29</td><td>Drama</td><td>PG-13</td><td>16929123</td><td>25214223</td></tr>",
                            "<tr><td>The Princess Diaries</td><td>2544-08-03</td><td>Comedy</td><td>G</td><td>108244774</td><td>161218928</td></tr>",
                            "<tr><td>Bubble Boy</td><td>2544-08-24</td><td>Comedy</td><td>PG-13</td><td>5002310</td><td>7450434</td></tr>",
                            "<tr><td>Max Keeble's Big Move</td><td>2544-10-05</td><td>Comedy</td><td>PG</td><td>17292381</td><td>25749730</td></tr>",
                            "<tr><td>Corky Romano</td><td>2544-10-12</td><td>Comedy</td><td>PG-13</td><td>23978402</td><td>35705805</td></tr>",
                            "<tr><td>High Heels and Low Lifes</td><td>2544-10-26</td><td>NULL</td><td>R</td><td>226792</td><td>337782</td></tr>",
                            "<tr><td>Monsters, Inc.</td><td>2544-11-02</td><td>Adventure</td><td>G</td><td>289423425</td><td>416073179</td></tr>",
                            "<tr><td>Out Cold</td><td>2544-11-21</td><td>Comedy</td><td>PG-13</td><td>13906394</td><td>20700691</td></tr>",
                            "<tr><td>The Royal Tenenbaums</td><td>2544-12-14</td><td>Black Comedy</td><td>R</td><td>52353636</td><td>76758193</td></tr>",
                            "<tr><td>Beauty and the Beast (IMAX)</td><td>2545-01-01</td><td>Musical</td><td>G</td><td>25487028</td><td>36980311</td></tr>",
                            "<tr><td>Frank McKlusky C.I.</td><td>2545-01-01</td><td>NULL</td><td>NULL</td><td>0</td><td>0</td></tr>",
                            "<tr><td>Snow Dogs</td><td>2545-01-18</td><td>Comedy</td><td>PG</td><td>81150692</td><td>117745317</td></tr>",
                            "<tr><td>The Count of Monte Cristo</td><td>2545-01-25</td><td>Drama</td><td>PG-13</td><td>54228104</td><td>78682079</td></tr>",
                            "<tr><td>Peter Pan: Return to Neverland</td><td>2545-02-15</td><td>Adventure</td><td>G</td><td>48430258</td><td>70269715</td></tr>",
                            "<tr><td>Reign of Fire</td><td>2545-02-19</td><td>Action</td><td>PG-13</td><td>43061982</td><td>62480631</td></tr>",
                            "<tr><td>Sorority Boys</td><td>2545-03-22</td><td>Comedy</td><td>R</td><td>10198766</td><td>14797862</td></tr>",
                            "<tr><td>The Rookie</td><td>2545-03-29</td><td>Drama</td><td>G</td><td>75600072</td><td>109691666</td></tr>",
                            "<tr><td>Big Trouble</td><td>2545-04-05</td><td>Comedy</td><td>PG-13</td><td>7262288</td><td>10537188</td></tr>",
                            "<tr><td>ESPN's Ultimate X - The Movie</td><td>2545-05-10</td><td>Documentary</td><td>PG</td><td>4197175</td><td>6089874</td></tr>",
                            "<tr><td>Bad Company</td><td>2545-06-07</td><td>Action</td><td>PG-13</td><td>30157016</td><td>43756218</td></tr>",
                            "<tr><td>Lilo &amp; Stitch</td><td>2545-06-21</td><td>Adventure</td><td>PG</td><td>145771527</td><td>211506702</td></tr>",
                            "<tr><td>The Country Bears</td><td>2545-07-26</td><td>Adventure</td><td>G</td><td>16988996</td><td>24650121</td></tr>",
                            "<tr><td>Signs</td><td>2545-08-02</td><td>Thriller/Suspense</td><td>PG-13</td><td>227965690</td><td>330754439</td></tr>",
                            "<tr><td>Sen to Chihiro no Kamikakushi</td><td>2545-09-20</td><td>Adventure</td><td>PG</td><td>10049886</td><td>14338992</td></tr>",
                            "<tr><td>Sweet Home Alabama</td><td>2545-09-27</td><td>Comedy</td><td>PG-13</td><td>127214072</td><td>184521151</td></tr>",
                            "<tr><td>Moonlight Mile</td><td>2545-09-27</td><td>Drama</td><td>PG-13</td><td>6830957</td><td>9909094</td></tr>",
                            "<tr><td>Tuck Everlasting</td><td>2545-10-11</td><td>Drama</td><td>PG</td><td>19161999</td><td>27789959</td></tr>",
                            "<tr><td>The Santa Clause 2</td><td>2545-11-01</td><td>Comedy</td><td>G</td><td>139225854</td><td>201959095</td></tr>",
                            "<tr><td>Treasure Planet</td><td>2545-11-27</td><td>Adventure</td><td>PG</td><td>38120554</td><td>55189145</td></tr>",
                            "<tr><td>The Hot Chick</td><td>2545-12-13</td><td>Comedy</td><td>PG-13</td><td>35081550</td><td>50624654</td></tr>",
                            "<tr><td>25th Hour</td><td>2545-12-19</td><td>Drama</td><td>R</td><td>13084595</td><td>18325463</td></tr>",
                            "<tr><td>The Recruit</td><td>2546-01-31</td><td>Thriller/Suspense</td><td>PG-13</td><td>52784696</td><td>73793522</td></tr>",
                            "<tr><td>Shanghai Knights</td><td>2546-02-07</td><td>Adventure</td><td>PG-13</td><td>60470220</td><td>84537962</td></tr>",
                            "<tr><td>The Jungle Book 2</td><td>2546-02-14</td><td>Adventure</td><td>G</td><td>47901582</td><td>66966883</td></tr>",
                            "<tr><td>Bringing Down the House</td><td>2546-03-07</td><td>Comedy</td><td>PG-13</td><td>132675402</td><td>185481530</td></tr>",
                            "<tr><td>Piglet's Big Movie</td><td>2546-03-21</td><td>Comedy</td><td>G</td><td>23103423</td><td>32298812</td></tr>",
                            "<tr><td>Ghosts of the Abyss</td><td>2546-04-11</td><td>Documentary</td><td>G</td><td>17093668</td><td>23803108</td></tr>",
                            "<tr><td>Holes</td><td>2546-04-18</td><td>Drama</td><td>PG</td><td>67383924</td><td>94203395</td></tr>",
                            "<tr><td>The Lizzie McGuire Movie</td><td>2546-05-02</td><td>Comedy</td><td>PG</td><td>42734455</td><td>59743191</td></tr>",
                            "<tr><td>Finding Nemo</td><td>2546-05-30</td><td>Adventure</td><td>G</td><td>380529370</td><td>518148559</td></tr>",
                            "<tr><td>Pirates of the Caribbean: The Curse o…</td><td>2546-07-09</td><td>Adventure</td><td>PG-13</td><td>305411224</td><td>426967926</td></tr>",
                            "<tr><td>Freaky Friday</td><td>2546-08-06</td><td>Comedy</td><td>PG</td><td>110222438</td><td>154090360</td></tr>",
                            "<tr><td>Open Range</td><td>2546-08-15</td><td>Western</td><td>R</td><td>58331254</td><td>81547672</td></tr>",
                            "<tr><td>Cold Creek Manor</td><td>2546-09-19</td><td>Thriller/Suspense</td><td>R</td><td>21384035</td><td>29895090</td></tr>",
                            "<tr><td>Under the Tuscan Sun</td><td>2546-09-26</td><td>Comedy</td><td>PG-13</td><td>43601508</td><td>60944053</td></tr>",
                            "<tr><td>Veronica Guerin</td><td>2546-10-17</td><td>Drama</td><td>R</td><td>1569918</td><td>2194759</td></tr>",
                            "<tr><td>Brother Bear</td><td>2546-10-24</td><td>Adventure</td><td>G</td><td>85336277</td><td>119218333</td></tr>",
                            "<tr><td>The Haunted Mansion</td><td>2546-11-26</td><td>Comedy</td><td>PG</td><td>75817994</td><td>105775678</td></tr>",
                            "<tr><td>Calendar Girls</td><td>2546-12-19</td><td>Comedy</td><td>PG-13</td><td>31011616</td><td>42379650</td></tr>",
                            "<tr><td>Young Black Stallion</td><td>2546-12-25</td><td>Adventure</td><td>G</td><td>6751389</td><td>9254344</td></tr>",
                            "<tr><td>Teacher's Pet: The Movie</td><td>2547-01-16</td><td>Comedy</td><td>PG</td><td>6491969</td><td>8812764</td></tr>",
                            "<tr><td>Miracle</td><td>2547-02-06</td><td>Drama</td><td>PG</td><td>64378093</td><td>87392478</td></tr>",
                            "<tr><td>Confessions of a Teenage Drama Queen</td><td>2547-02-20</td><td>Comedy</td><td>PG</td><td>29331068</td><td>39816568</td></tr>",
                            "<tr><td>Hidalgo</td><td>2547-03-05</td><td>Western</td><td>PG-13</td><td>67286731</td><td>91340921</td></tr>",
                            "<tr><td>The Ladykillers</td><td>2547-03-26</td><td>Comedy</td><td>R</td><td>39692139</td><td>53881593</td></tr>",
                            "<tr><td>Home on the Range</td><td>2547-04-02</td><td>Comedy</td><td>PG</td><td>50026353</td><td>67910166</td></tr>",
                            "<tr><td>The Alamo</td><td>2547-04-09</td><td>Western</td><td>PG-13</td><td>22406362</td><td>30416359</td></tr>",
                            "<tr><td>Raising Helen</td><td>2547-05-28</td><td>Comedy</td><td>PG-13</td><td>37485528</td><td>50886144</td></tr>",
                            "<tr><td>Around the World in 80 Days</td><td>2547-06-16</td><td>Adventure</td><td>PG</td><td>24004159</td><td>32585356</td></tr>",
                            "<tr><td>America's Heart and Soul</td><td>2547-07-02</td><td>Documentary</td><td>Not Rated</td><td>314000</td><td>426246</td></tr>",
                            "<tr><td>King Arthur</td><td>2547-07-07</td><td>Adventure</td><td>PG-13</td><td>51877963</td><td>70423706</td></tr>",
                            "<tr><td>The Village</td><td>2547-07-30</td><td>Thriller/Suspense</td><td>PG-13</td><td>114197520</td><td>155021748</td></tr>",
                            "<tr><td>The Princess Diaries 2: Royal Engagement</td><td>2547-08-11</td><td>Romantic Comedy</td><td>G</td><td>95149435</td><td>129164207</td></tr>",
                            "<tr><td>Mr. 3000</td><td>2547-09-17</td><td>Comedy</td><td>PG-13</td><td>21800302</td><td>29593641</td></tr>",
                            "<tr><td>The Last Shot</td><td>2547-09-24</td><td>Comedy</td><td>R</td><td>463730</td><td>629502</td></tr>",
                            "<tr><td>Ladder 49</td><td>2547-10-01</td><td>Action</td><td>PG-13</td><td>74541707</td><td>101161045</td></tr>",
                            "<tr><td>The Incredibles</td><td>2547-11-05</td><td>Adventure</td><td>PG</td><td>261441092</td><td>354488708</td></tr>",
                            "<tr><td>National Treasure</td><td>2547-11-19</td><td>Adventure</td><td>PG</td><td>173005002</td><td>234069353</td></tr>",
                            "<tr><td>The Life Aquatic with Steve Zissou</td><td>2547-12-10</td><td>Comedy</td><td>R</td><td>24006726</td><td>32198655</td></tr>",
                            "<tr><td>Aliens of the Deep</td><td>2548-01-28</td><td>Documentary</td><td>G</td><td>8968684</td><td>11740942</td></tr>",
                            "<tr><td>Pooh's Heffalump Movie</td><td>2548-02-11</td><td>Adventure</td><td>G</td><td>18098433</td><td>23801835</td></tr>",
                            "<tr><td>The Pacifier</td><td>2548-03-04</td><td>Comedy</td><td>PG</td><td>113006880</td><td>148619029</td></tr>",
                            "<tr><td>Ice Princess</td><td>2548-03-18</td><td>Comedy</td><td>G</td><td>24381334</td><td>32064685</td></tr>",
                            "<tr><td>A Lot Like Love</td><td>2548-04-22</td><td>Comedy</td><td>PG-13</td><td>21835784</td><td>28716947</td></tr>",
                            "<tr><td>The Hitchhiker's Guide to the Galaxy</td><td>2548-04-29</td><td>Comedy</td><td>PG</td><td>51019112</td><td>67096891</td></tr>",
                            "<tr><td>Hauru no ugoku shiro</td><td>2548-06-10</td><td>Adventure</td><td>PG</td><td>4710455</td><td>6194870</td></tr>",
                            "<tr><td>Herbie: Fully Loaded</td><td>2548-06-22</td><td>Comedy</td><td>G</td><td>66010682</td><td>86812798</td></tr>",
                            "<tr><td>Dark Water</td><td>2548-07-08</td><td>Thriller/Suspense</td><td>PG-13</td><td>25473093</td><td>33500491</td></tr>",
                            "<tr><td>Sky High</td><td>2548-07-29</td><td>Adventure</td><td>PG</td><td>63939454</td><td>84088854</td></tr>",
                            "<tr><td>Valiant</td><td>2548-08-19</td><td>Adventure</td><td>G</td><td>19478106</td><td>25616292</td></tr>",
                            "<tr><td>Flightplan</td><td>2548-09-23</td><td>Thriller/Suspense</td><td>PG-13</td><td>89706988</td><td>117960425</td></tr>",
                            "<tr><td>The Greatest Game Ever Played</td><td>2548-09-30</td><td>Drama</td><td>PG</td><td>15331289</td><td>20162672</td></tr>",
                            "<tr><td>Shopgirl</td><td>2548-10-21</td><td>Drama</td><td>R</td><td>10284523</td><td>13519621</td></tr>",
                            "<tr><td>Chicken Little</td><td>2548-11-04</td><td>Adventure</td><td>G</td><td>135386665</td><td>177954661</td></tr>",
                            "<tr><td>The Chronicles of Narnia: The Lion, t…</td><td>2548-12-09</td><td>Adventure</td><td>PG</td><td>291710957</td><td>381557539</td></tr>",
                            "<tr><td>Casanova</td><td>2548-12-25</td><td>Drama</td><td>R</td><td>11304403</td><td>14574087</td></tr>",
                            "<tr><td>Glory Road</td><td>2549-01-13</td><td>Drama</td><td>PG</td><td>42647449</td><td>54888236</td></tr>",
                            "<tr><td>Annapolis</td><td>2549-01-27</td><td>Drama</td><td>PG-13</td><td>17127992</td><td>22044113</td></tr>",
                            "<tr><td>Roving Mars</td><td>2549-01-27</td><td>Documentary</td><td>G</td><td>10407978</td><td>12948025</td></tr>",
                            "<tr><td>Eight Below</td><td>2549-02-17</td><td>Adventure</td><td>PG</td><td>81612565</td><td>105037235</td></tr>",
                            "<tr><td>The Shaggy Dog</td><td>2549-03-10</td><td>Comedy</td><td>PG</td><td>61123569</td><td>78667428</td></tr>",
                            "<tr><td>Stay Alive</td><td>2549-03-24</td><td>Horror</td><td>PG-13</td><td>23086480</td><td>29712825</td></tr>",
                            "<tr><td>The Wild</td><td>2549-04-14</td><td>Adventure</td><td>G</td><td>37384046</td><td>48114115</td></tr>",
                            "<tr><td>Stick It</td><td>2549-04-28</td><td>Comedy</td><td>PG-13</td><td>26910736</td><td>34634731</td></tr>",
                            "<tr><td>Goal! The Dream Begins</td><td>2549-05-12</td><td>Drama</td><td>PG</td><td>4283255</td><td>5512647</td></tr>",
                            "<tr><td>Cars</td><td>2549-06-09</td><td>Comedy</td><td>G</td><td>244082982</td><td>314140384</td></tr>",
                            "<tr><td>Pirates of the Caribbean: Dead Man’…</td><td>2549-07-07</td><td>Adventure</td><td>PG-13</td><td>423315812</td><td>544817142</td></tr>",
                            "<tr><td>Step Up</td><td>2549-08-11</td><td>Drama</td><td>PG-13</td><td>65328121</td><td>84078780</td></tr>",
                            "<tr><td>Invincible</td><td>2549-08-25</td><td>Drama</td><td>PG</td><td>57806952</td><td>74398864</td></tr>",
                            "<tr><td>The Guardian</td><td>2549-09-29</td><td>Action</td><td>PG-13</td><td>55011732</td><td>70801353</td></tr>",
                            "<tr><td>The Prestige</td><td>2549-10-20</td><td>Thriller/Suspense</td><td>PG-13</td><td>53089891</td><td>68289913</td></tr>",
                            "<tr><td>Tim Burton's The Nightmare Before Chr…</td><td>2549-10-20</td><td>Musical</td><td>PG</td><td>24732041</td><td>30737517</td></tr>",
                            "<tr><td>The Santa Clause 3: The Escape Clause</td><td>2549-11-03</td><td>Comedy</td><td>G</td><td>84500122</td><td>108694869</td></tr>",
                            "<tr><td>Déjà Vu</td><td>2549-11-22</td><td>Thriller/Suspense</td><td>PG-13</td><td>64038616</td><td>82267038</td></tr>",
                            "<tr><td>Apocalypto</td><td>2549-12-08</td><td>Adventure</td><td>R</td><td>50866635</td><td>64959548</td></tr>",
                            "<tr><td>Primeval</td><td>2550-01-12</td><td>Adventure</td><td>R</td><td>10597734</td><td>12985302</td></tr>",
                            "<tr><td>Bridge to Terabithia</td><td>2550-02-16</td><td>Drama</td><td>PG</td><td>82234139</td><td>100760721</td></tr>",
                            "<tr><td>Wild Hogs</td><td>2550-03-02</td><td>Comedy</td><td>PG-13</td><td>168213584</td><td>206110533</td></tr>",
                            "<tr><td>Meet the Robinsons</td><td>2550-03-30</td><td>Adventure</td><td>G</td><td>97822171</td><td>119860589</td></tr>",
                            "<tr><td>The Lookout</td><td>2550-03-30</td><td>Drama</td><td>R</td><td>4600585</td><td>5637048</td></tr>",
                            "<tr><td>The Hoax</td><td>2550-04-06</td><td>Drama</td><td>R</td><td>7164995</td><td>8779196</td></tr>",
                            "<tr><td>The Invisible</td><td>2550-04-27</td><td>Thriller/Suspense</td><td>PG-13</td><td>20568319</td><td>25202168</td></tr>",
                            "<tr><td>Pirates of the Caribbean: At World’…</td><td>2550-05-24</td><td>Adventure</td><td>PG-13</td><td>309420425</td><td>379129960</td></tr>",
                            "<tr><td>Ratatouille</td><td>2550-06-29</td><td>Comedy</td><td>G</td><td>206445654</td><td>252955933</td></tr>",
                            "<tr><td>Underdog</td><td>2550-08-03</td><td>Adventure</td><td>PG</td><td>43760605</td><td>53619462</td></tr>",
                            "<tr><td>The Game Plan</td><td>2550-09-22</td><td>Comedy</td><td>PG</td><td>90648202</td><td>111010758</td></tr>",
                            "<tr><td>Dan in Real Life</td><td>2550-10-20</td><td>Romantic Comedy</td><td>PG-13</td><td>47642963</td><td>58350234</td></tr>",
                            "<tr><td>Enchanted</td><td>2550-11-21</td><td>Romantic Comedy</td><td>PG</td><td>127706877</td><td>156074310</td></tr>",
                            "<tr><td>National Treasure 2: Book of Secrets</td><td>2550-12-21</td><td>Adventure</td><td>PG</td><td>219961501</td><td>267003525</td></tr>",
                            "<tr><td>Hannah Montana/Miley Cyrus: Best of B…</td><td>2551-02-01</td><td>Concert/Performance</td><td>G</td><td>65281781</td><td>76646993</td></tr>",
                            "<tr><td>Step Up 2 the Streets</td><td>2551-02-14</td><td>Drama</td><td>PG-13</td><td>58017783</td><td>68118371</td></tr>",
                            "<tr><td>College Road Trip</td><td>2551-03-07</td><td>Comedy</td><td>G</td><td>45610425</td><td>53550960</td></tr>",
                            "<tr><td>The Chronicles of Narnia: Prince Caspian</td><td>2551-05-16</td><td>Adventure</td><td>PG</td><td>141621490</td><td>166277038</td></tr>",
                            "<tr><td>WALL-E</td><td>2551-06-27</td><td>Adventure</td><td>G</td><td>223808164</td><td>262771918</td></tr>",
                            "<tr><td>Swing Vote</td><td>2551-08-01</td><td>Comedy</td><td>PG-13</td><td>16289867</td><td>19125841</td></tr>",
                            "<tr><td>Goal! 2: Living the Dream...</td><td>2551-08-29</td><td>Drama</td><td>PG-13</td><td>225067</td><td>264247</td></tr>",
                            "<tr><td>Miracle at St. Anna</td><td>2551-09-26</td><td>Drama</td><td>R</td><td>7916887</td><td>9295171</td></tr>",
                            "<tr><td>Beverly Hills Chihuahua</td><td>2551-10-03</td><td>Comedy</td><td>PG</td><td>94514402</td><td>110932022</td></tr>",
                            "<tr><td>Morning Light</td><td>2551-10-17</td><td>Documentary</td><td>PG</td><td>275093</td><td>322979</td></tr>",
                            "<tr><td>High School Musical 3: Senior Year</td><td>2551-10-24</td><td>Musical</td><td>G</td><td>90559416</td><td>106308538</td></tr>",
                            "<tr><td>Bolt</td><td>2551-11-21</td><td>Comedy</td><td>PG</td><td>114053759</td><td>133702498</td></tr>",
                            "<tr><td>Bedtime Stories</td><td>2551-12-25</td><td>Comedy</td><td>PG</td><td>110101975</td><td>128039679</td></tr>",
                            "<tr><td>Confessions of a Shopaholic</td><td>2552-02-13</td><td>Romantic Comedy</td><td>PG</td><td>44277350</td><td>49767744</td></tr>",
                            "<tr><td>Jonas Brothers: The 3D Concert Experi…</td><td>2552-02-27</td><td>Concert/Performance</td><td>G</td><td>38174685</td><td>38174685</td></tr>",
                            "<tr><td>Race to Witch Mountain</td><td>2552-03-13</td><td>Adventure</td><td>PG</td><td>67172594</td><td>75501997</td></tr>",
                            "<tr><td>Hannah Montana the Movie</td><td>2552-04-10</td><td>Drama</td><td>G</td><td>79576189</td><td>89443640</td></tr>",
                            "<tr><td>Earth</td><td>2552-04-22</td><td>Documentary</td><td>G</td><td>32011576</td><td>35981010</td></tr>",
                            "<tr><td>Up</td><td>2552-05-29</td><td>Adventure</td><td>PG</td><td>293004164</td><td>329336681</td></tr>",
                            "<tr><td>The Proposal</td><td>2552-06-19</td><td>Romantic Comedy</td><td>PG-13</td><td>163958031</td><td>184288829</td></tr>",
                            "<tr><td>G-Force</td><td>2552-07-24</td><td>Adventure</td><td>PG</td><td>119436770</td><td>134246932</td></tr>",
                            "<tr><td>Gake no ue no Ponyo</td><td>2552-08-14</td><td>Adventure</td><td>G</td><td>15090399</td><td>16961607</td></tr>",
                            "<tr><td>X Games 3D: The Movie</td><td>2552-08-21</td><td>Documentary</td><td>PG</td><td>1391434</td><td>1563976</td></tr>",
                            "<tr><td>Walt and El Grupo</td><td>2552-09-10</td><td>Documentary</td><td>PG</td><td>20521</td><td>23064</td></tr>",
                            "<tr><td>Surrogates</td><td>2552-09-25</td><td>Action</td><td>PG-13</td><td>38577772</td><td>43361416</td></tr>",
                            "<tr><td>Toy Story 3D Double Feature</td><td>2552-10-02</td><td>Adventure</td><td>G</td><td>30702446</td><td>34509545</td></tr>",
                            "<tr><td>Disney's A Christmas Carol</td><td>2552-11-06</td><td>Drama</td><td>PG</td><td>137855863</td><td>154927105</td></tr>",
                            "<tr><td>The Princess and the Frog</td><td>2552-11-25</td><td>Adventure</td><td>G</td><td>104400899</td><td>116316457</td></tr>",
                            "<tr><td>Old Dogs</td><td>2552-11-25</td><td>Comedy</td><td>PG</td><td>49492060</td><td>55503929</td></tr>",
                            "<tr><td>When in Rome</td><td>2553-01-29</td><td>Romantic Comedy</td><td>PG-13</td><td>32680633</td><td>34917330</td></tr>",
                            "<tr><td>Alice in Wonderland</td><td>2553-03-05</td><td>Adventure</td><td>PG</td><td>334191110</td><td>357063499</td></tr>",
                            "<tr><td>Waking Sleeping Beauty</td><td>2553-03-26</td><td>Documentary</td><td>PG</td><td>80741</td><td>86264</td></tr>",
                            "<tr><td>The Last Song</td><td>2553-03-31</td><td>Drama</td><td>PG</td><td>62950384</td><td>67258772</td></tr>",
                            "<tr><td>Oceans</td><td>2553-04-22</td><td>Documentary</td><td>G</td><td>19422319</td><td>20751600</td></tr>",
                            "<tr><td>Prince of Persia: Sands of Time</td><td>2553-05-28</td><td>Action</td><td>PG-13</td><td>90759676</td><td>96971361</td></tr>",
                            "<tr><td>Toy Story 3</td><td>2553-06-18</td><td>Adventure</td><td>G</td><td>415004880</td><td>443408255</td></tr>",
                            "<tr><td>The Sorcerer's Apprentice</td><td>2553-07-14</td><td>Adventure</td><td>PG</td><td>63150991</td><td>67473105</td></tr>",
                            "<tr><td>Step Up 3D</td><td>2553-08-06</td><td>Drama</td><td>PG-13</td><td>42400223</td><td>45302137</td></tr>",
                            "<tr><td>Gedo Senki (Tales from Earthsea)</td><td>2553-08-13</td><td>Adventure</td><td>PG-13</td><td>48658</td><td>51988</td></tr>",
                            "<tr><td>You Again</td><td>2553-09-24</td><td>Comedy</td><td>PG</td><td>25702053</td><td>27461121</td></tr>",
                            "<tr><td>Secretariat</td><td>2553-10-08</td><td>Drama</td><td>PG</td><td>59699513</td><td>63781920</td></tr>",
                            "<tr><td>Tangled</td><td>2553-11-24</td><td>Adventure</td><td>PG</td><td>200821936</td><td>214388548</td></tr>",
                            "<tr><td>Tron: Legacy</td><td>2553-12-17</td><td>Adventure</td><td>PG</td><td>172062763</td><td>183619259</td></tr>",
                            "<tr><td>Gnomeo and Juliet</td><td>2554-02-11</td><td>Comedy</td><td>G</td><td>99967670</td><td>106270797</td></tr>",
                            "<tr><td>I am Number Four</td><td>2554-02-18</td><td>Adventure</td><td>PG-13</td><td>55100437</td><td>58574607</td></tr>",
                            "<tr><td>Mars Needs Moms</td><td>2554-03-11</td><td>Adventure</td><td>PG</td><td>21392758</td><td>22741603</td></tr>",
                            "<tr><td>African Cats</td><td>2554-04-22</td><td>Documentary</td><td>G</td><td>15428747</td><td>16401551</td></tr>",
                            "<tr><td>Zokkomon</td><td>2554-04-22</td><td>Adventure</td><td>PG</td><td>2815</td><td>2984</td></tr>",
                            "<tr><td>Prom</td><td>2554-04-29</td><td>Comedy</td><td>PG</td><td>10130219</td><td>10768946</td></tr>",
                            "<tr><td>Pirates of the Caribbean: On Stranger…</td><td>2554-05-20</td><td>Adventure</td><td>PG-13</td><td>241063875</td><td>256263359</td></tr>",
                            "<tr><td>Cars 2</td><td>2554-06-24</td><td>Adventure</td><td>G</td><td>191450875</td><td>203522177</td></tr>",
                            "<tr><td>Winnie the Pooh</td><td>2554-07-15</td><td>Adventure</td><td>G</td><td>26692846</td><td>28375869</td></tr>",
                            "<tr><td>The Help</td><td>2554-08-10</td><td>Drama</td><td>PG-13</td><td>169705587</td><td>180404976</td></tr>",
                            "<tr><td>Fright Night</td><td>2554-08-19</td><td>Horror</td><td>R</td><td>18298649</td><td>19452402</td></tr>",
                            "<tr><td>Real Steel</td><td>2554-10-07</td><td>Action</td><td>PG-13</td><td>85463309</td><td>90848019</td></tr>",
                            "<tr><td>The Muppets</td><td>2554-11-23</td><td>Comedy</td><td>PG</td><td>88625922</td><td>94189503</td></tr>",
                            "<tr><td>War Horse</td><td>2554-12-25</td><td>Drama</td><td>PG-13</td><td>79883359</td><td>84762149</td></tr>",
                            "<tr><td>The Secret World of Arietty</td><td>2555-02-17</td><td>Adventure</td><td>G</td><td>19192510</td><td>20325733</td></tr>",
                            "<tr><td>John Carter</td><td>2555-03-09</td><td>Adventure</td><td>PG-13</td><td>73058679</td><td>77372445</td></tr>",
                            "<tr><td>Chimpanzee</td><td>2555-04-20</td><td>Documentary</td><td>G</td><td>28965459</td><td>30675725</td></tr>",
                            "<tr><td>The Avengers</td><td>2555-05-04</td><td>Action</td><td>PG-13</td><td>623279547</td><td>660081224</td></tr>",
                            "<tr><td>Brave</td><td>2555-06-22</td><td>Adventure</td><td>PG</td><td>237282182</td><td>251292441</td></tr>",
                            "<tr><td>People Like Us</td><td>2555-06-29</td><td>Drama</td><td>PG-13</td><td>12431792</td><td>13165822</td></tr>",
                            "<tr><td>The Odd Life of Timothy Green</td><td>2555-08-15</td><td>Drama</td><td>PG</td><td>51853450</td><td>54914942</td></tr>",
                            "<tr><td>Frankenweenie</td><td>2555-10-05</td><td>Comedy</td><td>PG</td><td>35287788</td><td>37363513</td></tr>",
                            "<tr><td>Wreck-It Ralph</td><td>2555-11-02</td><td>Adventure</td><td>PG</td><td>189412677</td><td>200354959</td></tr>",
                            "<tr><td>Lincoln</td><td>2555-11-09</td><td>Drama</td><td>PG-13</td><td>182207973</td><td>192122330</td></tr>",
                            "<tr><td>Oz the Great and Powerful</td><td>2556-03-08</td><td>Adventure</td><td>PG</td><td>234770996</td><td>243434130</td></tr>",
                            "<tr><td>Iron Man 3</td><td>2556-05-03</td><td>Action</td><td>PG-13</td><td>408992272</td><td>424084233</td></tr>",
                            "<tr><td>Monsters University</td><td>2556-06-21</td><td>Adventure</td><td>G</td><td>268488329</td><td>278395641</td></tr>",
                            "<tr><td>The Lone Ranger</td><td>2556-07-02</td><td>Western</td><td>PG-13</td><td>89302115</td><td>92597388</td></tr>",
                            "<tr><td>Disney Planes</td><td>2556-08-09</td><td>Comedy</td><td>PG</td><td>90282580</td><td>93614037</td></tr>",
                            "<tr><td>The Fifth Estate</td><td>2556-10-18</td><td>Drama</td><td>R</td><td>3254172</td><td>3374251</td></tr>",
                            "<tr><td>Thor: The Dark World</td><td>2556-11-08</td><td>Adventure</td><td>PG-13</td><td>206362140</td><td>213962184</td></tr>",
                            "<tr><td>Kaze Tachinu</td><td>2556-11-08</td><td>Drama</td><td>PG-13</td><td>5201879</td><td>5367415</td></tr>",
                            "<tr><td>Frozen</td><td>2556-11-22</td><td>Adventure</td><td>PG</td><td>400738009</td><td>414997174</td></tr>",
                            "<tr><td>Delivery Man</td><td>2556-11-22</td><td>Comedy</td><td>PG-13</td><td>30659817</td><td>31787136</td></tr>",
                            "<tr><td>Saving Mr. Banks</td><td>2556-12-13</td><td>Drama</td><td>PG-13</td><td>83299761</td><td>86249969</td></tr>",
                            "<tr><td>Need for Speed</td><td>2557-03-14</td><td>Action</td><td>PG-13</td><td>43568507</td><td>44955015</td></tr>",
                            "<tr><td>Muppets Most Wanted</td><td>2557-03-21</td><td>Comedy</td><td>PG</td><td>51178893</td><td>52807594</td></tr>",
                            "<tr><td>Captain America: The Winter Soldier</td><td>2557-04-04</td><td>Action</td><td>PG-13</td><td>259746958</td><td>268013076</td></tr>",
                            "<tr><td>Bears</td><td>2557-04-18</td><td>Documentary</td><td>G</td><td>17780194</td><td>18346024</td></tr>",
                            "<tr><td>Million Dollar Arm</td><td>2557-05-10</td><td>Drama</td><td>PG</td><td>36447959</td><td>37607865</td></tr>",
                            "<tr><td>Maleficent</td><td>2557-05-30</td><td>Adventure</td><td>PG</td><td>241407328</td><td>249089809</td></tr>",
                            "<tr><td>Planes: Fire and Rescue</td><td>2557-07-18</td><td>Adventure</td><td>PG</td><td>59157732</td><td>61040349</td></tr>",
                            "<tr><td>Guardians of the Galaxy</td><td>2557-08-01</td><td>Adventure</td><td>PG-13</td><td>333172112</td><td>343771168</td></tr>",
                            "<tr><td>The Hundred-Foot Journey</td><td>2557-08-08</td><td>Romantic Comedy</td><td>PG</td><td>54235441</td><td>55961409</td></tr>",
                            "<tr><td>Alexander and the Terrible, Horrible,…</td><td>2557-10-10</td><td>Comedy</td><td>PG</td><td>66954149</td><td>69055550</td></tr>",
                            "<tr><td>Big Hero 6</td><td>2557-11-07</td><td>Adventure</td><td>PG</td><td>222527828</td><td>229249222</td></tr>",
                            "<tr><td>Into the Woods</td><td>2557-12-25</td><td>Musical</td><td>PG</td><td>128002372</td><td>130894237</td></tr>",
                            "<tr><td>Strange Magic</td><td>2558-01-23</td><td>Adventure</td><td>PG</td><td>12429583</td><td>12429583</td></tr>",
                            "<tr><td>McFarland, USA</td><td>2558-02-20</td><td>Drama</td><td>PG</td><td>44480275</td><td>44480275</td></tr>",
                            "<tr><td>Cinderella</td><td>2558-03-13</td><td>Drama</td><td>PG</td><td>201151353</td><td>201151353</td></tr>",
                            "<tr><td>Monkey Kingdom</td><td>2558-04-17</td><td>Documentary</td><td>G</td><td>16432322</td><td>16432322</td></tr>",
                            "<tr><td>Avengers: Age of Ultron</td><td>2558-05-01</td><td>Action</td><td>PG-13</td><td>459005868</td><td>459005868</td></tr>",
                            "<tr><td>Tomorrowland</td><td>2558-05-22</td><td>Adventure</td><td>PG</td><td>93436322</td><td>93436322</td></tr>",
                            "<tr><td>Inside Out</td><td>2558-06-19</td><td>Adventure</td><td>PG</td><td>356461711</td><td>356461711</td></tr>",
                            "<tr><td>Ant-Man</td><td>2558-07-17</td><td>Action</td><td>PG-13</td><td>180202163</td><td>180202163</td></tr>",
                            "<tr><td>Bridge of Spies</td><td>2558-10-16</td><td>Thriller/Suspense</td><td>PG-13</td><td>72313754</td><td>72313754</td></tr>",
                            "<tr><td>The Good Dinosaur</td><td>2558-11-25</td><td>Adventure</td><td>PG</td><td>123087120</td><td>123087120</td></tr>",
                            "<tr><td>Star Wars Ep. VII: The Force Awakens</td><td>2558-12-18</td><td>Adventure</td><td>PG-13</td><td>936662225</td><td>936662225</td></tr>",
                            "<tr><td>The Finest Hours</td><td>2559-01-29</td><td>Thriller/Suspense</td><td>PG</td><td>27569558</td><td>27569558</td></tr>",
                            "<tr><td>Zootopia</td><td>2559-03-04</td><td>Adventure</td><td>PG</td><td>341268248</td><td>341268248</td></tr>",
                            "<tr><td>The Jungle Book</td><td>2559-04-15</td><td>Adventure</td><td>PG</td><td>364001123</td><td>364001123</td></tr>",
                            "<tr><td>A Beautiful Planet</td><td>2559-04-29</td><td>Documentary</td><td>G</td><td>7895708</td><td>7895708</td></tr>",
                            "<tr><td>Captain America: Civil War</td><td>2559-05-06</td><td>Action</td><td>PG-13</td><td>408084349</td><td>408084349</td></tr>",
                            "<tr><td>Alice Through the Looking Glass</td><td>2559-05-27</td><td>Adventure</td><td>PG</td><td>77042381</td><td>77042381</td></tr>",
                            "<tr><td>Finding Dory</td><td>2559-06-17</td><td>Adventure</td><td>PG</td><td>486295561</td><td>486295561</td></tr>",
                            "<tr><td>The BFG</td><td>2559-07-01</td><td>Adventure</td><td>PG</td><td>55483770</td><td>55483770</td></tr>",
                            "<tr><td>Pete’s Dragon</td><td>2559-08-12</td><td>Adventure</td><td>PG</td><td>76233151</td><td>76233151</td></tr>",
                            "<tr><td>The Light Between Oceans</td><td>2559-09-02</td><td>Drama</td><td>PG-13</td><td>12545979</td><td>12545979</td></tr>",
                            "<tr><td>Queen of Katwe</td><td>2559-09-23</td><td>Drama</td><td>PG</td><td>8874389</td><td>8874389</td></tr>",
                            "<tr><td>Doctor Strange</td><td>2559-11-04</td><td>Adventure</td><td>PG-13</td><td>232532923</td><td>232532923</td></tr>",
                            "<tr><td>Moana</td><td>2559-11-23</td><td>Adventure</td><td>PG</td><td>246082029</td><td>246082029</td></tr>",
                            "<tr><td>Rogue One: A Star Wars Story</td><td>2559-12-16</td><td>Adventure</td><td>PG-13</td><td>529483936</td><td>529483936</td></tr>",
                            "</table>"
                        ]
                    }
                }
            ],
            "execution_count": 2
        },
        {
            "cell_type": "code",
            "source": [
                "SELECT * FROM movie_gross where movie_title LIKE '[TWE]%'"
            ],
            "metadata": {
                "azdata_cell_guid": "b156d511-8e93-4fd7-ba79-62c028be7d9a"
            },
            "outputs": [
                {
                    "output_type": "display_data",
                    "data": {
                        "text/html": "(173 rows affected)"
                    },
                    "metadata": {}
                },
                {
                    "output_type": "display_data",
                    "data": {
                        "text/html": "Total execution time: 00:00:00.163"
                    },
                    "metadata": {}
                },
                {
                    "output_type": "execute_result",
                    "metadata": {},
                    "execution_count": 7,
                    "data": {
                        "application/vnd.dataresource+json": {
                            "schema": {
                                "fields": [
                                    {
                                        "name": "movie_title"
                                    },
                                    {
                                        "name": "release_date"
                                    },
                                    {
                                        "name": "genre"
                                    },
                                    {
                                        "name": "mpaa_rating"
                                    },
                                    {
                                        "name": "total_gross"
                                    },
                                    {
                                        "name": "inflation_adjusted_gross"
                                    }
                                ]
                            },
                            "data": [
                                {
                                    "0": "The Absent Minded Professor",
                                    "1": "2504-03-16",
                                    "2": "Comedy",
                                    "3": "NULL",
                                    "4": "25381407",
                                    "5": "310094574"
                                },
                                {
                                    "0": "The Sword in the Stone",
                                    "1": "2506-12-25",
                                    "2": "Adventure",
                                    "3": "NULL",
                                    "4": "22182353",
                                    "5": "153870834"
                                },
                                {
                                    "0": "The Jungle Book",
                                    "1": "2510-10-18",
                                    "2": "Musical",
                                    "3": "Not Rated",
                                    "4": "141843000",
                                    "5": "789612346"
                                },
                                {
                                    "0": "The Aristocats",
                                    "1": "2513-04-24",
                                    "2": "Musical",
                                    "3": "G",
                                    "4": "55675257",
                                    "5": "255161499"
                                },
                                {
                                    "0": "The Boatniks",
                                    "1": "2513-07-01",
                                    "2": "Comedy",
                                    "3": "NULL",
                                    "4": "18607492",
                                    "5": "101200742"
                                },
                                {
                                    "0": "The Apple Dumpling Gang",
                                    "1": "2518-07-01",
                                    "2": "Comedy",
                                    "3": "NULL",
                                    "4": "31916500",
                                    "5": "131246872"
                                },
                                {
                                    "0": "The Many Adventures of Winnie the Pooh",
                                    "1": "2520-03-11",
                                    "2": "NULL",
                                    "3": "NULL",
                                    "4": "0",
                                    "5": "0"
                                },
                                {
                                    "0": "The Rescuers",
                                    "1": "2520-06-22",
                                    "2": "Adventure",
                                    "3": "NULL",
                                    "4": "48775599",
                                    "5": "159743914"
                                },
                                {
                                    "0": "The Black Hole",
                                    "1": "2522-12-21",
                                    "2": "NULL",
                                    "3": "NULL",
                                    "4": "35841901",
                                    "5": "120377374"
                                },
                                {
                                    "0": "The Last Flight of Noah’s Ark",
                                    "1": "2523-06-25",
                                    "2": "NULL",
                                    "3": "NULL",
                                    "4": "11000000",
                                    "5": "34472116"
                                },
                                {
                                    "0": "The Devil and Max Devlin",
                                    "1": "2524-01-01",
                                    "2": "NULL",
                                    "3": "NULL",
                                    "4": "16000000",
                                    "5": "48517980"
                                },
                                {
                                    "0": "The Fox and the Hound",
                                    "1": "2524-07-10",
                                    "2": "Comedy",
                                    "3": "NULL",
                                    "4": "43899231",
                                    "5": "133118889"
                                },
                                {
                                    "0": "Tron",
                                    "1": "2525-07-09",
                                    "2": "Action",
                                    "3": "NULL",
                                    "4": "26918576",
                                    "5": "77184895"
                                },
                                {
                                    "0": "Tex",
                                    "1": "2525-11-19",
                                    "2": "Drama",
                                    "3": "NULL",
                                    "4": "7199408",
                                    "5": "20643199"
                                },
                                {
                                    "0": "Trenchcoat",
                                    "1": "2526-03-11",
                                    "2": "Comedy",
                                    "3": "NULL",
                                    "4": "4304286",
                                    "5": "11519089"
                                },
                                {
                                    "0": "The Black Cauldron",
                                    "1": "2528-07-24",
                                    "2": "Adventure",
                                    "3": "NULL",
                                    "4": "21288692",
                                    "5": "50553142"
                                },
                                {
                                    "0": "The Journey of Natty Gann",
                                    "1": "2528-09-27",
                                    "2": "Drama",
                                    "3": "NULL",
                                    "4": "9468512",
                                    "5": "22302956"
                                },
                                {
                                    "0": "The Great Mouse Detective",
                                    "1": "2529-07-02",
                                    "2": "Adventure",
                                    "3": "NULL",
                                    "4": "23605534",
                                    "5": "53637367"
                                },
                                {
                                    "0": "Tough Guys",
                                    "1": "2529-10-03",
                                    "2": "Comedy",
                                    "3": "NULL",
                                    "4": "21458229",
                                    "5": "48758184"
                                },
                                {
                                    "0": "The Color of Money",
                                    "1": "2529-10-17",
                                    "2": "Drama",
                                    "3": "R",
                                    "4": "52293000",
                                    "5": "117957323"
                                },
                                {
                                    "0": "Tin Men",
                                    "1": "2530-03-06",
                                    "2": "Comedy",
                                    "3": "NULL",
                                    "4": "25411386",
                                    "5": "54787202"
                                },
                                {
                                    "0": "Ernest Goes to Camp",
                                    "1": "2530-05-22",
                                    "2": "Comedy",
                                    "3": "NULL",
                                    "4": "23509382",
                                    "5": "50686462"
                                },
                                {
                                    "0": "Who Framed Roger Rabbit?",
                                    "1": "2531-06-22",
                                    "2": "Comedy",
                                    "3": "PG",
                                    "4": "154112492",
                                    "5": "316250084"
                                },
                                {
                                    "0": "The Rescue",
                                    "1": "2531-08-05",
                                    "2": "Action",
                                    "3": "NULL",
                                    "4": "5855392",
                                    "5": "12009960"
                                },
                                {
                                    "0": "The Good Mother",
                                    "1": "2531-11-04",
                                    "2": "Drama",
                                    "3": "NULL",
                                    "4": "4764606",
                                    "5": "9772655"
                                },
                                {
                                    "0": "Ernest Saves Christmas",
                                    "1": "2531-11-11",
                                    "2": "Comedy",
                                    "3": "PG",
                                    "4": "28202109",
                                    "5": "57845202"
                                },
                                {
                                    "0": "Three Fugitives",
                                    "1": "2532-01-27",
                                    "2": "Comedy",
                                    "3": "PG-13",
                                    "4": "40590000",
                                    "5": "85757817"
                                },
                                {
                                    "0": "Turner & Hooch",
                                    "1": "2532-07-28",
                                    "2": "Comedy",
                                    "3": "PG",
                                    "4": "71079915",
                                    "5": "150176361"
                                },
                                {
                                    "0": "The Little Mermaid",
                                    "1": "2532-11-15",
                                    "2": "Adventure",
                                    "3": "G",
                                    "4": "111543479",
                                    "5": "223726012"
                                },
                                {
                                    "0": "Where the Heart Is",
                                    "1": "2533-02-23",
                                    "2": "Comedy",
                                    "3": "NULL",
                                    "4": "1106475",
                                    "5": "2210321"
                                },
                                {
                                    "0": "Ernest Goes to Jail",
                                    "1": "2533-04-06",
                                    "2": "Comedy",
                                    "3": "PG",
                                    "4": "25029569",
                                    "5": "49999822"
                                },
                                {
                                    "0": "Taking Care of Business",
                                    "1": "2533-08-17",
                                    "2": "Comedy",
                                    "3": "R",
                                    "4": "20005435",
                                    "5": "39963460"
                                },
                                {
                                    "0": "The Rescuers Down Under",
                                    "1": "2533-11-16",
                                    "2": "Adventure",
                                    "3": "G",
                                    "4": "27931461",
                                    "5": "55796728"
                                },
                                {
                                    "0": "White Fang",
                                    "1": "2534-01-18",
                                    "2": "Adventure",
                                    "3": "PG",
                                    "4": "34729091",
                                    "5": "69540672"
                                },
                                {
                                    "0": "The Marrying Man",
                                    "1": "2534-04-05",
                                    "2": "Romantic Comedy",
                                    "3": "R",
                                    "4": "12454768",
                                    "5": "24939118"
                                },
                                {
                                    "0": "What About Bob?",
                                    "1": "2534-05-17",
                                    "2": "Comedy",
                                    "3": "PG",
                                    "4": "63710000",
                                    "5": "127571325"
                                },
                                {
                                    "0": "Wild Hearts Can't Be Broken",
                                    "1": "2534-05-24",
                                    "2": "Drama",
                                    "3": "NULL",
                                    "4": "7300000",
                                    "5": "14617333"
                                },
                                {
                                    "0": "The Rocketeer",
                                    "1": "2534-06-21",
                                    "2": "Action",
                                    "3": "PG",
                                    "4": "46573027",
                                    "5": "93256673"
                                },
                                {
                                    "0": "The Doctor",
                                    "1": "2534-07-24",
                                    "2": "Drama",
                                    "3": "PG-13",
                                    "4": "37497480",
                                    "5": "75084021"
                                },
                                {
                                    "0": "Ernest Scared Stupid",
                                    "1": "2534-10-11",
                                    "2": "Comedy",
                                    "3": "PG",
                                    "4": "14143280",
                                    "5": "28320147"
                                },
                                {
                                    "0": "The Hand That Rocks the Cradle",
                                    "1": "2535-01-10",
                                    "2": "Thriller/Suspense",
                                    "3": "R",
                                    "4": "88036683",
                                    "5": "178831137"
                                },
                                {
                                    "0": "Encino Man",
                                    "1": "2535-05-22",
                                    "2": "Comedy",
                                    "3": "PG",
                                    "4": "40057130",
                                    "5": "81369058"
                                },
                                {
                                    "0": "The Mighty Ducks",
                                    "1": "2535-10-02",
                                    "2": "Comedy",
                                    "3": "PG",
                                    "4": "50752337",
                                    "5": "103120810"
                                },
                                {
                                    "0": "The Distinguished Gentleman",
                                    "1": "2535-12-04",
                                    "2": "Comedy",
                                    "3": "R",
                                    "4": "46434570",
                                    "5": "94349900"
                                },
                                {
                                    "0": "The Muppet Christmas Carol",
                                    "1": "2535-12-11",
                                    "2": "Comedy",
                                    "3": "G",
                                    "4": "27281507",
                                    "5": "55417615"
                                },
                                {
                                    "0": "The Cemetery Club",
                                    "1": "2536-02-03",
                                    "2": "Comedy",
                                    "3": "PG-13",
                                    "4": "5583621",
                                    "5": "11369541"
                                },
                                {
                                    "0": "The Adventures of Huck Finn",
                                    "1": "2536-04-02",
                                    "2": "Adventure",
                                    "3": "PG",
                                    "4": "24103594",
                                    "5": "49080505"
                                },
                                {
                                    "0": "What's Love Got to Do With It",
                                    "1": "2536-06-09",
                                    "2": "Drama",
                                    "3": "R",
                                    "4": "39100956",
                                    "5": "79618610"
                                },
                                {
                                    "0": "The Joy Luck Club",
                                    "1": "2536-09-08",
                                    "2": "Drama",
                                    "3": "R",
                                    "4": "32790064",
                                    "5": "66768171"
                                },
                                {
                                    "0": "The Program",
                                    "1": "2536-09-24",
                                    "2": "Action",
                                    "3": "R",
                                    "4": "23042200",
                                    "5": "46919256"
                                },
                                {
                                    "0": "The Nightmare Before Christmas",
                                    "1": "2536-10-13",
                                    "2": "Musical",
                                    "3": "PG",
                                    "4": "50408318",
                                    "5": "100026637"
                                },
                                {
                                    "0": "The Three Musketeers",
                                    "1": "2536-11-12",
                                    "2": "Adventure",
                                    "3": "PG",
                                    "4": "53661805",
                                    "5": "109310377"
                                },
                                {
                                    "0": "Tombstone",
                                    "1": "2536-12-25",
                                    "2": "Western",
                                    "3": "R",
                                    "4": "56505065",
                                    "5": "115781734"
                                },
                                {
                                    "0": "The Air Up There",
                                    "1": "2537-01-07",
                                    "2": "Comedy",
                                    "3": "PG",
                                    "4": "20782439",
                                    "5": "42940186"
                                },
                                {
                                    "0": "The Ref",
                                    "1": "2537-03-09",
                                    "2": "Comedy",
                                    "3": "R",
                                    "4": "11325885",
                                    "5": "23401275"
                                },
                                {
                                    "0": "White Fang 2: Myth of the White Wolf",
                                    "1": "2537-04-15",
                                    "2": "Adventure",
                                    "3": "PG",
                                    "4": "8752399",
                                    "5": "18083994"
                                },
                                {
                                    "0": "The Inkwell",
                                    "1": "2537-04-22",
                                    "2": "Comedy",
                                    "3": "R",
                                    "4": "8864699",
                                    "5": "18316030"
                                },
                                {
                                    "0": "When a Man Loves a Woman",
                                    "1": "2537-04-29",
                                    "2": "Drama",
                                    "3": "R",
                                    "4": "50021959",
                                    "5": "103354194"
                                },
                                {
                                    "0": "The Lion King",
                                    "1": "2537-06-15",
                                    "2": "Adventure",
                                    "3": "G",
                                    "4": "422780140",
                                    "5": "761640898"
                                },
                                {
                                    "0": "Terminal Velocity",
                                    "1": "2537-09-23",
                                    "2": "Action",
                                    "3": "PG-13",
                                    "4": "16478900",
                                    "5": "34048315"
                                },
                                {
                                    "0": "Ed Wood",
                                    "1": "2537-09-30",
                                    "2": "Comedy",
                                    "3": "R",
                                    "4": "5828466",
                                    "5": "12042634"
                                },
                                {
                                    "0": "The Puppet Masters",
                                    "1": "2537-10-21",
                                    "2": "Horror",
                                    "3": "R",
                                    "4": "8579626",
                                    "5": "17727017"
                                },
                                {
                                    "0": "The Santa Clause",
                                    "1": "2537-11-11",
                                    "2": "Comedy",
                                    "3": "PG",
                                    "4": "144833357",
                                    "5": "298369717"
                                },
                                {
                                    "0": "The Jungle Book",
                                    "1": "2537-12-25",
                                    "2": "Adventure",
                                    "3": "PG",
                                    "4": "44342956",
                                    "5": "88930321"
                                },
                                {
                                    "0": "The Jerky Boys",
                                    "1": "2538-02-03",
                                    "2": "Comedy",
                                    "3": "R",
                                    "4": "7555256",
                                    "5": "14641561"
                                },
                                {
                                    "0": "Tall Tale",
                                    "1": "2538-03-24",
                                    "2": "Western",
                                    "3": "PG",
                                    "4": "8247627",
                                    "5": "15983331"
                                },
                                {
                                    "0": "While You Were Sleeping",
                                    "1": "2538-04-21",
                                    "2": "Romantic Comedy",
                                    "3": "PG",
                                    "4": "81057016",
                                    "5": "157082900"
                                },
                                {
                                    "0": "The Tie That Binds",
                                    "1": "2538-09-08",
                                    "2": "Thriller/Suspense",
                                    "3": "R",
                                    "4": "5762795",
                                    "5": "11167895"
                                },
                                {
                                    "0": "The Big Green",
                                    "1": "2538-09-29",
                                    "2": "Comedy",
                                    "3": "PG",
                                    "4": "17736619",
                                    "5": "34372339"
                                },
                                {
                                    "0": "The Scarlet Letter",
                                    "1": "2538-10-13",
                                    "2": "Drama",
                                    "3": "R",
                                    "4": "10359006",
                                    "5": "20075033"
                                },
                                {
                                    "0": "Toy Story",
                                    "1": "2538-11-22",
                                    "2": "Adventure",
                                    "3": "G",
                                    "4": "191796233",
                                    "5": "370409631"
                                },
                                {
                                    "0": "Tom and Huck",
                                    "1": "2538-12-22",
                                    "2": "Adventure",
                                    "3": "PG",
                                    "4": "23837227",
                                    "5": "45911517"
                                },
                                {
                                    "0": "White Squall",
                                    "1": "2539-02-02",
                                    "2": "Adventure",
                                    "3": "PG-13",
                                    "4": "10229300",
                                    "5": "19509726"
                                },
                                {
                                    "0": "Two Much",
                                    "1": "2539-03-15",
                                    "2": "Romantic Comedy",
                                    "3": "PG-13",
                                    "4": "1078555",
                                    "5": "2057055"
                                },
                                {
                                    "0": "Eddie",
                                    "1": "2539-05-31",
                                    "2": "Comedy",
                                    "3": "PG-13",
                                    "4": "31369401",
                                    "5": "59828966"
                                },
                                {
                                    "0": "The Rock",
                                    "1": "2539-06-07",
                                    "2": "Action",
                                    "3": "R",
                                    "4": "134069511",
                                    "5": "255702705"
                                },
                                {
                                    "0": "The Hunchback of Notre Dame",
                                    "1": "2539-06-21",
                                    "2": "Adventure",
                                    "3": "G",
                                    "4": "100138851",
                                    "5": "190988799"
                                },
                                {
                                    "0": "The Rich Man's Wife",
                                    "1": "2539-09-13",
                                    "2": "Thriller/Suspense",
                                    "3": "R",
                                    "4": "8538318",
                                    "5": "16284619"
                                },
                                {
                                    "0": "The Associate",
                                    "1": "2539-10-25",
                                    "2": "Comedy",
                                    "3": "PG-13",
                                    "4": "12772657",
                                    "5": "24333094"
                                },
                                {
                                    "0": "The War at Home",
                                    "1": "2539-11-20",
                                    "2": "NULL",
                                    "3": "R",
                                    "4": "34368",
                                    "5": "65543"
                                },
                                {
                                    "0": "The Preacher's Wife",
                                    "1": "2539-12-13",
                                    "2": "Drama",
                                    "3": "PG",
                                    "4": "48102795",
                                    "5": "91076877"
                                },
                                {
                                    "0": "Evita",
                                    "1": "2539-12-25",
                                    "2": "Musical",
                                    "3": "PG",
                                    "4": "50047179",
                                    "5": "92077628"
                                },
                                {
                                    "0": "That Darn Cat",
                                    "1": "2540-02-14",
                                    "2": "Comedy",
                                    "3": "PG",
                                    "4": "18301828",
                                    "5": "33613158"
                                },
                                {
                                    "0": "The Sixth Man",
                                    "1": "2540-03-28",
                                    "2": "Comedy",
                                    "3": "PG-13",
                                    "4": "14765099",
                                    "5": "27117599"
                                },
                                {
                                    "0": "Washington Square",
                                    "1": "2540-10-05",
                                    "2": "Drama",
                                    "3": "PG",
                                    "4": "1775644",
                                    "5": "3257546"
                                },
                                {
                                    "0": "The Horse Whisperer",
                                    "1": "2541-05-15",
                                    "2": "Drama",
                                    "3": "PG-13",
                                    "4": "75383563",
                                    "5": "135497531"
                                },
                                {
                                    "0": "The Parent Trap",
                                    "1": "2541-07-29",
                                    "2": "Comedy",
                                    "3": "PG",
                                    "4": "66308518",
                                    "5": "119185667"
                                },
                                {
                                    "0": "The Waterboy",
                                    "1": "2541-11-06",
                                    "2": "Comedy",
                                    "3": "PG-13",
                                    "4": "161491646",
                                    "5": "288691833"
                                },
                                {
                                    "0": "Enemy of the State",
                                    "1": "2541-11-20",
                                    "2": "Action",
                                    "3": "R",
                                    "4": "111549836",
                                    "5": "198472008"
                                },
                                {
                                    "0": "The Other Sister",
                                    "1": "2542-02-26",
                                    "2": "Romantic Comedy",
                                    "3": "PG-13",
                                    "4": "27807627",
                                    "5": "46145331"
                                },
                                {
                                    "0": "Ten Things I Hate About You",
                                    "1": "2542-03-31",
                                    "2": "Romantic Comedy",
                                    "3": "PG-13",
                                    "4": "38177966",
                                    "5": "63354375"
                                },
                                {
                                    "0": "Endurance",
                                    "1": "2542-05-14",
                                    "2": "NULL",
                                    "3": "PG",
                                    "4": "229128",
                                    "5": "380218"
                                },
                                {
                                    "0": "Tarzan",
                                    "1": "2542-06-16",
                                    "2": "Adventure",
                                    "3": "G",
                                    "4": "171091819",
                                    "5": "283900254"
                                },
                                {
                                    "0": "The Sixth Sense",
                                    "1": "2542-08-06",
                                    "2": "Thriller/Suspense",
                                    "3": "PG-13",
                                    "4": "293506292",
                                    "5": "485424724"
                                },
                                {
                                    "0": "The 13th Warrior",
                                    "1": "2542-08-27",
                                    "2": "Action",
                                    "3": "R",
                                    "4": "32698899",
                                    "5": "54262148"
                                },
                                {
                                    "0": "The Straight Story",
                                    "1": "2542-10-15",
                                    "2": "Drama",
                                    "3": "G",
                                    "4": "6197866",
                                    "5": "10111144"
                                },
                                {
                                    "0": "The Insider",
                                    "1": "2542-11-05",
                                    "2": "Drama",
                                    "3": "R",
                                    "4": "28965197",
                                    "5": "47794214"
                                },
                                {
                                    "0": "Toy Story 2",
                                    "1": "2542-11-19",
                                    "2": "Adventure",
                                    "3": "G",
                                    "4": "245852179",
                                    "5": "404450426"
                                },
                                {
                                    "0": "The Tigger Movie",
                                    "1": "2543-02-11",
                                    "2": "Adventure",
                                    "3": "G",
                                    "4": "45542421",
                                    "5": "71228678"
                                },
                                {
                                    "0": "The Kid",
                                    "1": "2543-07-07",
                                    "2": "Comedy",
                                    "3": "PG",
                                    "4": "69688384",
                                    "5": "108993148"
                                },
                                {
                                    "0": "The Crew",
                                    "1": "2543-08-25",
                                    "2": "Comedy",
                                    "3": "PG-13",
                                    "4": "13019253",
                                    "5": "20362201"
                                },
                                {
                                    "0": "The Emperor's New Groove",
                                    "1": "2543-12-15",
                                    "2": "Adventure",
                                    "3": "G",
                                    "4": "89296573",
                                    "5": "136789252"
                                },
                                {
                                    "0": "The Princess Diaries",
                                    "1": "2544-08-03",
                                    "2": "Comedy",
                                    "3": "G",
                                    "4": "108244774",
                                    "5": "161218928"
                                },
                                {
                                    "0": "The Royal Tenenbaums",
                                    "1": "2544-12-14",
                                    "2": "Black Comedy",
                                    "3": "R",
                                    "4": "52353636",
                                    "5": "76758193"
                                },
                                {
                                    "0": "The Count of Monte Cristo",
                                    "1": "2545-01-25",
                                    "2": "Drama",
                                    "3": "PG-13",
                                    "4": "54228104",
                                    "5": "78682079"
                                },
                                {
                                    "0": "The Rookie",
                                    "1": "2545-03-29",
                                    "2": "Drama",
                                    "3": "G",
                                    "4": "75600072",
                                    "5": "109691666"
                                },
                                {
                                    "0": "ESPN's Ultimate X - The Movie",
                                    "1": "2545-05-10",
                                    "2": "Documentary",
                                    "3": "PG",
                                    "4": "4197175",
                                    "5": "6089874"
                                },
                                {
                                    "0": "The Country Bears",
                                    "1": "2545-07-26",
                                    "2": "Adventure",
                                    "3": "G",
                                    "4": "16988996",
                                    "5": "24650121"
                                },
                                {
                                    "0": "Tuck Everlasting",
                                    "1": "2545-10-11",
                                    "2": "Drama",
                                    "3": "PG",
                                    "4": "19161999",
                                    "5": "27789959"
                                },
                                {
                                    "0": "The Santa Clause 2",
                                    "1": "2545-11-01",
                                    "2": "Comedy",
                                    "3": "G",
                                    "4": "139225854",
                                    "5": "201959095"
                                },
                                {
                                    "0": "Treasure Planet",
                                    "1": "2545-11-27",
                                    "2": "Adventure",
                                    "3": "PG",
                                    "4": "38120554",
                                    "5": "55189145"
                                },
                                {
                                    "0": "The Hot Chick",
                                    "1": "2545-12-13",
                                    "2": "Comedy",
                                    "3": "PG-13",
                                    "4": "35081550",
                                    "5": "50624654"
                                },
                                {
                                    "0": "The Recruit",
                                    "1": "2546-01-31",
                                    "2": "Thriller/Suspense",
                                    "3": "PG-13",
                                    "4": "52784696",
                                    "5": "73793522"
                                },
                                {
                                    "0": "The Jungle Book 2",
                                    "1": "2546-02-14",
                                    "2": "Adventure",
                                    "3": "G",
                                    "4": "47901582",
                                    "5": "66966883"
                                },
                                {
                                    "0": "The Lizzie McGuire Movie",
                                    "1": "2546-05-02",
                                    "2": "Comedy",
                                    "3": "PG",
                                    "4": "42734455",
                                    "5": "59743191"
                                },
                                {
                                    "0": "The Haunted Mansion",
                                    "1": "2546-11-26",
                                    "2": "Comedy",
                                    "3": "PG",
                                    "4": "75817994",
                                    "5": "105775678"
                                },
                                {
                                    "0": "Teacher's Pet: The Movie",
                                    "1": "2547-01-16",
                                    "2": "Comedy",
                                    "3": "PG",
                                    "4": "6491969",
                                    "5": "8812764"
                                },
                                {
                                    "0": "The Ladykillers",
                                    "1": "2547-03-26",
                                    "2": "Comedy",
                                    "3": "R",
                                    "4": "39692139",
                                    "5": "53881593"
                                },
                                {
                                    "0": "The Alamo",
                                    "1": "2547-04-09",
                                    "2": "Western",
                                    "3": "PG-13",
                                    "4": "22406362",
                                    "5": "30416359"
                                },
                                {
                                    "0": "The Village",
                                    "1": "2547-07-30",
                                    "2": "Thriller/Suspense",
                                    "3": "PG-13",
                                    "4": "114197520",
                                    "5": "155021748"
                                },
                                {
                                    "0": "The Princess Diaries 2: Royal Engagement",
                                    "1": "2547-08-11",
                                    "2": "Romantic Comedy",
                                    "3": "G",
                                    "4": "95149435",
                                    "5": "129164207"
                                },
                                {
                                    "0": "The Last Shot",
                                    "1": "2547-09-24",
                                    "2": "Comedy",
                                    "3": "R",
                                    "4": "463730",
                                    "5": "629502"
                                },
                                {
                                    "0": "The Incredibles",
                                    "1": "2547-11-05",
                                    "2": "Adventure",
                                    "3": "PG",
                                    "4": "261441092",
                                    "5": "354488708"
                                },
                                {
                                    "0": "The Life Aquatic with Steve Zissou",
                                    "1": "2547-12-10",
                                    "2": "Comedy",
                                    "3": "R",
                                    "4": "24006726",
                                    "5": "32198655"
                                },
                                {
                                    "0": "The Pacifier",
                                    "1": "2548-03-04",
                                    "2": "Comedy",
                                    "3": "PG",
                                    "4": "113006880",
                                    "5": "148619029"
                                },
                                {
                                    "0": "The Hitchhiker's Guide to the Galaxy",
                                    "1": "2548-04-29",
                                    "2": "Comedy",
                                    "3": "PG",
                                    "4": "51019112",
                                    "5": "67096891"
                                },
                                {
                                    "0": "The Greatest Game Ever Played",
                                    "1": "2548-09-30",
                                    "2": "Drama",
                                    "3": "PG",
                                    "4": "15331289",
                                    "5": "20162672"
                                },
                                {
                                    "0": "The Chronicles of Narnia: The Lion, t…",
                                    "1": "2548-12-09",
                                    "2": "Adventure",
                                    "3": "PG",
                                    "4": "291710957",
                                    "5": "381557539"
                                },
                                {
                                    "0": "Eight Below",
                                    "1": "2549-02-17",
                                    "2": "Adventure",
                                    "3": "PG",
                                    "4": "81612565",
                                    "5": "105037235"
                                },
                                {
                                    "0": "The Shaggy Dog",
                                    "1": "2549-03-10",
                                    "2": "Comedy",
                                    "3": "PG",
                                    "4": "61123569",
                                    "5": "78667428"
                                },
                                {
                                    "0": "The Wild",
                                    "1": "2549-04-14",
                                    "2": "Adventure",
                                    "3": "G",
                                    "4": "37384046",
                                    "5": "48114115"
                                },
                                {
                                    "0": "The Guardian",
                                    "1": "2549-09-29",
                                    "2": "Action",
                                    "3": "PG-13",
                                    "4": "55011732",
                                    "5": "70801353"
                                },
                                {
                                    "0": "The Prestige",
                                    "1": "2549-10-20",
                                    "2": "Thriller/Suspense",
                                    "3": "PG-13",
                                    "4": "53089891",
                                    "5": "68289913"
                                },
                                {
                                    "0": "Tim Burton's The Nightmare Before Chr…",
                                    "1": "2549-10-20",
                                    "2": "Musical",
                                    "3": "PG",
                                    "4": "24732041",
                                    "5": "30737517"
                                },
                                {
                                    "0": "The Santa Clause 3: The Escape Clause",
                                    "1": "2549-11-03",
                                    "2": "Comedy",
                                    "3": "G",
                                    "4": "84500122",
                                    "5": "108694869"
                                },
                                {
                                    "0": "Wild Hogs",
                                    "1": "2550-03-02",
                                    "2": "Comedy",
                                    "3": "PG-13",
                                    "4": "168213584",
                                    "5": "206110533"
                                },
                                {
                                    "0": "The Lookout",
                                    "1": "2550-03-30",
                                    "2": "Drama",
                                    "3": "R",
                                    "4": "4600585",
                                    "5": "5637048"
                                },
                                {
                                    "0": "The Hoax",
                                    "1": "2550-04-06",
                                    "2": "Drama",
                                    "3": "R",
                                    "4": "7164995",
                                    "5": "8779196"
                                },
                                {
                                    "0": "The Invisible",
                                    "1": "2550-04-27",
                                    "2": "Thriller/Suspense",
                                    "3": "PG-13",
                                    "4": "20568319",
                                    "5": "25202168"
                                },
                                {
                                    "0": "The Game Plan",
                                    "1": "2550-09-22",
                                    "2": "Comedy",
                                    "3": "PG",
                                    "4": "90648202",
                                    "5": "111010758"
                                },
                                {
                                    "0": "Enchanted",
                                    "1": "2550-11-21",
                                    "2": "Romantic Comedy",
                                    "3": "PG",
                                    "4": "127706877",
                                    "5": "156074310"
                                },
                                {
                                    "0": "The Chronicles of Narnia: Prince Caspian",
                                    "1": "2551-05-16",
                                    "2": "Adventure",
                                    "3": "PG",
                                    "4": "141621490",
                                    "5": "166277038"
                                },
                                {
                                    "0": "WALL-E",
                                    "1": "2551-06-27",
                                    "2": "Adventure",
                                    "3": "G",
                                    "4": "223808164",
                                    "5": "262771918"
                                },
                                {
                                    "0": "Earth",
                                    "1": "2552-04-22",
                                    "2": "Documentary",
                                    "3": "G",
                                    "4": "32011576",
                                    "5": "35981010"
                                },
                                {
                                    "0": "The Proposal",
                                    "1": "2552-06-19",
                                    "2": "Romantic Comedy",
                                    "3": "PG-13",
                                    "4": "163958031",
                                    "5": "184288829"
                                },
                                {
                                    "0": "Walt and El Grupo",
                                    "1": "2552-09-10",
                                    "2": "Documentary",
                                    "3": "PG",
                                    "4": "20521",
                                    "5": "23064"
                                },
                                {
                                    "0": "Toy Story 3D Double Feature",
                                    "1": "2552-10-02",
                                    "2": "Adventure",
                                    "3": "G",
                                    "4": "30702446",
                                    "5": "34509545"
                                },
                                {
                                    "0": "The Princess and the Frog",
                                    "1": "2552-11-25",
                                    "2": "Adventure",
                                    "3": "G",
                                    "4": "104400899",
                                    "5": "116316457"
                                },
                                {
                                    "0": "When in Rome",
                                    "1": "2553-01-29",
                                    "2": "Romantic Comedy",
                                    "3": "PG-13",
                                    "4": "32680633",
                                    "5": "34917330"
                                },
                                {
                                    "0": "Waking Sleeping Beauty",
                                    "1": "2553-03-26",
                                    "2": "Documentary",
                                    "3": "PG",
                                    "4": "80741",
                                    "5": "86264"
                                },
                                {
                                    "0": "The Last Song",
                                    "1": "2553-03-31",
                                    "2": "Drama",
                                    "3": "PG",
                                    "4": "62950384",
                                    "5": "67258772"
                                },
                                {
                                    "0": "Toy Story 3",
                                    "1": "2553-06-18",
                                    "2": "Adventure",
                                    "3": "G",
                                    "4": "415004880",
                                    "5": "443408255"
                                },
                                {
                                    "0": "The Sorcerer's Apprentice",
                                    "1": "2553-07-14",
                                    "2": "Adventure",
                                    "3": "PG",
                                    "4": "63150991",
                                    "5": "67473105"
                                },
                                {
                                    "0": "Tangled",
                                    "1": "2553-11-24",
                                    "2": "Adventure",
                                    "3": "PG",
                                    "4": "200821936",
                                    "5": "214388548"
                                },
                                {
                                    "0": "Tron: Legacy",
                                    "1": "2553-12-17",
                                    "2": "Adventure",
                                    "3": "PG",
                                    "4": "172062763",
                                    "5": "183619259"
                                },
                                {
                                    "0": "Winnie the Pooh",
                                    "1": "2554-07-15",
                                    "2": "Adventure",
                                    "3": "G",
                                    "4": "26692846",
                                    "5": "28375869"
                                },
                                {
                                    "0": "The Help",
                                    "1": "2554-08-10",
                                    "2": "Drama",
                                    "3": "PG-13",
                                    "4": "169705587",
                                    "5": "180404976"
                                },
                                {
                                    "0": "The Muppets",
                                    "1": "2554-11-23",
                                    "2": "Comedy",
                                    "3": "PG",
                                    "4": "88625922",
                                    "5": "94189503"
                                },
                                {
                                    "0": "War Horse",
                                    "1": "2554-12-25",
                                    "2": "Drama",
                                    "3": "PG-13",
                                    "4": "79883359",
                                    "5": "84762149"
                                },
                                {
                                    "0": "The Secret World of Arietty",
                                    "1": "2555-02-17",
                                    "2": "Adventure",
                                    "3": "G",
                                    "4": "19192510",
                                    "5": "20325733"
                                },
                                {
                                    "0": "The Avengers",
                                    "1": "2555-05-04",
                                    "2": "Action",
                                    "3": "PG-13",
                                    "4": "623279547",
                                    "5": "660081224"
                                },
                                {
                                    "0": "The Odd Life of Timothy Green",
                                    "1": "2555-08-15",
                                    "2": "Drama",
                                    "3": "PG",
                                    "4": "51853450",
                                    "5": "54914942"
                                },
                                {
                                    "0": "Wreck-It Ralph",
                                    "1": "2555-11-02",
                                    "2": "Adventure",
                                    "3": "PG",
                                    "4": "189412677",
                                    "5": "200354959"
                                },
                                {
                                    "0": "The Lone Ranger",
                                    "1": "2556-07-02",
                                    "2": "Western",
                                    "3": "PG-13",
                                    "4": "89302115",
                                    "5": "92597388"
                                },
                                {
                                    "0": "The Fifth Estate",
                                    "1": "2556-10-18",
                                    "2": "Drama",
                                    "3": "R",
                                    "4": "3254172",
                                    "5": "3374251"
                                },
                                {
                                    "0": "Thor: The Dark World",
                                    "1": "2556-11-08",
                                    "2": "Adventure",
                                    "3": "PG-13",
                                    "4": "206362140",
                                    "5": "213962184"
                                },
                                {
                                    "0": "The Hundred-Foot Journey",
                                    "1": "2557-08-08",
                                    "2": "Romantic Comedy",
                                    "3": "PG",
                                    "4": "54235441",
                                    "5": "55961409"
                                },
                                {
                                    "0": "Tomorrowland",
                                    "1": "2558-05-22",
                                    "2": "Adventure",
                                    "3": "PG",
                                    "4": "93436322",
                                    "5": "93436322"
                                },
                                {
                                    "0": "The Good Dinosaur",
                                    "1": "2558-11-25",
                                    "2": "Adventure",
                                    "3": "PG",
                                    "4": "123087120",
                                    "5": "123087120"
                                },
                                {
                                    "0": "The Finest Hours",
                                    "1": "2559-01-29",
                                    "2": "Thriller/Suspense",
                                    "3": "PG",
                                    "4": "27569558",
                                    "5": "27569558"
                                },
                                {
                                    "0": "The Jungle Book",
                                    "1": "2559-04-15",
                                    "2": "Adventure",
                                    "3": "PG",
                                    "4": "364001123",
                                    "5": "364001123"
                                },
                                {
                                    "0": "The BFG",
                                    "1": "2559-07-01",
                                    "2": "Adventure",
                                    "3": "PG",
                                    "4": "55483770",
                                    "5": "55483770"
                                },
                                {
                                    "0": "The Light Between Oceans",
                                    "1": "2559-09-02",
                                    "2": "Drama",
                                    "3": "PG-13",
                                    "4": "12545979",
                                    "5": "12545979"
                                }
                            ]
                        },
                        "text/html": [
                            "<table>",
                            "<tr><th>movie_title</th><th>release_date</th><th>genre</th><th>mpaa_rating</th><th>total_gross</th><th>inflation_adjusted_gross</th></tr>",
                            "<tr><td>The Absent Minded Professor</td><td>2504-03-16</td><td>Comedy</td><td>NULL</td><td>25381407</td><td>310094574</td></tr>",
                            "<tr><td>The Sword in the Stone</td><td>2506-12-25</td><td>Adventure</td><td>NULL</td><td>22182353</td><td>153870834</td></tr>",
                            "<tr><td>The Jungle Book</td><td>2510-10-18</td><td>Musical</td><td>Not Rated</td><td>141843000</td><td>789612346</td></tr>",
                            "<tr><td>The Aristocats</td><td>2513-04-24</td><td>Musical</td><td>G</td><td>55675257</td><td>255161499</td></tr>",
                            "<tr><td>The Boatniks</td><td>2513-07-01</td><td>Comedy</td><td>NULL</td><td>18607492</td><td>101200742</td></tr>",
                            "<tr><td>The Apple Dumpling Gang</td><td>2518-07-01</td><td>Comedy</td><td>NULL</td><td>31916500</td><td>131246872</td></tr>",
                            "<tr><td>The Many Adventures of Winnie the Pooh</td><td>2520-03-11</td><td>NULL</td><td>NULL</td><td>0</td><td>0</td></tr>",
                            "<tr><td>The Rescuers</td><td>2520-06-22</td><td>Adventure</td><td>NULL</td><td>48775599</td><td>159743914</td></tr>",
                            "<tr><td>The Black Hole</td><td>2522-12-21</td><td>NULL</td><td>NULL</td><td>35841901</td><td>120377374</td></tr>",
                            "<tr><td>The Last Flight of Noah’s Ark</td><td>2523-06-25</td><td>NULL</td><td>NULL</td><td>11000000</td><td>34472116</td></tr>",
                            "<tr><td>The Devil and Max Devlin</td><td>2524-01-01</td><td>NULL</td><td>NULL</td><td>16000000</td><td>48517980</td></tr>",
                            "<tr><td>The Fox and the Hound</td><td>2524-07-10</td><td>Comedy</td><td>NULL</td><td>43899231</td><td>133118889</td></tr>",
                            "<tr><td>Tron</td><td>2525-07-09</td><td>Action</td><td>NULL</td><td>26918576</td><td>77184895</td></tr>",
                            "<tr><td>Tex</td><td>2525-11-19</td><td>Drama</td><td>NULL</td><td>7199408</td><td>20643199</td></tr>",
                            "<tr><td>Trenchcoat</td><td>2526-03-11</td><td>Comedy</td><td>NULL</td><td>4304286</td><td>11519089</td></tr>",
                            "<tr><td>The Black Cauldron</td><td>2528-07-24</td><td>Adventure</td><td>NULL</td><td>21288692</td><td>50553142</td></tr>",
                            "<tr><td>The Journey of Natty Gann</td><td>2528-09-27</td><td>Drama</td><td>NULL</td><td>9468512</td><td>22302956</td></tr>",
                            "<tr><td>The Great Mouse Detective</td><td>2529-07-02</td><td>Adventure</td><td>NULL</td><td>23605534</td><td>53637367</td></tr>",
                            "<tr><td>Tough Guys</td><td>2529-10-03</td><td>Comedy</td><td>NULL</td><td>21458229</td><td>48758184</td></tr>",
                            "<tr><td>The Color of Money</td><td>2529-10-17</td><td>Drama</td><td>R</td><td>52293000</td><td>117957323</td></tr>",
                            "<tr><td>Tin Men</td><td>2530-03-06</td><td>Comedy</td><td>NULL</td><td>25411386</td><td>54787202</td></tr>",
                            "<tr><td>Ernest Goes to Camp</td><td>2530-05-22</td><td>Comedy</td><td>NULL</td><td>23509382</td><td>50686462</td></tr>",
                            "<tr><td>Who Framed Roger Rabbit?</td><td>2531-06-22</td><td>Comedy</td><td>PG</td><td>154112492</td><td>316250084</td></tr>",
                            "<tr><td>The Rescue</td><td>2531-08-05</td><td>Action</td><td>NULL</td><td>5855392</td><td>12009960</td></tr>",
                            "<tr><td>The Good Mother</td><td>2531-11-04</td><td>Drama</td><td>NULL</td><td>4764606</td><td>9772655</td></tr>",
                            "<tr><td>Ernest Saves Christmas</td><td>2531-11-11</td><td>Comedy</td><td>PG</td><td>28202109</td><td>57845202</td></tr>",
                            "<tr><td>Three Fugitives</td><td>2532-01-27</td><td>Comedy</td><td>PG-13</td><td>40590000</td><td>85757817</td></tr>",
                            "<tr><td>Turner &amp; Hooch</td><td>2532-07-28</td><td>Comedy</td><td>PG</td><td>71079915</td><td>150176361</td></tr>",
                            "<tr><td>The Little Mermaid</td><td>2532-11-15</td><td>Adventure</td><td>G</td><td>111543479</td><td>223726012</td></tr>",
                            "<tr><td>Where the Heart Is</td><td>2533-02-23</td><td>Comedy</td><td>NULL</td><td>1106475</td><td>2210321</td></tr>",
                            "<tr><td>Ernest Goes to Jail</td><td>2533-04-06</td><td>Comedy</td><td>PG</td><td>25029569</td><td>49999822</td></tr>",
                            "<tr><td>Taking Care of Business</td><td>2533-08-17</td><td>Comedy</td><td>R</td><td>20005435</td><td>39963460</td></tr>",
                            "<tr><td>The Rescuers Down Under</td><td>2533-11-16</td><td>Adventure</td><td>G</td><td>27931461</td><td>55796728</td></tr>",
                            "<tr><td>White Fang</td><td>2534-01-18</td><td>Adventure</td><td>PG</td><td>34729091</td><td>69540672</td></tr>",
                            "<tr><td>The Marrying Man</td><td>2534-04-05</td><td>Romantic Comedy</td><td>R</td><td>12454768</td><td>24939118</td></tr>",
                            "<tr><td>What About Bob?</td><td>2534-05-17</td><td>Comedy</td><td>PG</td><td>63710000</td><td>127571325</td></tr>",
                            "<tr><td>Wild Hearts Can't Be Broken</td><td>2534-05-24</td><td>Drama</td><td>NULL</td><td>7300000</td><td>14617333</td></tr>",
                            "<tr><td>The Rocketeer</td><td>2534-06-21</td><td>Action</td><td>PG</td><td>46573027</td><td>93256673</td></tr>",
                            "<tr><td>The Doctor</td><td>2534-07-24</td><td>Drama</td><td>PG-13</td><td>37497480</td><td>75084021</td></tr>",
                            "<tr><td>Ernest Scared Stupid</td><td>2534-10-11</td><td>Comedy</td><td>PG</td><td>14143280</td><td>28320147</td></tr>",
                            "<tr><td>The Hand That Rocks the Cradle</td><td>2535-01-10</td><td>Thriller/Suspense</td><td>R</td><td>88036683</td><td>178831137</td></tr>",
                            "<tr><td>Encino Man</td><td>2535-05-22</td><td>Comedy</td><td>PG</td><td>40057130</td><td>81369058</td></tr>",
                            "<tr><td>The Mighty Ducks</td><td>2535-10-02</td><td>Comedy</td><td>PG</td><td>50752337</td><td>103120810</td></tr>",
                            "<tr><td>The Distinguished Gentleman</td><td>2535-12-04</td><td>Comedy</td><td>R</td><td>46434570</td><td>94349900</td></tr>",
                            "<tr><td>The Muppet Christmas Carol</td><td>2535-12-11</td><td>Comedy</td><td>G</td><td>27281507</td><td>55417615</td></tr>",
                            "<tr><td>The Cemetery Club</td><td>2536-02-03</td><td>Comedy</td><td>PG-13</td><td>5583621</td><td>11369541</td></tr>",
                            "<tr><td>The Adventures of Huck Finn</td><td>2536-04-02</td><td>Adventure</td><td>PG</td><td>24103594</td><td>49080505</td></tr>",
                            "<tr><td>What's Love Got to Do With It</td><td>2536-06-09</td><td>Drama</td><td>R</td><td>39100956</td><td>79618610</td></tr>",
                            "<tr><td>The Joy Luck Club</td><td>2536-09-08</td><td>Drama</td><td>R</td><td>32790064</td><td>66768171</td></tr>",
                            "<tr><td>The Program</td><td>2536-09-24</td><td>Action</td><td>R</td><td>23042200</td><td>46919256</td></tr>",
                            "<tr><td>The Nightmare Before Christmas</td><td>2536-10-13</td><td>Musical</td><td>PG</td><td>50408318</td><td>100026637</td></tr>",
                            "<tr><td>The Three Musketeers</td><td>2536-11-12</td><td>Adventure</td><td>PG</td><td>53661805</td><td>109310377</td></tr>",
                            "<tr><td>Tombstone</td><td>2536-12-25</td><td>Western</td><td>R</td><td>56505065</td><td>115781734</td></tr>",
                            "<tr><td>The Air Up There</td><td>2537-01-07</td><td>Comedy</td><td>PG</td><td>20782439</td><td>42940186</td></tr>",
                            "<tr><td>The Ref</td><td>2537-03-09</td><td>Comedy</td><td>R</td><td>11325885</td><td>23401275</td></tr>",
                            "<tr><td>White Fang 2: Myth of the White Wolf</td><td>2537-04-15</td><td>Adventure</td><td>PG</td><td>8752399</td><td>18083994</td></tr>",
                            "<tr><td>The Inkwell</td><td>2537-04-22</td><td>Comedy</td><td>R</td><td>8864699</td><td>18316030</td></tr>",
                            "<tr><td>When a Man Loves a Woman</td><td>2537-04-29</td><td>Drama</td><td>R</td><td>50021959</td><td>103354194</td></tr>",
                            "<tr><td>The Lion King</td><td>2537-06-15</td><td>Adventure</td><td>G</td><td>422780140</td><td>761640898</td></tr>",
                            "<tr><td>Terminal Velocity</td><td>2537-09-23</td><td>Action</td><td>PG-13</td><td>16478900</td><td>34048315</td></tr>",
                            "<tr><td>Ed Wood</td><td>2537-09-30</td><td>Comedy</td><td>R</td><td>5828466</td><td>12042634</td></tr>",
                            "<tr><td>The Puppet Masters</td><td>2537-10-21</td><td>Horror</td><td>R</td><td>8579626</td><td>17727017</td></tr>",
                            "<tr><td>The Santa Clause</td><td>2537-11-11</td><td>Comedy</td><td>PG</td><td>144833357</td><td>298369717</td></tr>",
                            "<tr><td>The Jungle Book</td><td>2537-12-25</td><td>Adventure</td><td>PG</td><td>44342956</td><td>88930321</td></tr>",
                            "<tr><td>The Jerky Boys</td><td>2538-02-03</td><td>Comedy</td><td>R</td><td>7555256</td><td>14641561</td></tr>",
                            "<tr><td>Tall Tale</td><td>2538-03-24</td><td>Western</td><td>PG</td><td>8247627</td><td>15983331</td></tr>",
                            "<tr><td>While You Were Sleeping</td><td>2538-04-21</td><td>Romantic Comedy</td><td>PG</td><td>81057016</td><td>157082900</td></tr>",
                            "<tr><td>The Tie That Binds</td><td>2538-09-08</td><td>Thriller/Suspense</td><td>R</td><td>5762795</td><td>11167895</td></tr>",
                            "<tr><td>The Big Green</td><td>2538-09-29</td><td>Comedy</td><td>PG</td><td>17736619</td><td>34372339</td></tr>",
                            "<tr><td>The Scarlet Letter</td><td>2538-10-13</td><td>Drama</td><td>R</td><td>10359006</td><td>20075033</td></tr>",
                            "<tr><td>Toy Story</td><td>2538-11-22</td><td>Adventure</td><td>G</td><td>191796233</td><td>370409631</td></tr>",
                            "<tr><td>Tom and Huck</td><td>2538-12-22</td><td>Adventure</td><td>PG</td><td>23837227</td><td>45911517</td></tr>",
                            "<tr><td>White Squall</td><td>2539-02-02</td><td>Adventure</td><td>PG-13</td><td>10229300</td><td>19509726</td></tr>",
                            "<tr><td>Two Much</td><td>2539-03-15</td><td>Romantic Comedy</td><td>PG-13</td><td>1078555</td><td>2057055</td></tr>",
                            "<tr><td>Eddie</td><td>2539-05-31</td><td>Comedy</td><td>PG-13</td><td>31369401</td><td>59828966</td></tr>",
                            "<tr><td>The Rock</td><td>2539-06-07</td><td>Action</td><td>R</td><td>134069511</td><td>255702705</td></tr>",
                            "<tr><td>The Hunchback of Notre Dame</td><td>2539-06-21</td><td>Adventure</td><td>G</td><td>100138851</td><td>190988799</td></tr>",
                            "<tr><td>The Rich Man's Wife</td><td>2539-09-13</td><td>Thriller/Suspense</td><td>R</td><td>8538318</td><td>16284619</td></tr>",
                            "<tr><td>The Associate</td><td>2539-10-25</td><td>Comedy</td><td>PG-13</td><td>12772657</td><td>24333094</td></tr>",
                            "<tr><td>The War at Home</td><td>2539-11-20</td><td>NULL</td><td>R</td><td>34368</td><td>65543</td></tr>",
                            "<tr><td>The Preacher's Wife</td><td>2539-12-13</td><td>Drama</td><td>PG</td><td>48102795</td><td>91076877</td></tr>",
                            "<tr><td>Evita</td><td>2539-12-25</td><td>Musical</td><td>PG</td><td>50047179</td><td>92077628</td></tr>",
                            "<tr><td>That Darn Cat</td><td>2540-02-14</td><td>Comedy</td><td>PG</td><td>18301828</td><td>33613158</td></tr>",
                            "<tr><td>The Sixth Man</td><td>2540-03-28</td><td>Comedy</td><td>PG-13</td><td>14765099</td><td>27117599</td></tr>",
                            "<tr><td>Washington Square</td><td>2540-10-05</td><td>Drama</td><td>PG</td><td>1775644</td><td>3257546</td></tr>",
                            "<tr><td>The Horse Whisperer</td><td>2541-05-15</td><td>Drama</td><td>PG-13</td><td>75383563</td><td>135497531</td></tr>",
                            "<tr><td>The Parent Trap</td><td>2541-07-29</td><td>Comedy</td><td>PG</td><td>66308518</td><td>119185667</td></tr>",
                            "<tr><td>The Waterboy</td><td>2541-11-06</td><td>Comedy</td><td>PG-13</td><td>161491646</td><td>288691833</td></tr>",
                            "<tr><td>Enemy of the State</td><td>2541-11-20</td><td>Action</td><td>R</td><td>111549836</td><td>198472008</td></tr>",
                            "<tr><td>The Other Sister</td><td>2542-02-26</td><td>Romantic Comedy</td><td>PG-13</td><td>27807627</td><td>46145331</td></tr>",
                            "<tr><td>Ten Things I Hate About You</td><td>2542-03-31</td><td>Romantic Comedy</td><td>PG-13</td><td>38177966</td><td>63354375</td></tr>",
                            "<tr><td>Endurance</td><td>2542-05-14</td><td>NULL</td><td>PG</td><td>229128</td><td>380218</td></tr>",
                            "<tr><td>Tarzan</td><td>2542-06-16</td><td>Adventure</td><td>G</td><td>171091819</td><td>283900254</td></tr>",
                            "<tr><td>The Sixth Sense</td><td>2542-08-06</td><td>Thriller/Suspense</td><td>PG-13</td><td>293506292</td><td>485424724</td></tr>",
                            "<tr><td>The 13th Warrior</td><td>2542-08-27</td><td>Action</td><td>R</td><td>32698899</td><td>54262148</td></tr>",
                            "<tr><td>The Straight Story</td><td>2542-10-15</td><td>Drama</td><td>G</td><td>6197866</td><td>10111144</td></tr>",
                            "<tr><td>The Insider</td><td>2542-11-05</td><td>Drama</td><td>R</td><td>28965197</td><td>47794214</td></tr>",
                            "<tr><td>Toy Story 2</td><td>2542-11-19</td><td>Adventure</td><td>G</td><td>245852179</td><td>404450426</td></tr>",
                            "<tr><td>The Tigger Movie</td><td>2543-02-11</td><td>Adventure</td><td>G</td><td>45542421</td><td>71228678</td></tr>",
                            "<tr><td>The Kid</td><td>2543-07-07</td><td>Comedy</td><td>PG</td><td>69688384</td><td>108993148</td></tr>",
                            "<tr><td>The Crew</td><td>2543-08-25</td><td>Comedy</td><td>PG-13</td><td>13019253</td><td>20362201</td></tr>",
                            "<tr><td>The Emperor's New Groove</td><td>2543-12-15</td><td>Adventure</td><td>G</td><td>89296573</td><td>136789252</td></tr>",
                            "<tr><td>The Princess Diaries</td><td>2544-08-03</td><td>Comedy</td><td>G</td><td>108244774</td><td>161218928</td></tr>",
                            "<tr><td>The Royal Tenenbaums</td><td>2544-12-14</td><td>Black Comedy</td><td>R</td><td>52353636</td><td>76758193</td></tr>",
                            "<tr><td>The Count of Monte Cristo</td><td>2545-01-25</td><td>Drama</td><td>PG-13</td><td>54228104</td><td>78682079</td></tr>",
                            "<tr><td>The Rookie</td><td>2545-03-29</td><td>Drama</td><td>G</td><td>75600072</td><td>109691666</td></tr>",
                            "<tr><td>ESPN's Ultimate X - The Movie</td><td>2545-05-10</td><td>Documentary</td><td>PG</td><td>4197175</td><td>6089874</td></tr>",
                            "<tr><td>The Country Bears</td><td>2545-07-26</td><td>Adventure</td><td>G</td><td>16988996</td><td>24650121</td></tr>",
                            "<tr><td>Tuck Everlasting</td><td>2545-10-11</td><td>Drama</td><td>PG</td><td>19161999</td><td>27789959</td></tr>",
                            "<tr><td>The Santa Clause 2</td><td>2545-11-01</td><td>Comedy</td><td>G</td><td>139225854</td><td>201959095</td></tr>",
                            "<tr><td>Treasure Planet</td><td>2545-11-27</td><td>Adventure</td><td>PG</td><td>38120554</td><td>55189145</td></tr>",
                            "<tr><td>The Hot Chick</td><td>2545-12-13</td><td>Comedy</td><td>PG-13</td><td>35081550</td><td>50624654</td></tr>",
                            "<tr><td>The Recruit</td><td>2546-01-31</td><td>Thriller/Suspense</td><td>PG-13</td><td>52784696</td><td>73793522</td></tr>",
                            "<tr><td>The Jungle Book 2</td><td>2546-02-14</td><td>Adventure</td><td>G</td><td>47901582</td><td>66966883</td></tr>",
                            "<tr><td>The Lizzie McGuire Movie</td><td>2546-05-02</td><td>Comedy</td><td>PG</td><td>42734455</td><td>59743191</td></tr>",
                            "<tr><td>The Haunted Mansion</td><td>2546-11-26</td><td>Comedy</td><td>PG</td><td>75817994</td><td>105775678</td></tr>",
                            "<tr><td>Teacher's Pet: The Movie</td><td>2547-01-16</td><td>Comedy</td><td>PG</td><td>6491969</td><td>8812764</td></tr>",
                            "<tr><td>The Ladykillers</td><td>2547-03-26</td><td>Comedy</td><td>R</td><td>39692139</td><td>53881593</td></tr>",
                            "<tr><td>The Alamo</td><td>2547-04-09</td><td>Western</td><td>PG-13</td><td>22406362</td><td>30416359</td></tr>",
                            "<tr><td>The Village</td><td>2547-07-30</td><td>Thriller/Suspense</td><td>PG-13</td><td>114197520</td><td>155021748</td></tr>",
                            "<tr><td>The Princess Diaries 2: Royal Engagement</td><td>2547-08-11</td><td>Romantic Comedy</td><td>G</td><td>95149435</td><td>129164207</td></tr>",
                            "<tr><td>The Last Shot</td><td>2547-09-24</td><td>Comedy</td><td>R</td><td>463730</td><td>629502</td></tr>",
                            "<tr><td>The Incredibles</td><td>2547-11-05</td><td>Adventure</td><td>PG</td><td>261441092</td><td>354488708</td></tr>",
                            "<tr><td>The Life Aquatic with Steve Zissou</td><td>2547-12-10</td><td>Comedy</td><td>R</td><td>24006726</td><td>32198655</td></tr>",
                            "<tr><td>The Pacifier</td><td>2548-03-04</td><td>Comedy</td><td>PG</td><td>113006880</td><td>148619029</td></tr>",
                            "<tr><td>The Hitchhiker's Guide to the Galaxy</td><td>2548-04-29</td><td>Comedy</td><td>PG</td><td>51019112</td><td>67096891</td></tr>",
                            "<tr><td>The Greatest Game Ever Played</td><td>2548-09-30</td><td>Drama</td><td>PG</td><td>15331289</td><td>20162672</td></tr>",
                            "<tr><td>The Chronicles of Narnia: The Lion, t…</td><td>2548-12-09</td><td>Adventure</td><td>PG</td><td>291710957</td><td>381557539</td></tr>",
                            "<tr><td>Eight Below</td><td>2549-02-17</td><td>Adventure</td><td>PG</td><td>81612565</td><td>105037235</td></tr>",
                            "<tr><td>The Shaggy Dog</td><td>2549-03-10</td><td>Comedy</td><td>PG</td><td>61123569</td><td>78667428</td></tr>",
                            "<tr><td>The Wild</td><td>2549-04-14</td><td>Adventure</td><td>G</td><td>37384046</td><td>48114115</td></tr>",
                            "<tr><td>The Guardian</td><td>2549-09-29</td><td>Action</td><td>PG-13</td><td>55011732</td><td>70801353</td></tr>",
                            "<tr><td>The Prestige</td><td>2549-10-20</td><td>Thriller/Suspense</td><td>PG-13</td><td>53089891</td><td>68289913</td></tr>",
                            "<tr><td>Tim Burton's The Nightmare Before Chr…</td><td>2549-10-20</td><td>Musical</td><td>PG</td><td>24732041</td><td>30737517</td></tr>",
                            "<tr><td>The Santa Clause 3: The Escape Clause</td><td>2549-11-03</td><td>Comedy</td><td>G</td><td>84500122</td><td>108694869</td></tr>",
                            "<tr><td>Wild Hogs</td><td>2550-03-02</td><td>Comedy</td><td>PG-13</td><td>168213584</td><td>206110533</td></tr>",
                            "<tr><td>The Lookout</td><td>2550-03-30</td><td>Drama</td><td>R</td><td>4600585</td><td>5637048</td></tr>",
                            "<tr><td>The Hoax</td><td>2550-04-06</td><td>Drama</td><td>R</td><td>7164995</td><td>8779196</td></tr>",
                            "<tr><td>The Invisible</td><td>2550-04-27</td><td>Thriller/Suspense</td><td>PG-13</td><td>20568319</td><td>25202168</td></tr>",
                            "<tr><td>The Game Plan</td><td>2550-09-22</td><td>Comedy</td><td>PG</td><td>90648202</td><td>111010758</td></tr>",
                            "<tr><td>Enchanted</td><td>2550-11-21</td><td>Romantic Comedy</td><td>PG</td><td>127706877</td><td>156074310</td></tr>",
                            "<tr><td>The Chronicles of Narnia: Prince Caspian</td><td>2551-05-16</td><td>Adventure</td><td>PG</td><td>141621490</td><td>166277038</td></tr>",
                            "<tr><td>WALL-E</td><td>2551-06-27</td><td>Adventure</td><td>G</td><td>223808164</td><td>262771918</td></tr>",
                            "<tr><td>Earth</td><td>2552-04-22</td><td>Documentary</td><td>G</td><td>32011576</td><td>35981010</td></tr>",
                            "<tr><td>The Proposal</td><td>2552-06-19</td><td>Romantic Comedy</td><td>PG-13</td><td>163958031</td><td>184288829</td></tr>",
                            "<tr><td>Walt and El Grupo</td><td>2552-09-10</td><td>Documentary</td><td>PG</td><td>20521</td><td>23064</td></tr>",
                            "<tr><td>Toy Story 3D Double Feature</td><td>2552-10-02</td><td>Adventure</td><td>G</td><td>30702446</td><td>34509545</td></tr>",
                            "<tr><td>The Princess and the Frog</td><td>2552-11-25</td><td>Adventure</td><td>G</td><td>104400899</td><td>116316457</td></tr>",
                            "<tr><td>When in Rome</td><td>2553-01-29</td><td>Romantic Comedy</td><td>PG-13</td><td>32680633</td><td>34917330</td></tr>",
                            "<tr><td>Waking Sleeping Beauty</td><td>2553-03-26</td><td>Documentary</td><td>PG</td><td>80741</td><td>86264</td></tr>",
                            "<tr><td>The Last Song</td><td>2553-03-31</td><td>Drama</td><td>PG</td><td>62950384</td><td>67258772</td></tr>",
                            "<tr><td>Toy Story 3</td><td>2553-06-18</td><td>Adventure</td><td>G</td><td>415004880</td><td>443408255</td></tr>",
                            "<tr><td>The Sorcerer's Apprentice</td><td>2553-07-14</td><td>Adventure</td><td>PG</td><td>63150991</td><td>67473105</td></tr>",
                            "<tr><td>Tangled</td><td>2553-11-24</td><td>Adventure</td><td>PG</td><td>200821936</td><td>214388548</td></tr>",
                            "<tr><td>Tron: Legacy</td><td>2553-12-17</td><td>Adventure</td><td>PG</td><td>172062763</td><td>183619259</td></tr>",
                            "<tr><td>Winnie the Pooh</td><td>2554-07-15</td><td>Adventure</td><td>G</td><td>26692846</td><td>28375869</td></tr>",
                            "<tr><td>The Help</td><td>2554-08-10</td><td>Drama</td><td>PG-13</td><td>169705587</td><td>180404976</td></tr>",
                            "<tr><td>The Muppets</td><td>2554-11-23</td><td>Comedy</td><td>PG</td><td>88625922</td><td>94189503</td></tr>",
                            "<tr><td>War Horse</td><td>2554-12-25</td><td>Drama</td><td>PG-13</td><td>79883359</td><td>84762149</td></tr>",
                            "<tr><td>The Secret World of Arietty</td><td>2555-02-17</td><td>Adventure</td><td>G</td><td>19192510</td><td>20325733</td></tr>",
                            "<tr><td>The Avengers</td><td>2555-05-04</td><td>Action</td><td>PG-13</td><td>623279547</td><td>660081224</td></tr>",
                            "<tr><td>The Odd Life of Timothy Green</td><td>2555-08-15</td><td>Drama</td><td>PG</td><td>51853450</td><td>54914942</td></tr>",
                            "<tr><td>Wreck-It Ralph</td><td>2555-11-02</td><td>Adventure</td><td>PG</td><td>189412677</td><td>200354959</td></tr>",
                            "<tr><td>The Lone Ranger</td><td>2556-07-02</td><td>Western</td><td>PG-13</td><td>89302115</td><td>92597388</td></tr>",
                            "<tr><td>The Fifth Estate</td><td>2556-10-18</td><td>Drama</td><td>R</td><td>3254172</td><td>3374251</td></tr>",
                            "<tr><td>Thor: The Dark World</td><td>2556-11-08</td><td>Adventure</td><td>PG-13</td><td>206362140</td><td>213962184</td></tr>",
                            "<tr><td>The Hundred-Foot Journey</td><td>2557-08-08</td><td>Romantic Comedy</td><td>PG</td><td>54235441</td><td>55961409</td></tr>",
                            "<tr><td>Tomorrowland</td><td>2558-05-22</td><td>Adventure</td><td>PG</td><td>93436322</td><td>93436322</td></tr>",
                            "<tr><td>The Good Dinosaur</td><td>2558-11-25</td><td>Adventure</td><td>PG</td><td>123087120</td><td>123087120</td></tr>",
                            "<tr><td>The Finest Hours</td><td>2559-01-29</td><td>Thriller/Suspense</td><td>PG</td><td>27569558</td><td>27569558</td></tr>",
                            "<tr><td>The Jungle Book</td><td>2559-04-15</td><td>Adventure</td><td>PG</td><td>364001123</td><td>364001123</td></tr>",
                            "<tr><td>The BFG</td><td>2559-07-01</td><td>Adventure</td><td>PG</td><td>55483770</td><td>55483770</td></tr>",
                            "<tr><td>The Light Between Oceans</td><td>2559-09-02</td><td>Drama</td><td>PG-13</td><td>12545979</td><td>12545979</td></tr>",
                            "</table>"
                        ]
                    }
                }
            ],
            "execution_count": 7
        },
        {
            "cell_type": "code",
            "source": [
                "SELECT * FROM movie_gross where movie_title LIKE '[0-9]%'"
            ],
            "metadata": {
                "azdata_cell_guid": "4a43ecbd-9724-4a5c-aaa2-d78cd4c94314"
            },
            "outputs": [
                {
                    "output_type": "display_data",
                    "data": {
                        "text/html": "(10 rows affected)"
                    },
                    "metadata": {}
                },
                {
                    "output_type": "display_data",
                    "data": {
                        "text/html": "Total execution time: 00:00:00.127"
                    },
                    "metadata": {}
                },
                {
                    "output_type": "execute_result",
                    "metadata": {},
                    "execution_count": 8,
                    "data": {
                        "application/vnd.dataresource+json": {
                            "schema": {
                                "fields": [
                                    {
                                        "name": "movie_title"
                                    },
                                    {
                                        "name": "release_date"
                                    },
                                    {
                                        "name": "genre"
                                    },
                                    {
                                        "name": "mpaa_rating"
                                    },
                                    {
                                        "name": "total_gross"
                                    },
                                    {
                                        "name": "inflation_adjusted_gross"
                                    }
                                ]
                            },
                            "data": [
                                {
                                    "0": "20,000 Leagues Under the Sea",
                                    "1": "2497-12-23",
                                    "2": "Adventure",
                                    "3": "NULL",
                                    "4": "28200000",
                                    "5": "528279994"
                                },
                                {
                                    "0": "101 Dalmatians",
                                    "1": "2504-01-25",
                                    "2": "Comedy",
                                    "3": "G",
                                    "4": "153000000",
                                    "5": "1362870985"
                                },
                                {
                                    "0": "3 Men and a Baby",
                                    "1": "2530-11-25",
                                    "2": "Comedy",
                                    "3": "PG",
                                    "4": "167780960",
                                    "5": "353334607"
                                },
                                {
                                    "0": "3 Men and a Little Lady",
                                    "1": "2533-11-21",
                                    "2": "Comedy",
                                    "3": "PG",
                                    "4": "71609321",
                                    "5": "143108869"
                                },
                                {
                                    "0": "3 Ninjas",
                                    "1": "2535-08-07",
                                    "2": "Action",
                                    "3": "PG",
                                    "4": "29028000",
                                    "5": "58965304"
                                },
                                {
                                    "0": "1492: Conquest of Paradise",
                                    "1": "2535-10-09",
                                    "2": "Adventure",
                                    "3": "PG-13",
                                    "4": "7099531",
                                    "5": "14421454"
                                },
                                {
                                    "0": "3 Ninjas Kick Back",
                                    "1": "2537-05-06",
                                    "2": "Action",
                                    "3": "PG",
                                    "4": "11744960",
                                    "5": "24267154"
                                },
                                {
                                    "0": "101 Dalmatians",
                                    "1": "2539-11-27",
                                    "2": "Comedy",
                                    "3": "G",
                                    "4": "136189294",
                                    "5": "258728898"
                                },
                                {
                                    "0": "102 Dalmatians",
                                    "1": "2543-11-22",
                                    "2": "Comedy",
                                    "3": "G",
                                    "4": "66941559",
                                    "5": "104055039"
                                },
                                {
                                    "0": "25th Hour",
                                    "1": "2545-12-19",
                                    "2": "Drama",
                                    "3": "R",
                                    "4": "13084595",
                                    "5": "18325463"
                                }
                            ]
                        },
                        "text/html": [
                            "<table>",
                            "<tr><th>movie_title</th><th>release_date</th><th>genre</th><th>mpaa_rating</th><th>total_gross</th><th>inflation_adjusted_gross</th></tr>",
                            "<tr><td>20,000 Leagues Under the Sea</td><td>2497-12-23</td><td>Adventure</td><td>NULL</td><td>28200000</td><td>528279994</td></tr>",
                            "<tr><td>101 Dalmatians</td><td>2504-01-25</td><td>Comedy</td><td>G</td><td>153000000</td><td>1362870985</td></tr>",
                            "<tr><td>3 Men and a Baby</td><td>2530-11-25</td><td>Comedy</td><td>PG</td><td>167780960</td><td>353334607</td></tr>",
                            "<tr><td>3 Men and a Little Lady</td><td>2533-11-21</td><td>Comedy</td><td>PG</td><td>71609321</td><td>143108869</td></tr>",
                            "<tr><td>3 Ninjas</td><td>2535-08-07</td><td>Action</td><td>PG</td><td>29028000</td><td>58965304</td></tr>",
                            "<tr><td>1492: Conquest of Paradise</td><td>2535-10-09</td><td>Adventure</td><td>PG-13</td><td>7099531</td><td>14421454</td></tr>",
                            "<tr><td>3 Ninjas Kick Back</td><td>2537-05-06</td><td>Action</td><td>PG</td><td>11744960</td><td>24267154</td></tr>",
                            "<tr><td>101 Dalmatians</td><td>2539-11-27</td><td>Comedy</td><td>G</td><td>136189294</td><td>258728898</td></tr>",
                            "<tr><td>102 Dalmatians</td><td>2543-11-22</td><td>Comedy</td><td>G</td><td>66941559</td><td>104055039</td></tr>",
                            "<tr><td>25th Hour</td><td>2545-12-19</td><td>Drama</td><td>R</td><td>13084595</td><td>18325463</td></tr>",
                            "</table>"
                        ]
                    }
                }
            ],
            "execution_count": 8
        },
        {
            "cell_type": "code",
            "source": [
                "SELECT movie_title ,  ISNULL(genre , 'Comedy') [genre], ISNULL(mpaa_rating ,'G' ) [mpaa_rating]    FROM movie_gross\r\n",
                "where mpaa_rating = 'G' "
            ],
            "metadata": {
                "azdata_cell_guid": "bbd0fe4b-eb9c-4cc4-b13f-1c70ca7708d2"
            },
            "outputs": [
                {
                    "output_type": "display_data",
                    "data": {
                        "text/html": "(86 rows affected)"
                    },
                    "metadata": {}
                },
                {
                    "output_type": "display_data",
                    "data": {
                        "text/html": "Total execution time: 00:00:00.114"
                    },
                    "metadata": {}
                },
                {
                    "output_type": "execute_result",
                    "metadata": {},
                    "execution_count": 15,
                    "data": {
                        "application/vnd.dataresource+json": {
                            "schema": {
                                "fields": [
                                    {
                                        "name": "movie_title"
                                    },
                                    {
                                        "name": "genre"
                                    },
                                    {
                                        "name": "mpaa_rating"
                                    }
                                ]
                            },
                            "data": [
                                {
                                    "0": "Snow White and the Seven Dwarfs",
                                    "1": "Musical",
                                    "2": "G"
                                },
                                {
                                    "0": "Pinocchio",
                                    "1": "Adventure",
                                    "2": "G"
                                },
                                {
                                    "0": "Fantasia",
                                    "1": "Musical",
                                    "2": "G"
                                },
                                {
                                    "0": "Song of the South",
                                    "1": "Adventure",
                                    "2": "G"
                                },
                                {
                                    "0": "Cinderella",
                                    "1": "Drama",
                                    "2": "G"
                                },
                                {
                                    "0": "Lady and the Tramp",
                                    "1": "Drama",
                                    "2": "G"
                                },
                                {
                                    "0": "101 Dalmatians",
                                    "1": "Comedy",
                                    "2": "G"
                                },
                                {
                                    "0": "Babes in Toyland",
                                    "1": "Musical",
                                    "2": "G"
                                },
                                {
                                    "0": "The Aristocats",
                                    "1": "Musical",
                                    "2": "G"
                                },
                                {
                                    "0": "Oliver & Company",
                                    "1": "Adventure",
                                    "2": "G"
                                },
                                {
                                    "0": "The Little Mermaid",
                                    "1": "Adventure",
                                    "2": "G"
                                },
                                {
                                    "0": "DuckTales: The Movie - Treasure of th…",
                                    "1": "Adventure",
                                    "2": "G"
                                },
                                {
                                    "0": "The Rescuers Down Under",
                                    "1": "Adventure",
                                    "2": "G"
                                },
                                {
                                    "0": "Beauty and the Beast",
                                    "1": "Musical",
                                    "2": "G"
                                },
                                {
                                    "0": "Aladdin",
                                    "1": "Comedy",
                                    "2": "G"
                                },
                                {
                                    "0": "The Muppet Christmas Carol",
                                    "1": "Comedy",
                                    "2": "G"
                                },
                                {
                                    "0": "Homeward Bound: The Incredible Journey",
                                    "1": "Adventure",
                                    "2": "G"
                                },
                                {
                                    "0": "The Lion King",
                                    "1": "Adventure",
                                    "2": "G"
                                },
                                {
                                    "0": "A Goofy Movie",
                                    "1": "Comedy",
                                    "2": "G"
                                },
                                {
                                    "0": "Pocahontas",
                                    "1": "Adventure",
                                    "2": "G"
                                },
                                {
                                    "0": "Toy Story",
                                    "1": "Adventure",
                                    "2": "G"
                                },
                                {
                                    "0": "Muppet Treasure Island",
                                    "1": "Adventure",
                                    "2": "G"
                                },
                                {
                                    "0": "Homeward Bound II: Lost in San Franc…",
                                    "1": "Adventure",
                                    "2": "G"
                                },
                                {
                                    "0": "The Hunchback of Notre Dame",
                                    "1": "Adventure",
                                    "2": "G"
                                },
                                {
                                    "0": "101 Dalmatians",
                                    "1": "Comedy",
                                    "2": "G"
                                },
                                {
                                    "0": "Hercules",
                                    "1": "Adventure",
                                    "2": "G"
                                },
                                {
                                    "0": "Mulan",
                                    "1": "Adventure",
                                    "2": "G"
                                },
                                {
                                    "0": "A Bug's Life",
                                    "1": "Adventure",
                                    "2": "G"
                                },
                                {
                                    "0": "Doug's 1st Movie",
                                    "1": "Adventure",
                                    "2": "G"
                                },
                                {
                                    "0": "Tarzan",
                                    "1": "Adventure",
                                    "2": "G"
                                },
                                {
                                    "0": "The Straight Story",
                                    "1": "Drama",
                                    "2": "G"
                                },
                                {
                                    "0": "Toy Story 2",
                                    "1": "Adventure",
                                    "2": "G"
                                },
                                {
                                    "0": "Fantasia 2000 (IMAX)",
                                    "1": "Musical",
                                    "2": "G"
                                },
                                {
                                    "0": "The Tigger Movie",
                                    "1": "Adventure",
                                    "2": "G"
                                },
                                {
                                    "0": "Fantasia 2000 (Theatrical Release)",
                                    "1": "Musical",
                                    "2": "G"
                                },
                                {
                                    "0": "102 Dalmatians",
                                    "1": "Comedy",
                                    "2": "G"
                                },
                                {
                                    "0": "The Emperor's New Groove",
                                    "1": "Adventure",
                                    "2": "G"
                                },
                                {
                                    "0": "Recess: School's Out",
                                    "1": "Comedy",
                                    "2": "G"
                                },
                                {
                                    "0": "The Princess Diaries",
                                    "1": "Comedy",
                                    "2": "G"
                                },
                                {
                                    "0": "Monsters, Inc.",
                                    "1": "Adventure",
                                    "2": "G"
                                },
                                {
                                    "0": "Beauty and the Beast (IMAX)",
                                    "1": "Musical",
                                    "2": "G"
                                },
                                {
                                    "0": "Peter Pan: Return to Neverland",
                                    "1": "Adventure",
                                    "2": "G"
                                },
                                {
                                    "0": "The Rookie",
                                    "1": "Drama",
                                    "2": "G"
                                },
                                {
                                    "0": "The Country Bears",
                                    "1": "Adventure",
                                    "2": "G"
                                },
                                {
                                    "0": "The Santa Clause 2",
                                    "1": "Comedy",
                                    "2": "G"
                                },
                                {
                                    "0": "The Jungle Book 2",
                                    "1": "Adventure",
                                    "2": "G"
                                },
                                {
                                    "0": "Piglet's Big Movie",
                                    "1": "Comedy",
                                    "2": "G"
                                },
                                {
                                    "0": "Ghosts of the Abyss",
                                    "1": "Documentary",
                                    "2": "G"
                                },
                                {
                                    "0": "Finding Nemo",
                                    "1": "Adventure",
                                    "2": "G"
                                },
                                {
                                    "0": "Brother Bear",
                                    "1": "Adventure",
                                    "2": "G"
                                },
                                {
                                    "0": "Young Black Stallion",
                                    "1": "Adventure",
                                    "2": "G"
                                },
                                {
                                    "0": "The Princess Diaries 2: Royal Engagement",
                                    "1": "Romantic Comedy",
                                    "2": "G"
                                },
                                {
                                    "0": "Aliens of the Deep",
                                    "1": "Documentary",
                                    "2": "G"
                                },
                                {
                                    "0": "Pooh's Heffalump Movie",
                                    "1": "Adventure",
                                    "2": "G"
                                },
                                {
                                    "0": "Ice Princess",
                                    "1": "Comedy",
                                    "2": "G"
                                },
                                {
                                    "0": "Herbie: Fully Loaded",
                                    "1": "Comedy",
                                    "2": "G"
                                },
                                {
                                    "0": "Valiant",
                                    "1": "Adventure",
                                    "2": "G"
                                },
                                {
                                    "0": "Chicken Little",
                                    "1": "Adventure",
                                    "2": "G"
                                },
                                {
                                    "0": "Roving Mars",
                                    "1": "Documentary",
                                    "2": "G"
                                },
                                {
                                    "0": "The Wild",
                                    "1": "Adventure",
                                    "2": "G"
                                },
                                {
                                    "0": "Cars",
                                    "1": "Comedy",
                                    "2": "G"
                                },
                                {
                                    "0": "The Santa Clause 3: The Escape Clause",
                                    "1": "Comedy",
                                    "2": "G"
                                },
                                {
                                    "0": "Meet the Robinsons",
                                    "1": "Adventure",
                                    "2": "G"
                                },
                                {
                                    "0": "Ratatouille",
                                    "1": "Comedy",
                                    "2": "G"
                                },
                                {
                                    "0": "Hannah Montana/Miley Cyrus: Best of B…",
                                    "1": "Concert/Performance",
                                    "2": "G"
                                },
                                {
                                    "0": "College Road Trip",
                                    "1": "Comedy",
                                    "2": "G"
                                },
                                {
                                    "0": "WALL-E",
                                    "1": "Adventure",
                                    "2": "G"
                                },
                                {
                                    "0": "High School Musical 3: Senior Year",
                                    "1": "Musical",
                                    "2": "G"
                                },
                                {
                                    "0": "Jonas Brothers: The 3D Concert Experi…",
                                    "1": "Concert/Performance",
                                    "2": "G"
                                },
                                {
                                    "0": "Hannah Montana the Movie",
                                    "1": "Drama",
                                    "2": "G"
                                },
                                {
                                    "0": "Earth",
                                    "1": "Documentary",
                                    "2": "G"
                                },
                                {
                                    "0": "Gake no ue no Ponyo",
                                    "1": "Adventure",
                                    "2": "G"
                                },
                                {
                                    "0": "Toy Story 3D Double Feature",
                                    "1": "Adventure",
                                    "2": "G"
                                },
                                {
                                    "0": "The Princess and the Frog",
                                    "1": "Adventure",
                                    "2": "G"
                                },
                                {
                                    "0": "Oceans",
                                    "1": "Documentary",
                                    "2": "G"
                                },
                                {
                                    "0": "Toy Story 3",
                                    "1": "Adventure",
                                    "2": "G"
                                },
                                {
                                    "0": "Gnomeo and Juliet",
                                    "1": "Comedy",
                                    "2": "G"
                                },
                                {
                                    "0": "African Cats",
                                    "1": "Documentary",
                                    "2": "G"
                                },
                                {
                                    "0": "Cars 2",
                                    "1": "Adventure",
                                    "2": "G"
                                },
                                {
                                    "0": "Winnie the Pooh",
                                    "1": "Adventure",
                                    "2": "G"
                                },
                                {
                                    "0": "The Secret World of Arietty",
                                    "1": "Adventure",
                                    "2": "G"
                                },
                                {
                                    "0": "Chimpanzee",
                                    "1": "Documentary",
                                    "2": "G"
                                },
                                {
                                    "0": "Monsters University",
                                    "1": "Adventure",
                                    "2": "G"
                                },
                                {
                                    "0": "Bears",
                                    "1": "Documentary",
                                    "2": "G"
                                },
                                {
                                    "0": "Monkey Kingdom",
                                    "1": "Documentary",
                                    "2": "G"
                                },
                                {
                                    "0": "A Beautiful Planet",
                                    "1": "Documentary",
                                    "2": "G"
                                }
                            ]
                        },
                        "text/html": [
                            "<table>",
                            "<tr><th>movie_title</th><th>genre</th><th>mpaa_rating</th></tr>",
                            "<tr><td>Snow White and the Seven Dwarfs</td><td>Musical</td><td>G</td></tr>",
                            "<tr><td>Pinocchio</td><td>Adventure</td><td>G</td></tr>",
                            "<tr><td>Fantasia</td><td>Musical</td><td>G</td></tr>",
                            "<tr><td>Song of the South</td><td>Adventure</td><td>G</td></tr>",
                            "<tr><td>Cinderella</td><td>Drama</td><td>G</td></tr>",
                            "<tr><td>Lady and the Tramp</td><td>Drama</td><td>G</td></tr>",
                            "<tr><td>101 Dalmatians</td><td>Comedy</td><td>G</td></tr>",
                            "<tr><td>Babes in Toyland</td><td>Musical</td><td>G</td></tr>",
                            "<tr><td>The Aristocats</td><td>Musical</td><td>G</td></tr>",
                            "<tr><td>Oliver &amp; Company</td><td>Adventure</td><td>G</td></tr>",
                            "<tr><td>The Little Mermaid</td><td>Adventure</td><td>G</td></tr>",
                            "<tr><td>DuckTales: The Movie - Treasure of th…</td><td>Adventure</td><td>G</td></tr>",
                            "<tr><td>The Rescuers Down Under</td><td>Adventure</td><td>G</td></tr>",
                            "<tr><td>Beauty and the Beast</td><td>Musical</td><td>G</td></tr>",
                            "<tr><td>Aladdin</td><td>Comedy</td><td>G</td></tr>",
                            "<tr><td>The Muppet Christmas Carol</td><td>Comedy</td><td>G</td></tr>",
                            "<tr><td>Homeward Bound: The Incredible Journey</td><td>Adventure</td><td>G</td></tr>",
                            "<tr><td>The Lion King</td><td>Adventure</td><td>G</td></tr>",
                            "<tr><td>A Goofy Movie</td><td>Comedy</td><td>G</td></tr>",
                            "<tr><td>Pocahontas</td><td>Adventure</td><td>G</td></tr>",
                            "<tr><td>Toy Story</td><td>Adventure</td><td>G</td></tr>",
                            "<tr><td>Muppet Treasure Island</td><td>Adventure</td><td>G</td></tr>",
                            "<tr><td>Homeward Bound II: Lost in San Franc…</td><td>Adventure</td><td>G</td></tr>",
                            "<tr><td>The Hunchback of Notre Dame</td><td>Adventure</td><td>G</td></tr>",
                            "<tr><td>101 Dalmatians</td><td>Comedy</td><td>G</td></tr>",
                            "<tr><td>Hercules</td><td>Adventure</td><td>G</td></tr>",
                            "<tr><td>Mulan</td><td>Adventure</td><td>G</td></tr>",
                            "<tr><td>A Bug's Life</td><td>Adventure</td><td>G</td></tr>",
                            "<tr><td>Doug's 1st Movie</td><td>Adventure</td><td>G</td></tr>",
                            "<tr><td>Tarzan</td><td>Adventure</td><td>G</td></tr>",
                            "<tr><td>The Straight Story</td><td>Drama</td><td>G</td></tr>",
                            "<tr><td>Toy Story 2</td><td>Adventure</td><td>G</td></tr>",
                            "<tr><td>Fantasia 2000 (IMAX)</td><td>Musical</td><td>G</td></tr>",
                            "<tr><td>The Tigger Movie</td><td>Adventure</td><td>G</td></tr>",
                            "<tr><td>Fantasia 2000 (Theatrical Release)</td><td>Musical</td><td>G</td></tr>",
                            "<tr><td>102 Dalmatians</td><td>Comedy</td><td>G</td></tr>",
                            "<tr><td>The Emperor's New Groove</td><td>Adventure</td><td>G</td></tr>",
                            "<tr><td>Recess: School's Out</td><td>Comedy</td><td>G</td></tr>",
                            "<tr><td>The Princess Diaries</td><td>Comedy</td><td>G</td></tr>",
                            "<tr><td>Monsters, Inc.</td><td>Adventure</td><td>G</td></tr>",
                            "<tr><td>Beauty and the Beast (IMAX)</td><td>Musical</td><td>G</td></tr>",
                            "<tr><td>Peter Pan: Return to Neverland</td><td>Adventure</td><td>G</td></tr>",
                            "<tr><td>The Rookie</td><td>Drama</td><td>G</td></tr>",
                            "<tr><td>The Country Bears</td><td>Adventure</td><td>G</td></tr>",
                            "<tr><td>The Santa Clause 2</td><td>Comedy</td><td>G</td></tr>",
                            "<tr><td>The Jungle Book 2</td><td>Adventure</td><td>G</td></tr>",
                            "<tr><td>Piglet's Big Movie</td><td>Comedy</td><td>G</td></tr>",
                            "<tr><td>Ghosts of the Abyss</td><td>Documentary</td><td>G</td></tr>",
                            "<tr><td>Finding Nemo</td><td>Adventure</td><td>G</td></tr>",
                            "<tr><td>Brother Bear</td><td>Adventure</td><td>G</td></tr>",
                            "<tr><td>Young Black Stallion</td><td>Adventure</td><td>G</td></tr>",
                            "<tr><td>The Princess Diaries 2: Royal Engagement</td><td>Romantic Comedy</td><td>G</td></tr>",
                            "<tr><td>Aliens of the Deep</td><td>Documentary</td><td>G</td></tr>",
                            "<tr><td>Pooh's Heffalump Movie</td><td>Adventure</td><td>G</td></tr>",
                            "<tr><td>Ice Princess</td><td>Comedy</td><td>G</td></tr>",
                            "<tr><td>Herbie: Fully Loaded</td><td>Comedy</td><td>G</td></tr>",
                            "<tr><td>Valiant</td><td>Adventure</td><td>G</td></tr>",
                            "<tr><td>Chicken Little</td><td>Adventure</td><td>G</td></tr>",
                            "<tr><td>Roving Mars</td><td>Documentary</td><td>G</td></tr>",
                            "<tr><td>The Wild</td><td>Adventure</td><td>G</td></tr>",
                            "<tr><td>Cars</td><td>Comedy</td><td>G</td></tr>",
                            "<tr><td>The Santa Clause 3: The Escape Clause</td><td>Comedy</td><td>G</td></tr>",
                            "<tr><td>Meet the Robinsons</td><td>Adventure</td><td>G</td></tr>",
                            "<tr><td>Ratatouille</td><td>Comedy</td><td>G</td></tr>",
                            "<tr><td>Hannah Montana/Miley Cyrus: Best of B…</td><td>Concert/Performance</td><td>G</td></tr>",
                            "<tr><td>College Road Trip</td><td>Comedy</td><td>G</td></tr>",
                            "<tr><td>WALL-E</td><td>Adventure</td><td>G</td></tr>",
                            "<tr><td>High School Musical 3: Senior Year</td><td>Musical</td><td>G</td></tr>",
                            "<tr><td>Jonas Brothers: The 3D Concert Experi…</td><td>Concert/Performance</td><td>G</td></tr>",
                            "<tr><td>Hannah Montana the Movie</td><td>Drama</td><td>G</td></tr>",
                            "<tr><td>Earth</td><td>Documentary</td><td>G</td></tr>",
                            "<tr><td>Gake no ue no Ponyo</td><td>Adventure</td><td>G</td></tr>",
                            "<tr><td>Toy Story 3D Double Feature</td><td>Adventure</td><td>G</td></tr>",
                            "<tr><td>The Princess and the Frog</td><td>Adventure</td><td>G</td></tr>",
                            "<tr><td>Oceans</td><td>Documentary</td><td>G</td></tr>",
                            "<tr><td>Toy Story 3</td><td>Adventure</td><td>G</td></tr>",
                            "<tr><td>Gnomeo and Juliet</td><td>Comedy</td><td>G</td></tr>",
                            "<tr><td>African Cats</td><td>Documentary</td><td>G</td></tr>",
                            "<tr><td>Cars 2</td><td>Adventure</td><td>G</td></tr>",
                            "<tr><td>Winnie the Pooh</td><td>Adventure</td><td>G</td></tr>",
                            "<tr><td>The Secret World of Arietty</td><td>Adventure</td><td>G</td></tr>",
                            "<tr><td>Chimpanzee</td><td>Documentary</td><td>G</td></tr>",
                            "<tr><td>Monsters University</td><td>Adventure</td><td>G</td></tr>",
                            "<tr><td>Bears</td><td>Documentary</td><td>G</td></tr>",
                            "<tr><td>Monkey Kingdom</td><td>Documentary</td><td>G</td></tr>",
                            "<tr><td>A Beautiful Planet</td><td>Documentary</td><td>G</td></tr>",
                            "</table>"
                        ]
                    }
                }
            ],
            "execution_count": 15
        }
    ]
}