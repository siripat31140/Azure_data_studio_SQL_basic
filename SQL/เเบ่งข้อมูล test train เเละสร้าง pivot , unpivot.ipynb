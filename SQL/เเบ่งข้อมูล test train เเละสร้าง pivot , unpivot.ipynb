{
    "metadata": {
        "kernelspec": {
            "name": "SQL",
            "display_name": "SQL",
            "language": "sql"
        },
        "language_info": {
            "name": "sql",
            "version": ""
        }
    },
    "nbformat_minor": 2,
    "nbformat": 4,
    "cells": [
        {
            "cell_type": "code",
            "source": [
                "SELECT top 70 PERCENT * into train from movie_gross"
            ],
            "metadata": {
                "azdata_cell_guid": "adfd9334-377a-4a0e-b974-e47cd26516a2"
            },
            "outputs": [],
            "execution_count": null
        },
        {
            "cell_type": "code",
            "source": [
                "with cte as(\r\n",
                "    SELECT* from movie_gross\r\n",
                "    EXCEPT\r\n",
                "    SELECT * from train\r\n",
                ")\r\n",
                "SELECT * into test from cte"
            ],
            "metadata": {
                "azdata_cell_guid": "adac6edd-9f86-49fe-8a4a-04a31e371000"
            },
            "outputs": [],
            "execution_count": null
        },
        {
            "cell_type": "code",
            "source": [
                "SELECT distinct YEAR(release_date) FROM movie_gross"
            ],
            "metadata": {
                "azdata_cell_guid": "79513971-522d-4471-80c1-9cb4aeda7219"
            },
            "outputs": [],
            "execution_count": null
        },
        {
            "cell_type": "code",
            "source": [
                "SELECT YEAR(release_date) year, genre , sum(total_gross) gross from movie_gross GROUP by YEAR(release_date) , genre"
            ],
            "metadata": {
                "azdata_cell_guid": "6ab7792d-3632-4ce4-a1c7-baefe468cd5f"
            },
            "outputs": [],
            "execution_count": null
        },
        {
            "cell_type": "code",
            "source": [
                "SELECT genre , [2001] , [2002] , [2003] , [2004] FROM (\r\n",
                "    SELECT YEAR(release_date) year, genre , sum(total_gross) gross from movie_gross GROUP by YEAR(release_date) , genre\r\n",
                ") d\r\n",
                "PIVOT( \r\n",
                "    SUM(gross) for year in( [2001] , [2002] , [2003] , [2004] )\r\n",
                ") pvt"
            ],
            "metadata": {
                "azdata_cell_guid": "f1078518-c033-4525-8e0e-3dd8aa146f1a"
            },
            "outputs": [],
            "execution_count": null
        },
        {
            "cell_type": "code",
            "source": [
                "SELECT year , [Adventure] , [Action] , [Drama] ,\r\n",
                "ISNULL(Adventure ,0) + ISNULL([Action] , 0) + ISNULL(Drama ,0 ) [total]\r\n",
                "FROM (\r\n",
                "    SELECT YEAR(release_date) year, genre , sum(total_gross) gross from movie_gross \r\n",
                "    where genre in('Adventure' , 'Action' ,'Drama')\r\n",
                "    GROUP by YEAR(release_date) , genre\r\n",
                ") d\r\n",
                "PIVOT( \r\n",
                "    SUM(gross) for genre in( [Adventure] , [Action] , [Drama] )\r\n",
                ") pvt\r\n",
                "order by total desc่ง"
            ],
            "metadata": {
                "azdata_cell_guid": "032e8e18-97fd-4c01-8e82-980e012bf6e3",
                "tags": []
            },
            "outputs": [],
            "execution_count": null
        },
        {
            "cell_type": "code",
            "source": [
                "SELECT top 5 * from revenue"
            ],
            "metadata": {
                "azdata_cell_guid": "ed4a1aaa-86f4-401c-8fec-cc04556f366f"
            },
            "outputs": [
                {
                    "output_type": "display_data",
                    "data": {
                        "text/html": "(5 rows affected)"
                    },
                    "metadata": {}
                },
                {
                    "output_type": "display_data",
                    "data": {
                        "text/html": "Total execution time: 00:00:00.128"
                    },
                    "metadata": {}
                },
                {
                    "output_type": "execute_result",
                    "metadata": {},
                    "execution_count": 4,
                    "data": {
                        "application/vnd.dataresource+json": {
                            "schema": {
                                "fields": [
                                    {
                                        "name": "year"
                                    },
                                    {
                                        "name": "studio_entertainment"
                                    },
                                    {
                                        "name": "disney_consumer_products"
                                    },
                                    {
                                        "name": "disney_interactive"
                                    },
                                    {
                                        "name": "walt_disney_parks_and_resorts"
                                    },
                                    {
                                        "name": "disney_media_networks"
                                    },
                                    {
                                        "name": "total"
                                    }
                                ]
                            },
                            "data": [
                                {
                                    "0": "1991",
                                    "1": "2593",
                                    "2": "724",
                                    "3": "NULL",
                                    "4": "2794",
                                    "5": "NULL",
                                    "6": "6111"
                                },
                                {
                                    "0": "1992",
                                    "1": "3115",
                                    "2": "1081",
                                    "3": "NULL",
                                    "4": "3306",
                                    "5": "NULL",
                                    "6": "7502"
                                },
                                {
                                    "0": "1993",
                                    "1": "3673.4",
                                    "2": "1415.1",
                                    "3": "NULL",
                                    "4": "3440.7",
                                    "5": "NULL",
                                    "6": "8529"
                                },
                                {
                                    "0": "1994",
                                    "1": "4793",
                                    "2": "1798.2",
                                    "3": "NULL",
                                    "4": "3463.6",
                                    "5": "359",
                                    "6": "10414"
                                },
                                {
                                    "0": "1995",
                                    "1": "6001.5",
                                    "2": "2150",
                                    "3": "NULL",
                                    "4": "3959.8",
                                    "5": "414",
                                    "6": "12525"
                                }
                            ]
                        },
                        "text/html": [
                            "<table>",
                            "<tr><th>year</th><th>studio_entertainment</th><th>disney_consumer_products</th><th>disney_interactive</th><th>walt_disney_parks_and_resorts</th><th>disney_media_networks</th><th>total</th></tr>",
                            "<tr><td>1991</td><td>2593</td><td>724</td><td>NULL</td><td>2794</td><td>NULL</td><td>6111</td></tr>",
                            "<tr><td>1992</td><td>3115</td><td>1081</td><td>NULL</td><td>3306</td><td>NULL</td><td>7502</td></tr>",
                            "<tr><td>1993</td><td>3673.4</td><td>1415.1</td><td>NULL</td><td>3440.7</td><td>NULL</td><td>8529</td></tr>",
                            "<tr><td>1994</td><td>4793</td><td>1798.2</td><td>NULL</td><td>3463.6</td><td>359</td><td>10414</td></tr>",
                            "<tr><td>1995</td><td>6001.5</td><td>2150</td><td>NULL</td><td>3959.8</td><td>414</td><td>12525</td></tr>",
                            "</table>"
                        ]
                    }
                }
            ],
            "execution_count": 4
        },
        {
            "cell_type": "code",
            "source": [
                "SELECT year, cat , re_n\r\n",
                "from revenue\r\n",
                "UNPIVOT(\r\n",
                "    re_n for cat in(studio_entertainment ,disney_consumer_products)\r\n",
                ") upt\r\n",
                "where year > 2000"
            ],
            "metadata": {
                "azdata_cell_guid": "d71db909-f433-41de-9898-8cb435881fa9"
            },
            "outputs": [
                {
                    "output_type": "display_data",
                    "data": {
                        "text/html": "(31 rows affected)"
                    },
                    "metadata": {}
                },
                {
                    "output_type": "display_data",
                    "data": {
                        "text/html": "Total execution time: 00:00:00.058"
                    },
                    "metadata": {}
                },
                {
                    "output_type": "execute_result",
                    "metadata": {},
                    "execution_count": 13,
                    "data": {
                        "application/vnd.dataresource+json": {
                            "schema": {
                                "fields": [
                                    {
                                        "name": "year"
                                    },
                                    {
                                        "name": "cat"
                                    },
                                    {
                                        "name": "re_n"
                                    }
                                ]
                            },
                            "data": [
                                {
                                    "0": "2001",
                                    "1": "studio_entertainment",
                                    "2": "7004"
                                },
                                {
                                    "0": "2001",
                                    "1": "disney_consumer_products",
                                    "2": "2590"
                                },
                                {
                                    "0": "2002",
                                    "1": "studio_entertainment",
                                    "2": "6465"
                                },
                                {
                                    "0": "2002",
                                    "1": "disney_consumer_products",
                                    "2": "2440"
                                },
                                {
                                    "0": "2003",
                                    "1": "studio_entertainment",
                                    "2": "7364"
                                },
                                {
                                    "0": "2003",
                                    "1": "disney_consumer_products",
                                    "2": "2344"
                                },
                                {
                                    "0": "2004",
                                    "1": "studio_entertainment",
                                    "2": "8713"
                                },
                                {
                                    "0": "2004",
                                    "1": "disney_consumer_products",
                                    "2": "2511"
                                },
                                {
                                    "0": "2005",
                                    "1": "studio_entertainment",
                                    "2": "7587"
                                },
                                {
                                    "0": "2005",
                                    "1": "disney_consumer_products",
                                    "2": "2127"
                                },
                                {
                                    "0": "2006",
                                    "1": "studio_entertainment",
                                    "2": "7529"
                                },
                                {
                                    "0": "2006",
                                    "1": "disney_consumer_products",
                                    "2": "2193"
                                },
                                {
                                    "0": "2007",
                                    "1": "studio_entertainment",
                                    "2": "7491"
                                },
                                {
                                    "0": "2007",
                                    "1": "disney_consumer_products",
                                    "2": "2347"
                                },
                                {
                                    "0": "2008",
                                    "1": "studio_entertainment",
                                    "2": "7348"
                                },
                                {
                                    "0": "2008",
                                    "1": "disney_consumer_products",
                                    "2": "2415"
                                },
                                {
                                    "0": "2009",
                                    "1": "studio_entertainment",
                                    "2": "6136"
                                },
                                {
                                    "0": "2009",
                                    "1": "disney_consumer_products",
                                    "2": "2425"
                                },
                                {
                                    "0": "2010",
                                    "1": "studio_entertainment",
                                    "2": "6701"
                                },
                                {
                                    "0": "2010",
                                    "1": "disney_consumer_products",
                                    "2": "2678"
                                },
                                {
                                    "0": "2011",
                                    "1": "studio_entertainment",
                                    "2": "6351"
                                },
                                {
                                    "0": "2011",
                                    "1": "disney_consumer_products",
                                    "2": "3049"
                                },
                                {
                                    "0": "2012",
                                    "1": "studio_entertainment",
                                    "2": "5825"
                                },
                                {
                                    "0": "2012",
                                    "1": "disney_consumer_products",
                                    "2": "3252"
                                },
                                {
                                    "0": "2013",
                                    "1": "studio_entertainment",
                                    "2": "5979"
                                },
                                {
                                    "0": "2013",
                                    "1": "disney_consumer_products",
                                    "2": "3555"
                                },
                                {
                                    "0": "2014",
                                    "1": "studio_entertainment",
                                    "2": "7278"
                                },
                                {
                                    "0": "2014",
                                    "1": "disney_consumer_products",
                                    "2": "3985"
                                },
                                {
                                    "0": "2015",
                                    "1": "studio_entertainment",
                                    "2": "7366"
                                },
                                {
                                    "0": "2015",
                                    "1": "disney_consumer_products",
                                    "2": "4499"
                                },
                                {
                                    "0": "2016",
                                    "1": "studio_entertainment",
                                    "2": "9441"
                                }
                            ]
                        },
                        "text/html": [
                            "<table>",
                            "<tr><th>year</th><th>cat</th><th>re_n</th></tr>",
                            "<tr><td>2001</td><td>studio_entertainment</td><td>7004</td></tr>",
                            "<tr><td>2001</td><td>disney_consumer_products</td><td>2590</td></tr>",
                            "<tr><td>2002</td><td>studio_entertainment</td><td>6465</td></tr>",
                            "<tr><td>2002</td><td>disney_consumer_products</td><td>2440</td></tr>",
                            "<tr><td>2003</td><td>studio_entertainment</td><td>7364</td></tr>",
                            "<tr><td>2003</td><td>disney_consumer_products</td><td>2344</td></tr>",
                            "<tr><td>2004</td><td>studio_entertainment</td><td>8713</td></tr>",
                            "<tr><td>2004</td><td>disney_consumer_products</td><td>2511</td></tr>",
                            "<tr><td>2005</td><td>studio_entertainment</td><td>7587</td></tr>",
                            "<tr><td>2005</td><td>disney_consumer_products</td><td>2127</td></tr>",
                            "<tr><td>2006</td><td>studio_entertainment</td><td>7529</td></tr>",
                            "<tr><td>2006</td><td>disney_consumer_products</td><td>2193</td></tr>",
                            "<tr><td>2007</td><td>studio_entertainment</td><td>7491</td></tr>",
                            "<tr><td>2007</td><td>disney_consumer_products</td><td>2347</td></tr>",
                            "<tr><td>2008</td><td>studio_entertainment</td><td>7348</td></tr>",
                            "<tr><td>2008</td><td>disney_consumer_products</td><td>2415</td></tr>",
                            "<tr><td>2009</td><td>studio_entertainment</td><td>6136</td></tr>",
                            "<tr><td>2009</td><td>disney_consumer_products</td><td>2425</td></tr>",
                            "<tr><td>2010</td><td>studio_entertainment</td><td>6701</td></tr>",
                            "<tr><td>2010</td><td>disney_consumer_products</td><td>2678</td></tr>",
                            "<tr><td>2011</td><td>studio_entertainment</td><td>6351</td></tr>",
                            "<tr><td>2011</td><td>disney_consumer_products</td><td>3049</td></tr>",
                            "<tr><td>2012</td><td>studio_entertainment</td><td>5825</td></tr>",
                            "<tr><td>2012</td><td>disney_consumer_products</td><td>3252</td></tr>",
                            "<tr><td>2013</td><td>studio_entertainment</td><td>5979</td></tr>",
                            "<tr><td>2013</td><td>disney_consumer_products</td><td>3555</td></tr>",
                            "<tr><td>2014</td><td>studio_entertainment</td><td>7278</td></tr>",
                            "<tr><td>2014</td><td>disney_consumer_products</td><td>3985</td></tr>",
                            "<tr><td>2015</td><td>studio_entertainment</td><td>7366</td></tr>",
                            "<tr><td>2015</td><td>disney_consumer_products</td><td>4499</td></tr>",
                            "<tr><td>2016</td><td>studio_entertainment</td><td>9441</td></tr>",
                            "</table>"
                        ]
                    }
                }
            ],
            "execution_count": 13
        },
        {
            "cell_type": "code",
            "source": [
                "CREATE view reve_n as\r\n",
                "    SELECT year, cat , re_n  from revenue\r\n",
                "    UNPIVOT(\r\n",
                "        re_n for cat in(studio_entertainment ,disney_consumer_products)\r\n",
                "    ) upt\r\n",
                "   "
            ],
            "metadata": {
                "azdata_cell_guid": "500b4643-35be-4f9c-907d-6c5b2edd5187"
            },
            "outputs": [
                {
                    "output_type": "display_data",
                    "data": {
                        "text/html": "Commands completed successfully."
                    },
                    "metadata": {}
                },
                {
                    "output_type": "display_data",
                    "data": {
                        "text/html": "Total execution time: 00:00:00.075"
                    },
                    "metadata": {}
                }
            ],
            "execution_count": 15
        },
        {
            "cell_type": "code",
            "source": [
                "SELECT year , SUM(re_n) total from reve_n \r\n",
                "WHERE year >2010\r\n",
                "GROUP by year ORDER by total DESC\r\n",
                ""
            ],
            "metadata": {
                "azdata_cell_guid": "dc04b6de-7b2f-4f60-99d9-9fbf681c26b1"
            },
            "outputs": [
                {
                    "output_type": "display_data",
                    "data": {
                        "text/html": "(6 rows affected)"
                    },
                    "metadata": {}
                },
                {
                    "output_type": "display_data",
                    "data": {
                        "text/html": "Total execution time: 00:00:00.083"
                    },
                    "metadata": {}
                },
                {
                    "output_type": "execute_result",
                    "metadata": {},
                    "execution_count": 20,
                    "data": {
                        "application/vnd.dataresource+json": {
                            "schema": {
                                "fields": [
                                    {
                                        "name": "year"
                                    },
                                    {
                                        "name": "total"
                                    }
                                ]
                            },
                            "data": [
                                {
                                    "0": "2015",
                                    "1": "11865"
                                },
                                {
                                    "0": "2014",
                                    "1": "11263"
                                },
                                {
                                    "0": "2013",
                                    "1": "9534"
                                },
                                {
                                    "0": "2016",
                                    "1": "9441"
                                },
                                {
                                    "0": "2011",
                                    "1": "9400"
                                },
                                {
                                    "0": "2012",
                                    "1": "9077"
                                }
                            ]
                        },
                        "text/html": [
                            "<table>",
                            "<tr><th>year</th><th>total</th></tr>",
                            "<tr><td>2015</td><td>11865</td></tr>",
                            "<tr><td>2014</td><td>11263</td></tr>",
                            "<tr><td>2013</td><td>9534</td></tr>",
                            "<tr><td>2016</td><td>9441</td></tr>",
                            "<tr><td>2011</td><td>9400</td></tr>",
                            "<tr><td>2012</td><td>9077</td></tr>",
                            "</table>"
                        ]
                    }
                }
            ],
            "execution_count": 20
        },
        {
            "cell_type": "code",
            "source": [
                "SELECT cat , SUM(re_n) total from reve_n \r\n",
                "GROUP by cat ORDER by total DESC\r\n",
                ""
            ],
            "metadata": {
                "azdata_cell_guid": "3c4bc4ce-4e6c-4fc7-9576-6b41a9608be7",
                "tags": []
            },
            "outputs": [
                {
                    "output_type": "display_data",
                    "data": {
                        "text/html": "(2 rows affected)"
                    },
                    "metadata": {}
                },
                {
                    "output_type": "display_data",
                    "data": {
                        "text/html": "Total execution time: 00:00:00.150"
                    },
                    "metadata": {}
                },
                {
                    "output_type": "execute_result",
                    "metadata": {},
                    "execution_count": 21,
                    "data": {
                        "application/vnd.dataresource+json": {
                            "schema": {
                                "fields": [
                                    {
                                        "name": "cat"
                                    },
                                    {
                                        "name": "total"
                                    }
                                ]
                            },
                            "data": [
                                {
                                    "0": "studio_entertainment",
                                    "1": "161125.9"
                                },
                                {
                                    "0": "disney_consumer_products",
                                    "1": "62185.3"
                                }
                            ]
                        },
                        "text/html": [
                            "<table>",
                            "<tr><th>cat</th><th>total</th></tr>",
                            "<tr><td>studio_entertainment</td><td>161125.9</td></tr>",
                            "<tr><td>disney_consumer_products</td><td>62185.3</td></tr>",
                            "</table>"
                        ]
                    }
                }
            ],
            "execution_count": 21
        }
    ]
}