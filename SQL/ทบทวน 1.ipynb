{
    "metadata": {
        "kernelspec": {
            "name": "SQL",
            "display_name": "SQL",
            "language": "sql"
        },
        "language_info": {
            "name": "sql",
            "version": ""
        }
    },
    "nbformat_minor": 2,
    "nbformat": 4,
    "cells": [
        {
            "cell_type": "code",
            "source": [
                "SELECT top 10 * FROM movie_gross"
            ],
            "metadata": {
                "azdata_cell_guid": "cb9e1c78-d3c7-4492-8c60-b0c24d65b039"
            },
            "outputs": [],
            "execution_count": null
        },
        {
            "cell_type": "code",
            "source": [
                "SELECT top 10 * FROM movie_gross WHERE mpaa_rating = 'G'"
            ],
            "metadata": {
                "azdata_cell_guid": "df806d93-b3c4-4058-9072-69918504f92b"
            },
            "outputs": [],
            "execution_count": null
        },
        {
            "cell_type": "code",
            "source": [
                "SELECT Distinct mpaa_rating FROM movie_gross "
            ],
            "metadata": {
                "azdata_cell_guid": "1abba780-3eec-4e02-a674-1a7c9d238fd7"
            },
            "outputs": [],
            "execution_count": null
        },
        {
            "cell_type": "code",
            "source": [
                "SELECT mpaa_rating , COUNT(*) [Cnt] FROM movie_gross GROUP by mpaa_rating"
            ],
            "metadata": {
                "azdata_cell_guid": "5a3b2d1d-7ef4-4d90-a514-13569dc92f07"
            },
            "outputs": [],
            "execution_count": null
        },
        {
            "cell_type": "code",
            "source": [
                "SELECT top 10 ISNULL(mpaa_rating , 'G' ) from movie_gross"
            ],
            "metadata": {
                "azdata_cell_guid": "3d2c45ea-1898-4b52-804a-31c5ee3771f1"
            },
            "outputs": [],
            "execution_count": null
        },
        {
            "cell_type": "code",
            "source": [
                "SELECT top 10 * FROM movie_gross ORDER BY total_gross DESC"
            ],
            "metadata": {
                "azdata_cell_guid": "b1391409-12e9-45f1-abd2-4c2bf4f88fc9"
            },
            "outputs": [],
            "execution_count": null
        },
        {
            "cell_type": "code",
            "source": [
                "SELECT * FROM movie_gross \r\n",
                "WHERE genre IN('Adventure' , 'Action') and mpaa_rating = 'PG-13'"
            ],
            "metadata": {
                "azdata_cell_guid": "5f1d419e-e406-435a-b918-2adb5015aa2e"
            },
            "outputs": [],
            "execution_count": null
        },
        {
            "cell_type": "code",
            "source": [
                "SELECT * from movie_gross WHERE movie_title LIKE '%toy%'"
            ],
            "metadata": {
                "azdata_cell_guid": "d0d1e318-a418-421c-ae26-e926ef041967"
            },
            "outputs": [],
            "execution_count": null
        },
        {
            "cell_type": "code",
            "source": [
                "SELECT * from movie_gross WHERE mpaa_rating is null"
            ],
            "metadata": {
                "azdata_cell_guid": "8444f73c-b57c-4929-bfa8-ea9109844afa"
            },
            "outputs": [],
            "execution_count": null
        },
        {
            "cell_type": "code",
            "source": [
                "SELECT top 10 with ties DATEPART( year , release_date ) [year]  FROM movie_gross ORDER BY [year]"
            ],
            "metadata": {
                "azdata_cell_guid": "64028b65-5e26-4caa-8a4a-fa61c53f0a76"
            },
            "outputs": [],
            "execution_count": null
        },
        {
            "cell_type": "code",
            "source": [
                "SELECT top 10 * from movie_gross \r\n",
                "OFFSET row FETCH NEXT 5 row ONLY"
            ],
            "metadata": {
                "azdata_cell_guid": "a8ea96ca-0d09-4873-9f82-c7142df4e74e"
            },
            "outputs": [],
            "execution_count": null
        },
        {
            "cell_type": "code",
            "source": [
                "SELECT top 10 * FROM movie_gross\r\n",
                ""
            ],
            "metadata": {
                "azdata_cell_guid": "667ef3bf-e2a4-4fc0-bab8-2bf2460147f3"
            },
            "outputs": [],
            "execution_count": null
        },
        {
            "cell_type": "code",
            "source": [
                "SELECT top 10 CONCAT(movie_title , ' (' , genre , ')') [title&genre] from movie_gross\r\n",
                ""
            ],
            "metadata": {
                "azdata_cell_guid": "df9445b0-a5ac-493e-ad85-34d97b754c8e"
            },
            "outputs": [],
            "execution_count": null
        },
        {
            "cell_type": "code",
            "source": [
                "SELECT top 10 CONCAT(movie_title , ' (' , format(total_gross , 'N0') , ')') [title&genre] from movie_gross\r\n",
                ""
            ],
            "metadata": {
                "azdata_cell_guid": "8d96b0a2-1889-40c3-a03c-6e25605d42e2"
            },
            "outputs": [],
            "execution_count": null
        },
        {
            "cell_type": "code",
            "source": [
                "select top 5 * from director"
            ],
            "metadata": {
                "azdata_cell_guid": "03f29067-6176-4eb5-9230-06c6f4950aff"
            },
            "outputs": [],
            "execution_count": null
        },
        {
            "cell_type": "code",
            "source": [
                "select director , \r\n",
                "CHARINDEX(' ' , director),\r\n",
                "SUBSTRING(director , 1 ,CHARINDEX(' ' , director) -1 ) [firsname] ,\r\n",
                "SUBSTRING(director ,CHARINDEX(' ' , director) , len(director) ) [lastname] ,\r\n",
                "UPPER(SUBSTRING(director ,CHARINDEX(' ' , director) , len(director)) + ',' + LEFT(director ,1) + '.'  )\r\n",
                "from director"
            ],
            "metadata": {
                "azdata_cell_guid": "ab5a77f7-000e-465b-95b7-5ad32b291349"
            },
            "outputs": [],
            "execution_count": null
        },
        {
            "cell_type": "code",
            "source": [
                "SELECT top 10  DATEDIFF(year , DATEPART(year , release_date), GETDATE()) [Age] from movie_gross ORDER by [Age]"
            ],
            "metadata": {
                "azdata_cell_guid": "3879167c-0f33-4f78-b82a-55ec643142f1"
            },
            "outputs": [],
            "execution_count": null
        },
        {
            "cell_type": "code",
            "source": [
                "select top 5 DATEADD(year , 5 , DATEPART(year , release_date)) [year]\r\n",
                " FROM movie_gross ORDER by [year]"
            ],
            "metadata": {
                "azdata_cell_guid": "e174befe-0494-42b2-9e95-243d62a4d60a"
            },
            "outputs": [],
            "execution_count": null
        },
        {
            "cell_type": "code",
            "source": [
                "SELECT genre , sum(total_gross) [sum total] from movie_gross  GROUP by genre ORDER by [sum total]"
            ],
            "metadata": {
                "azdata_cell_guid": "5bd046e7-872b-484a-9f36-f339cb1d2527"
            },
            "outputs": [],
            "execution_count": null
        },
        {
            "cell_type": "code",
            "source": [
                "SELECT movie_title , COUNT(*) from movie_gross\r\n",
                "WHERE total_gross > 100e6\r\n",
                "GROUP by movie_title\r\n",
                "HAVING COUNT(*) > 1\r\n",
                "\r\n",
                ""
            ],
            "metadata": {
                "azdata_cell_guid": "5581b828-15a6-40ec-9cf3-b269a0360c11"
            },
            "outputs": [],
            "execution_count": null
        },
        {
            "cell_type": "code",
            "source": [
                "SELECt top 5 * from movie_gross ORDER by inflation_adjusted_gross DESC"
            ],
            "metadata": {
                "azdata_cell_guid": "5ebdfe33-6d31-4a62-8fe9-626f630ebc7b"
            },
            "outputs": [],
            "execution_count": null
        },
        {
            "cell_type": "code",
            "source": [
                "SELECt top 5 movie_title , inflation_adjusted_gross,\n",
                "    case \n",
                "        when inflation_adjusted_gross between 1000e6 and 2000e6 then '1000e6-2000e6'\n",
                "        when inflation_adjusted_gross between 2001e6 and 5000e6 then '2001e6-5000e6'\n",
                "        when inflation_adjusted_gross > 5001e6 then '>5001e6'\n",
                "    end as gross\n",
                "from movie_gross \n",
                "ORDER by  inflation_adjusted_gross DESC"
            ],
            "metadata": {
                "azdata_cell_guid": "6214e847-1fc1-4ae9-97d4-f93874511e38"
            },
            "outputs": [],
            "execution_count": null
        }
    ]
}