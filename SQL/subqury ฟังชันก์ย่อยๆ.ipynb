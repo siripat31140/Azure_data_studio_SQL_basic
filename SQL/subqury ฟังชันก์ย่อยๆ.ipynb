{
    "metadata": {
        "kernelspec": {
            "name": "SQL",
            "display_name": "SQL",
            "language": "sql"
        },
        "language_info": {
            "name": "sql",
            "version": ""
        }
    },
    "nbformat_minor": 2,
    "nbformat": 4,
    "cells": [
        {
            "cell_type": "code",
            "source": [
                "SELECT  sum(total_gross) from movie_gross WHERE YEAR(release_date) = 2016"
            ],
            "metadata": {
                "azdata_cell_guid": "e63a7736-3ec4-4637-9502-4bbf118cc0b9"
            },
            "outputs": [
                {
                    "output_type": "display_data",
                    "data": {
                        "text/html": "(1 row affected)"
                    },
                    "metadata": {}
                },
                {
                    "output_type": "display_data",
                    "data": {
                        "text/html": "Total execution time: 00:00:00.128"
                    },
                    "metadata": {}
                },
                {
                    "output_type": "execute_result",
                    "metadata": {},
                    "execution_count": 3,
                    "data": {
                        "application/vnd.dataresource+json": {
                            "schema": {
                                "fields": [
                                    {
                                        "name": "(No column name)"
                                    }
                                ]
                            },
                            "data": [
                                {
                                    "0": "2873393105"
                                }
                            ]
                        },
                        "text/html": [
                            "<table>",
                            "<tr><th>(No column name)</th></tr>",
                            "<tr><td>2873393105</td></tr>",
                            "</table>"
                        ]
                    }
                }
            ],
            "execution_count": 3
        },
        {
            "cell_type": "code",
            "source": [
                "SELECT movie_title , total_gross , \r\n",
                "total_gross *1.0/(SELECT  sum(total_gross) from movie_gross WHERE YEAR(release_date) = 2016)  [% total_gross]\r\n",
                "from movie_gross \r\n",
                "WHERE YEAR(release_date) = 2016"
            ],
            "metadata": {
                "azdata_cell_guid": "0132e201-95fc-43fb-a5aa-fd6445a3734e"
            },
            "outputs": [
                {
                    "output_type": "display_data",
                    "data": {
                        "text/html": "(14 rows affected)"
                    },
                    "metadata": {}
                },
                {
                    "output_type": "display_data",
                    "data": {
                        "text/html": "Total execution time: 00:00:00.150"
                    },
                    "metadata": {}
                },
                {
                    "output_type": "execute_result",
                    "metadata": {},
                    "execution_count": 8,
                    "data": {
                        "application/vnd.dataresource+json": {
                            "schema": {
                                "fields": [
                                    {
                                        "name": "movie_title"
                                    },
                                    {
                                        "name": "total_gross"
                                    },
                                    {
                                        "name": "% total_gross"
                                    }
                                ]
                            },
                            "data": [
                                {
                                    "0": "The Finest Hours",
                                    "1": "27569558",
                                    "2": "0.00959477418945083"
                                },
                                {
                                    "0": "Zootopia",
                                    "1": "341268248",
                                    "2": "0.11876838132803969"
                                },
                                {
                                    "0": "The Jungle Book",
                                    "1": "364001123",
                                    "2": "0.12667989018509181"
                                },
                                {
                                    "0": "A Beautiful Planet",
                                    "1": "7895708",
                                    "2": "0.00274786905636428"
                                },
                                {
                                    "0": "Captain America: Civil War",
                                    "1": "408084349",
                                    "2": "0.14202176106356321"
                                },
                                {
                                    "0": "Alice Through the Looking Glass",
                                    "1": "77042381",
                                    "2": "0.02681233586380447"
                                },
                                {
                                    "0": "Finding Dory",
                                    "1": "486295561",
                                    "2": "0.16924087419636235"
                                },
                                {
                                    "0": "The BFG",
                                    "1": "55483770",
                                    "2": "0.01930949507168111"
                                },
                                {
                                    "0": "Pete’s Dragon",
                                    "1": "76233151",
                                    "2": "0.02653070715153678"
                                },
                                {
                                    "0": "The Light Between Oceans",
                                    "1": "12545979",
                                    "2": "0.00436625917218521"
                                },
                                {
                                    "0": "Queen of Katwe",
                                    "1": "8874389",
                                    "2": "0.00308847020776852"
                                },
                                {
                                    "0": "Doctor Strange",
                                    "1": "232532923",
                                    "2": "0.08092624799418108"
                                },
                                {
                                    "0": "Moana",
                                    "1": "246082029",
                                    "2": "0.08564161602942246"
                                },
                                {
                                    "0": "Rogue One: A Star Wars Story",
                                    "1": "529483936",
                                    "2": "0.18427131849054812"
                                }
                            ]
                        },
                        "text/html": [
                            "<table>",
                            "<tr><th>movie_title</th><th>total_gross</th><th>% total_gross</th></tr>",
                            "<tr><td>The Finest Hours</td><td>27569558</td><td>0.00959477418945083</td></tr>",
                            "<tr><td>Zootopia</td><td>341268248</td><td>0.11876838132803969</td></tr>",
                            "<tr><td>The Jungle Book</td><td>364001123</td><td>0.12667989018509181</td></tr>",
                            "<tr><td>A Beautiful Planet</td><td>7895708</td><td>0.00274786905636428</td></tr>",
                            "<tr><td>Captain America: Civil War</td><td>408084349</td><td>0.14202176106356321</td></tr>",
                            "<tr><td>Alice Through the Looking Glass</td><td>77042381</td><td>0.02681233586380447</td></tr>",
                            "<tr><td>Finding Dory</td><td>486295561</td><td>0.16924087419636235</td></tr>",
                            "<tr><td>The BFG</td><td>55483770</td><td>0.01930949507168111</td></tr>",
                            "<tr><td>Pete’s Dragon</td><td>76233151</td><td>0.02653070715153678</td></tr>",
                            "<tr><td>The Light Between Oceans</td><td>12545979</td><td>0.00436625917218521</td></tr>",
                            "<tr><td>Queen of Katwe</td><td>8874389</td><td>0.00308847020776852</td></tr>",
                            "<tr><td>Doctor Strange</td><td>232532923</td><td>0.08092624799418108</td></tr>",
                            "<tr><td>Moana</td><td>246082029</td><td>0.08564161602942246</td></tr>",
                            "<tr><td>Rogue One: A Star Wars Story</td><td>529483936</td><td>0.18427131849054812</td></tr>",
                            "</table>"
                        ]
                    }
                }
            ],
            "execution_count": 8
        },
        {
            "cell_type": "code",
            "source": [
                "SELECT movie_title , total_gross , \r\n",
                "(SELECT avg(total_gross) from movie_gross WHERE YEAR(release_date) = 2016)\r\n",
                "from movie_gross \r\n",
                "WHERE YEAR(release_date) = 2016 AND total_gross > (SELECT avg(total_gross) from movie_gross WHERE YEAR(release_date) = 2016)"
            ],
            "metadata": {
                "azdata_cell_guid": "d8da8240-e18b-4f52-9362-162c46bb6de4",
                "tags": []
            },
            "outputs": [
                {
                    "output_type": "display_data",
                    "data": {
                        "text/html": "(7 rows affected)"
                    },
                    "metadata": {}
                },
                {
                    "output_type": "display_data",
                    "data": {
                        "text/html": "Total execution time: 00:00:00.177"
                    },
                    "metadata": {}
                },
                {
                    "output_type": "execute_result",
                    "metadata": {},
                    "execution_count": 24,
                    "data": {
                        "application/vnd.dataresource+json": {
                            "schema": {
                                "fields": [
                                    {
                                        "name": "movie_title"
                                    },
                                    {
                                        "name": "total_gross"
                                    },
                                    {
                                        "name": "(No column name)"
                                    }
                                ]
                            },
                            "data": [
                                {
                                    "0": "Zootopia",
                                    "1": "341268248",
                                    "2": "205242364"
                                },
                                {
                                    "0": "The Jungle Book",
                                    "1": "364001123",
                                    "2": "205242364"
                                },
                                {
                                    "0": "Captain America: Civil War",
                                    "1": "408084349",
                                    "2": "205242364"
                                },
                                {
                                    "0": "Finding Dory",
                                    "1": "486295561",
                                    "2": "205242364"
                                },
                                {
                                    "0": "Doctor Strange",
                                    "1": "232532923",
                                    "2": "205242364"
                                },
                                {
                                    "0": "Moana",
                                    "1": "246082029",
                                    "2": "205242364"
                                },
                                {
                                    "0": "Rogue One: A Star Wars Story",
                                    "1": "529483936",
                                    "2": "205242364"
                                }
                            ]
                        },
                        "text/html": [
                            "<table>",
                            "<tr><th>movie_title</th><th>total_gross</th><th>(No column name)</th></tr>",
                            "<tr><td>Zootopia</td><td>341268248</td><td>205242364</td></tr>",
                            "<tr><td>The Jungle Book</td><td>364001123</td><td>205242364</td></tr>",
                            "<tr><td>Captain America: Civil War</td><td>408084349</td><td>205242364</td></tr>",
                            "<tr><td>Finding Dory</td><td>486295561</td><td>205242364</td></tr>",
                            "<tr><td>Doctor Strange</td><td>232532923</td><td>205242364</td></tr>",
                            "<tr><td>Moana</td><td>246082029</td><td>205242364</td></tr>",
                            "<tr><td>Rogue One: A Star Wars Story</td><td>529483936</td><td>205242364</td></tr>",
                            "</table>"
                        ]
                    }
                }
            ],
            "execution_count": 24
        }
    ]
}