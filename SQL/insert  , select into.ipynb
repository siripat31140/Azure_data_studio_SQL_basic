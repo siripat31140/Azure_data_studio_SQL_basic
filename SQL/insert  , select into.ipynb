{
    "metadata": {
        "kernelspec": {
            "name": "SQL",
            "display_name": "SQL",
            "language": "sql"
        },
        "language_info": {
            "name": "sql",
            "version": ""
        }
    },
    "nbformat_minor": 2,
    "nbformat": 4,
    "cells": [
        {
            "cell_type": "code",
            "source": [
                "SELECT top 5 * into movie from movie_gross\r\n",
                "--สร้างตาราง"
            ],
            "metadata": {
                "azdata_cell_guid": "b33ef497-3921-4993-8783-8f9714a176f1"
            },
            "outputs": [
                {
                    "output_type": "display_data",
                    "data": {
                        "text/html": "(5 rows affected)"
                    },
                    "metadata": {}
                },
                {
                    "output_type": "display_data",
                    "data": {
                        "text/html": "Total execution time: 00:00:01.180"
                    },
                    "metadata": {}
                }
            ],
            "execution_count": 1
        },
        {
            "cell_type": "code",
            "source": [
                "SELECT *from movie"
            ],
            "metadata": {
                "azdata_cell_guid": "7f2bcbf8-b05e-41b4-a1ff-40532305e9ae"
            },
            "outputs": [
                {
                    "output_type": "display_data",
                    "data": {
                        "text/html": "(5 rows affected)"
                    },
                    "metadata": {}
                },
                {
                    "output_type": "display_data",
                    "data": {
                        "text/html": "Total execution time: 00:00:00.430"
                    },
                    "metadata": {}
                },
                {
                    "output_type": "execute_result",
                    "metadata": {},
                    "execution_count": 2,
                    "data": {
                        "application/vnd.dataresource+json": {
                            "schema": {
                                "fields": [
                                    {
                                        "name": "movie_title"
                                    },
                                    {
                                        "name": "release_date"
                                    },
                                    {
                                        "name": "genre"
                                    },
                                    {
                                        "name": "mpaa_rating"
                                    },
                                    {
                                        "name": "total_gross"
                                    },
                                    {
                                        "name": "inflation_adjusted_gross"
                                    }
                                ]
                            },
                            "data": [
                                {
                                    "0": "Snow White and the Seven Dwarfs",
                                    "1": "2480-12-21",
                                    "2": "Musical",
                                    "3": "G",
                                    "4": "184925485",
                                    "5": "5228953251"
                                },
                                {
                                    "0": "Pinocchio",
                                    "1": "2483-02-09",
                                    "2": "Adventure",
                                    "3": "G",
                                    "4": "84300000",
                                    "5": "2188229052"
                                },
                                {
                                    "0": "Fantasia",
                                    "1": "2483-11-13",
                                    "2": "Musical",
                                    "3": "G",
                                    "4": "83320000",
                                    "5": "2187090808"
                                },
                                {
                                    "0": "Song of the South",
                                    "1": "2489-11-12",
                                    "2": "Adventure",
                                    "3": "G",
                                    "4": "65000000",
                                    "5": "1078510579"
                                },
                                {
                                    "0": "Cinderella",
                                    "1": "2493-02-15",
                                    "2": "Drama",
                                    "3": "G",
                                    "4": "85000000",
                                    "5": "920608730"
                                }
                            ]
                        },
                        "text/html": [
                            "<table>",
                            "<tr><th>movie_title</th><th>release_date</th><th>genre</th><th>mpaa_rating</th><th>total_gross</th><th>inflation_adjusted_gross</th></tr>",
                            "<tr><td>Snow White and the Seven Dwarfs</td><td>2480-12-21</td><td>Musical</td><td>G</td><td>184925485</td><td>5228953251</td></tr>",
                            "<tr><td>Pinocchio</td><td>2483-02-09</td><td>Adventure</td><td>G</td><td>84300000</td><td>2188229052</td></tr>",
                            "<tr><td>Fantasia</td><td>2483-11-13</td><td>Musical</td><td>G</td><td>83320000</td><td>2187090808</td></tr>",
                            "<tr><td>Song of the South</td><td>2489-11-12</td><td>Adventure</td><td>G</td><td>65000000</td><td>1078510579</td></tr>",
                            "<tr><td>Cinderella</td><td>2493-02-15</td><td>Drama</td><td>G</td><td>85000000</td><td>920608730</td></tr>",
                            "</table>"
                        ]
                    }
                }
            ],
            "execution_count": 2
        },
        {
            "cell_type": "code",
            "source": [
                "INSERT into movie VALUEs('Xxxxx' , '2020-05-13', 'Drama' , 'G' , null , null)"
            ],
            "metadata": {
                "azdata_cell_guid": "882e78dc-9f21-4271-8de9-87f0be52bad1"
            },
            "outputs": [
                {
                    "output_type": "display_data",
                    "data": {
                        "text/html": "(1 row affected)"
                    },
                    "metadata": {}
                },
                {
                    "output_type": "display_data",
                    "data": {
                        "text/html": "Total execution time: 00:00:00.461"
                    },
                    "metadata": {}
                }
            ],
            "execution_count": 5
        },
        {
            "cell_type": "code",
            "source": [
                "SELECT *from movie"
            ],
            "metadata": {
                "azdata_cell_guid": "f7b1720c-7ae1-46a7-814c-bfda30f9a37a"
            },
            "outputs": [
                {
                    "output_type": "display_data",
                    "data": {
                        "text/html": "(6 rows affected)"
                    },
                    "metadata": {}
                },
                {
                    "output_type": "display_data",
                    "data": {
                        "text/html": "Total execution time: 00:00:00.222"
                    },
                    "metadata": {}
                },
                {
                    "output_type": "execute_result",
                    "metadata": {},
                    "execution_count": 6,
                    "data": {
                        "application/vnd.dataresource+json": {
                            "schema": {
                                "fields": [
                                    {
                                        "name": "movie_title"
                                    },
                                    {
                                        "name": "release_date"
                                    },
                                    {
                                        "name": "genre"
                                    },
                                    {
                                        "name": "mpaa_rating"
                                    },
                                    {
                                        "name": "total_gross"
                                    },
                                    {
                                        "name": "inflation_adjusted_gross"
                                    }
                                ]
                            },
                            "data": [
                                {
                                    "0": "Snow White and the Seven Dwarfs",
                                    "1": "2480-12-21",
                                    "2": "Musical",
                                    "3": "G",
                                    "4": "184925485",
                                    "5": "5228953251"
                                },
                                {
                                    "0": "Pinocchio",
                                    "1": "2483-02-09",
                                    "2": "Adventure",
                                    "3": "G",
                                    "4": "84300000",
                                    "5": "2188229052"
                                },
                                {
                                    "0": "Fantasia",
                                    "1": "2483-11-13",
                                    "2": "Musical",
                                    "3": "G",
                                    "4": "83320000",
                                    "5": "2187090808"
                                },
                                {
                                    "0": "Song of the South",
                                    "1": "2489-11-12",
                                    "2": "Adventure",
                                    "3": "G",
                                    "4": "65000000",
                                    "5": "1078510579"
                                },
                                {
                                    "0": "Cinderella",
                                    "1": "2493-02-15",
                                    "2": "Drama",
                                    "3": "G",
                                    "4": "85000000",
                                    "5": "920608730"
                                },
                                {
                                    "0": "Xxxxx",
                                    "1": "2563-05-13",
                                    "2": "Drama",
                                    "3": "G",
                                    "4": "NULL",
                                    "5": "NULL"
                                }
                            ]
                        },
                        "text/html": [
                            "<table>",
                            "<tr><th>movie_title</th><th>release_date</th><th>genre</th><th>mpaa_rating</th><th>total_gross</th><th>inflation_adjusted_gross</th></tr>",
                            "<tr><td>Snow White and the Seven Dwarfs</td><td>2480-12-21</td><td>Musical</td><td>G</td><td>184925485</td><td>5228953251</td></tr>",
                            "<tr><td>Pinocchio</td><td>2483-02-09</td><td>Adventure</td><td>G</td><td>84300000</td><td>2188229052</td></tr>",
                            "<tr><td>Fantasia</td><td>2483-11-13</td><td>Musical</td><td>G</td><td>83320000</td><td>2187090808</td></tr>",
                            "<tr><td>Song of the South</td><td>2489-11-12</td><td>Adventure</td><td>G</td><td>65000000</td><td>1078510579</td></tr>",
                            "<tr><td>Cinderella</td><td>2493-02-15</td><td>Drama</td><td>G</td><td>85000000</td><td>920608730</td></tr>",
                            "<tr><td>Xxxxx</td><td>2563-05-13</td><td>Drama</td><td>G</td><td>NULL</td><td>NULL</td></tr>",
                            "</table>"
                        ]
                    }
                }
            ],
            "execution_count": 6
        },
        {
            "cell_type": "code",
            "source": [
                "drop TABLE if EXISTS adventure;\r\n",
                "\r\n",
                "SELECT movie_title , release_date , genre into adventure \r\n",
                "from movie_gross\r\n",
                "where genre ='Adventure' and YEAR(release_date) >2000"
            ],
            "metadata": {
                "azdata_cell_guid": "0e2557b0-2283-4b97-af29-d367ffc62aca"
            },
            "outputs": [
                {
                    "output_type": "display_data",
                    "data": {
                        "text/html": "(78 rows affected)"
                    },
                    "metadata": {}
                },
                {
                    "output_type": "display_data",
                    "data": {
                        "text/html": "Total execution time: 00:00:00.146"
                    },
                    "metadata": {}
                }
            ],
            "execution_count": 9
        },
        {
            "cell_type": "code",
            "source": [
                "SELECT * from adventure"
            ],
            "metadata": {
                "azdata_cell_guid": "44c6f575-bb83-4109-9332-080918919964"
            },
            "outputs": [
                {
                    "output_type": "display_data",
                    "data": {
                        "text/html": "(78 rows affected)"
                    },
                    "metadata": {}
                },
                {
                    "output_type": "display_data",
                    "data": {
                        "text/html": "Total execution time: 00:00:00.105"
                    },
                    "metadata": {}
                },
                {
                    "output_type": "execute_result",
                    "metadata": {},
                    "execution_count": 10,
                    "data": {
                        "application/vnd.dataresource+json": {
                            "schema": {
                                "fields": [
                                    {
                                        "name": "movie_title"
                                    },
                                    {
                                        "name": "release_date"
                                    },
                                    {
                                        "name": "genre"
                                    }
                                ]
                            },
                            "data": [
                                {
                                    "0": "Atlantis: The Lost Empire",
                                    "1": "2544-06-08",
                                    "2": "Adventure"
                                },
                                {
                                    "0": "Monsters, Inc.",
                                    "1": "2544-11-02",
                                    "2": "Adventure"
                                },
                                {
                                    "0": "Peter Pan: Return to Neverland",
                                    "1": "2545-02-15",
                                    "2": "Adventure"
                                },
                                {
                                    "0": "Lilo & Stitch",
                                    "1": "2545-06-21",
                                    "2": "Adventure"
                                },
                                {
                                    "0": "The Country Bears",
                                    "1": "2545-07-26",
                                    "2": "Adventure"
                                },
                                {
                                    "0": "Sen to Chihiro no Kamikakushi",
                                    "1": "2545-09-20",
                                    "2": "Adventure"
                                },
                                {
                                    "0": "Treasure Planet",
                                    "1": "2545-11-27",
                                    "2": "Adventure"
                                },
                                {
                                    "0": "Shanghai Knights",
                                    "1": "2546-02-07",
                                    "2": "Adventure"
                                },
                                {
                                    "0": "The Jungle Book 2",
                                    "1": "2546-02-14",
                                    "2": "Adventure"
                                },
                                {
                                    "0": "Finding Nemo",
                                    "1": "2546-05-30",
                                    "2": "Adventure"
                                },
                                {
                                    "0": "Pirates of the Caribbean: The Curse o…",
                                    "1": "2546-07-09",
                                    "2": "Adventure"
                                },
                                {
                                    "0": "Brother Bear",
                                    "1": "2546-10-24",
                                    "2": "Adventure"
                                },
                                {
                                    "0": "Young Black Stallion",
                                    "1": "2546-12-25",
                                    "2": "Adventure"
                                },
                                {
                                    "0": "Around the World in 80 Days",
                                    "1": "2547-06-16",
                                    "2": "Adventure"
                                },
                                {
                                    "0": "King Arthur",
                                    "1": "2547-07-07",
                                    "2": "Adventure"
                                },
                                {
                                    "0": "The Incredibles",
                                    "1": "2547-11-05",
                                    "2": "Adventure"
                                },
                                {
                                    "0": "National Treasure",
                                    "1": "2547-11-19",
                                    "2": "Adventure"
                                },
                                {
                                    "0": "Pooh's Heffalump Movie",
                                    "1": "2548-02-11",
                                    "2": "Adventure"
                                },
                                {
                                    "0": "Hauru no ugoku shiro",
                                    "1": "2548-06-10",
                                    "2": "Adventure"
                                },
                                {
                                    "0": "Sky High",
                                    "1": "2548-07-29",
                                    "2": "Adventure"
                                },
                                {
                                    "0": "Valiant",
                                    "1": "2548-08-19",
                                    "2": "Adventure"
                                },
                                {
                                    "0": "Chicken Little",
                                    "1": "2548-11-04",
                                    "2": "Adventure"
                                },
                                {
                                    "0": "The Chronicles of Narnia: The Lion, t…",
                                    "1": "2548-12-09",
                                    "2": "Adventure"
                                },
                                {
                                    "0": "Eight Below",
                                    "1": "2549-02-17",
                                    "2": "Adventure"
                                },
                                {
                                    "0": "The Wild",
                                    "1": "2549-04-14",
                                    "2": "Adventure"
                                },
                                {
                                    "0": "Pirates of the Caribbean: Dead Man’…",
                                    "1": "2549-07-07",
                                    "2": "Adventure"
                                },
                                {
                                    "0": "Apocalypto",
                                    "1": "2549-12-08",
                                    "2": "Adventure"
                                },
                                {
                                    "0": "Primeval",
                                    "1": "2550-01-12",
                                    "2": "Adventure"
                                },
                                {
                                    "0": "Meet the Robinsons",
                                    "1": "2550-03-30",
                                    "2": "Adventure"
                                },
                                {
                                    "0": "Pirates of the Caribbean: At World’…",
                                    "1": "2550-05-24",
                                    "2": "Adventure"
                                },
                                {
                                    "0": "Underdog",
                                    "1": "2550-08-03",
                                    "2": "Adventure"
                                },
                                {
                                    "0": "National Treasure 2: Book of Secrets",
                                    "1": "2550-12-21",
                                    "2": "Adventure"
                                },
                                {
                                    "0": "The Chronicles of Narnia: Prince Caspian",
                                    "1": "2551-05-16",
                                    "2": "Adventure"
                                },
                                {
                                    "0": "WALL-E",
                                    "1": "2551-06-27",
                                    "2": "Adventure"
                                },
                                {
                                    "0": "Race to Witch Mountain",
                                    "1": "2552-03-13",
                                    "2": "Adventure"
                                },
                                {
                                    "0": "Up",
                                    "1": "2552-05-29",
                                    "2": "Adventure"
                                },
                                {
                                    "0": "G-Force",
                                    "1": "2552-07-24",
                                    "2": "Adventure"
                                },
                                {
                                    "0": "Gake no ue no Ponyo",
                                    "1": "2552-08-14",
                                    "2": "Adventure"
                                },
                                {
                                    "0": "Toy Story 3D Double Feature",
                                    "1": "2552-10-02",
                                    "2": "Adventure"
                                },
                                {
                                    "0": "The Princess and the Frog",
                                    "1": "2552-11-25",
                                    "2": "Adventure"
                                },
                                {
                                    "0": "Alice in Wonderland",
                                    "1": "2553-03-05",
                                    "2": "Adventure"
                                },
                                {
                                    "0": "Toy Story 3",
                                    "1": "2553-06-18",
                                    "2": "Adventure"
                                },
                                {
                                    "0": "The Sorcerer's Apprentice",
                                    "1": "2553-07-14",
                                    "2": "Adventure"
                                },
                                {
                                    "0": "Gedo Senki (Tales from Earthsea)",
                                    "1": "2553-08-13",
                                    "2": "Adventure"
                                },
                                {
                                    "0": "Tangled",
                                    "1": "2553-11-24",
                                    "2": "Adventure"
                                },
                                {
                                    "0": "Tron: Legacy",
                                    "1": "2553-12-17",
                                    "2": "Adventure"
                                },
                                {
                                    "0": "I am Number Four",
                                    "1": "2554-02-18",
                                    "2": "Adventure"
                                },
                                {
                                    "0": "Mars Needs Moms",
                                    "1": "2554-03-11",
                                    "2": "Adventure"
                                },
                                {
                                    "0": "Zokkomon",
                                    "1": "2554-04-22",
                                    "2": "Adventure"
                                },
                                {
                                    "0": "Pirates of the Caribbean: On Stranger…",
                                    "1": "2554-05-20",
                                    "2": "Adventure"
                                },
                                {
                                    "0": "Cars 2",
                                    "1": "2554-06-24",
                                    "2": "Adventure"
                                },
                                {
                                    "0": "Winnie the Pooh",
                                    "1": "2554-07-15",
                                    "2": "Adventure"
                                },
                                {
                                    "0": "The Secret World of Arietty",
                                    "1": "2555-02-17",
                                    "2": "Adventure"
                                },
                                {
                                    "0": "John Carter",
                                    "1": "2555-03-09",
                                    "2": "Adventure"
                                },
                                {
                                    "0": "Brave",
                                    "1": "2555-06-22",
                                    "2": "Adventure"
                                },
                                {
                                    "0": "Wreck-It Ralph",
                                    "1": "2555-11-02",
                                    "2": "Adventure"
                                },
                                {
                                    "0": "Oz the Great and Powerful",
                                    "1": "2556-03-08",
                                    "2": "Adventure"
                                },
                                {
                                    "0": "Monsters University",
                                    "1": "2556-06-21",
                                    "2": "Adventure"
                                },
                                {
                                    "0": "Thor: The Dark World",
                                    "1": "2556-11-08",
                                    "2": "Adventure"
                                },
                                {
                                    "0": "Frozen",
                                    "1": "2556-11-22",
                                    "2": "Adventure"
                                },
                                {
                                    "0": "Maleficent",
                                    "1": "2557-05-30",
                                    "2": "Adventure"
                                },
                                {
                                    "0": "Planes: Fire and Rescue",
                                    "1": "2557-07-18",
                                    "2": "Adventure"
                                },
                                {
                                    "0": "Guardians of the Galaxy",
                                    "1": "2557-08-01",
                                    "2": "Adventure"
                                },
                                {
                                    "0": "Big Hero 6",
                                    "1": "2557-11-07",
                                    "2": "Adventure"
                                },
                                {
                                    "0": "Strange Magic",
                                    "1": "2558-01-23",
                                    "2": "Adventure"
                                },
                                {
                                    "0": "Tomorrowland",
                                    "1": "2558-05-22",
                                    "2": "Adventure"
                                },
                                {
                                    "0": "Inside Out",
                                    "1": "2558-06-19",
                                    "2": "Adventure"
                                },
                                {
                                    "0": "The Good Dinosaur",
                                    "1": "2558-11-25",
                                    "2": "Adventure"
                                },
                                {
                                    "0": "Star Wars Ep. VII: The Force Awakens",
                                    "1": "2558-12-18",
                                    "2": "Adventure"
                                },
                                {
                                    "0": "Zootopia",
                                    "1": "2559-03-04",
                                    "2": "Adventure"
                                },
                                {
                                    "0": "The Jungle Book",
                                    "1": "2559-04-15",
                                    "2": "Adventure"
                                },
                                {
                                    "0": "Alice Through the Looking Glass",
                                    "1": "2559-05-27",
                                    "2": "Adventure"
                                },
                                {
                                    "0": "Finding Dory",
                                    "1": "2559-06-17",
                                    "2": "Adventure"
                                },
                                {
                                    "0": "The BFG",
                                    "1": "2559-07-01",
                                    "2": "Adventure"
                                },
                                {
                                    "0": "Pete’s Dragon",
                                    "1": "2559-08-12",
                                    "2": "Adventure"
                                },
                                {
                                    "0": "Doctor Strange",
                                    "1": "2559-11-04",
                                    "2": "Adventure"
                                },
                                {
                                    "0": "Moana",
                                    "1": "2559-11-23",
                                    "2": "Adventure"
                                },
                                {
                                    "0": "Rogue One: A Star Wars Story",
                                    "1": "2559-12-16",
                                    "2": "Adventure"
                                }
                            ]
                        },
                        "text/html": [
                            "<table>",
                            "<tr><th>movie_title</th><th>release_date</th><th>genre</th></tr>",
                            "<tr><td>Atlantis: The Lost Empire</td><td>2544-06-08</td><td>Adventure</td></tr>",
                            "<tr><td>Monsters, Inc.</td><td>2544-11-02</td><td>Adventure</td></tr>",
                            "<tr><td>Peter Pan: Return to Neverland</td><td>2545-02-15</td><td>Adventure</td></tr>",
                            "<tr><td>Lilo &amp; Stitch</td><td>2545-06-21</td><td>Adventure</td></tr>",
                            "<tr><td>The Country Bears</td><td>2545-07-26</td><td>Adventure</td></tr>",
                            "<tr><td>Sen to Chihiro no Kamikakushi</td><td>2545-09-20</td><td>Adventure</td></tr>",
                            "<tr><td>Treasure Planet</td><td>2545-11-27</td><td>Adventure</td></tr>",
                            "<tr><td>Shanghai Knights</td><td>2546-02-07</td><td>Adventure</td></tr>",
                            "<tr><td>The Jungle Book 2</td><td>2546-02-14</td><td>Adventure</td></tr>",
                            "<tr><td>Finding Nemo</td><td>2546-05-30</td><td>Adventure</td></tr>",
                            "<tr><td>Pirates of the Caribbean: The Curse o…</td><td>2546-07-09</td><td>Adventure</td></tr>",
                            "<tr><td>Brother Bear</td><td>2546-10-24</td><td>Adventure</td></tr>",
                            "<tr><td>Young Black Stallion</td><td>2546-12-25</td><td>Adventure</td></tr>",
                            "<tr><td>Around the World in 80 Days</td><td>2547-06-16</td><td>Adventure</td></tr>",
                            "<tr><td>King Arthur</td><td>2547-07-07</td><td>Adventure</td></tr>",
                            "<tr><td>The Incredibles</td><td>2547-11-05</td><td>Adventure</td></tr>",
                            "<tr><td>National Treasure</td><td>2547-11-19</td><td>Adventure</td></tr>",
                            "<tr><td>Pooh's Heffalump Movie</td><td>2548-02-11</td><td>Adventure</td></tr>",
                            "<tr><td>Hauru no ugoku shiro</td><td>2548-06-10</td><td>Adventure</td></tr>",
                            "<tr><td>Sky High</td><td>2548-07-29</td><td>Adventure</td></tr>",
                            "<tr><td>Valiant</td><td>2548-08-19</td><td>Adventure</td></tr>",
                            "<tr><td>Chicken Little</td><td>2548-11-04</td><td>Adventure</td></tr>",
                            "<tr><td>The Chronicles of Narnia: The Lion, t…</td><td>2548-12-09</td><td>Adventure</td></tr>",
                            "<tr><td>Eight Below</td><td>2549-02-17</td><td>Adventure</td></tr>",
                            "<tr><td>The Wild</td><td>2549-04-14</td><td>Adventure</td></tr>",
                            "<tr><td>Pirates of the Caribbean: Dead Man’…</td><td>2549-07-07</td><td>Adventure</td></tr>",
                            "<tr><td>Apocalypto</td><td>2549-12-08</td><td>Adventure</td></tr>",
                            "<tr><td>Primeval</td><td>2550-01-12</td><td>Adventure</td></tr>",
                            "<tr><td>Meet the Robinsons</td><td>2550-03-30</td><td>Adventure</td></tr>",
                            "<tr><td>Pirates of the Caribbean: At World’…</td><td>2550-05-24</td><td>Adventure</td></tr>",
                            "<tr><td>Underdog</td><td>2550-08-03</td><td>Adventure</td></tr>",
                            "<tr><td>National Treasure 2: Book of Secrets</td><td>2550-12-21</td><td>Adventure</td></tr>",
                            "<tr><td>The Chronicles of Narnia: Prince Caspian</td><td>2551-05-16</td><td>Adventure</td></tr>",
                            "<tr><td>WALL-E</td><td>2551-06-27</td><td>Adventure</td></tr>",
                            "<tr><td>Race to Witch Mountain</td><td>2552-03-13</td><td>Adventure</td></tr>",
                            "<tr><td>Up</td><td>2552-05-29</td><td>Adventure</td></tr>",
                            "<tr><td>G-Force</td><td>2552-07-24</td><td>Adventure</td></tr>",
                            "<tr><td>Gake no ue no Ponyo</td><td>2552-08-14</td><td>Adventure</td></tr>",
                            "<tr><td>Toy Story 3D Double Feature</td><td>2552-10-02</td><td>Adventure</td></tr>",
                            "<tr><td>The Princess and the Frog</td><td>2552-11-25</td><td>Adventure</td></tr>",
                            "<tr><td>Alice in Wonderland</td><td>2553-03-05</td><td>Adventure</td></tr>",
                            "<tr><td>Toy Story 3</td><td>2553-06-18</td><td>Adventure</td></tr>",
                            "<tr><td>The Sorcerer's Apprentice</td><td>2553-07-14</td><td>Adventure</td></tr>",
                            "<tr><td>Gedo Senki (Tales from Earthsea)</td><td>2553-08-13</td><td>Adventure</td></tr>",
                            "<tr><td>Tangled</td><td>2553-11-24</td><td>Adventure</td></tr>",
                            "<tr><td>Tron: Legacy</td><td>2553-12-17</td><td>Adventure</td></tr>",
                            "<tr><td>I am Number Four</td><td>2554-02-18</td><td>Adventure</td></tr>",
                            "<tr><td>Mars Needs Moms</td><td>2554-03-11</td><td>Adventure</td></tr>",
                            "<tr><td>Zokkomon</td><td>2554-04-22</td><td>Adventure</td></tr>",
                            "<tr><td>Pirates of the Caribbean: On Stranger…</td><td>2554-05-20</td><td>Adventure</td></tr>",
                            "<tr><td>Cars 2</td><td>2554-06-24</td><td>Adventure</td></tr>",
                            "<tr><td>Winnie the Pooh</td><td>2554-07-15</td><td>Adventure</td></tr>",
                            "<tr><td>The Secret World of Arietty</td><td>2555-02-17</td><td>Adventure</td></tr>",
                            "<tr><td>John Carter</td><td>2555-03-09</td><td>Adventure</td></tr>",
                            "<tr><td>Brave</td><td>2555-06-22</td><td>Adventure</td></tr>",
                            "<tr><td>Wreck-It Ralph</td><td>2555-11-02</td><td>Adventure</td></tr>",
                            "<tr><td>Oz the Great and Powerful</td><td>2556-03-08</td><td>Adventure</td></tr>",
                            "<tr><td>Monsters University</td><td>2556-06-21</td><td>Adventure</td></tr>",
                            "<tr><td>Thor: The Dark World</td><td>2556-11-08</td><td>Adventure</td></tr>",
                            "<tr><td>Frozen</td><td>2556-11-22</td><td>Adventure</td></tr>",
                            "<tr><td>Maleficent</td><td>2557-05-30</td><td>Adventure</td></tr>",
                            "<tr><td>Planes: Fire and Rescue</td><td>2557-07-18</td><td>Adventure</td></tr>",
                            "<tr><td>Guardians of the Galaxy</td><td>2557-08-01</td><td>Adventure</td></tr>",
                            "<tr><td>Big Hero 6</td><td>2557-11-07</td><td>Adventure</td></tr>",
                            "<tr><td>Strange Magic</td><td>2558-01-23</td><td>Adventure</td></tr>",
                            "<tr><td>Tomorrowland</td><td>2558-05-22</td><td>Adventure</td></tr>",
                            "<tr><td>Inside Out</td><td>2558-06-19</td><td>Adventure</td></tr>",
                            "<tr><td>The Good Dinosaur</td><td>2558-11-25</td><td>Adventure</td></tr>",
                            "<tr><td>Star Wars Ep. VII: The Force Awakens</td><td>2558-12-18</td><td>Adventure</td></tr>",
                            "<tr><td>Zootopia</td><td>2559-03-04</td><td>Adventure</td></tr>",
                            "<tr><td>The Jungle Book</td><td>2559-04-15</td><td>Adventure</td></tr>",
                            "<tr><td>Alice Through the Looking Glass</td><td>2559-05-27</td><td>Adventure</td></tr>",
                            "<tr><td>Finding Dory</td><td>2559-06-17</td><td>Adventure</td></tr>",
                            "<tr><td>The BFG</td><td>2559-07-01</td><td>Adventure</td></tr>",
                            "<tr><td>Pete’s Dragon</td><td>2559-08-12</td><td>Adventure</td></tr>",
                            "<tr><td>Doctor Strange</td><td>2559-11-04</td><td>Adventure</td></tr>",
                            "<tr><td>Moana</td><td>2559-11-23</td><td>Adventure</td></tr>",
                            "<tr><td>Rogue One: A Star Wars Story</td><td>2559-12-16</td><td>Adventure</td></tr>",
                            "</table>"
                        ]
                    }
                }
            ],
            "execution_count": 10
        }
    ]
}