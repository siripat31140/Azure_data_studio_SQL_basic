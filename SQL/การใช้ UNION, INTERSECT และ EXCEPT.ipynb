{
    "metadata": {
        "kernelspec": {
            "name": "SQL",
            "display_name": "SQL",
            "language": "sql"
        },
        "language_info": {
            "name": "sql",
            "version": ""
        }
    },
    "nbformat_minor": 2,
    "nbformat": 4,
    "cells": [
        {
            "cell_type": "code",
            "source": [
                "SELECT movie_title , hero , villian FROM disney_char"
            ],
            "metadata": {
                "azdata_cell_guid": "eff51b70-4149-49eb-8e8f-aef17a9a5590"
            },
            "outputs": [
                {
                    "output_type": "display_data",
                    "data": {
                        "text/html": "(56 rows affected)"
                    },
                    "metadata": {}
                },
                {
                    "output_type": "display_data",
                    "data": {
                        "text/html": "Total execution time: 00:00:00.127"
                    },
                    "metadata": {}
                },
                {
                    "output_type": "execute_result",
                    "metadata": {},
                    "execution_count": 2,
                    "data": {
                        "application/vnd.dataresource+json": {
                            "schema": {
                                "fields": [
                                    {
                                        "name": "movie_title"
                                    },
                                    {
                                        "name": "hero"
                                    },
                                    {
                                        "name": "villian"
                                    }
                                ]
                            },
                            "data": [
                                {
                                    "0": "Snow White and the Seven Dwarfs",
                                    "1": "Snow White",
                                    "2": "Evil Queen"
                                },
                                {
                                    "0": "Pinocchio",
                                    "1": "Pinocchio",
                                    "2": "Stromboli"
                                },
                                {
                                    "0": "Fantasia",
                                    "1": "NULL",
                                    "2": "Chernabog"
                                },
                                {
                                    "0": "Dumbo",
                                    "1": "Dumbo",
                                    "2": "Ringmaster"
                                },
                                {
                                    "0": "Bambi",
                                    "1": "Bambi",
                                    "2": "Hunter"
                                },
                                {
                                    "0": "Saludos Amigos",
                                    "1": "Donald Duck",
                                    "2": "NULL"
                                },
                                {
                                    "0": "The Three Caballeros",
                                    "1": "Donald Duck",
                                    "2": "NULL"
                                },
                                {
                                    "0": "Make Mine Music",
                                    "1": "NULL",
                                    "2": "NULL"
                                },
                                {
                                    "0": "Fun and Fancy Free",
                                    "1": "Mickey Mouse",
                                    "2": "Willie the Giant"
                                },
                                {
                                    "0": "Melody Time",
                                    "1": "NULL",
                                    "2": "NULL"
                                },
                                {
                                    "0": "The Adventures of Ichabod and Mr. Toad",
                                    "1": "Mr. Toad and Ichabod Crane",
                                    "2": "Mr. Winkie and The Headless Horseman"
                                },
                                {
                                    "0": "Cinderella",
                                    "1": "Cinderella",
                                    "2": "Lady Tremaine"
                                },
                                {
                                    "0": "Alice in Wonderland",
                                    "1": "Alice",
                                    "2": "Queen of Hearts"
                                },
                                {
                                    "0": "Peter Pan",
                                    "1": "Peter Pan",
                                    "2": "Captain Hook"
                                },
                                {
                                    "0": "Lady and the Tramp",
                                    "1": "Lady and Tramp",
                                    "2": "Si and Am"
                                },
                                {
                                    "0": "Sleeping Beauty",
                                    "1": "Aurora",
                                    "2": "Maleficent"
                                },
                                {
                                    "0": "One Hundred and One Dalmatians",
                                    "1": "Pongo",
                                    "2": "Cruella de Vil"
                                },
                                {
                                    "0": "The Sword in the Stone",
                                    "1": "Arthur",
                                    "2": "Madam Mim"
                                },
                                {
                                    "0": "The Jungle Book",
                                    "1": "Mowgli",
                                    "2": "Kaa and Shere Khan"
                                },
                                {
                                    "0": "The Aristocats",
                                    "1": "Thomas and Duchess",
                                    "2": "Edgar Balthazar"
                                },
                                {
                                    "0": "Robin Hood",
                                    "1": "Robin Hood",
                                    "2": "Prince John"
                                },
                                {
                                    "0": "The Many Adventures of Winnie the Pooh",
                                    "1": "Winnie the Pooh",
                                    "2": "NULL"
                                },
                                {
                                    "0": "The Rescuers",
                                    "1": "Bernard and Miss Bianca",
                                    "2": "Madame Medusa"
                                },
                                {
                                    "0": "The Fox and the Hound",
                                    "1": "Tod and Copper",
                                    "2": "Amos Slade"
                                },
                                {
                                    "0": "The Black Cauldron",
                                    "1": "Taran",
                                    "2": "Horned King"
                                },
                                {
                                    "0": "The Great Mouse Detective",
                                    "1": "Basil",
                                    "2": "Professor Ratigan"
                                },
                                {
                                    "0": "Oliver & Company",
                                    "1": "Oliver",
                                    "2": "Sykes"
                                },
                                {
                                    "0": "The Little Mermaid",
                                    "1": "Ariel",
                                    "2": "Ursula"
                                },
                                {
                                    "0": "The Rescuers Down Under",
                                    "1": "Bernard and Miss Bianca",
                                    "2": "Percival C. McLeach"
                                },
                                {
                                    "0": "Beauty and the Beast",
                                    "1": "Belle",
                                    "2": "Gaston"
                                },
                                {
                                    "0": "Aladdin",
                                    "1": "Aladdin",
                                    "2": "Jafar"
                                },
                                {
                                    "0": "The Lion King",
                                    "1": "Simba",
                                    "2": "Scar"
                                },
                                {
                                    "0": "Pocahontas",
                                    "1": "Pocahontas",
                                    "2": "Governor Ratcliffe"
                                },
                                {
                                    "0": "The Hunchback of Notre Dame",
                                    "1": "Quasimodo",
                                    "2": "Claude Frollo"
                                },
                                {
                                    "0": "Hercules",
                                    "1": "Hercules",
                                    "2": "Hades"
                                },
                                {
                                    "0": "Mulan",
                                    "1": "Mulan",
                                    "2": "Shan Yu"
                                },
                                {
                                    "0": "Tarzan",
                                    "1": "Tarzan",
                                    "2": "Clayton"
                                },
                                {
                                    "0": "Fantasia 2000",
                                    "1": "NULL",
                                    "2": "NULL"
                                },
                                {
                                    "0": "Dinosaur",
                                    "1": "Aladar",
                                    "2": "Kron"
                                },
                                {
                                    "0": "The Emperor's New Groove",
                                    "1": "Kuzco",
                                    "2": "Yzma"
                                },
                                {
                                    "0": "Atlantis: The Lost Empire",
                                    "1": "Milo Thatch",
                                    "2": "Commander Rourke"
                                },
                                {
                                    "0": "Lilo & Stitch",
                                    "1": "Lilo and Stitch",
                                    "2": "NULL"
                                },
                                {
                                    "0": "Treasure Planet",
                                    "1": "Jim Hawkins",
                                    "2": "John Silver"
                                },
                                {
                                    "0": "Brother Bear",
                                    "1": "Kenai",
                                    "2": "Denahi"
                                },
                                {
                                    "0": "Home on the Range",
                                    "1": "Maggie",
                                    "2": "Alameda Slim"
                                },
                                {
                                    "0": "Chicken Little",
                                    "1": "Ace Cluck",
                                    "2": "Foxy Loxy"
                                },
                                {
                                    "0": "Meet the Robinsons",
                                    "1": "Lewis",
                                    "2": "Doris"
                                },
                                {
                                    "0": "Bolt",
                                    "1": "Bolt",
                                    "2": "Dr. Calico"
                                },
                                {
                                    "0": "The Princess and the Frog",
                                    "1": "Tiana",
                                    "2": "Dr. Facilier"
                                },
                                {
                                    "0": "Tangled",
                                    "1": "Rapunzel",
                                    "2": "Mother Gothel"
                                },
                                {
                                    "0": "Winnie the Pooh",
                                    "1": "Winnie the Pooh",
                                    "2": "NULL"
                                },
                                {
                                    "0": "Wreck-It Ralph",
                                    "1": "Ralph",
                                    "2": "Turbo"
                                },
                                {
                                    "0": "Frozen",
                                    "1": "Elsa",
                                    "2": "Prince Hans"
                                },
                                {
                                    "0": "Big Hero 6",
                                    "1": "Hiro Hamada",
                                    "2": "Professor Callaghan"
                                },
                                {
                                    "0": "Zootopia",
                                    "1": "Judy Hopps",
                                    "2": "NULL"
                                },
                                {
                                    "0": "Moana",
                                    "1": "Moana",
                                    "2": "NULL"
                                }
                            ]
                        },
                        "text/html": [
                            "<table>",
                            "<tr><th>movie_title</th><th>hero</th><th>villian</th></tr>",
                            "<tr><td>Snow White and the Seven Dwarfs</td><td>Snow White</td><td>Evil Queen</td></tr>",
                            "<tr><td>Pinocchio</td><td>Pinocchio</td><td>Stromboli</td></tr>",
                            "<tr><td>Fantasia</td><td>NULL</td><td>Chernabog</td></tr>",
                            "<tr><td>Dumbo</td><td>Dumbo</td><td>Ringmaster</td></tr>",
                            "<tr><td>Bambi</td><td>Bambi</td><td>Hunter</td></tr>",
                            "<tr><td>Saludos Amigos</td><td>Donald Duck</td><td>NULL</td></tr>",
                            "<tr><td>The Three Caballeros</td><td>Donald Duck</td><td>NULL</td></tr>",
                            "<tr><td>Make Mine Music</td><td>NULL</td><td>NULL</td></tr>",
                            "<tr><td>Fun and Fancy Free</td><td>Mickey Mouse</td><td>Willie the Giant</td></tr>",
                            "<tr><td>Melody Time</td><td>NULL</td><td>NULL</td></tr>",
                            "<tr><td>The Adventures of Ichabod and Mr. Toad</td><td>Mr. Toad and Ichabod Crane</td><td>Mr. Winkie and The Headless Horseman</td></tr>",
                            "<tr><td>Cinderella</td><td>Cinderella</td><td>Lady Tremaine</td></tr>",
                            "<tr><td>Alice in Wonderland</td><td>Alice</td><td>Queen of Hearts</td></tr>",
                            "<tr><td>Peter Pan</td><td>Peter Pan</td><td>Captain Hook</td></tr>",
                            "<tr><td>Lady and the Tramp</td><td>Lady and Tramp</td><td>Si and Am</td></tr>",
                            "<tr><td>Sleeping Beauty</td><td>Aurora</td><td>Maleficent</td></tr>",
                            "<tr><td>One Hundred and One Dalmatians</td><td>Pongo</td><td>Cruella de Vil</td></tr>",
                            "<tr><td>The Sword in the Stone</td><td>Arthur</td><td>Madam Mim</td></tr>",
                            "<tr><td>The Jungle Book</td><td>Mowgli</td><td>Kaa and Shere Khan</td></tr>",
                            "<tr><td>The Aristocats</td><td>Thomas and Duchess</td><td>Edgar Balthazar</td></tr>",
                            "<tr><td>Robin Hood</td><td>Robin Hood</td><td>Prince John</td></tr>",
                            "<tr><td>The Many Adventures of Winnie the Pooh</td><td>Winnie the Pooh</td><td>NULL</td></tr>",
                            "<tr><td>The Rescuers</td><td>Bernard and Miss Bianca</td><td>Madame Medusa</td></tr>",
                            "<tr><td>The Fox and the Hound</td><td>Tod and Copper</td><td>Amos Slade</td></tr>",
                            "<tr><td>The Black Cauldron</td><td>Taran</td><td>Horned King</td></tr>",
                            "<tr><td>The Great Mouse Detective</td><td>Basil</td><td>Professor Ratigan</td></tr>",
                            "<tr><td>Oliver &amp; Company</td><td>Oliver</td><td>Sykes</td></tr>",
                            "<tr><td>The Little Mermaid</td><td>Ariel</td><td>Ursula</td></tr>",
                            "<tr><td>The Rescuers Down Under</td><td>Bernard and Miss Bianca</td><td>Percival C. McLeach</td></tr>",
                            "<tr><td>Beauty and the Beast</td><td>Belle</td><td>Gaston</td></tr>",
                            "<tr><td>Aladdin</td><td>Aladdin</td><td>Jafar</td></tr>",
                            "<tr><td>The Lion King</td><td>Simba</td><td>Scar</td></tr>",
                            "<tr><td>Pocahontas</td><td>Pocahontas</td><td>Governor Ratcliffe</td></tr>",
                            "<tr><td>The Hunchback of Notre Dame</td><td>Quasimodo</td><td>Claude Frollo</td></tr>",
                            "<tr><td>Hercules</td><td>Hercules</td><td>Hades</td></tr>",
                            "<tr><td>Mulan</td><td>Mulan</td><td>Shan Yu</td></tr>",
                            "<tr><td>Tarzan</td><td>Tarzan</td><td>Clayton</td></tr>",
                            "<tr><td>Fantasia 2000</td><td>NULL</td><td>NULL</td></tr>",
                            "<tr><td>Dinosaur</td><td>Aladar</td><td>Kron</td></tr>",
                            "<tr><td>The Emperor's New Groove</td><td>Kuzco</td><td>Yzma</td></tr>",
                            "<tr><td>Atlantis: The Lost Empire</td><td>Milo Thatch</td><td>Commander Rourke</td></tr>",
                            "<tr><td>Lilo &amp; Stitch</td><td>Lilo and Stitch</td><td>NULL</td></tr>",
                            "<tr><td>Treasure Planet</td><td>Jim Hawkins</td><td>John Silver</td></tr>",
                            "<tr><td>Brother Bear</td><td>Kenai</td><td>Denahi</td></tr>",
                            "<tr><td>Home on the Range</td><td>Maggie</td><td>Alameda Slim</td></tr>",
                            "<tr><td>Chicken Little</td><td>Ace Cluck</td><td>Foxy Loxy</td></tr>",
                            "<tr><td>Meet the Robinsons</td><td>Lewis</td><td>Doris</td></tr>",
                            "<tr><td>Bolt</td><td>Bolt</td><td>Dr. Calico</td></tr>",
                            "<tr><td>The Princess and the Frog</td><td>Tiana</td><td>Dr. Facilier</td></tr>",
                            "<tr><td>Tangled</td><td>Rapunzel</td><td>Mother Gothel</td></tr>",
                            "<tr><td>Winnie the Pooh</td><td>Winnie the Pooh</td><td>NULL</td></tr>",
                            "<tr><td>Wreck-It Ralph</td><td>Ralph</td><td>Turbo</td></tr>",
                            "<tr><td>Frozen</td><td>Elsa</td><td>Prince Hans</td></tr>",
                            "<tr><td>Big Hero 6</td><td>Hiro Hamada</td><td>Professor Callaghan</td></tr>",
                            "<tr><td>Zootopia</td><td>Judy Hopps</td><td>NULL</td></tr>",
                            "<tr><td>Moana</td><td>Moana</td><td>NULL</td></tr>",
                            "</table>"
                        ]
                    }
                }
            ],
            "execution_count": 2
        },
        {
            "cell_type": "code",
            "source": [
                "drop TABLE if EXISTS ann_movie;\r\n",
                "-- เเอนชอบหนัง 15 เรื่อง\r\n",
                "SELECT top 15 movie_title , hero , villian\r\n",
                "    into ann_movie\r\n",
                "    from disney_char"
            ],
            "metadata": {
                "azdata_cell_guid": "6ca2a2a0-e286-4480-a4c4-6d423b6b6eae"
            },
            "outputs": [
                {
                    "output_type": "display_data",
                    "data": {
                        "text/html": "(15 rows affected)"
                    },
                    "metadata": {}
                },
                {
                    "output_type": "display_data",
                    "data": {
                        "text/html": "Total execution time: 00:00:00.576"
                    },
                    "metadata": {}
                }
            ],
            "execution_count": 3
        },
        {
            "cell_type": "code",
            "source": [
                "SELECT * FROM ann_movie"
            ],
            "metadata": {
                "azdata_cell_guid": "3d4b6685-43cc-47e3-a2ce-a60b6d2054fb"
            },
            "outputs": [
                {
                    "output_type": "display_data",
                    "data": {
                        "text/html": "(15 rows affected)"
                    },
                    "metadata": {}
                },
                {
                    "output_type": "display_data",
                    "data": {
                        "text/html": "Total execution time: 00:00:00.183"
                    },
                    "metadata": {}
                },
                {
                    "output_type": "execute_result",
                    "metadata": {},
                    "execution_count": 4,
                    "data": {
                        "application/vnd.dataresource+json": {
                            "schema": {
                                "fields": [
                                    {
                                        "name": "movie_title"
                                    },
                                    {
                                        "name": "hero"
                                    },
                                    {
                                        "name": "villian"
                                    }
                                ]
                            },
                            "data": [
                                {
                                    "0": "Snow White and the Seven Dwarfs",
                                    "1": "Snow White",
                                    "2": "Evil Queen"
                                },
                                {
                                    "0": "Pinocchio",
                                    "1": "Pinocchio",
                                    "2": "Stromboli"
                                },
                                {
                                    "0": "Fantasia",
                                    "1": "NULL",
                                    "2": "Chernabog"
                                },
                                {
                                    "0": "Dumbo",
                                    "1": "Dumbo",
                                    "2": "Ringmaster"
                                },
                                {
                                    "0": "Bambi",
                                    "1": "Bambi",
                                    "2": "Hunter"
                                },
                                {
                                    "0": "Saludos Amigos",
                                    "1": "Donald Duck",
                                    "2": "NULL"
                                },
                                {
                                    "0": "The Three Caballeros",
                                    "1": "Donald Duck",
                                    "2": "NULL"
                                },
                                {
                                    "0": "Make Mine Music",
                                    "1": "NULL",
                                    "2": "NULL"
                                },
                                {
                                    "0": "Fun and Fancy Free",
                                    "1": "Mickey Mouse",
                                    "2": "Willie the Giant"
                                },
                                {
                                    "0": "Melody Time",
                                    "1": "NULL",
                                    "2": "NULL"
                                },
                                {
                                    "0": "The Adventures of Ichabod and Mr. Toad",
                                    "1": "Mr. Toad and Ichabod Crane",
                                    "2": "Mr. Winkie and The Headless Horseman"
                                },
                                {
                                    "0": "Cinderella",
                                    "1": "Cinderella",
                                    "2": "Lady Tremaine"
                                },
                                {
                                    "0": "Alice in Wonderland",
                                    "1": "Alice",
                                    "2": "Queen of Hearts"
                                },
                                {
                                    "0": "Peter Pan",
                                    "1": "Peter Pan",
                                    "2": "Captain Hook"
                                },
                                {
                                    "0": "Lady and the Tramp",
                                    "1": "Lady and Tramp",
                                    "2": "Si and Am"
                                }
                            ]
                        },
                        "text/html": [
                            "<table>",
                            "<tr><th>movie_title</th><th>hero</th><th>villian</th></tr>",
                            "<tr><td>Snow White and the Seven Dwarfs</td><td>Snow White</td><td>Evil Queen</td></tr>",
                            "<tr><td>Pinocchio</td><td>Pinocchio</td><td>Stromboli</td></tr>",
                            "<tr><td>Fantasia</td><td>NULL</td><td>Chernabog</td></tr>",
                            "<tr><td>Dumbo</td><td>Dumbo</td><td>Ringmaster</td></tr>",
                            "<tr><td>Bambi</td><td>Bambi</td><td>Hunter</td></tr>",
                            "<tr><td>Saludos Amigos</td><td>Donald Duck</td><td>NULL</td></tr>",
                            "<tr><td>The Three Caballeros</td><td>Donald Duck</td><td>NULL</td></tr>",
                            "<tr><td>Make Mine Music</td><td>NULL</td><td>NULL</td></tr>",
                            "<tr><td>Fun and Fancy Free</td><td>Mickey Mouse</td><td>Willie the Giant</td></tr>",
                            "<tr><td>Melody Time</td><td>NULL</td><td>NULL</td></tr>",
                            "<tr><td>The Adventures of Ichabod and Mr. Toad</td><td>Mr. Toad and Ichabod Crane</td><td>Mr. Winkie and The Headless Horseman</td></tr>",
                            "<tr><td>Cinderella</td><td>Cinderella</td><td>Lady Tremaine</td></tr>",
                            "<tr><td>Alice in Wonderland</td><td>Alice</td><td>Queen of Hearts</td></tr>",
                            "<tr><td>Peter Pan</td><td>Peter Pan</td><td>Captain Hook</td></tr>",
                            "<tr><td>Lady and the Tramp</td><td>Lady and Tramp</td><td>Si and Am</td></tr>",
                            "</table>"
                        ]
                    }
                }
            ],
            "execution_count": 4
        },
        {
            "cell_type": "code",
            "source": [
                "drop TABLE if EXISTS ben_movie;\r\n",
                "-- เบนชอบหนัง 10 เรื่อง\r\n",
                "SELECT top 10 movie_title , hero , villian\r\n",
                "    into ben_movie\r\n",
                "    from disney_char"
            ],
            "metadata": {
                "azdata_cell_guid": "ac0717a2-b810-4665-9b2d-7f2632c73e8c"
            },
            "outputs": [
                {
                    "output_type": "display_data",
                    "data": {
                        "text/html": "(10 rows affected)"
                    },
                    "metadata": {}
                },
                {
                    "output_type": "display_data",
                    "data": {
                        "text/html": "Total execution time: 00:00:00.142"
                    },
                    "metadata": {}
                }
            ],
            "execution_count": 6
        },
        {
            "cell_type": "code",
            "source": [
                "SELECT * from ann_movie\r\n",
                "UNION\r\n",
                "SELECT * FROM ben_movie"
            ],
            "metadata": {
                "azdata_cell_guid": "eaa80a44-5440-4c57-8c76-c6d30b40954c"
            },
            "outputs": [
                {
                    "output_type": "display_data",
                    "data": {
                        "text/html": "(15 rows affected)"
                    },
                    "metadata": {}
                },
                {
                    "output_type": "display_data",
                    "data": {
                        "text/html": "Total execution time: 00:00:00.291"
                    },
                    "metadata": {}
                },
                {
                    "output_type": "execute_result",
                    "metadata": {},
                    "execution_count": 7,
                    "data": {
                        "application/vnd.dataresource+json": {
                            "schema": {
                                "fields": [
                                    {
                                        "name": "movie_title"
                                    },
                                    {
                                        "name": "hero"
                                    },
                                    {
                                        "name": "villian"
                                    }
                                ]
                            },
                            "data": [
                                {
                                    "0": "Alice in Wonderland",
                                    "1": "Alice",
                                    "2": "Queen of Hearts"
                                },
                                {
                                    "0": "Bambi",
                                    "1": "Bambi",
                                    "2": "Hunter"
                                },
                                {
                                    "0": "Cinderella",
                                    "1": "Cinderella",
                                    "2": "Lady Tremaine"
                                },
                                {
                                    "0": "Dumbo",
                                    "1": "Dumbo",
                                    "2": "Ringmaster"
                                },
                                {
                                    "0": "Fantasia",
                                    "1": "NULL",
                                    "2": "Chernabog"
                                },
                                {
                                    "0": "Fun and Fancy Free",
                                    "1": "Mickey Mouse",
                                    "2": "Willie the Giant"
                                },
                                {
                                    "0": "Lady and the Tramp",
                                    "1": "Lady and Tramp",
                                    "2": "Si and Am"
                                },
                                {
                                    "0": "Make Mine Music",
                                    "1": "NULL",
                                    "2": "NULL"
                                },
                                {
                                    "0": "Melody Time",
                                    "1": "NULL",
                                    "2": "NULL"
                                },
                                {
                                    "0": "Peter Pan",
                                    "1": "Peter Pan",
                                    "2": "Captain Hook"
                                },
                                {
                                    "0": "Pinocchio",
                                    "1": "Pinocchio",
                                    "2": "Stromboli"
                                },
                                {
                                    "0": "Saludos Amigos",
                                    "1": "Donald Duck",
                                    "2": "NULL"
                                },
                                {
                                    "0": "Snow White and the Seven Dwarfs",
                                    "1": "Snow White",
                                    "2": "Evil Queen"
                                },
                                {
                                    "0": "The Adventures of Ichabod and Mr. Toad",
                                    "1": "Mr. Toad and Ichabod Crane",
                                    "2": "Mr. Winkie and The Headless Horseman"
                                },
                                {
                                    "0": "The Three Caballeros",
                                    "1": "Donald Duck",
                                    "2": "NULL"
                                }
                            ]
                        },
                        "text/html": [
                            "<table>",
                            "<tr><th>movie_title</th><th>hero</th><th>villian</th></tr>",
                            "<tr><td>Alice in Wonderland</td><td>Alice</td><td>Queen of Hearts</td></tr>",
                            "<tr><td>Bambi</td><td>Bambi</td><td>Hunter</td></tr>",
                            "<tr><td>Cinderella</td><td>Cinderella</td><td>Lady Tremaine</td></tr>",
                            "<tr><td>Dumbo</td><td>Dumbo</td><td>Ringmaster</td></tr>",
                            "<tr><td>Fantasia</td><td>NULL</td><td>Chernabog</td></tr>",
                            "<tr><td>Fun and Fancy Free</td><td>Mickey Mouse</td><td>Willie the Giant</td></tr>",
                            "<tr><td>Lady and the Tramp</td><td>Lady and Tramp</td><td>Si and Am</td></tr>",
                            "<tr><td>Make Mine Music</td><td>NULL</td><td>NULL</td></tr>",
                            "<tr><td>Melody Time</td><td>NULL</td><td>NULL</td></tr>",
                            "<tr><td>Peter Pan</td><td>Peter Pan</td><td>Captain Hook</td></tr>",
                            "<tr><td>Pinocchio</td><td>Pinocchio</td><td>Stromboli</td></tr>",
                            "<tr><td>Saludos Amigos</td><td>Donald Duck</td><td>NULL</td></tr>",
                            "<tr><td>Snow White and the Seven Dwarfs</td><td>Snow White</td><td>Evil Queen</td></tr>",
                            "<tr><td>The Adventures of Ichabod and Mr. Toad</td><td>Mr. Toad and Ichabod Crane</td><td>Mr. Winkie and The Headless Horseman</td></tr>",
                            "<tr><td>The Three Caballeros</td><td>Donald Duck</td><td>NULL</td></tr>",
                            "</table>"
                        ]
                    }
                }
            ],
            "execution_count": 7
        },
        {
            "cell_type": "markdown",
            "source": [
                "ชอบเหมือนกัน****"
            ],
            "metadata": {
                "azdata_cell_guid": "54373af7-ccb7-4dab-b794-636386318282"
            }
        },
        {
            "cell_type": "code",
            "source": [
                "SELECT * from ann_movie\r\n",
                "intersect\r\n",
                "SELECT * FROM ben_movie"
            ],
            "metadata": {
                "azdata_cell_guid": "5b5e1371-2e20-4228-a55b-66b8be174efc"
            },
            "outputs": [
                {
                    "output_type": "display_data",
                    "data": {
                        "text/html": "(10 rows affected)"
                    },
                    "metadata": {}
                },
                {
                    "output_type": "display_data",
                    "data": {
                        "text/html": "Total execution time: 00:00:00.192"
                    },
                    "metadata": {}
                },
                {
                    "output_type": "execute_result",
                    "metadata": {},
                    "execution_count": 8,
                    "data": {
                        "application/vnd.dataresource+json": {
                            "schema": {
                                "fields": [
                                    {
                                        "name": "movie_title"
                                    },
                                    {
                                        "name": "hero"
                                    },
                                    {
                                        "name": "villian"
                                    }
                                ]
                            },
                            "data": [
                                {
                                    "0": "Bambi",
                                    "1": "Bambi",
                                    "2": "Hunter"
                                },
                                {
                                    "0": "Dumbo",
                                    "1": "Dumbo",
                                    "2": "Ringmaster"
                                },
                                {
                                    "0": "Fantasia",
                                    "1": "NULL",
                                    "2": "Chernabog"
                                },
                                {
                                    "0": "Fun and Fancy Free",
                                    "1": "Mickey Mouse",
                                    "2": "Willie the Giant"
                                },
                                {
                                    "0": "Make Mine Music",
                                    "1": "NULL",
                                    "2": "NULL"
                                },
                                {
                                    "0": "Melody Time",
                                    "1": "NULL",
                                    "2": "NULL"
                                },
                                {
                                    "0": "Pinocchio",
                                    "1": "Pinocchio",
                                    "2": "Stromboli"
                                },
                                {
                                    "0": "Saludos Amigos",
                                    "1": "Donald Duck",
                                    "2": "NULL"
                                },
                                {
                                    "0": "Snow White and the Seven Dwarfs",
                                    "1": "Snow White",
                                    "2": "Evil Queen"
                                },
                                {
                                    "0": "The Three Caballeros",
                                    "1": "Donald Duck",
                                    "2": "NULL"
                                }
                            ]
                        },
                        "text/html": [
                            "<table>",
                            "<tr><th>movie_title</th><th>hero</th><th>villian</th></tr>",
                            "<tr><td>Bambi</td><td>Bambi</td><td>Hunter</td></tr>",
                            "<tr><td>Dumbo</td><td>Dumbo</td><td>Ringmaster</td></tr>",
                            "<tr><td>Fantasia</td><td>NULL</td><td>Chernabog</td></tr>",
                            "<tr><td>Fun and Fancy Free</td><td>Mickey Mouse</td><td>Willie the Giant</td></tr>",
                            "<tr><td>Make Mine Music</td><td>NULL</td><td>NULL</td></tr>",
                            "<tr><td>Melody Time</td><td>NULL</td><td>NULL</td></tr>",
                            "<tr><td>Pinocchio</td><td>Pinocchio</td><td>Stromboli</td></tr>",
                            "<tr><td>Saludos Amigos</td><td>Donald Duck</td><td>NULL</td></tr>",
                            "<tr><td>Snow White and the Seven Dwarfs</td><td>Snow White</td><td>Evil Queen</td></tr>",
                            "<tr><td>The Three Caballeros</td><td>Donald Duck</td><td>NULL</td></tr>",
                            "</table>"
                        ]
                    }
                }
            ],
            "execution_count": 8
        },
        {
            "cell_type": "markdown",
            "source": [
                "หนังที่เบนชอบเเต่เเอนไม่ชอบ"
            ],
            "metadata": {
                "azdata_cell_guid": "913ab98f-1d82-4eb9-b38f-f3df0363bb6a"
            }
        },
        {
            "cell_type": "code",
            "source": [
                "SELECT * from ann_movie\r\n",
                "EXCEPT\r\n",
                "SELECT * FROM ben_movie"
            ],
            "metadata": {
                "azdata_cell_guid": "de69c601-c913-4d21-bed4-5eefe4853129"
            },
            "outputs": [
                {
                    "output_type": "display_data",
                    "data": {
                        "text/html": "(5 rows affected)"
                    },
                    "metadata": {}
                },
                {
                    "output_type": "display_data",
                    "data": {
                        "text/html": "Total execution time: 00:00:00.206"
                    },
                    "metadata": {}
                },
                {
                    "output_type": "execute_result",
                    "metadata": {},
                    "execution_count": 9,
                    "data": {
                        "application/vnd.dataresource+json": {
                            "schema": {
                                "fields": [
                                    {
                                        "name": "movie_title"
                                    },
                                    {
                                        "name": "hero"
                                    },
                                    {
                                        "name": "villian"
                                    }
                                ]
                            },
                            "data": [
                                {
                                    "0": "Alice in Wonderland",
                                    "1": "Alice",
                                    "2": "Queen of Hearts"
                                },
                                {
                                    "0": "Cinderella",
                                    "1": "Cinderella",
                                    "2": "Lady Tremaine"
                                },
                                {
                                    "0": "Lady and the Tramp",
                                    "1": "Lady and Tramp",
                                    "2": "Si and Am"
                                },
                                {
                                    "0": "Peter Pan",
                                    "1": "Peter Pan",
                                    "2": "Captain Hook"
                                },
                                {
                                    "0": "The Adventures of Ichabod and Mr. Toad",
                                    "1": "Mr. Toad and Ichabod Crane",
                                    "2": "Mr. Winkie and The Headless Horseman"
                                }
                            ]
                        },
                        "text/html": [
                            "<table>",
                            "<tr><th>movie_title</th><th>hero</th><th>villian</th></tr>",
                            "<tr><td>Alice in Wonderland</td><td>Alice</td><td>Queen of Hearts</td></tr>",
                            "<tr><td>Cinderella</td><td>Cinderella</td><td>Lady Tremaine</td></tr>",
                            "<tr><td>Lady and the Tramp</td><td>Lady and Tramp</td><td>Si and Am</td></tr>",
                            "<tr><td>Peter Pan</td><td>Peter Pan</td><td>Captain Hook</td></tr>",
                            "<tr><td>The Adventures of Ichabod and Mr. Toad</td><td>Mr. Toad and Ichabod Crane</td><td>Mr. Winkie and The Headless Horseman</td></tr>",
                            "</table>"
                        ]
                    }
                }
            ],
            "execution_count": 9
        },
        {
            "cell_type": "code",
            "source": [
                ""
            ],
            "metadata": {
                "azdata_cell_guid": "c48ce610-9958-4e9e-a9a9-2234bc119e40"
            },
            "outputs": [],
            "execution_count": null
        }
    ]
}