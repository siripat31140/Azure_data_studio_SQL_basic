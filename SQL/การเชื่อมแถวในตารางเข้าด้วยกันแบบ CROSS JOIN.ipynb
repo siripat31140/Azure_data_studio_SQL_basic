{
    "metadata": {
        "kernelspec": {
            "name": "SQL",
            "display_name": "SQL",
            "language": "sql"
        },
        "language_info": {
            "name": "sql",
            "version": ""
        }
    },
    "nbformat_minor": 2,
    "nbformat": 4,
    "cells": [
        {
            "cell_type": "code",
            "source": [
                "drop TABLE if EXISTS team;\r\n",
                "\r\n",
                "CREATE TABLE team (\r\n",
                "        name VARCHAR(50),\r\n",
                "        rank int\r\n",
                ")"
            ],
            "metadata": {
                "azdata_cell_guid": "59f07e7b-1ab3-4b23-b83b-8be85c1cdd35"
            },
            "outputs": [],
            "execution_count": null
        },
        {
            "cell_type": "code",
            "source": [
                "INSERT into team values ('alpha' , 1) , ('date' , 2) , ('gamma' ,3) ,('delta' , 4);"
            ],
            "metadata": {
                "azdata_cell_guid": "14954449-0828-4e05-84e1-6a65baa6a088"
            },
            "outputs": [],
            "execution_count": null
        },
        {
            "cell_type": "code",
            "source": [
                "SELECT * FROM team "
            ],
            "metadata": {
                "azdata_cell_guid": "d2e55bb3-3152-4e1a-97a0-200af83e9734"
            },
            "outputs": [],
            "execution_count": null
        },
        {
            "cell_type": "code",
            "source": [
                "SELECT t1.name team1 , t2.name team2 FROM team t1 , team t2\r\n",
                "    where t1.name > t2.name"
            ],
            "metadata": {
                "azdata_cell_guid": "fb46a4d2-74d5-4ea4-9fd4-dc3621b29fa2"
            },
            "outputs": [],
            "execution_count": null
        },
        {
            "cell_type": "code",
            "source": [
                "SELECT concat(t1.name,'(' , t1.rank , ')' ) team1 , concat(t2.name , '(' , t2.rank , ')') team2 FROM team t1 , team t2\r\n",
                "    where t1.name != t2.name"
            ],
            "metadata": {
                "azdata_cell_guid": "3182b00e-8d18-4d7c-b98f-9cd7b73b757b"
            },
            "outputs": [],
            "execution_count": null
        }
    ]
}