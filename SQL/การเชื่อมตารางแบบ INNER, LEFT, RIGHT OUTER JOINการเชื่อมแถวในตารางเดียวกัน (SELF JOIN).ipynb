{
    "metadata": {
        "kernelspec": {
            "name": "SQL",
            "display_name": "SQL",
            "language": "sql"
        },
        "language_info": {
            "name": "sql",
            "version": ""
        }
    },
    "nbformat_minor": 2,
    "nbformat": 4,
    "cells": [
        {
            "cell_type": "code",
            "source": [
                "SELECT m.movie_title , inflation_adjusted_gross , director , song\r\n",
                "from movie_gross as m LEFT JOIN director as d on\r\n",
                "    m.movie_title = d.movie_title LEFT JOIN disney_char as c on\r\n",
                "    m.movie_title = c.movie_title"
            ],
            "metadata": {
                "azdata_cell_guid": "81df5fdb-1139-4a70-9bd3-b03d15eecfd1"
            },
            "outputs": [],
            "execution_count": null
        },
        {
            "cell_type": "code",
            "source": [
                "with cte as (\r\n",
                "    SELECT m.movie_title , inflation_adjusted_gross , director , song\r\n",
                "        from movie_gross as m LEFT JOIN director as d on\r\n",
                "            m.movie_title = d.movie_title LEFT JOIN disney_char as c \r\n",
                "            on m.movie_title = c.movie_title\r\n",
                ")\r\n",
                "SELECT top 5 with ties director , sum(inflation_adjusted_gross) [Sum]  FROM cte GROUP by director ORDER by [Sum] DESC"
            ],
            "metadata": {
                "azdata_cell_guid": "9d652a57-178b-4538-9fae-61b8b260716d",
                "tags": []
            },
            "outputs": [],
            "execution_count": null
        },
        {
            "cell_type": "code",
            "source": [
                "select top 10 * from movie_gross"
            ],
            "metadata": {
                "azdata_cell_guid": "aa0f056f-53dd-4790-baa2-8c1e4ce7a077"
            },
            "outputs": [],
            "execution_count": null
        },
        {
            "cell_type": "code",
            "source": [
                "with cte as (\r\n",
                "    select genre , datepart(year , release_date ) [year], sum(inflation_adjusted_gross) [gross] from movie_gross\r\n",
                "    WHERE genre in( 'Adventure' ,'Drama' , 'Action' ) and datepart(year , release_date ) > 2010\r\n",
                "    GROUP by  datepart(year , release_date ) ,genre \r\n",
                ")\r\n",
                "SELECT ad.year , ad.gross [Adventure], st.gross [Action] , dr.gross [Drama] \r\n",
                "from cte ad INNER join cte st on ad.year = st.year INNER join cte dr on st.year = dr.year and \r\n",
                "ad.genre= 'Adventure' and st.genre = 'Action' and dr.genre = 'Drama'"
            ],
            "metadata": {
                "azdata_cell_guid": "d8d1b5ea-fe5f-4fd4-9df8-e9b4540461f1",
                "tags": []
            },
            "outputs": [],
            "execution_count": null
        }
    ]
}