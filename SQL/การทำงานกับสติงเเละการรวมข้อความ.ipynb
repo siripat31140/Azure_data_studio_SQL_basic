{
    "metadata": {
        "kernelspec": {
            "name": "SQL",
            "display_name": "SQL",
            "language": "sql"
        },
        "language_info": {
            "name": "sql",
            "version": ""
        }
    },
    "nbformat_minor": 2,
    "nbformat": 4,
    "cells": [
        {
            "cell_type": "code",
            "source": [
                "SELECT top 5  * from movie_gross"
            ],
            "metadata": {
                "azdata_cell_guid": "126c4488-a084-4b7e-a898-8526d194f02a"
            },
            "outputs": [
                {
                    "output_type": "display_data",
                    "data": {
                        "text/html": "(5 rows affected)"
                    },
                    "metadata": {}
                },
                {
                    "output_type": "display_data",
                    "data": {
                        "text/html": "Total execution time: 00:00:00.064"
                    },
                    "metadata": {}
                },
                {
                    "output_type": "execute_result",
                    "metadata": {},
                    "execution_count": 1,
                    "data": {
                        "application/vnd.dataresource+json": {
                            "schema": {
                                "fields": [
                                    {
                                        "name": "movie_title"
                                    },
                                    {
                                        "name": "release_date"
                                    },
                                    {
                                        "name": "genre"
                                    },
                                    {
                                        "name": "mpaa_rating"
                                    },
                                    {
                                        "name": "total_gross"
                                    },
                                    {
                                        "name": "inflation_adjusted_gross"
                                    }
                                ]
                            },
                            "data": [
                                {
                                    "0": "Snow White and the Seven Dwarfs",
                                    "1": "2480-12-21",
                                    "2": "Musical",
                                    "3": "G",
                                    "4": "184925485",
                                    "5": "5228953251"
                                },
                                {
                                    "0": "Pinocchio",
                                    "1": "2483-02-09",
                                    "2": "Adventure",
                                    "3": "G",
                                    "4": "84300000",
                                    "5": "2188229052"
                                },
                                {
                                    "0": "Fantasia",
                                    "1": "2483-11-13",
                                    "2": "Musical",
                                    "3": "G",
                                    "4": "83320000",
                                    "5": "2187090808"
                                },
                                {
                                    "0": "Song of the South",
                                    "1": "2489-11-12",
                                    "2": "Adventure",
                                    "3": "G",
                                    "4": "65000000",
                                    "5": "1078510579"
                                },
                                {
                                    "0": "Cinderella",
                                    "1": "2493-02-15",
                                    "2": "Drama",
                                    "3": "G",
                                    "4": "85000000",
                                    "5": "920608730"
                                }
                            ]
                        },
                        "text/html": [
                            "<table>",
                            "<tr><th>movie_title</th><th>release_date</th><th>genre</th><th>mpaa_rating</th><th>total_gross</th><th>inflation_adjusted_gross</th></tr>",
                            "<tr><td>Snow White and the Seven Dwarfs</td><td>2480-12-21</td><td>Musical</td><td>G</td><td>184925485</td><td>5228953251</td></tr>",
                            "<tr><td>Pinocchio</td><td>2483-02-09</td><td>Adventure</td><td>G</td><td>84300000</td><td>2188229052</td></tr>",
                            "<tr><td>Fantasia</td><td>2483-11-13</td><td>Musical</td><td>G</td><td>83320000</td><td>2187090808</td></tr>",
                            "<tr><td>Song of the South</td><td>2489-11-12</td><td>Adventure</td><td>G</td><td>65000000</td><td>1078510579</td></tr>",
                            "<tr><td>Cinderella</td><td>2493-02-15</td><td>Drama</td><td>G</td><td>85000000</td><td>920608730</td></tr>",
                            "</table>"
                        ]
                    }
                }
            ],
            "execution_count": 1
        },
        {
            "cell_type": "code",
            "source": [
                "SELECT top 5 movie_title +'(' + genre + ')'\r\n",
                "\r\n",
                "\r\n",
                "        from movie_gross"
            ],
            "metadata": {
                "azdata_cell_guid": "f24adf8f-ce18-45e2-b9e4-1a7d53b58937"
            },
            "outputs": [
                {
                    "output_type": "display_data",
                    "data": {
                        "text/html": "(5 rows affected)"
                    },
                    "metadata": {}
                },
                {
                    "output_type": "display_data",
                    "data": {
                        "text/html": "Total execution time: 00:00:00.124"
                    },
                    "metadata": {}
                },
                {
                    "output_type": "execute_result",
                    "metadata": {},
                    "execution_count": 4,
                    "data": {
                        "application/vnd.dataresource+json": {
                            "schema": {
                                "fields": [
                                    {
                                        "name": "(No column name)"
                                    }
                                ]
                            },
                            "data": [
                                {
                                    "0": "Snow White and the Seven Dwarfs(Musical)"
                                },
                                {
                                    "0": "Pinocchio(Adventure)"
                                },
                                {
                                    "0": "Fantasia(Musical)"
                                },
                                {
                                    "0": "Song of the South(Adventure)"
                                },
                                {
                                    "0": "Cinderella(Drama)"
                                }
                            ]
                        },
                        "text/html": [
                            "<table>",
                            "<tr><th>(No column name)</th></tr>",
                            "<tr><td>Snow White and the Seven Dwarfs(Musical)</td></tr>",
                            "<tr><td>Pinocchio(Adventure)</td></tr>",
                            "<tr><td>Fantasia(Musical)</td></tr>",
                            "<tr><td>Song of the South(Adventure)</td></tr>",
                            "<tr><td>Cinderella(Drama)</td></tr>",
                            "</table>"
                        ]
                    }
                }
            ],
            "execution_count": 4
        },
        {
            "cell_type": "code",
            "source": [
                "SELECT top 5 movie_title +'(' + release_date + ')'\r\n",
                "\r\n",
                "\r\n",
                "        from movie_gross"
            ],
            "metadata": {
                "azdata_cell_guid": "0444aff3-277a-4540-bcef-0ff0fb53b042"
            },
            "outputs": [
                {
                    "output_type": "error",
                    "evalue": "Msg 402, Level 16, State 1, Line 1\r\nThe data types varchar and date are incompatible in the add operator.",
                    "ename": "",
                    "traceback": []
                },
                {
                    "output_type": "display_data",
                    "data": {
                        "text/html": "Total execution time: 00:00:00.121"
                    },
                    "metadata": {}
                }
            ],
            "execution_count": 5
        },
        {
            "cell_type": "code",
            "source": [
                "SELECT top 5 movi\r\n",
                "CONCAT(movie_title ,'(' , year(release_date) , ')') \r\n",
                "CONCAT(movie_title ,'(' , total_gross , ')') \r\n",
                "        from movie_gross"
            ],
            "metadata": {
                "azdata_cell_guid": "25ecd233-3683-479c-97a5-ce0eb4369d62"
            },
            "outputs": [
                {
                    "output_type": "error",
                    "evalue": "Msg 102, Level 15, State 1, Line 3\r\nIncorrect syntax near 'movie_title'.",
                    "ename": "",
                    "traceback": []
                },
                {
                    "output_type": "display_data",
                    "data": {
                        "text/html": "Total execution time: 00:00:00.001"
                    },
                    "metadata": {}
                }
            ],
            "execution_count": 15
        },
        {
            "cell_type": "code",
            "source": [
                "SELECT top 5 movie_title , total_gross ,\r\n",
                "CONCAT(movie_title ,'(' , year(release_date) , ')') ,\r\n",
                "CONCAT(movie_title ,'(' , format(total_gross, 'N0' ) , ')') \r\n",
                "\r\n",
                "        from movie_gross"
            ],
            "metadata": {
                "azdata_cell_guid": "d62ec9fb-148e-4cd4-8fe7-9267ef8f1218"
            },
            "outputs": [
                {
                    "output_type": "display_data",
                    "data": {
                        "text/html": "(5 rows affected)"
                    },
                    "metadata": {}
                },
                {
                    "output_type": "display_data",
                    "data": {
                        "text/html": "Total execution time: 00:00:09.044"
                    },
                    "metadata": {}
                },
                {
                    "output_type": "execute_result",
                    "metadata": {},
                    "execution_count": 18,
                    "data": {
                        "application/vnd.dataresource+json": {
                            "schema": {
                                "fields": [
                                    {
                                        "name": "movie_title"
                                    },
                                    {
                                        "name": "total_gross"
                                    },
                                    {
                                        "name": "(No column name)"
                                    },
                                    {
                                        "name": "(No column name)"
                                    }
                                ]
                            },
                            "data": [
                                {
                                    "0": "Snow White and the Seven Dwarfs",
                                    "1": "184925485",
                                    "2": "Snow White and the Seven Dwarfs(1937)",
                                    "3": "Snow White and the Seven Dwarfs(184,925,485)"
                                },
                                {
                                    "0": "Pinocchio",
                                    "1": "84300000",
                                    "2": "Pinocchio(1940)",
                                    "3": "Pinocchio(84,300,000)"
                                },
                                {
                                    "0": "Fantasia",
                                    "1": "83320000",
                                    "2": "Fantasia(1940)",
                                    "3": "Fantasia(83,320,000)"
                                },
                                {
                                    "0": "Song of the South",
                                    "1": "65000000",
                                    "2": "Song of the South(1946)",
                                    "3": "Song of the South(65,000,000)"
                                },
                                {
                                    "0": "Cinderella",
                                    "1": "85000000",
                                    "2": "Cinderella(1950)",
                                    "3": "Cinderella(85,000,000)"
                                }
                            ]
                        },
                        "text/html": [
                            "<table>",
                            "<tr><th>movie_title</th><th>total_gross</th><th>(No column name)</th><th>(No column name)</th></tr>",
                            "<tr><td>Snow White and the Seven Dwarfs</td><td>184925485</td><td>Snow White and the Seven Dwarfs(1937)</td><td>Snow White and the Seven Dwarfs(184,925,485)</td></tr>",
                            "<tr><td>Pinocchio</td><td>84300000</td><td>Pinocchio(1940)</td><td>Pinocchio(84,300,000)</td></tr>",
                            "<tr><td>Fantasia</td><td>83320000</td><td>Fantasia(1940)</td><td>Fantasia(83,320,000)</td></tr>",
                            "<tr><td>Song of the South</td><td>65000000</td><td>Song of the South(1946)</td><td>Song of the South(65,000,000)</td></tr>",
                            "<tr><td>Cinderella</td><td>85000000</td><td>Cinderella(1950)</td><td>Cinderella(85,000,000)</td></tr>",
                            "</table>"
                        ]
                    }
                }
            ],
            "execution_count": 18
        },
        {
            "cell_type": "markdown",
            "source": [
                "**_การทำงานกับสตริง SUBSTRING(), CHARINDEX(), LEFT()_**"
            ],
            "metadata": {
                "azdata_cell_guid": "4f166d9d-a91d-4f1b-80be-6bb06d98529a"
            }
        },
        {
            "cell_type": "code",
            "source": [
                "SELECT top 10 movie_title ,\r\n",
                "UPPER(movie_title) ,\r\n",
                "LOWER(movie_title) ,\r\n",
                "SUBSTRING(movie_title , 1 , 10 ) , \r\n",
                "LEN(movie_title) [Len]\r\n",
                "FROM movie_gross ORDER BY Len DESC"
            ],
            "metadata": {
                "azdata_cell_guid": "90258861-3f90-4799-ba1f-01a17a83e750"
            },
            "outputs": [
                {
                    "output_type": "display_data",
                    "data": {
                        "text/html": "(10 rows affected)"
                    },
                    "metadata": {}
                },
                {
                    "output_type": "display_data",
                    "data": {
                        "text/html": "Total execution time: 00:00:00.130"
                    },
                    "metadata": {}
                },
                {
                    "output_type": "execute_result",
                    "metadata": {},
                    "execution_count": 24,
                    "data": {
                        "application/vnd.dataresource+json": {
                            "schema": {
                                "fields": [
                                    {
                                        "name": "movie_title"
                                    },
                                    {
                                        "name": "(No column name)"
                                    },
                                    {
                                        "name": "(No column name)"
                                    },
                                    {
                                        "name": "(No column name)"
                                    },
                                    {
                                        "name": "Len"
                                    }
                                ]
                            },
                            "data": [
                                {
                                    "0": "The Princess Diaries 2: Royal Engagement",
                                    "1": "THE PRINCESS DIARIES 2: ROYAL ENGAGEMENT",
                                    "2": "the princess diaries 2: royal engagement",
                                    "3": "The Prince",
                                    "4": "40"
                                },
                                {
                                    "0": "The Chronicles of Narnia: Prince Caspian",
                                    "1": "THE CHRONICLES OF NARNIA: PRINCE CASPIAN",
                                    "2": "the chronicles of narnia: prince caspian",
                                    "3": "The Chroni",
                                    "4": "40"
                                },
                                {
                                    "0": "The Many Adventures of Winnie the Pooh",
                                    "1": "THE MANY ADVENTURES OF WINNIE THE POOH",
                                    "2": "the many adventures of winnie the pooh",
                                    "3": "The Many A",
                                    "4": "38"
                                },
                                {
                                    "0": "DuckTales: The Movie - Treasure of th…",
                                    "1": "DUCKTALES: THE MOVIE - TREASURE OF TH…",
                                    "2": "ducktales: the movie - treasure of th…",
                                    "3": "DuckTales:",
                                    "4": "38"
                                },
                                {
                                    "0": "Homeward Bound: The Incredible Journey",
                                    "1": "HOMEWARD BOUND: THE INCREDIBLE JOURNEY",
                                    "2": "homeward bound: the incredible journey",
                                    "3": "Homeward B",
                                    "4": "38"
                                },
                                {
                                    "0": "Romy and Michele's High School Reunion",
                                    "1": "ROMY AND MICHELE'S HIGH SCHOOL REUNION",
                                    "2": "romy and michele's high school reunion",
                                    "3": "Romy and M",
                                    "4": "38"
                                },
                                {
                                    "0": "An Alan Smithee Film: Burn Hollywood …",
                                    "1": "AN ALAN SMITHEE FILM: BURN HOLLYWOOD …",
                                    "2": "an alan smithee film: burn hollywood …",
                                    "3": "An Alan Sm",
                                    "4": "38"
                                },
                                {
                                    "0": "Pirates of the Caribbean: The Curse o…",
                                    "1": "PIRATES OF THE CARIBBEAN: THE CURSE O…",
                                    "2": "pirates of the caribbean: the curse o…",
                                    "3": "Pirates of",
                                    "4": "38"
                                },
                                {
                                    "0": "The Chronicles of Narnia: The Lion, t…",
                                    "1": "THE CHRONICLES OF NARNIA: THE LION, T…",
                                    "2": "the chronicles of narnia: the lion, t…",
                                    "3": "The Chroni",
                                    "4": "38"
                                },
                                {
                                    "0": "Tim Burton's The Nightmare Before Chr…",
                                    "1": "TIM BURTON'S THE NIGHTMARE BEFORE CHR…",
                                    "2": "tim burton's the nightmare before chr…",
                                    "3": "Tim Burton",
                                    "4": "38"
                                }
                            ]
                        },
                        "text/html": [
                            "<table>",
                            "<tr><th>movie_title</th><th>(No column name)</th><th>(No column name)</th><th>(No column name)</th><th>Len</th></tr>",
                            "<tr><td>The Princess Diaries 2: Royal Engagement</td><td>THE PRINCESS DIARIES 2: ROYAL ENGAGEMENT</td><td>the princess diaries 2: royal engagement</td><td>The Prince</td><td>40</td></tr>",
                            "<tr><td>The Chronicles of Narnia: Prince Caspian</td><td>THE CHRONICLES OF NARNIA: PRINCE CASPIAN</td><td>the chronicles of narnia: prince caspian</td><td>The Chroni</td><td>40</td></tr>",
                            "<tr><td>The Many Adventures of Winnie the Pooh</td><td>THE MANY ADVENTURES OF WINNIE THE POOH</td><td>the many adventures of winnie the pooh</td><td>The Many A</td><td>38</td></tr>",
                            "<tr><td>DuckTales: The Movie - Treasure of th…</td><td>DUCKTALES: THE MOVIE - TREASURE OF TH…</td><td>ducktales: the movie - treasure of th…</td><td>DuckTales:</td><td>38</td></tr>",
                            "<tr><td>Homeward Bound: The Incredible Journey</td><td>HOMEWARD BOUND: THE INCREDIBLE JOURNEY</td><td>homeward bound: the incredible journey</td><td>Homeward B</td><td>38</td></tr>",
                            "<tr><td>Romy and Michele's High School Reunion</td><td>ROMY AND MICHELE'S HIGH SCHOOL REUNION</td><td>romy and michele's high school reunion</td><td>Romy and M</td><td>38</td></tr>",
                            "<tr><td>An Alan Smithee Film: Burn Hollywood …</td><td>AN ALAN SMITHEE FILM: BURN HOLLYWOOD …</td><td>an alan smithee film: burn hollywood …</td><td>An Alan Sm</td><td>38</td></tr>",
                            "<tr><td>Pirates of the Caribbean: The Curse o…</td><td>PIRATES OF THE CARIBBEAN: THE CURSE O…</td><td>pirates of the caribbean: the curse o…</td><td>Pirates of</td><td>38</td></tr>",
                            "<tr><td>The Chronicles of Narnia: The Lion, t…</td><td>THE CHRONICLES OF NARNIA: THE LION, T…</td><td>the chronicles of narnia: the lion, t…</td><td>The Chroni</td><td>38</td></tr>",
                            "<tr><td>Tim Burton's The Nightmare Before Chr…</td><td>TIM BURTON'S THE NIGHTMARE BEFORE CHR…</td><td>tim burton's the nightmare before chr…</td><td>Tim Burton</td><td>38</td></tr>",
                            "</table>"
                        ]
                    }
                }
            ],
            "execution_count": 24
        },
        {
            "cell_type": "code",
            "source": [
                "SELECT top 5 * from director"
            ],
            "metadata": {
                "azdata_cell_guid": "0e046a9c-632e-441d-b4e5-12d18e8e2aa2"
            },
            "outputs": [
                {
                    "output_type": "display_data",
                    "data": {
                        "text/html": "(5 rows affected)"
                    },
                    "metadata": {}
                },
                {
                    "output_type": "display_data",
                    "data": {
                        "text/html": "Total execution time: 00:00:00.097"
                    },
                    "metadata": {}
                },
                {
                    "output_type": "execute_result",
                    "metadata": {},
                    "execution_count": 25,
                    "data": {
                        "application/vnd.dataresource+json": {
                            "schema": {
                                "fields": [
                                    {
                                        "name": "movie_title"
                                    },
                                    {
                                        "name": "director"
                                    }
                                ]
                            },
                            "data": [
                                {
                                    "0": "Snow White and the Seven Dwarfs",
                                    "1": "David Hand"
                                },
                                {
                                    "0": "Pinocchio",
                                    "1": "Ben Sharpsteen"
                                },
                                {
                                    "0": "Fantasia",
                                    "1": "full credits"
                                },
                                {
                                    "0": "Dumbo",
                                    "1": "Ben Sharpsteen"
                                },
                                {
                                    "0": "Bambi",
                                    "1": "David Hand"
                                }
                            ]
                        },
                        "text/html": [
                            "<table>",
                            "<tr><th>movie_title</th><th>director</th></tr>",
                            "<tr><td>Snow White and the Seven Dwarfs</td><td>David Hand</td></tr>",
                            "<tr><td>Pinocchio</td><td>Ben Sharpsteen</td></tr>",
                            "<tr><td>Fantasia</td><td>full credits</td></tr>",
                            "<tr><td>Dumbo</td><td>Ben Sharpsteen</td></tr>",
                            "<tr><td>Bambi</td><td>David Hand</td></tr>",
                            "</table>"
                        ]
                    }
                }
            ],
            "execution_count": 25
        },
        {
            "cell_type": "code",
            "source": [
                "SELECT   director,\r\n",
                "SUBSTRING(director , 1 ,CHARINDEX(' ' , director ) -1  ) [Frisname] , \r\n",
                "SUBSTRING(director ,CHARINDEX(' ' , director )  , LEN(director) ) [lastname] ,\r\n",
                "UPPER(SUBSTRING(director ,CHARINDEX(' ' , director )  , LEN(director) ) + ', ' + LEFT(SUBSTRING(director , 1 ,CHARINDEX(' ' , director ) -1  ) , 1) + '.' )\r\n",
                " from director ORDER by lastname"
            ],
            "metadata": {
                "azdata_cell_guid": "32ae44cd-fb98-4bd2-afdc-dd2bdeb348e7",
                "tags": []
            },
            "outputs": [
                {
                    "output_type": "display_data",
                    "data": {
                        "text/html": "(56 rows affected)"
                    },
                    "metadata": {}
                },
                {
                    "output_type": "display_data",
                    "data": {
                        "text/html": "Total execution time: 00:00:00.237"
                    },
                    "metadata": {}
                },
                {
                    "output_type": "execute_result",
                    "metadata": {},
                    "execution_count": 43,
                    "data": {
                        "application/vnd.dataresource+json": {
                            "schema": {
                                "fields": [
                                    {
                                        "name": "director"
                                    },
                                    {
                                        "name": "Frisname"
                                    },
                                    {
                                        "name": "lastname"
                                    },
                                    {
                                        "name": "(No column name)"
                                    }
                                ]
                            },
                            "data": [
                                {
                                    "0": "Roger Allers",
                                    "1": "Roger",
                                    "2": " Allers",
                                    "3": " ALLERS, R."
                                },
                                {
                                    "0": "Ted Berman",
                                    "1": "Ted",
                                    "2": " Berman",
                                    "3": " BERMAN, T."
                                },
                                {
                                    "0": "Chris Buck",
                                    "1": "Chris",
                                    "2": " Buck",
                                    "3": " BUCK, C."
                                },
                                {
                                    "0": "Chris Buck",
                                    "1": "Chris",
                                    "2": " Buck",
                                    "3": " BUCK, C."
                                },
                                {
                                    "0": "Ron Clements",
                                    "1": "Ron",
                                    "2": " Clements",
                                    "3": " CLEMENTS, R."
                                },
                                {
                                    "0": "Ron Clements",
                                    "1": "Ron",
                                    "2": " Clements",
                                    "3": " CLEMENTS, R."
                                },
                                {
                                    "0": "Ron Clements",
                                    "1": "Ron",
                                    "2": " Clements",
                                    "3": " CLEMENTS, R."
                                },
                                {
                                    "0": "Ron Clements",
                                    "1": "Ron",
                                    "2": " Clements",
                                    "3": " CLEMENTS, R."
                                },
                                {
                                    "0": "Ron Clements",
                                    "1": "Ron",
                                    "2": " Clements",
                                    "3": " CLEMENTS, R."
                                },
                                {
                                    "0": "Ron Clements",
                                    "1": "Ron",
                                    "2": " Clements",
                                    "3": " CLEMENTS, R."
                                },
                                {
                                    "0": "Ron Clements",
                                    "1": "Ron",
                                    "2": " Clements",
                                    "3": " CLEMENTS, R."
                                },
                                {
                                    "0": "Barry Cook",
                                    "1": "Barry",
                                    "2": " Cook",
                                    "3": " COOK, B."
                                },
                                {
                                    "0": "full credits",
                                    "1": "full",
                                    "2": " credits",
                                    "3": " CREDITS, F."
                                },
                                {
                                    "0": "full credits",
                                    "1": "full",
                                    "2": " credits",
                                    "3": " CREDITS, F."
                                },
                                {
                                    "0": "Mark Dindal",
                                    "1": "Mark",
                                    "2": " Dindal",
                                    "3": " DINDAL, M."
                                },
                                {
                                    "0": "Mark Dindal",
                                    "1": "Mark",
                                    "2": " Dindal",
                                    "3": " DINDAL, M."
                                },
                                {
                                    "0": "Norman Ferguson",
                                    "1": "Norman",
                                    "2": " Ferguson",
                                    "3": " FERGUSON, N."
                                },
                                {
                                    "0": "Will Finn",
                                    "1": "Will",
                                    "2": " Finn",
                                    "3": " FINN, W."
                                },
                                {
                                    "0": "Mike Gabriel",
                                    "1": "Mike",
                                    "2": " Gabriel",
                                    "3": " GABRIEL, M."
                                },
                                {
                                    "0": "Mike Gabriel",
                                    "1": "Mike",
                                    "2": " Gabriel",
                                    "3": " GABRIEL, M."
                                },
                                {
                                    "0": "Clyde Geronimi",
                                    "1": "Clyde",
                                    "2": " Geronimi",
                                    "3": " GERONIMI, C."
                                },
                                {
                                    "0": "Clyde Geronimi",
                                    "1": "Clyde",
                                    "2": " Geronimi",
                                    "3": " GERONIMI, C."
                                },
                                {
                                    "0": "Clyde Geronimi",
                                    "1": "Clyde",
                                    "2": " Geronimi",
                                    "3": " GERONIMI, C."
                                },
                                {
                                    "0": "Nathan Greno",
                                    "1": "Nathan",
                                    "2": " Greno",
                                    "3": " GRENO, N."
                                },
                                {
                                    "0": "Don Hall",
                                    "1": "Don",
                                    "2": " Hall",
                                    "3": " HALL, D."
                                },
                                {
                                    "0": "David Hand",
                                    "1": "David",
                                    "2": " Hand",
                                    "3": " HAND, D."
                                },
                                {
                                    "0": "David Hand",
                                    "1": "David",
                                    "2": " Hand",
                                    "3": " HAND, D."
                                },
                                {
                                    "0": "Byron Howard",
                                    "1": "Byron",
                                    "2": " Howard",
                                    "3": " HOWARD, B."
                                },
                                {
                                    "0": "Stephen J. Anderson",
                                    "1": "Stephen",
                                    "2": " J. Anderson",
                                    "3": " J. ANDERSON, S."
                                },
                                {
                                    "0": "Stephen J. Anderson",
                                    "1": "Stephen",
                                    "2": " J. Anderson",
                                    "3": " J. ANDERSON, S."
                                },
                                {
                                    "0": "Wilfred Jackson",
                                    "1": "Wilfred",
                                    "2": " Jackson",
                                    "3": " JACKSON, W."
                                },
                                {
                                    "0": "Jack Kinney",
                                    "1": "Jack",
                                    "2": " Kinney",
                                    "3": " KINNEY, J."
                                },
                                {
                                    "0": "Jack Kinney",
                                    "1": "Jack",
                                    "2": " Kinney",
                                    "3": " KINNEY, J."
                                },
                                {
                                    "0": "Jack Kinney",
                                    "1": "Jack",
                                    "2": " Kinney",
                                    "3": " KINNEY, J."
                                },
                                {
                                    "0": "Jack Kinney",
                                    "1": "Jack",
                                    "2": " Kinney",
                                    "3": " KINNEY, J."
                                },
                                {
                                    "0": "Hamilton Luske",
                                    "1": "Hamilton",
                                    "2": " Luske",
                                    "3": " LUSKE, H."
                                },
                                {
                                    "0": "Hamilton Luske",
                                    "1": "Hamilton",
                                    "2": " Luske",
                                    "3": " LUSKE, H."
                                },
                                {
                                    "0": "Rich Moore",
                                    "1": "Rich",
                                    "2": " Moore",
                                    "3": " MOORE, R."
                                },
                                {
                                    "0": "Wolfgang Reitherman",
                                    "1": "Wolfgang",
                                    "2": " Reitherman",
                                    "3": " REITHERMAN, W."
                                },
                                {
                                    "0": "Wolfgang Reitherman",
                                    "1": "Wolfgang",
                                    "2": " Reitherman",
                                    "3": " REITHERMAN, W."
                                },
                                {
                                    "0": "Wolfgang Reitherman",
                                    "1": "Wolfgang",
                                    "2": " Reitherman",
                                    "3": " REITHERMAN, W."
                                },
                                {
                                    "0": "Wolfgang Reitherman",
                                    "1": "Wolfgang",
                                    "2": " Reitherman",
                                    "3": " REITHERMAN, W."
                                },
                                {
                                    "0": "Wolfgang Reitherman",
                                    "1": "Wolfgang",
                                    "2": " Reitherman",
                                    "3": " REITHERMAN, W."
                                },
                                {
                                    "0": "Wolfgang Reitherman",
                                    "1": "Wolfgang",
                                    "2": " Reitherman",
                                    "3": " REITHERMAN, W."
                                },
                                {
                                    "0": "Wolfgang Reitherman",
                                    "1": "Wolfgang",
                                    "2": " Reitherman",
                                    "3": " REITHERMAN, W."
                                },
                                {
                                    "0": "Chris Sanders",
                                    "1": "Chris",
                                    "2": " Sanders",
                                    "3": " SANDERS, C."
                                },
                                {
                                    "0": "George Scribner",
                                    "1": "George",
                                    "2": " Scribner",
                                    "3": " SCRIBNER, G."
                                },
                                {
                                    "0": "Ben Sharpsteen",
                                    "1": "Ben",
                                    "2": " Sharpsteen",
                                    "3": " SHARPSTEEN, B."
                                },
                                {
                                    "0": "Ben Sharpsteen",
                                    "1": "Ben",
                                    "2": " Sharpsteen",
                                    "3": " SHARPSTEEN, B."
                                },
                                {
                                    "0": "Art Stevens",
                                    "1": "Art",
                                    "2": " Stevens",
                                    "3": " STEVENS, A."
                                },
                                {
                                    "0": "Gary Trousdale",
                                    "1": "Gary",
                                    "2": " Trousdale",
                                    "3": " TROUSDALE, G."
                                },
                                {
                                    "0": "Gary Trousdale",
                                    "1": "Gary",
                                    "2": " Trousdale",
                                    "3": " TROUSDALE, G."
                                },
                                {
                                    "0": "Gary Trousdale",
                                    "1": "Gary",
                                    "2": " Trousdale",
                                    "3": " TROUSDALE, G."
                                },
                                {
                                    "0": "Robert Walker",
                                    "1": "Robert",
                                    "2": " Walker",
                                    "3": " WALKER, R."
                                },
                                {
                                    "0": "Chris Williams",
                                    "1": "Chris",
                                    "2": " Williams",
                                    "3": " WILLIAMS, C."
                                },
                                {
                                    "0": "Ralph Zondag",
                                    "1": "Ralph",
                                    "2": " Zondag",
                                    "3": " ZONDAG, R."
                                }
                            ]
                        },
                        "text/html": [
                            "<table>",
                            "<tr><th>director</th><th>Frisname</th><th>lastname</th><th>(No column name)</th></tr>",
                            "<tr><td>Roger Allers</td><td>Roger</td><td> Allers</td><td> ALLERS, R.</td></tr>",
                            "<tr><td>Ted Berman</td><td>Ted</td><td> Berman</td><td> BERMAN, T.</td></tr>",
                            "<tr><td>Chris Buck</td><td>Chris</td><td> Buck</td><td> BUCK, C.</td></tr>",
                            "<tr><td>Chris Buck</td><td>Chris</td><td> Buck</td><td> BUCK, C.</td></tr>",
                            "<tr><td>Ron Clements</td><td>Ron</td><td> Clements</td><td> CLEMENTS, R.</td></tr>",
                            "<tr><td>Ron Clements</td><td>Ron</td><td> Clements</td><td> CLEMENTS, R.</td></tr>",
                            "<tr><td>Ron Clements</td><td>Ron</td><td> Clements</td><td> CLEMENTS, R.</td></tr>",
                            "<tr><td>Ron Clements</td><td>Ron</td><td> Clements</td><td> CLEMENTS, R.</td></tr>",
                            "<tr><td>Ron Clements</td><td>Ron</td><td> Clements</td><td> CLEMENTS, R.</td></tr>",
                            "<tr><td>Ron Clements</td><td>Ron</td><td> Clements</td><td> CLEMENTS, R.</td></tr>",
                            "<tr><td>Ron Clements</td><td>Ron</td><td> Clements</td><td> CLEMENTS, R.</td></tr>",
                            "<tr><td>Barry Cook</td><td>Barry</td><td> Cook</td><td> COOK, B.</td></tr>",
                            "<tr><td>full credits</td><td>full</td><td> credits</td><td> CREDITS, F.</td></tr>",
                            "<tr><td>full credits</td><td>full</td><td> credits</td><td> CREDITS, F.</td></tr>",
                            "<tr><td>Mark Dindal</td><td>Mark</td><td> Dindal</td><td> DINDAL, M.</td></tr>",
                            "<tr><td>Mark Dindal</td><td>Mark</td><td> Dindal</td><td> DINDAL, M.</td></tr>",
                            "<tr><td>Norman Ferguson</td><td>Norman</td><td> Ferguson</td><td> FERGUSON, N.</td></tr>",
                            "<tr><td>Will Finn</td><td>Will</td><td> Finn</td><td> FINN, W.</td></tr>",
                            "<tr><td>Mike Gabriel</td><td>Mike</td><td> Gabriel</td><td> GABRIEL, M.</td></tr>",
                            "<tr><td>Mike Gabriel</td><td>Mike</td><td> Gabriel</td><td> GABRIEL, M.</td></tr>",
                            "<tr><td>Clyde Geronimi</td><td>Clyde</td><td> Geronimi</td><td> GERONIMI, C.</td></tr>",
                            "<tr><td>Clyde Geronimi</td><td>Clyde</td><td> Geronimi</td><td> GERONIMI, C.</td></tr>",
                            "<tr><td>Clyde Geronimi</td><td>Clyde</td><td> Geronimi</td><td> GERONIMI, C.</td></tr>",
                            "<tr><td>Nathan Greno</td><td>Nathan</td><td> Greno</td><td> GRENO, N.</td></tr>",
                            "<tr><td>Don Hall</td><td>Don</td><td> Hall</td><td> HALL, D.</td></tr>",
                            "<tr><td>David Hand</td><td>David</td><td> Hand</td><td> HAND, D.</td></tr>",
                            "<tr><td>David Hand</td><td>David</td><td> Hand</td><td> HAND, D.</td></tr>",
                            "<tr><td>Byron Howard</td><td>Byron</td><td> Howard</td><td> HOWARD, B.</td></tr>",
                            "<tr><td>Stephen J. Anderson</td><td>Stephen</td><td> J. Anderson</td><td> J. ANDERSON, S.</td></tr>",
                            "<tr><td>Stephen J. Anderson</td><td>Stephen</td><td> J. Anderson</td><td> J. ANDERSON, S.</td></tr>",
                            "<tr><td>Wilfred Jackson</td><td>Wilfred</td><td> Jackson</td><td> JACKSON, W.</td></tr>",
                            "<tr><td>Jack Kinney</td><td>Jack</td><td> Kinney</td><td> KINNEY, J.</td></tr>",
                            "<tr><td>Jack Kinney</td><td>Jack</td><td> Kinney</td><td> KINNEY, J.</td></tr>",
                            "<tr><td>Jack Kinney</td><td>Jack</td><td> Kinney</td><td> KINNEY, J.</td></tr>",
                            "<tr><td>Jack Kinney</td><td>Jack</td><td> Kinney</td><td> KINNEY, J.</td></tr>",
                            "<tr><td>Hamilton Luske</td><td>Hamilton</td><td> Luske</td><td> LUSKE, H.</td></tr>",
                            "<tr><td>Hamilton Luske</td><td>Hamilton</td><td> Luske</td><td> LUSKE, H.</td></tr>",
                            "<tr><td>Rich Moore</td><td>Rich</td><td> Moore</td><td> MOORE, R.</td></tr>",
                            "<tr><td>Wolfgang Reitherman</td><td>Wolfgang</td><td> Reitherman</td><td> REITHERMAN, W.</td></tr>",
                            "<tr><td>Wolfgang Reitherman</td><td>Wolfgang</td><td> Reitherman</td><td> REITHERMAN, W.</td></tr>",
                            "<tr><td>Wolfgang Reitherman</td><td>Wolfgang</td><td> Reitherman</td><td> REITHERMAN, W.</td></tr>",
                            "<tr><td>Wolfgang Reitherman</td><td>Wolfgang</td><td> Reitherman</td><td> REITHERMAN, W.</td></tr>",
                            "<tr><td>Wolfgang Reitherman</td><td>Wolfgang</td><td> Reitherman</td><td> REITHERMAN, W.</td></tr>",
                            "<tr><td>Wolfgang Reitherman</td><td>Wolfgang</td><td> Reitherman</td><td> REITHERMAN, W.</td></tr>",
                            "<tr><td>Wolfgang Reitherman</td><td>Wolfgang</td><td> Reitherman</td><td> REITHERMAN, W.</td></tr>",
                            "<tr><td>Chris Sanders</td><td>Chris</td><td> Sanders</td><td> SANDERS, C.</td></tr>",
                            "<tr><td>George Scribner</td><td>George</td><td> Scribner</td><td> SCRIBNER, G.</td></tr>",
                            "<tr><td>Ben Sharpsteen</td><td>Ben</td><td> Sharpsteen</td><td> SHARPSTEEN, B.</td></tr>",
                            "<tr><td>Ben Sharpsteen</td><td>Ben</td><td> Sharpsteen</td><td> SHARPSTEEN, B.</td></tr>",
                            "<tr><td>Art Stevens</td><td>Art</td><td> Stevens</td><td> STEVENS, A.</td></tr>",
                            "<tr><td>Gary Trousdale</td><td>Gary</td><td> Trousdale</td><td> TROUSDALE, G.</td></tr>",
                            "<tr><td>Gary Trousdale</td><td>Gary</td><td> Trousdale</td><td> TROUSDALE, G.</td></tr>",
                            "<tr><td>Gary Trousdale</td><td>Gary</td><td> Trousdale</td><td> TROUSDALE, G.</td></tr>",
                            "<tr><td>Robert Walker</td><td>Robert</td><td> Walker</td><td> WALKER, R.</td></tr>",
                            "<tr><td>Chris Williams</td><td>Chris</td><td> Williams</td><td> WILLIAMS, C.</td></tr>",
                            "<tr><td>Ralph Zondag</td><td>Ralph</td><td> Zondag</td><td> ZONDAG, R.</td></tr>",
                            "</table>"
                        ]
                    }
                }
            ],
            "execution_count": 43
        }
    ]
}