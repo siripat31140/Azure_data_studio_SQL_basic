{
    "metadata": {
        "kernelspec": {
            "name": "SQL",
            "display_name": "SQL",
            "language": "sql"
        },
        "language_info": {
            "name": "sql",
            "version": ""
        }
    },
    "nbformat_minor": 2,
    "nbformat": 4,
    "cells": [
        {
            "cell_type": "markdown",
            "source": [
                "_**order...offset ... fetch**<mark></mark>**_\r\n",
                ""
            ],
            "metadata": {
                "azdata_cell_guid": "8987d85c-23a4-44b5-9905-66dfda460a3e"
            }
        },
        {
            "cell_type": "code",
            "source": [
                "SELECT top 10 * from movie_gross ORDER BY inflation_adjusted_gross DESC"
            ],
            "metadata": {
                "azdata_cell_guid": "9351d178-50be-42ea-86c6-33ce288c70ed"
            },
            "outputs": [
                {
                    "output_type": "display_data",
                    "data": {
                        "text/html": "(10 rows affected)"
                    },
                    "metadata": {}
                },
                {
                    "output_type": "display_data",
                    "data": {
                        "text/html": "Total execution time: 00:00:00.084"
                    },
                    "metadata": {}
                },
                {
                    "output_type": "execute_result",
                    "metadata": {},
                    "execution_count": 3,
                    "data": {
                        "application/vnd.dataresource+json": {
                            "schema": {
                                "fields": [
                                    {
                                        "name": "movie_title"
                                    },
                                    {
                                        "name": "release_date"
                                    },
                                    {
                                        "name": "genre"
                                    },
                                    {
                                        "name": "mpaa_rating"
                                    },
                                    {
                                        "name": "total_gross"
                                    },
                                    {
                                        "name": "inflation_adjusted_gross"
                                    }
                                ]
                            },
                            "data": [
                                {
                                    "0": "Snow White and the Seven Dwarfs",
                                    "1": "2480-12-21",
                                    "2": "Musical",
                                    "3": "G",
                                    "4": "184925485",
                                    "5": "5228953251"
                                },
                                {
                                    "0": "Pinocchio",
                                    "1": "2483-02-09",
                                    "2": "Adventure",
                                    "3": "G",
                                    "4": "84300000",
                                    "5": "2188229052"
                                },
                                {
                                    "0": "Fantasia",
                                    "1": "2483-11-13",
                                    "2": "Musical",
                                    "3": "G",
                                    "4": "83320000",
                                    "5": "2187090808"
                                },
                                {
                                    "0": "101 Dalmatians",
                                    "1": "2504-01-25",
                                    "2": "Comedy",
                                    "3": "G",
                                    "4": "153000000",
                                    "5": "1362870985"
                                },
                                {
                                    "0": "Lady and the Tramp",
                                    "1": "2498-06-22",
                                    "2": "Drama",
                                    "3": "G",
                                    "4": "93600000",
                                    "5": "1236035515"
                                },
                                {
                                    "0": "Song of the South",
                                    "1": "2489-11-12",
                                    "2": "Adventure",
                                    "3": "G",
                                    "4": "65000000",
                                    "5": "1078510579"
                                },
                                {
                                    "0": "Star Wars Ep. VII: The Force Awakens",
                                    "1": "2558-12-18",
                                    "2": "Adventure",
                                    "3": "PG-13",
                                    "4": "936662225",
                                    "5": "936662225"
                                },
                                {
                                    "0": "Cinderella",
                                    "1": "2493-02-15",
                                    "2": "Drama",
                                    "3": "G",
                                    "4": "85000000",
                                    "5": "920608730"
                                },
                                {
                                    "0": "The Jungle Book",
                                    "1": "2510-10-18",
                                    "2": "Musical",
                                    "3": "Not Rated",
                                    "4": "141843000",
                                    "5": "789612346"
                                },
                                {
                                    "0": "The Lion King",
                                    "1": "2537-06-15",
                                    "2": "Adventure",
                                    "3": "G",
                                    "4": "422780140",
                                    "5": "761640898"
                                }
                            ]
                        },
                        "text/html": [
                            "<table>",
                            "<tr><th>movie_title</th><th>release_date</th><th>genre</th><th>mpaa_rating</th><th>total_gross</th><th>inflation_adjusted_gross</th></tr>",
                            "<tr><td>Snow White and the Seven Dwarfs</td><td>2480-12-21</td><td>Musical</td><td>G</td><td>184925485</td><td>5228953251</td></tr>",
                            "<tr><td>Pinocchio</td><td>2483-02-09</td><td>Adventure</td><td>G</td><td>84300000</td><td>2188229052</td></tr>",
                            "<tr><td>Fantasia</td><td>2483-11-13</td><td>Musical</td><td>G</td><td>83320000</td><td>2187090808</td></tr>",
                            "<tr><td>101 Dalmatians</td><td>2504-01-25</td><td>Comedy</td><td>G</td><td>153000000</td><td>1362870985</td></tr>",
                            "<tr><td>Lady and the Tramp</td><td>2498-06-22</td><td>Drama</td><td>G</td><td>93600000</td><td>1236035515</td></tr>",
                            "<tr><td>Song of the South</td><td>2489-11-12</td><td>Adventure</td><td>G</td><td>65000000</td><td>1078510579</td></tr>",
                            "<tr><td>Star Wars Ep. VII: The Force Awakens</td><td>2558-12-18</td><td>Adventure</td><td>PG-13</td><td>936662225</td><td>936662225</td></tr>",
                            "<tr><td>Cinderella</td><td>2493-02-15</td><td>Drama</td><td>G</td><td>85000000</td><td>920608730</td></tr>",
                            "<tr><td>The Jungle Book</td><td>2510-10-18</td><td>Musical</td><td>Not Rated</td><td>141843000</td><td>789612346</td></tr>",
                            "<tr><td>The Lion King</td><td>2537-06-15</td><td>Adventure</td><td>G</td><td>422780140</td><td>761640898</td></tr>",
                            "</table>"
                        ]
                    }
                }
            ],
            "execution_count": 3
        },
        {
            "cell_type": "code",
            "source": [
                "SELECT  * from movie_gross ORDER BY inflation_adjusted_gross DESC OFFSET 0 ROW FETCH NEXT 10 ROWS ONLY\r\n",
                "-- เเสดงข้อมูลเเถวที่ 0-10"
            ],
            "metadata": {
                "azdata_cell_guid": "64f4f966-77b8-40b3-bf25-64e54e08ec55"
            },
            "outputs": [
                {
                    "output_type": "display_data",
                    "data": {
                        "text/html": "(10 rows affected)"
                    },
                    "metadata": {}
                },
                {
                    "output_type": "display_data",
                    "data": {
                        "text/html": "Total execution time: 00:00:00.067"
                    },
                    "metadata": {}
                },
                {
                    "output_type": "execute_result",
                    "metadata": {},
                    "execution_count": 9,
                    "data": {
                        "application/vnd.dataresource+json": {
                            "schema": {
                                "fields": [
                                    {
                                        "name": "movie_title"
                                    },
                                    {
                                        "name": "release_date"
                                    },
                                    {
                                        "name": "genre"
                                    },
                                    {
                                        "name": "mpaa_rating"
                                    },
                                    {
                                        "name": "total_gross"
                                    },
                                    {
                                        "name": "inflation_adjusted_gross"
                                    }
                                ]
                            },
                            "data": [
                                {
                                    "0": "Snow White and the Seven Dwarfs",
                                    "1": "2480-12-21",
                                    "2": "Musical",
                                    "3": "G",
                                    "4": "184925485",
                                    "5": "5228953251"
                                },
                                {
                                    "0": "Pinocchio",
                                    "1": "2483-02-09",
                                    "2": "Adventure",
                                    "3": "G",
                                    "4": "84300000",
                                    "5": "2188229052"
                                },
                                {
                                    "0": "Fantasia",
                                    "1": "2483-11-13",
                                    "2": "Musical",
                                    "3": "G",
                                    "4": "83320000",
                                    "5": "2187090808"
                                },
                                {
                                    "0": "101 Dalmatians",
                                    "1": "2504-01-25",
                                    "2": "Comedy",
                                    "3": "G",
                                    "4": "153000000",
                                    "5": "1362870985"
                                },
                                {
                                    "0": "Lady and the Tramp",
                                    "1": "2498-06-22",
                                    "2": "Drama",
                                    "3": "G",
                                    "4": "93600000",
                                    "5": "1236035515"
                                },
                                {
                                    "0": "Song of the South",
                                    "1": "2489-11-12",
                                    "2": "Adventure",
                                    "3": "G",
                                    "4": "65000000",
                                    "5": "1078510579"
                                },
                                {
                                    "0": "Star Wars Ep. VII: The Force Awakens",
                                    "1": "2558-12-18",
                                    "2": "Adventure",
                                    "3": "PG-13",
                                    "4": "936662225",
                                    "5": "936662225"
                                },
                                {
                                    "0": "Cinderella",
                                    "1": "2493-02-15",
                                    "2": "Drama",
                                    "3": "G",
                                    "4": "85000000",
                                    "5": "920608730"
                                },
                                {
                                    "0": "The Jungle Book",
                                    "1": "2510-10-18",
                                    "2": "Musical",
                                    "3": "Not Rated",
                                    "4": "141843000",
                                    "5": "789612346"
                                },
                                {
                                    "0": "The Lion King",
                                    "1": "2537-06-15",
                                    "2": "Adventure",
                                    "3": "G",
                                    "4": "422780140",
                                    "5": "761640898"
                                }
                            ]
                        },
                        "text/html": [
                            "<table>",
                            "<tr><th>movie_title</th><th>release_date</th><th>genre</th><th>mpaa_rating</th><th>total_gross</th><th>inflation_adjusted_gross</th></tr>",
                            "<tr><td>Snow White and the Seven Dwarfs</td><td>2480-12-21</td><td>Musical</td><td>G</td><td>184925485</td><td>5228953251</td></tr>",
                            "<tr><td>Pinocchio</td><td>2483-02-09</td><td>Adventure</td><td>G</td><td>84300000</td><td>2188229052</td></tr>",
                            "<tr><td>Fantasia</td><td>2483-11-13</td><td>Musical</td><td>G</td><td>83320000</td><td>2187090808</td></tr>",
                            "<tr><td>101 Dalmatians</td><td>2504-01-25</td><td>Comedy</td><td>G</td><td>153000000</td><td>1362870985</td></tr>",
                            "<tr><td>Lady and the Tramp</td><td>2498-06-22</td><td>Drama</td><td>G</td><td>93600000</td><td>1236035515</td></tr>",
                            "<tr><td>Song of the South</td><td>2489-11-12</td><td>Adventure</td><td>G</td><td>65000000</td><td>1078510579</td></tr>",
                            "<tr><td>Star Wars Ep. VII: The Force Awakens</td><td>2558-12-18</td><td>Adventure</td><td>PG-13</td><td>936662225</td><td>936662225</td></tr>",
                            "<tr><td>Cinderella</td><td>2493-02-15</td><td>Drama</td><td>G</td><td>85000000</td><td>920608730</td></tr>",
                            "<tr><td>The Jungle Book</td><td>2510-10-18</td><td>Musical</td><td>Not Rated</td><td>141843000</td><td>789612346</td></tr>",
                            "<tr><td>The Lion King</td><td>2537-06-15</td><td>Adventure</td><td>G</td><td>422780140</td><td>761640898</td></tr>",
                            "</table>"
                        ]
                    }
                }
            ],
            "execution_count": 9
        },
        {
            "cell_type": "code",
            "source": [
                ""
            ],
            "metadata": {
                "azdata_cell_guid": "8f340a30-2146-4802-a2c8-b22e7c7f034d"
            },
            "outputs": [],
            "execution_count": null
        }
    ]
}